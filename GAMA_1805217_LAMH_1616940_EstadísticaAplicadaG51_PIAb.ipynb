{
  "nbformat": 4,
  "nbformat_minor": 0,
  "metadata": {
    "colab": {
      "name": "GAMA_1805217_LAMH_1616940_EstadísticaAplicadaG51_PIAb.ipynb",
      "provenance": [],
      "collapsed_sections": []
    },
    "kernelspec": {
      "name": "python3",
      "display_name": "Python 3"
    },
    "language_info": {
      "name": "python"
    }
  },
  "cells": [
    {
      "cell_type": "markdown",
      "source": [
        "#**ESTADÍSTICA APLICADA**\n",
        "##*MODELO DE SUPERVIVENCIA SOBRE EL ABANDONO DE EMPLEADOS EN UNA COMPAÑÍA*  \n",
        "\n",
        "![](https://miro.medium.com/max/1400/1*oRKwlu787m3gjN-wDEKL_g.png)\n",
        "  \n",
        "Docente: Jaime Jovanny Escobedo Gonzalez  \n",
        "Grupo 051\n",
        "\n",
        "|**EQUIPO**|**MATRICULA**|\n",
        "|-------|-------|  \n",
        "|Luis Aldair Hernández Martínez|1616940|\n",
        "|Grecia Abigaíl Martínez Ambríz|1805217|  "
      ],
      "metadata": {
        "id": "lG-OPn5XD109"
      }
    },
    {
      "cell_type": "markdown",
      "source": [
        "#**INTRODUCCIÓN**  \n",
        "\n",
        "El asunto que se estudiará en el siguiente modelo de supervivencia es el nivel de abandono de empleados de una compañía, es decir, que tan probable es que un empleado abandone su puesto de trabajo después de un cierto periodo de tiempo, independientemente de los motivos, y por lo tanto reduzca la fuerza laboral de la empresa.  \n",
        "\n",
        "* **Employee Attrition** es un término en inglés que se utiliza para definir la reducción gradual en el número de empleados de una empresa, esto ocurre cuando el tamaño de su fuerza laboral disminuye con el tiempo. Esto significa que los empleados se van más rápido de lo que son contratados.  \n",
        "\n",
        "*Evento:* El empleado abandona la compañía independientemente de las razones.  \n",
        "*Tiempo:* Los meses que pasan desde que el empleado es contratado hasta que se va."
      ],
      "metadata": {
        "id": "W7GyKUiGZbB7"
      }
    },
    {
      "cell_type": "markdown",
      "source": [
        "##**CAUSAS**  \n",
        "![](https://m.vanguardia.com/sites/default/files/imagecache/Noticia_600x400/foto_interna/2017/01/27/web_unnamed_wide_tp.jpg)  \n",
        "El que una persona decida abandonar su empleo puede ocurrir por varias razones, algunas de ellas son:  \n",
        "* Inconformidad con los beneficios que recibe y poca remuneración.  \n",
        "* La falta de oportunidades para desarrollarse profesionalmente.  \n",
        "* Mala cultura en el lugar de trabajo.  \n",
        "* Haber encontrado una mejor oportunidad de trabajo.  \n",
        "* Jubilación  \n",
        "* Despidos  \n",
        "* Padecimiento de alguna enfermedad"
      ],
      "metadata": {
        "id": "fTEdwjwCg7G1"
      }
    },
    {
      "cell_type": "markdown",
      "source": [
        "Si observamos las cosas desde el punto de vista de la compañía, la disminución de fuerza laboral puede deberse a lo siguiente:  \n",
        "* Los empleados son reemplazados por la automatización o la adopción de nuevas tecnologías.  \n",
        "* En un mundo donde los conjuntos de habilidades requeridas cambian constantemente, algunas posiciones también se vuelven obsoletas con el tiempo.  \n",
        "* Falta de contratación, los empleados que se van simplemente no son reemplazados.  \n",
        "* Falta de personas calificadas en ciertas industrias y geografías."
      ],
      "metadata": {
        "id": "6sw4ueX9nzuI"
      }
    },
    {
      "cell_type": "markdown",
      "source": [
        "##**¿POR QUÉ ES IMPORTANTE ESTE ANÁLISIS?**  \n",
        "La retención de empleados es crucial para el éxito de una empresa y la tasa de desgaste es la métrica que proporciona información sobre qué tan bien está reteniendo a sus empleados.  \n",
        "\n",
        "Por lo general, los empleadores buscan alcanzar una baja tasa de deserción, ya que significa que sus empleados están satisfechos y no tienen que invertir en la contratación y capacitación de nuevas personas.\n",
        "\n",
        "Medir y analizar la tasa de deserción de una empresa permite determinar cuántos empleados abandonaron la compañía dentro de un cierto período y comprender por qué se fueron. Esto nos permite desarrollar estrategias de retención efectivas ya que comprender las tendencias y patrones de comportamiento es a menudo el primer paso para reducir el desgaste dentro de la organización.\n"
      ],
      "metadata": {
        "id": "GV7lID-0qQPu"
      }
    },
    {
      "cell_type": "code",
      "source": [
        "pip install lifelines"
      ],
      "metadata": {
        "id": "OAJ3KMD0CtFT"
      },
      "execution_count": null,
      "outputs": []
    },
    {
      "cell_type": "code",
      "source": [
        "import numpy as np\n",
        "import pandas as pd\n",
        "import seaborn as sns\n",
        "import matplotlib.pyplot as plt "
      ],
      "metadata": {
        "id": "vvSp0T_SAKl2"
      },
      "execution_count": null,
      "outputs": []
    },
    {
      "cell_type": "code",
      "source": [
        "from lifelines import KaplanMeierFitter\n",
        "kmf = KaplanMeierFitter()"
      ],
      "metadata": {
        "id": "9fhVY3K-OVI7"
      },
      "execution_count": null,
      "outputs": []
    },
    {
      "cell_type": "code",
      "execution_count": null,
      "metadata": {
        "id": "7iK07XPw_zT3"
      },
      "outputs": [],
      "source": [
        "attrition = pd.read_csv(\"https://raw.githubusercontent.com/GreMtz/archivos/main/employee_attrition%20(1).csv\")"
      ]
    },
    {
      "cell_type": "code",
      "source": [
        "#Variables que posee nuestra base de datos\n",
        "attrition.info()"
      ],
      "metadata": {
        "colab": {
          "base_uri": "https://localhost:8080/"
        },
        "id": "tLO2rcy-5pS2",
        "outputId": "8b92bced-6669-4009-9370-0df9255c2212"
      },
      "execution_count": null,
      "outputs": [
        {
          "output_type": "stream",
          "name": "stdout",
          "text": [
            "<class 'pandas.core.frame.DataFrame'>\n",
            "RangeIndex: 14999 entries, 0 to 14998\n",
            "Data columns (total 10 columns):\n",
            " #   Column                 Non-Null Count  Dtype  \n",
            "---  ------                 --------------  -----  \n",
            " 0   satisfaction_level     14999 non-null  float64\n",
            " 1   last_evaluation        14999 non-null  float64\n",
            " 2   number_projects        14999 non-null  int64  \n",
            " 3   average_montly_hours   14999 non-null  int64  \n",
            " 4   time_spend_company     14999 non-null  int64  \n",
            " 5   work_accident          14999 non-null  int64  \n",
            " 6   left                   14999 non-null  int64  \n",
            " 7   promotion_last_5years  14999 non-null  int64  \n",
            " 8   department             14999 non-null  object \n",
            " 9   salary                 14999 non-null  object \n",
            "dtypes: float64(2), int64(6), object(2)\n",
            "memory usage: 1.1+ MB\n"
          ]
        }
      ]
    },
    {
      "cell_type": "markdown",
      "source": [
        "|**VARIABLE**|**VALORES**|\n",
        "|-------|-------|  \n",
        "|satisfaction_level|[0,1]|\n",
        "|last_evaluation|[0,1]|\n",
        "|number_projects|> 0|\n",
        "|average_montly_hours| > 1|\n",
        "|time_spend_company| > 1|\n",
        "|work_accident| Si = 1, No = 0 |\n",
        "|left| Evento = 1, Dato Censurado = 0 |\n",
        "|promotion_last_5years| Si = 1, No = 0 |\n",
        "|department| sales, accounting, hr, technical, support, management, IT,  product_mng, marketing, RandD|\n",
        "|salary| low, medium, high|\n",
        "\n",
        "\n"
      ],
      "metadata": {
        "id": "0J2ywbij7sZs"
      }
    },
    {
      "cell_type": "markdown",
      "source": [
        "La variable *left* nos indica si el empleado ha dejado la compañía, es decir, nos dice si el evento sucedió. Nuestra base posee datos censurados, esto significa que hay empleados que después de ciertos meses dejarón de actualizar su estatus y no tenemos la certeza de que hayan dejado su trabajo o aún continuen laborando en la organización donde fueron contratados al momento de iniciarse el análisis."
      ],
      "metadata": {
        "id": "khLrLC0_Ald6"
      }
    },
    {
      "cell_type": "code",
      "source": [
        "#Convertiremos las variables categóricas \"department\" y \"salary\" a númericas.\n",
        "var_cat = ['department','salary']\n",
        "\n",
        "for i in var_cat:\n",
        "  attrition[i] = attrition[i].astype('category')\n",
        "  attrition[i] = attrition[i].cat.codes"
      ],
      "metadata": {
        "id": "PrxEN9z9DR5m"
      },
      "execution_count": null,
      "outputs": []
    },
    {
      "cell_type": "code",
      "source": [
        "#Verificamos si tenemos valores perdidos en nuestra base de datos\n",
        "attrition.isnull().sum()"
      ],
      "metadata": {
        "colab": {
          "base_uri": "https://localhost:8080/"
        },
        "id": "WxjQyqZf_nN9",
        "outputId": "5602da98-72d9-4c64-b458-bd7a6fe7fb50"
      },
      "execution_count": null,
      "outputs": [
        {
          "output_type": "execute_result",
          "data": {
            "text/plain": [
              "satisfaction_level       0\n",
              "last_evaluation          0\n",
              "number_projects          0\n",
              "average_montly_hours     0\n",
              "time_spend_company       0\n",
              "work_accident            0\n",
              "left                     0\n",
              "promotion_last_5years    0\n",
              "department               0\n",
              "salary                   0\n",
              "dtype: int64"
            ]
          },
          "metadata": {},
          "execution_count": 8
        }
      ]
    },
    {
      "cell_type": "code",
      "source": [
        "#Vemos si hay filas duplicadas en nuestra base de datos\n",
        "attrition[attrition.duplicated(keep=False)]"
      ],
      "metadata": {
        "colab": {
          "base_uri": "https://localhost:8080/",
          "height": 488
        },
        "id": "VhtfOxPMFm72",
        "outputId": "5d5d4795-a979-4347-92c9-c766d30234e9"
      },
      "execution_count": null,
      "outputs": [
        {
          "output_type": "execute_result",
          "data": {
            "text/plain": [
              "       satisfaction_level  last_evaluation  number_projects  \\\n",
              "0                    0.38             0.53                2   \n",
              "1                    0.80             0.86                5   \n",
              "2                    0.11             0.88                7   \n",
              "3                    0.72             0.87                5   \n",
              "4                    0.37             0.52                2   \n",
              "...                   ...              ...              ...   \n",
              "14994                0.40             0.57                2   \n",
              "14995                0.37             0.48                2   \n",
              "14996                0.37             0.53                2   \n",
              "14997                0.11             0.96                6   \n",
              "14998                0.37             0.52                2   \n",
              "\n",
              "       average_montly_hours  time_spend_company  work_accident  left  \\\n",
              "0                       157                   3              0     1   \n",
              "1                       262                   6              0     1   \n",
              "2                       272                   4              0     1   \n",
              "3                       223                   5              0     1   \n",
              "4                       159                   3              0     1   \n",
              "...                     ...                 ...            ...   ...   \n",
              "14994                   151                   3              0     1   \n",
              "14995                   160                   3              0     1   \n",
              "14996                   143                   3              0     1   \n",
              "14997                   280                   4              0     1   \n",
              "14998                   158                   3              0     1   \n",
              "\n",
              "       promotion_last_5years  department  salary  \n",
              "0                          0           7       1  \n",
              "1                          0           7       2  \n",
              "2                          0           7       2  \n",
              "3                          0           7       1  \n",
              "4                          0           7       1  \n",
              "...                      ...         ...     ...  \n",
              "14994                      0           8       1  \n",
              "14995                      0           8       1  \n",
              "14996                      0           8       1  \n",
              "14997                      0           8       1  \n",
              "14998                      0           8       1  \n",
              "\n",
              "[5346 rows x 10 columns]"
            ],
            "text/html": [
              "\n",
              "  <div id=\"df-bc127627-8fc2-499f-ab0b-38f58a6260f4\">\n",
              "    <div class=\"colab-df-container\">\n",
              "      <div>\n",
              "<style scoped>\n",
              "    .dataframe tbody tr th:only-of-type {\n",
              "        vertical-align: middle;\n",
              "    }\n",
              "\n",
              "    .dataframe tbody tr th {\n",
              "        vertical-align: top;\n",
              "    }\n",
              "\n",
              "    .dataframe thead th {\n",
              "        text-align: right;\n",
              "    }\n",
              "</style>\n",
              "<table border=\"1\" class=\"dataframe\">\n",
              "  <thead>\n",
              "    <tr style=\"text-align: right;\">\n",
              "      <th></th>\n",
              "      <th>satisfaction_level</th>\n",
              "      <th>last_evaluation</th>\n",
              "      <th>number_projects</th>\n",
              "      <th>average_montly_hours</th>\n",
              "      <th>time_spend_company</th>\n",
              "      <th>work_accident</th>\n",
              "      <th>left</th>\n",
              "      <th>promotion_last_5years</th>\n",
              "      <th>department</th>\n",
              "      <th>salary</th>\n",
              "    </tr>\n",
              "  </thead>\n",
              "  <tbody>\n",
              "    <tr>\n",
              "      <th>0</th>\n",
              "      <td>0.38</td>\n",
              "      <td>0.53</td>\n",
              "      <td>2</td>\n",
              "      <td>157</td>\n",
              "      <td>3</td>\n",
              "      <td>0</td>\n",
              "      <td>1</td>\n",
              "      <td>0</td>\n",
              "      <td>7</td>\n",
              "      <td>1</td>\n",
              "    </tr>\n",
              "    <tr>\n",
              "      <th>1</th>\n",
              "      <td>0.80</td>\n",
              "      <td>0.86</td>\n",
              "      <td>5</td>\n",
              "      <td>262</td>\n",
              "      <td>6</td>\n",
              "      <td>0</td>\n",
              "      <td>1</td>\n",
              "      <td>0</td>\n",
              "      <td>7</td>\n",
              "      <td>2</td>\n",
              "    </tr>\n",
              "    <tr>\n",
              "      <th>2</th>\n",
              "      <td>0.11</td>\n",
              "      <td>0.88</td>\n",
              "      <td>7</td>\n",
              "      <td>272</td>\n",
              "      <td>4</td>\n",
              "      <td>0</td>\n",
              "      <td>1</td>\n",
              "      <td>0</td>\n",
              "      <td>7</td>\n",
              "      <td>2</td>\n",
              "    </tr>\n",
              "    <tr>\n",
              "      <th>3</th>\n",
              "      <td>0.72</td>\n",
              "      <td>0.87</td>\n",
              "      <td>5</td>\n",
              "      <td>223</td>\n",
              "      <td>5</td>\n",
              "      <td>0</td>\n",
              "      <td>1</td>\n",
              "      <td>0</td>\n",
              "      <td>7</td>\n",
              "      <td>1</td>\n",
              "    </tr>\n",
              "    <tr>\n",
              "      <th>4</th>\n",
              "      <td>0.37</td>\n",
              "      <td>0.52</td>\n",
              "      <td>2</td>\n",
              "      <td>159</td>\n",
              "      <td>3</td>\n",
              "      <td>0</td>\n",
              "      <td>1</td>\n",
              "      <td>0</td>\n",
              "      <td>7</td>\n",
              "      <td>1</td>\n",
              "    </tr>\n",
              "    <tr>\n",
              "      <th>...</th>\n",
              "      <td>...</td>\n",
              "      <td>...</td>\n",
              "      <td>...</td>\n",
              "      <td>...</td>\n",
              "      <td>...</td>\n",
              "      <td>...</td>\n",
              "      <td>...</td>\n",
              "      <td>...</td>\n",
              "      <td>...</td>\n",
              "      <td>...</td>\n",
              "    </tr>\n",
              "    <tr>\n",
              "      <th>14994</th>\n",
              "      <td>0.40</td>\n",
              "      <td>0.57</td>\n",
              "      <td>2</td>\n",
              "      <td>151</td>\n",
              "      <td>3</td>\n",
              "      <td>0</td>\n",
              "      <td>1</td>\n",
              "      <td>0</td>\n",
              "      <td>8</td>\n",
              "      <td>1</td>\n",
              "    </tr>\n",
              "    <tr>\n",
              "      <th>14995</th>\n",
              "      <td>0.37</td>\n",
              "      <td>0.48</td>\n",
              "      <td>2</td>\n",
              "      <td>160</td>\n",
              "      <td>3</td>\n",
              "      <td>0</td>\n",
              "      <td>1</td>\n",
              "      <td>0</td>\n",
              "      <td>8</td>\n",
              "      <td>1</td>\n",
              "    </tr>\n",
              "    <tr>\n",
              "      <th>14996</th>\n",
              "      <td>0.37</td>\n",
              "      <td>0.53</td>\n",
              "      <td>2</td>\n",
              "      <td>143</td>\n",
              "      <td>3</td>\n",
              "      <td>0</td>\n",
              "      <td>1</td>\n",
              "      <td>0</td>\n",
              "      <td>8</td>\n",
              "      <td>1</td>\n",
              "    </tr>\n",
              "    <tr>\n",
              "      <th>14997</th>\n",
              "      <td>0.11</td>\n",
              "      <td>0.96</td>\n",
              "      <td>6</td>\n",
              "      <td>280</td>\n",
              "      <td>4</td>\n",
              "      <td>0</td>\n",
              "      <td>1</td>\n",
              "      <td>0</td>\n",
              "      <td>8</td>\n",
              "      <td>1</td>\n",
              "    </tr>\n",
              "    <tr>\n",
              "      <th>14998</th>\n",
              "      <td>0.37</td>\n",
              "      <td>0.52</td>\n",
              "      <td>2</td>\n",
              "      <td>158</td>\n",
              "      <td>3</td>\n",
              "      <td>0</td>\n",
              "      <td>1</td>\n",
              "      <td>0</td>\n",
              "      <td>8</td>\n",
              "      <td>1</td>\n",
              "    </tr>\n",
              "  </tbody>\n",
              "</table>\n",
              "<p>5346 rows × 10 columns</p>\n",
              "</div>\n",
              "      <button class=\"colab-df-convert\" onclick=\"convertToInteractive('df-bc127627-8fc2-499f-ab0b-38f58a6260f4')\"\n",
              "              title=\"Convert this dataframe to an interactive table.\"\n",
              "              style=\"display:none;\">\n",
              "        \n",
              "  <svg xmlns=\"http://www.w3.org/2000/svg\" height=\"24px\"viewBox=\"0 0 24 24\"\n",
              "       width=\"24px\">\n",
              "    <path d=\"M0 0h24v24H0V0z\" fill=\"none\"/>\n",
              "    <path d=\"M18.56 5.44l.94 2.06.94-2.06 2.06-.94-2.06-.94-.94-2.06-.94 2.06-2.06.94zm-11 1L8.5 8.5l.94-2.06 2.06-.94-2.06-.94L8.5 2.5l-.94 2.06-2.06.94zm10 10l.94 2.06.94-2.06 2.06-.94-2.06-.94-.94-2.06-.94 2.06-2.06.94z\"/><path d=\"M17.41 7.96l-1.37-1.37c-.4-.4-.92-.59-1.43-.59-.52 0-1.04.2-1.43.59L10.3 9.45l-7.72 7.72c-.78.78-.78 2.05 0 2.83L4 21.41c.39.39.9.59 1.41.59.51 0 1.02-.2 1.41-.59l7.78-7.78 2.81-2.81c.8-.78.8-2.07 0-2.86zM5.41 20L4 18.59l7.72-7.72 1.47 1.35L5.41 20z\"/>\n",
              "  </svg>\n",
              "      </button>\n",
              "      \n",
              "  <style>\n",
              "    .colab-df-container {\n",
              "      display:flex;\n",
              "      flex-wrap:wrap;\n",
              "      gap: 12px;\n",
              "    }\n",
              "\n",
              "    .colab-df-convert {\n",
              "      background-color: #E8F0FE;\n",
              "      border: none;\n",
              "      border-radius: 50%;\n",
              "      cursor: pointer;\n",
              "      display: none;\n",
              "      fill: #1967D2;\n",
              "      height: 32px;\n",
              "      padding: 0 0 0 0;\n",
              "      width: 32px;\n",
              "    }\n",
              "\n",
              "    .colab-df-convert:hover {\n",
              "      background-color: #E2EBFA;\n",
              "      box-shadow: 0px 1px 2px rgba(60, 64, 67, 0.3), 0px 1px 3px 1px rgba(60, 64, 67, 0.15);\n",
              "      fill: #174EA6;\n",
              "    }\n",
              "\n",
              "    [theme=dark] .colab-df-convert {\n",
              "      background-color: #3B4455;\n",
              "      fill: #D2E3FC;\n",
              "    }\n",
              "\n",
              "    [theme=dark] .colab-df-convert:hover {\n",
              "      background-color: #434B5C;\n",
              "      box-shadow: 0px 1px 3px 1px rgba(0, 0, 0, 0.15);\n",
              "      filter: drop-shadow(0px 1px 2px rgba(0, 0, 0, 0.3));\n",
              "      fill: #FFFFFF;\n",
              "    }\n",
              "  </style>\n",
              "\n",
              "      <script>\n",
              "        const buttonEl =\n",
              "          document.querySelector('#df-bc127627-8fc2-499f-ab0b-38f58a6260f4 button.colab-df-convert');\n",
              "        buttonEl.style.display =\n",
              "          google.colab.kernel.accessAllowed ? 'block' : 'none';\n",
              "\n",
              "        async function convertToInteractive(key) {\n",
              "          const element = document.querySelector('#df-bc127627-8fc2-499f-ab0b-38f58a6260f4');\n",
              "          const dataTable =\n",
              "            await google.colab.kernel.invokeFunction('convertToInteractive',\n",
              "                                                     [key], {});\n",
              "          if (!dataTable) return;\n",
              "\n",
              "          const docLinkHtml = 'Like what you see? Visit the ' +\n",
              "            '<a target=\"_blank\" href=https://colab.research.google.com/notebooks/data_table.ipynb>data table notebook</a>'\n",
              "            + ' to learn more about interactive tables.';\n",
              "          element.innerHTML = '';\n",
              "          dataTable['output_type'] = 'display_data';\n",
              "          await google.colab.output.renderOutput(dataTable, element);\n",
              "          const docLink = document.createElement('div');\n",
              "          docLink.innerHTML = docLinkHtml;\n",
              "          element.appendChild(docLink);\n",
              "        }\n",
              "      </script>\n",
              "    </div>\n",
              "  </div>\n",
              "  "
            ]
          },
          "metadata": {},
          "execution_count": 9
        }
      ]
    },
    {
      "cell_type": "code",
      "source": [
        "#Procedemos a eliminarlas\n",
        "attrition.drop_duplicates(inplace=True)"
      ],
      "metadata": {
        "id": "ApqAFbW2GoJ5"
      },
      "execution_count": null,
      "outputs": []
    },
    {
      "cell_type": "code",
      "source": [
        "#Estadísticas Descriptivas\n",
        "#Primero calculamos la moda\n",
        "from statistics import mode\n",
        "moda1 = mode(attrition['satisfaction_level'])\n",
        "moda2 = mode(attrition['last_evaluation'])\n",
        "moda3 = mode(attrition['number_projects'])\n",
        "moda4 = [149,156] #bimodal\n",
        "moda5 = mode(attrition['time_spend_company'])\n",
        "moda6 = mode(attrition['work_accident'])\n",
        "moda7 = mode(attrition['left'])\n",
        "moda8 = mode(attrition['promotion_last_5years'])"
      ],
      "metadata": {
        "id": "lTIPuSvhxmaz"
      },
      "execution_count": null,
      "outputs": []
    },
    {
      "cell_type": "code",
      "source": [
        "#Hacemos un arreglo para después agregarlo como fila y del nuevo INDEX\n",
        "modas = {'satisfaction_level':moda1,'last_evaluation':moda2,'number_projects':moda3,'average_montly_hours':moda4,'time_spend_company':moda5,'work_accident':moda6,'left':moda7,'promotion_last_5years':moda8}\n",
        "new = ['count', 'mean', 'std','min', '25%','50%','75%','max','mode']"
      ],
      "metadata": {
        "id": "Pbed4Od-42u_"
      },
      "execution_count": null,
      "outputs": []
    },
    {
      "cell_type": "code",
      "source": [
        "#Pedimos las estadisticas descriptivas \n",
        "descriptivas = attrition.describe()\n",
        "#Eliminamos las columnas de las variables categoricas\n",
        "descriptivas = descriptivas.drop(['department','salary'], axis=1)"
      ],
      "metadata": {
        "id": "wFUFoURPxgHF"
      },
      "execution_count": null,
      "outputs": []
    },
    {
      "cell_type": "code",
      "source": [
        "#Agregamos la fila de las modas y la columna del INDEX\n",
        "descriptivas = descriptivas.append(modas, ignore_index=True)\n",
        "descriptivas['Medidas'] = new"
      ],
      "metadata": {
        "id": "ENaBjfxU4xF2"
      },
      "execution_count": null,
      "outputs": []
    },
    {
      "cell_type": "code",
      "source": [
        "#Agregamos los nombres del INDEX\n",
        "descriptivas.set_index('Medidas',inplace = True)"
      ],
      "metadata": {
        "id": "-M9-qjKN-Qdl"
      },
      "execution_count": null,
      "outputs": []
    },
    {
      "cell_type": "code",
      "source": [
        "descriptivas"
      ],
      "metadata": {
        "colab": {
          "base_uri": "https://localhost:8080/",
          "height": 363
        },
        "id": "Eit8xRQYlvGm",
        "outputId": "ead98c27-aead-4dbf-9878-9a380939d4f6"
      },
      "execution_count": null,
      "outputs": [
        {
          "output_type": "execute_result",
          "data": {
            "text/plain": [
              "         satisfaction_level  last_evaluation  number_projects  \\\n",
              "Medidas                                                         \n",
              "count          11991.000000     11991.000000     11991.000000   \n",
              "mean               0.629658         0.716683         3.802852   \n",
              "std                0.241070         0.168343         1.163238   \n",
              "min                0.090000         0.360000         2.000000   \n",
              "25%                0.480000         0.570000         3.000000   \n",
              "50%                0.660000         0.720000         4.000000   \n",
              "75%                0.820000         0.860000         5.000000   \n",
              "max                1.000000         1.000000         7.000000   \n",
              "mode               0.740000         0.550000         4.000000   \n",
              "\n",
              "        average_montly_hours  time_spend_company  work_accident          left  \\\n",
              "Medidas                                                                         \n",
              "count                11991.0        11991.000000   11991.000000  11991.000000   \n",
              "mean              200.473522            3.364857       0.154282      0.166041   \n",
              "std                48.727813            1.330240       0.361234      0.372133   \n",
              "min                     96.0            2.000000       0.000000      0.000000   \n",
              "25%                    157.0            3.000000       0.000000      0.000000   \n",
              "50%                    200.0            3.000000       0.000000      0.000000   \n",
              "75%                    243.0            4.000000       0.000000      0.000000   \n",
              "max                    310.0           10.000000       1.000000      1.000000   \n",
              "mode              [149, 156]            3.000000       0.000000      0.000000   \n",
              "\n",
              "         promotion_last_5years  \n",
              "Medidas                         \n",
              "count             11991.000000  \n",
              "mean                  0.016929  \n",
              "std                   0.129012  \n",
              "min                   0.000000  \n",
              "25%                   0.000000  \n",
              "50%                   0.000000  \n",
              "75%                   0.000000  \n",
              "max                   1.000000  \n",
              "mode                  0.000000  "
            ],
            "text/html": [
              "\n",
              "  <div id=\"df-81f3a2d9-6f20-4e11-8035-e9011d60bed7\">\n",
              "    <div class=\"colab-df-container\">\n",
              "      <div>\n",
              "<style scoped>\n",
              "    .dataframe tbody tr th:only-of-type {\n",
              "        vertical-align: middle;\n",
              "    }\n",
              "\n",
              "    .dataframe tbody tr th {\n",
              "        vertical-align: top;\n",
              "    }\n",
              "\n",
              "    .dataframe thead th {\n",
              "        text-align: right;\n",
              "    }\n",
              "</style>\n",
              "<table border=\"1\" class=\"dataframe\">\n",
              "  <thead>\n",
              "    <tr style=\"text-align: right;\">\n",
              "      <th></th>\n",
              "      <th>satisfaction_level</th>\n",
              "      <th>last_evaluation</th>\n",
              "      <th>number_projects</th>\n",
              "      <th>average_montly_hours</th>\n",
              "      <th>time_spend_company</th>\n",
              "      <th>work_accident</th>\n",
              "      <th>left</th>\n",
              "      <th>promotion_last_5years</th>\n",
              "    </tr>\n",
              "    <tr>\n",
              "      <th>Medidas</th>\n",
              "      <th></th>\n",
              "      <th></th>\n",
              "      <th></th>\n",
              "      <th></th>\n",
              "      <th></th>\n",
              "      <th></th>\n",
              "      <th></th>\n",
              "      <th></th>\n",
              "    </tr>\n",
              "  </thead>\n",
              "  <tbody>\n",
              "    <tr>\n",
              "      <th>count</th>\n",
              "      <td>11991.000000</td>\n",
              "      <td>11991.000000</td>\n",
              "      <td>11991.000000</td>\n",
              "      <td>11991.0</td>\n",
              "      <td>11991.000000</td>\n",
              "      <td>11991.000000</td>\n",
              "      <td>11991.000000</td>\n",
              "      <td>11991.000000</td>\n",
              "    </tr>\n",
              "    <tr>\n",
              "      <th>mean</th>\n",
              "      <td>0.629658</td>\n",
              "      <td>0.716683</td>\n",
              "      <td>3.802852</td>\n",
              "      <td>200.473522</td>\n",
              "      <td>3.364857</td>\n",
              "      <td>0.154282</td>\n",
              "      <td>0.166041</td>\n",
              "      <td>0.016929</td>\n",
              "    </tr>\n",
              "    <tr>\n",
              "      <th>std</th>\n",
              "      <td>0.241070</td>\n",
              "      <td>0.168343</td>\n",
              "      <td>1.163238</td>\n",
              "      <td>48.727813</td>\n",
              "      <td>1.330240</td>\n",
              "      <td>0.361234</td>\n",
              "      <td>0.372133</td>\n",
              "      <td>0.129012</td>\n",
              "    </tr>\n",
              "    <tr>\n",
              "      <th>min</th>\n",
              "      <td>0.090000</td>\n",
              "      <td>0.360000</td>\n",
              "      <td>2.000000</td>\n",
              "      <td>96.0</td>\n",
              "      <td>2.000000</td>\n",
              "      <td>0.000000</td>\n",
              "      <td>0.000000</td>\n",
              "      <td>0.000000</td>\n",
              "    </tr>\n",
              "    <tr>\n",
              "      <th>25%</th>\n",
              "      <td>0.480000</td>\n",
              "      <td>0.570000</td>\n",
              "      <td>3.000000</td>\n",
              "      <td>157.0</td>\n",
              "      <td>3.000000</td>\n",
              "      <td>0.000000</td>\n",
              "      <td>0.000000</td>\n",
              "      <td>0.000000</td>\n",
              "    </tr>\n",
              "    <tr>\n",
              "      <th>50%</th>\n",
              "      <td>0.660000</td>\n",
              "      <td>0.720000</td>\n",
              "      <td>4.000000</td>\n",
              "      <td>200.0</td>\n",
              "      <td>3.000000</td>\n",
              "      <td>0.000000</td>\n",
              "      <td>0.000000</td>\n",
              "      <td>0.000000</td>\n",
              "    </tr>\n",
              "    <tr>\n",
              "      <th>75%</th>\n",
              "      <td>0.820000</td>\n",
              "      <td>0.860000</td>\n",
              "      <td>5.000000</td>\n",
              "      <td>243.0</td>\n",
              "      <td>4.000000</td>\n",
              "      <td>0.000000</td>\n",
              "      <td>0.000000</td>\n",
              "      <td>0.000000</td>\n",
              "    </tr>\n",
              "    <tr>\n",
              "      <th>max</th>\n",
              "      <td>1.000000</td>\n",
              "      <td>1.000000</td>\n",
              "      <td>7.000000</td>\n",
              "      <td>310.0</td>\n",
              "      <td>10.000000</td>\n",
              "      <td>1.000000</td>\n",
              "      <td>1.000000</td>\n",
              "      <td>1.000000</td>\n",
              "    </tr>\n",
              "    <tr>\n",
              "      <th>mode</th>\n",
              "      <td>0.740000</td>\n",
              "      <td>0.550000</td>\n",
              "      <td>4.000000</td>\n",
              "      <td>[149, 156]</td>\n",
              "      <td>3.000000</td>\n",
              "      <td>0.000000</td>\n",
              "      <td>0.000000</td>\n",
              "      <td>0.000000</td>\n",
              "    </tr>\n",
              "  </tbody>\n",
              "</table>\n",
              "</div>\n",
              "      <button class=\"colab-df-convert\" onclick=\"convertToInteractive('df-81f3a2d9-6f20-4e11-8035-e9011d60bed7')\"\n",
              "              title=\"Convert this dataframe to an interactive table.\"\n",
              "              style=\"display:none;\">\n",
              "        \n",
              "  <svg xmlns=\"http://www.w3.org/2000/svg\" height=\"24px\"viewBox=\"0 0 24 24\"\n",
              "       width=\"24px\">\n",
              "    <path d=\"M0 0h24v24H0V0z\" fill=\"none\"/>\n",
              "    <path d=\"M18.56 5.44l.94 2.06.94-2.06 2.06-.94-2.06-.94-.94-2.06-.94 2.06-2.06.94zm-11 1L8.5 8.5l.94-2.06 2.06-.94-2.06-.94L8.5 2.5l-.94 2.06-2.06.94zm10 10l.94 2.06.94-2.06 2.06-.94-2.06-.94-.94-2.06-.94 2.06-2.06.94z\"/><path d=\"M17.41 7.96l-1.37-1.37c-.4-.4-.92-.59-1.43-.59-.52 0-1.04.2-1.43.59L10.3 9.45l-7.72 7.72c-.78.78-.78 2.05 0 2.83L4 21.41c.39.39.9.59 1.41.59.51 0 1.02-.2 1.41-.59l7.78-7.78 2.81-2.81c.8-.78.8-2.07 0-2.86zM5.41 20L4 18.59l7.72-7.72 1.47 1.35L5.41 20z\"/>\n",
              "  </svg>\n",
              "      </button>\n",
              "      \n",
              "  <style>\n",
              "    .colab-df-container {\n",
              "      display:flex;\n",
              "      flex-wrap:wrap;\n",
              "      gap: 12px;\n",
              "    }\n",
              "\n",
              "    .colab-df-convert {\n",
              "      background-color: #E8F0FE;\n",
              "      border: none;\n",
              "      border-radius: 50%;\n",
              "      cursor: pointer;\n",
              "      display: none;\n",
              "      fill: #1967D2;\n",
              "      height: 32px;\n",
              "      padding: 0 0 0 0;\n",
              "      width: 32px;\n",
              "    }\n",
              "\n",
              "    .colab-df-convert:hover {\n",
              "      background-color: #E2EBFA;\n",
              "      box-shadow: 0px 1px 2px rgba(60, 64, 67, 0.3), 0px 1px 3px 1px rgba(60, 64, 67, 0.15);\n",
              "      fill: #174EA6;\n",
              "    }\n",
              "\n",
              "    [theme=dark] .colab-df-convert {\n",
              "      background-color: #3B4455;\n",
              "      fill: #D2E3FC;\n",
              "    }\n",
              "\n",
              "    [theme=dark] .colab-df-convert:hover {\n",
              "      background-color: #434B5C;\n",
              "      box-shadow: 0px 1px 3px 1px rgba(0, 0, 0, 0.15);\n",
              "      filter: drop-shadow(0px 1px 2px rgba(0, 0, 0, 0.3));\n",
              "      fill: #FFFFFF;\n",
              "    }\n",
              "  </style>\n",
              "\n",
              "      <script>\n",
              "        const buttonEl =\n",
              "          document.querySelector('#df-81f3a2d9-6f20-4e11-8035-e9011d60bed7 button.colab-df-convert');\n",
              "        buttonEl.style.display =\n",
              "          google.colab.kernel.accessAllowed ? 'block' : 'none';\n",
              "\n",
              "        async function convertToInteractive(key) {\n",
              "          const element = document.querySelector('#df-81f3a2d9-6f20-4e11-8035-e9011d60bed7');\n",
              "          const dataTable =\n",
              "            await google.colab.kernel.invokeFunction('convertToInteractive',\n",
              "                                                     [key], {});\n",
              "          if (!dataTable) return;\n",
              "\n",
              "          const docLinkHtml = 'Like what you see? Visit the ' +\n",
              "            '<a target=\"_blank\" href=https://colab.research.google.com/notebooks/data_table.ipynb>data table notebook</a>'\n",
              "            + ' to learn more about interactive tables.';\n",
              "          element.innerHTML = '';\n",
              "          dataTable['output_type'] = 'display_data';\n",
              "          await google.colab.output.renderOutput(dataTable, element);\n",
              "          const docLink = document.createElement('div');\n",
              "          docLink.innerHTML = docLinkHtml;\n",
              "          element.appendChild(docLink);\n",
              "        }\n",
              "      </script>\n",
              "    </div>\n",
              "  </div>\n",
              "  "
            ]
          },
          "metadata": {},
          "execution_count": 16
        }
      ]
    },
    {
      "cell_type": "markdown",
      "source": [
        "##**ANÁLISIS DE ESTADÍSTICAS DESCRIPTIVAS**  \n",
        "El tamaño de muestra es de 11,991 empleados con los que se realizó el modelo de supervivencia."
      ],
      "metadata": {
        "id": "ubBawOdcgzoX"
      }
    },
    {
      "cell_type": "markdown",
      "source": [
        "||**NIVEL DE SATISFACCIÓN**|\n",
        "|-------|-------|  \n",
        "|Media| 0.629658 |\n",
        "|Desviación Estándar|0.241070|\n",
        "|Mediana| 0.66 |\n",
        "|Moda| 0.74 |  \n",
        "\n",
        "* En esta variable cada uno de los empleados dió un porcentaje de que tan satisfecho esta con su puesto de trabajo.  \n",
        "\n",
        "* En promedio el nivel de satisfacción que tienen los empleados con la compañía es del 62.96%, lo que indica que aunque hay personas que están bastante o medianamente satisfechas, todavía hay aspectos que se pueden mejorar para subir ese nivel.  \n",
        "\n",
        "* La desviación estándar nos muestra que no hay mucha dispersión entre los datos, esto también puede verse al analizar los cuartiles que nos indica que al menos el 75% de los datos son de porcentajes mayores a 48%.  \n",
        "\n",
        "* El porcentaje minimo que se recibió fue del 9% y el máximo del 100%.\n"
      ],
      "metadata": {
        "id": "S01UjsHGhK1c"
      }
    },
    {
      "cell_type": "markdown",
      "source": [
        "||**RESULTADO DE LA ULTIMA EVALUACIÓN**|\n",
        "|-------|-------|  \n",
        "|Media| 0.716683 |\n",
        "|Desviación Estándar|0.168343|\n",
        "|Mediana| 0.72 |\n",
        "|Moda| 0.55 |  \n",
        "\n",
        "* Esta variable representa el resultado obtenido en la última evaluación periódica que mide el desempeño y el progreso del empleado, también puede verse como la última revisión de desempeño.  \n",
        "\n",
        "* El promedio del grupo fue de un 0.7166, la cual no es una mala calificación del todo sin embargo puede mejorarse mucho más. Se tendría que investigar que factores se pueden ajustar para mejorar el desempeño de los empleados.  \n",
        "\n",
        "* La desviación estándar nos indica que no hay mucha dispersión con respecto a la media y los cuartiles nos indican que al menos el 50% de los datos son de calificaciones mayores o iguales a 0.72.  \n",
        "\n",
        "* La calificación minima que se obtuvo fue de 0.36 y la máxima de 1."
      ],
      "metadata": {
        "id": "v61Tkpr2klH4"
      }
    },
    {
      "cell_type": "markdown",
      "source": [
        "||**NÚMERO DE PROYECTOS**|\n",
        "|-------|-------|  \n",
        "|Media| 3.802852\t |\n",
        "|Desviación Estándar|1.163238|\n",
        "|Mediana| 4 |\n",
        "|Moda| 4 |  \n",
        "\n",
        "* Esta variable representa el número de proyectos asignados al empleado.\n",
        "* En promedio a los empleado se les asigno 3.8 proyectos. \n",
        "* Tenemos una desviación estándar de 1.16 aproximadamente por lo que no hay mucha dispersión con respecto a la media, de la misma forma podemos ver que el valor de la mediana, moda y media es idéntica, esto nos dice que la mayoria de los datos se concentran alrededor de la media, es decir, a la mayor parte de los empleados se les asignó 4 proyectos durante el análisis.\n",
        "* El minimo número de proyectos que se le pidió a un empleado fue de 2 y el máximo 7."
      ],
      "metadata": {
        "id": "Nggywzj8Bn7A"
      }
    },
    {
      "cell_type": "markdown",
      "source": [
        "||**PROMEDIO DE HORAS TRABAJADAS POR MES**|\n",
        "|-------|-------|  \n",
        "|Media| 200.473522 |\n",
        "|Desviación Estándar|48.727813|\n",
        "|Mediana| 200 |\n",
        "|Moda| bimodal: 149 y 156 |  \n",
        "\n",
        "* Esta variable mide el promedio mensual de horas trabajadas por el empleado.  \n",
        "* Tenemos un promedio mensual de 200.47 hrs trabajadas aproximadamente.  \n",
        "* Tenemos una desviación estándar de 48.72 esto parece indicar que si hay bastante dispersión entre los datos con respecto a la media.\n",
        "* El minimo de horas que un empleado trabajó por mes fue de 96 y el máximo 310."
      ],
      "metadata": {
        "id": "nModVTH8IKbp"
      }
    },
    {
      "cell_type": "markdown",
      "source": [
        "||**TIEMPO DE PERMANENCIA EN LA COMPAÑÍA**|\n",
        "|-------|-------|  \n",
        "|Media| 3.364857 |\n",
        "|Desviación Estándar|1.330240|\n",
        "|Mediana|3|\n",
        "|Moda|3|  \n",
        "\n",
        "* Esta variable mide el número de meses que el empleado permanenció en la empresa hasta que abandono el puesto o hasta que se dejó de tener seguimiento.  \n",
        "* Tenemos un promedio de 3.36 meses de permanencia.  \n",
        "* Tenemos una desviación estándar de 1.33 con respecto a la media por lo que no hay mucha dispersión entre los datos, esto indica que la mayoria de los empleados permanencieron en la empresa alrededor de 3 meses.\n",
        "* El minimo de meses de permanencia fue de dos meses y el máximo de tres meses.  \n",
        "\n",
        "*A partir de aquí podríamos empezar a sospechar que la probabilidad de supervivencia es muy poca, es decir, los empleados abandonan la empresa muy rápido a partir del tiempo en el que son contratados y que la compañía tiene problemas para retener a su personal.*"
      ],
      "metadata": {
        "id": "VTSwNrWumNiF"
      }
    },
    {
      "cell_type": "code",
      "source": [
        "#Calculamos la desvación estándar con respecto a las proporciones\n",
        "#Accidente de trabajo\n",
        "n = attrition.shape[0]  #tamaño de muestra\n",
        "prop_wa = attrition['work_accident'].mean()\n",
        "DS_WA = pow((prop_wa*(1-prop_wa))/n,0.5)\n",
        "DS_WA"
      ],
      "metadata": {
        "colab": {
          "base_uri": "https://localhost:8080/"
        },
        "id": "Y08qm-pM9H1u",
        "outputId": "1ac6d9cc-c534-441b-fc68-16e1960f80a6"
      },
      "execution_count": null,
      "outputs": [
        {
          "output_type": "execute_result",
          "data": {
            "text/plain": [
              "0.0032987025112721806"
            ]
          },
          "metadata": {},
          "execution_count": 17
        }
      ]
    },
    {
      "cell_type": "code",
      "source": [
        "#Evento\n",
        "prop_left = attrition['left'].mean()\n",
        "DS_L = pow((prop_left*(1-prop_left))/n,0.5)\n",
        "DS_L"
      ],
      "metadata": {
        "colab": {
          "base_uri": "https://localhost:8080/"
        },
        "id": "KwSNxixTCcf3",
        "outputId": "fd6d86f2-4fed-4d69-e0ff-ad5c6aa2949d"
      },
      "execution_count": null,
      "outputs": [
        {
          "output_type": "execute_result",
          "data": {
            "text/plain": [
              "0.003398228090533256"
            ]
          },
          "metadata": {},
          "execution_count": 18
        }
      ]
    },
    {
      "cell_type": "code",
      "source": [
        "#Ascenso\n",
        "prop_asc = attrition['promotion_last_5years'].mean()\n",
        "DS_asc = pow((prop_asc*(1-prop_asc))/n,0.5)\n",
        "DS_asc"
      ],
      "metadata": {
        "colab": {
          "base_uri": "https://localhost:8080/"
        },
        "outputId": "812ddf48-14f3-4132-8c21-7f70068d0ed3",
        "id": "KcSpNkNTErND"
      },
      "execution_count": null,
      "outputs": [
        {
          "output_type": "execute_result",
          "data": {
            "text/plain": [
              "0.0011781076554279264"
            ]
          },
          "metadata": {},
          "execution_count": 19
        }
      ]
    },
    {
      "cell_type": "markdown",
      "source": [
        "||**ACCIDENTES DE TRABAJO**|\n",
        "|-------|-------|  \n",
        "|Proporción|0.154282|\n",
        "|Desviación Estándar|0.003298|\n",
        "|Mediana|0|\n",
        "|Moda|0|\n",
        "  \n",
        "* Representa a una variable binaria que nos dice si el empleado ha sufrido algún accidente de trabajo, donde Sí = 1 y No = 0.\n",
        "* El estimador nos dice que el 15.42% de los empleados ha sufrido un accidente de trabajo, un porcentaje que es bastante pequeño.  \n",
        "* Hay una desviación estándar con respecto a la proporción de 0.003298, es decir que hay poca dispersión entre los datos, la mayoría de los empleados no ha sufrido un accidente de trabajo.\n",
        "  "
      ],
      "metadata": {
        "id": "bXACG7UOqbew"
      }
    },
    {
      "cell_type": "markdown",
      "source": [
        "||**EVENTO**|\n",
        "|-------|-------|  \n",
        "|Proporción|0.166041|\n",
        "|Desviación Estándar|0.003398|\n",
        "|Mediana|0|\n",
        "|Moda|0|\n",
        "  \n",
        "* Representa al evento de abandonar la compañía, es decir, el porcentaje de empleados que ha dejado su trabajo después de ciertos meses.\n",
        "* El estimador nos dice que aprox. el 16.6%  de los empleados abandono la compañía antes o al cumplir los 10 meses, que fue el tiempo máximo del que se tuvo registro.  \n",
        "* Hay una desviación estándar con respecto a la proporción de 0.003398, es decir que hay poca dispersión entre los datos, por lo que la mayor parte de los datos están censurados, no se puede saber con certeza si abandonaron la compañía o aún permanecen en ella.\n",
        "  "
      ],
      "metadata": {
        "id": "vJC-4LZUEPdB"
      }
    },
    {
      "cell_type": "markdown",
      "source": [
        "||**ASCENSO EN LOS ÚLTIMOS 5 AÑOS**|\n",
        "|-------|-------|  \n",
        "|Proporción|0.016929|\n",
        "|Desviación Estándar|0.001178|\n",
        "|Mediana|0|\n",
        "|Moda|0|\n",
        "  \n",
        "* Indica si el empleado fue promovido en los últimos 5 años.\n",
        "* El estimador nos dice que aprox. el 1.69%  de los empleados fue promovido en los últimos 5 años.  \n",
        "* Hay una desviación estándar con respecto a la proporción de 0.001178, es decir que hay poca dispersión entre los datos, podemos concluir que muy pocos empleados fueron promovidos en los últimos 5 años.\n",
        "  "
      ],
      "metadata": {
        "id": "whevjWjcGeAS"
      }
    },
    {
      "cell_type": "code",
      "source": [
        "#ESTADISTICAS DESCRIPTIVAS PARA DEPARTAMENTO Y SALARIO\n",
        "#DEPARTAMENTO\n",
        "#Clasificamos los datos\n",
        "Group01 = attrition[attrition['department']==0]  #IT\n",
        "Group02 = attrition[attrition['department']==1]  #RandD\n",
        "Group03 = attrition[attrition['department']==2]  #accounting\n",
        "Group04 = attrition[attrition['department']==3]  #hr\n",
        "Group05 = attrition[attrition['department']==4]  #management\n",
        "Group06 = attrition[attrition['department']==5]  #marketing\n",
        "Group07 = attrition[attrition['department']==6]  #product_mng\n",
        "Group08 = attrition[attrition['department']==7]  #sales \n",
        "Group09 = attrition[attrition['department']==8]  #support\n",
        "Group10 = attrition[attrition['department']==9]  #technical"
      ],
      "metadata": {
        "id": "VKhbQ15RJVWO"
      },
      "execution_count": null,
      "outputs": []
    },
    {
      "cell_type": "code",
      "source": [
        "#Calculamos el tamaño\n",
        "n1 = Group01.shape[0]\n",
        "n2 = Group02.shape[0]\n",
        "n3 = Group03.shape[0]\n",
        "n4 = Group04.shape[0]\n",
        "n5 = Group05.shape[0]\n",
        "n6 = Group06.shape[0]\n",
        "n7 = Group07.shape[0]\n",
        "n8 = Group08.shape[0]\n",
        "n9 = Group09.shape[0]\n",
        "n10 = Group10.shape[0]"
      ],
      "metadata": {
        "id": "ntjRZA3tQUL8"
      },
      "execution_count": null,
      "outputs": []
    },
    {
      "cell_type": "code",
      "source": [
        "#Calculamos las proporciones\n",
        "prop_01 = n1/n\n",
        "prop_02 = n2/n\n",
        "prop_03 = n3/n\n",
        "prop_04 = n4/n\n",
        "prop_05 = n5/n\n",
        "prop_06 = n6/n\n",
        "prop_07 = n7/n\n",
        "prop_08 = n8/n\n",
        "prop_09 = n9/n\n",
        "prop_10 = n10/n"
      ],
      "metadata": {
        "id": "WzuA8VUGQWJD"
      },
      "execution_count": null,
      "outputs": []
    },
    {
      "cell_type": "code",
      "source": [
        "#Realizamos un DataFrame y lo mostramos\n",
        "etiquetas = ['IT', 'RandD','accounting','hr','management','marketing','product_mng','sales','support','technical']\n",
        "df = [prop_01,prop_02,prop_03,prop_04,prop_05,prop_06,prop_07,prop_08,prop_09,prop_10]"
      ],
      "metadata": {
        "id": "YrOqSj5wR5PS"
      },
      "execution_count": null,
      "outputs": []
    },
    {
      "cell_type": "code",
      "source": [
        "department_prop = pd.DataFrame()"
      ],
      "metadata": {
        "id": "mm2K2sqYT6ta"
      },
      "execution_count": null,
      "outputs": []
    },
    {
      "cell_type": "code",
      "source": [
        "department_prop['Proporciones'] = df\n",
        "department_prop['Departamento'] = etiquetas\n",
        "department_prop.set_index('Departamento',inplace = True)"
      ],
      "metadata": {
        "id": "tXtsjHyqTmpF"
      },
      "execution_count": null,
      "outputs": []
    },
    {
      "cell_type": "code",
      "source": [
        "department_prop"
      ],
      "metadata": {
        "colab": {
          "base_uri": "https://localhost:8080/",
          "height": 394
        },
        "id": "doRkrWmYVAdB",
        "outputId": "4d7d25d1-c221-4dd7-ab99-25856591d23f"
      },
      "execution_count": null,
      "outputs": [
        {
          "output_type": "execute_result",
          "data": {
            "text/plain": [
              "              Proporciones\n",
              "Departamento              \n",
              "IT                0.081394\n",
              "RandD             0.057877\n",
              "accounting        0.051789\n",
              "hr                0.050121\n",
              "management        0.036361\n",
              "marketing         0.056125\n",
              "product_mng       0.057210\n",
              "sales             0.270119\n",
              "support           0.151864\n",
              "technical         0.187140"
            ],
            "text/html": [
              "\n",
              "  <div id=\"df-b3c61cb9-273c-4472-8237-dc409c474bbb\">\n",
              "    <div class=\"colab-df-container\">\n",
              "      <div>\n",
              "<style scoped>\n",
              "    .dataframe tbody tr th:only-of-type {\n",
              "        vertical-align: middle;\n",
              "    }\n",
              "\n",
              "    .dataframe tbody tr th {\n",
              "        vertical-align: top;\n",
              "    }\n",
              "\n",
              "    .dataframe thead th {\n",
              "        text-align: right;\n",
              "    }\n",
              "</style>\n",
              "<table border=\"1\" class=\"dataframe\">\n",
              "  <thead>\n",
              "    <tr style=\"text-align: right;\">\n",
              "      <th></th>\n",
              "      <th>Proporciones</th>\n",
              "    </tr>\n",
              "    <tr>\n",
              "      <th>Departamento</th>\n",
              "      <th></th>\n",
              "    </tr>\n",
              "  </thead>\n",
              "  <tbody>\n",
              "    <tr>\n",
              "      <th>IT</th>\n",
              "      <td>0.081394</td>\n",
              "    </tr>\n",
              "    <tr>\n",
              "      <th>RandD</th>\n",
              "      <td>0.057877</td>\n",
              "    </tr>\n",
              "    <tr>\n",
              "      <th>accounting</th>\n",
              "      <td>0.051789</td>\n",
              "    </tr>\n",
              "    <tr>\n",
              "      <th>hr</th>\n",
              "      <td>0.050121</td>\n",
              "    </tr>\n",
              "    <tr>\n",
              "      <th>management</th>\n",
              "      <td>0.036361</td>\n",
              "    </tr>\n",
              "    <tr>\n",
              "      <th>marketing</th>\n",
              "      <td>0.056125</td>\n",
              "    </tr>\n",
              "    <tr>\n",
              "      <th>product_mng</th>\n",
              "      <td>0.057210</td>\n",
              "    </tr>\n",
              "    <tr>\n",
              "      <th>sales</th>\n",
              "      <td>0.270119</td>\n",
              "    </tr>\n",
              "    <tr>\n",
              "      <th>support</th>\n",
              "      <td>0.151864</td>\n",
              "    </tr>\n",
              "    <tr>\n",
              "      <th>technical</th>\n",
              "      <td>0.187140</td>\n",
              "    </tr>\n",
              "  </tbody>\n",
              "</table>\n",
              "</div>\n",
              "      <button class=\"colab-df-convert\" onclick=\"convertToInteractive('df-b3c61cb9-273c-4472-8237-dc409c474bbb')\"\n",
              "              title=\"Convert this dataframe to an interactive table.\"\n",
              "              style=\"display:none;\">\n",
              "        \n",
              "  <svg xmlns=\"http://www.w3.org/2000/svg\" height=\"24px\"viewBox=\"0 0 24 24\"\n",
              "       width=\"24px\">\n",
              "    <path d=\"M0 0h24v24H0V0z\" fill=\"none\"/>\n",
              "    <path d=\"M18.56 5.44l.94 2.06.94-2.06 2.06-.94-2.06-.94-.94-2.06-.94 2.06-2.06.94zm-11 1L8.5 8.5l.94-2.06 2.06-.94-2.06-.94L8.5 2.5l-.94 2.06-2.06.94zm10 10l.94 2.06.94-2.06 2.06-.94-2.06-.94-.94-2.06-.94 2.06-2.06.94z\"/><path d=\"M17.41 7.96l-1.37-1.37c-.4-.4-.92-.59-1.43-.59-.52 0-1.04.2-1.43.59L10.3 9.45l-7.72 7.72c-.78.78-.78 2.05 0 2.83L4 21.41c.39.39.9.59 1.41.59.51 0 1.02-.2 1.41-.59l7.78-7.78 2.81-2.81c.8-.78.8-2.07 0-2.86zM5.41 20L4 18.59l7.72-7.72 1.47 1.35L5.41 20z\"/>\n",
              "  </svg>\n",
              "      </button>\n",
              "      \n",
              "  <style>\n",
              "    .colab-df-container {\n",
              "      display:flex;\n",
              "      flex-wrap:wrap;\n",
              "      gap: 12px;\n",
              "    }\n",
              "\n",
              "    .colab-df-convert {\n",
              "      background-color: #E8F0FE;\n",
              "      border: none;\n",
              "      border-radius: 50%;\n",
              "      cursor: pointer;\n",
              "      display: none;\n",
              "      fill: #1967D2;\n",
              "      height: 32px;\n",
              "      padding: 0 0 0 0;\n",
              "      width: 32px;\n",
              "    }\n",
              "\n",
              "    .colab-df-convert:hover {\n",
              "      background-color: #E2EBFA;\n",
              "      box-shadow: 0px 1px 2px rgba(60, 64, 67, 0.3), 0px 1px 3px 1px rgba(60, 64, 67, 0.15);\n",
              "      fill: #174EA6;\n",
              "    }\n",
              "\n",
              "    [theme=dark] .colab-df-convert {\n",
              "      background-color: #3B4455;\n",
              "      fill: #D2E3FC;\n",
              "    }\n",
              "\n",
              "    [theme=dark] .colab-df-convert:hover {\n",
              "      background-color: #434B5C;\n",
              "      box-shadow: 0px 1px 3px 1px rgba(0, 0, 0, 0.15);\n",
              "      filter: drop-shadow(0px 1px 2px rgba(0, 0, 0, 0.3));\n",
              "      fill: #FFFFFF;\n",
              "    }\n",
              "  </style>\n",
              "\n",
              "      <script>\n",
              "        const buttonEl =\n",
              "          document.querySelector('#df-b3c61cb9-273c-4472-8237-dc409c474bbb button.colab-df-convert');\n",
              "        buttonEl.style.display =\n",
              "          google.colab.kernel.accessAllowed ? 'block' : 'none';\n",
              "\n",
              "        async function convertToInteractive(key) {\n",
              "          const element = document.querySelector('#df-b3c61cb9-273c-4472-8237-dc409c474bbb');\n",
              "          const dataTable =\n",
              "            await google.colab.kernel.invokeFunction('convertToInteractive',\n",
              "                                                     [key], {});\n",
              "          if (!dataTable) return;\n",
              "\n",
              "          const docLinkHtml = 'Like what you see? Visit the ' +\n",
              "            '<a target=\"_blank\" href=https://colab.research.google.com/notebooks/data_table.ipynb>data table notebook</a>'\n",
              "            + ' to learn more about interactive tables.';\n",
              "          element.innerHTML = '';\n",
              "          dataTable['output_type'] = 'display_data';\n",
              "          await google.colab.output.renderOutput(dataTable, element);\n",
              "          const docLink = document.createElement('div');\n",
              "          docLink.innerHTML = docLinkHtml;\n",
              "          element.appendChild(docLink);\n",
              "        }\n",
              "      </script>\n",
              "    </div>\n",
              "  </div>\n",
              "  "
            ]
          },
          "metadata": {},
          "execution_count": 26
        }
      ]
    },
    {
      "cell_type": "markdown",
      "source": [
        "**DEPARTAMENTOS DE LA EMPRESA**  \n",
        "Las areas con mayor cantidad de empleados son ventas con 27.01%, technical con 18.71% y el area de soporte con un 15.19%, juntas conllevan el 60.91% de los empleados.\n"
      ],
      "metadata": {
        "id": "3hNb1URnVH_q"
      }
    },
    {
      "cell_type": "code",
      "source": [
        "#SALARIO\n",
        "#Clasificamos los datos\n",
        "Group_high = attrition[attrition['salary']==0]  \n",
        "Group_low = attrition[attrition['salary']==1]  \n",
        "Group_medium = attrition[attrition['salary']==2]  "
      ],
      "metadata": {
        "id": "5ob0s2w4W-Ip"
      },
      "execution_count": null,
      "outputs": []
    },
    {
      "cell_type": "code",
      "source": [
        "#Calculamos el tamaño\n",
        "nl = Group_low.shape[0]\n",
        "nm = Group_medium.shape[0]\n",
        "nh = Group_high.shape[0]"
      ],
      "metadata": {
        "id": "CM-89NBlXp0R"
      },
      "execution_count": null,
      "outputs": []
    },
    {
      "cell_type": "code",
      "source": [
        "#Calculamos las proporciones\n",
        "prop_low = nl/n\n",
        "prop_med = nm/n\n",
        "prop_high = nh/n"
      ],
      "metadata": {
        "id": "jbHmaO36Yfa1"
      },
      "execution_count": null,
      "outputs": []
    },
    {
      "cell_type": "code",
      "source": [
        "#Realizamos un DataFrame y lo mostramos\n",
        "etiquetas2 = ['Bajo','Medio','Alto']\n",
        "df2 = [prop_low,prop_med,prop_high]"
      ],
      "metadata": {
        "id": "gAJH2BI6YpMl"
      },
      "execution_count": null,
      "outputs": []
    },
    {
      "cell_type": "code",
      "source": [
        "salary_prop = pd.DataFrame()"
      ],
      "metadata": {
        "id": "W_58j8ccY6T8"
      },
      "execution_count": null,
      "outputs": []
    },
    {
      "cell_type": "code",
      "source": [
        "salary_prop['Proporciones'] = df2\n",
        "salary_prop['Salario'] = etiquetas2\n",
        "salary_prop.set_index('Salario',inplace = True)"
      ],
      "metadata": {
        "id": "IXNoD7HhY-0m"
      },
      "execution_count": null,
      "outputs": []
    },
    {
      "cell_type": "code",
      "source": [
        "salary_prop"
      ],
      "metadata": {
        "colab": {
          "base_uri": "https://localhost:8080/",
          "height": 175
        },
        "id": "YH-_x3MCZSaF",
        "outputId": "643ea6a4-f033-43a1-f1da-79459bd07c02"
      },
      "execution_count": null,
      "outputs": [
        {
          "output_type": "execute_result",
          "data": {
            "text/plain": [
              "         Proporciones\n",
              "Salario              \n",
              "Bajo         0.478692\n",
              "Medio        0.438746\n",
              "Alto         0.082562"
            ],
            "text/html": [
              "\n",
              "  <div id=\"df-80119759-f16b-4392-87fb-c9b69df1b451\">\n",
              "    <div class=\"colab-df-container\">\n",
              "      <div>\n",
              "<style scoped>\n",
              "    .dataframe tbody tr th:only-of-type {\n",
              "        vertical-align: middle;\n",
              "    }\n",
              "\n",
              "    .dataframe tbody tr th {\n",
              "        vertical-align: top;\n",
              "    }\n",
              "\n",
              "    .dataframe thead th {\n",
              "        text-align: right;\n",
              "    }\n",
              "</style>\n",
              "<table border=\"1\" class=\"dataframe\">\n",
              "  <thead>\n",
              "    <tr style=\"text-align: right;\">\n",
              "      <th></th>\n",
              "      <th>Proporciones</th>\n",
              "    </tr>\n",
              "    <tr>\n",
              "      <th>Salario</th>\n",
              "      <th></th>\n",
              "    </tr>\n",
              "  </thead>\n",
              "  <tbody>\n",
              "    <tr>\n",
              "      <th>Bajo</th>\n",
              "      <td>0.478692</td>\n",
              "    </tr>\n",
              "    <tr>\n",
              "      <th>Medio</th>\n",
              "      <td>0.438746</td>\n",
              "    </tr>\n",
              "    <tr>\n",
              "      <th>Alto</th>\n",
              "      <td>0.082562</td>\n",
              "    </tr>\n",
              "  </tbody>\n",
              "</table>\n",
              "</div>\n",
              "      <button class=\"colab-df-convert\" onclick=\"convertToInteractive('df-80119759-f16b-4392-87fb-c9b69df1b451')\"\n",
              "              title=\"Convert this dataframe to an interactive table.\"\n",
              "              style=\"display:none;\">\n",
              "        \n",
              "  <svg xmlns=\"http://www.w3.org/2000/svg\" height=\"24px\"viewBox=\"0 0 24 24\"\n",
              "       width=\"24px\">\n",
              "    <path d=\"M0 0h24v24H0V0z\" fill=\"none\"/>\n",
              "    <path d=\"M18.56 5.44l.94 2.06.94-2.06 2.06-.94-2.06-.94-.94-2.06-.94 2.06-2.06.94zm-11 1L8.5 8.5l.94-2.06 2.06-.94-2.06-.94L8.5 2.5l-.94 2.06-2.06.94zm10 10l.94 2.06.94-2.06 2.06-.94-2.06-.94-.94-2.06-.94 2.06-2.06.94z\"/><path d=\"M17.41 7.96l-1.37-1.37c-.4-.4-.92-.59-1.43-.59-.52 0-1.04.2-1.43.59L10.3 9.45l-7.72 7.72c-.78.78-.78 2.05 0 2.83L4 21.41c.39.39.9.59 1.41.59.51 0 1.02-.2 1.41-.59l7.78-7.78 2.81-2.81c.8-.78.8-2.07 0-2.86zM5.41 20L4 18.59l7.72-7.72 1.47 1.35L5.41 20z\"/>\n",
              "  </svg>\n",
              "      </button>\n",
              "      \n",
              "  <style>\n",
              "    .colab-df-container {\n",
              "      display:flex;\n",
              "      flex-wrap:wrap;\n",
              "      gap: 12px;\n",
              "    }\n",
              "\n",
              "    .colab-df-convert {\n",
              "      background-color: #E8F0FE;\n",
              "      border: none;\n",
              "      border-radius: 50%;\n",
              "      cursor: pointer;\n",
              "      display: none;\n",
              "      fill: #1967D2;\n",
              "      height: 32px;\n",
              "      padding: 0 0 0 0;\n",
              "      width: 32px;\n",
              "    }\n",
              "\n",
              "    .colab-df-convert:hover {\n",
              "      background-color: #E2EBFA;\n",
              "      box-shadow: 0px 1px 2px rgba(60, 64, 67, 0.3), 0px 1px 3px 1px rgba(60, 64, 67, 0.15);\n",
              "      fill: #174EA6;\n",
              "    }\n",
              "\n",
              "    [theme=dark] .colab-df-convert {\n",
              "      background-color: #3B4455;\n",
              "      fill: #D2E3FC;\n",
              "    }\n",
              "\n",
              "    [theme=dark] .colab-df-convert:hover {\n",
              "      background-color: #434B5C;\n",
              "      box-shadow: 0px 1px 3px 1px rgba(0, 0, 0, 0.15);\n",
              "      filter: drop-shadow(0px 1px 2px rgba(0, 0, 0, 0.3));\n",
              "      fill: #FFFFFF;\n",
              "    }\n",
              "  </style>\n",
              "\n",
              "      <script>\n",
              "        const buttonEl =\n",
              "          document.querySelector('#df-80119759-f16b-4392-87fb-c9b69df1b451 button.colab-df-convert');\n",
              "        buttonEl.style.display =\n",
              "          google.colab.kernel.accessAllowed ? 'block' : 'none';\n",
              "\n",
              "        async function convertToInteractive(key) {\n",
              "          const element = document.querySelector('#df-80119759-f16b-4392-87fb-c9b69df1b451');\n",
              "          const dataTable =\n",
              "            await google.colab.kernel.invokeFunction('convertToInteractive',\n",
              "                                                     [key], {});\n",
              "          if (!dataTable) return;\n",
              "\n",
              "          const docLinkHtml = 'Like what you see? Visit the ' +\n",
              "            '<a target=\"_blank\" href=https://colab.research.google.com/notebooks/data_table.ipynb>data table notebook</a>'\n",
              "            + ' to learn more about interactive tables.';\n",
              "          element.innerHTML = '';\n",
              "          dataTable['output_type'] = 'display_data';\n",
              "          await google.colab.output.renderOutput(dataTable, element);\n",
              "          const docLink = document.createElement('div');\n",
              "          docLink.innerHTML = docLinkHtml;\n",
              "          element.appendChild(docLink);\n",
              "        }\n",
              "      </script>\n",
              "    </div>\n",
              "  </div>\n",
              "  "
            ]
          },
          "metadata": {},
          "execution_count": 33
        }
      ]
    },
    {
      "cell_type": "markdown",
      "source": [
        "**SALARIO**  \n",
        "Aqui se puede observar que el 47.86% de los empleados recibe un salario bajo, y que un 43.87% recibe un salario medio, son muy pocos los que reciben una alta remuneración, con solo un 8.25%"
      ],
      "metadata": {
        "id": "XU_p_UJeZeo0"
      }
    },
    {
      "cell_type": "code",
      "source": [
        "#Tiempo promedio de sobrevivencia de la base de datos\n",
        "promedio = attrition['time_spend_company'].mean()\n",
        "print(f'El tiempo promedio que el empleado permanece en su trabajo hasta que lo abandona es de {round(promedio,2)} meses')"
      ],
      "metadata": {
        "colab": {
          "base_uri": "https://localhost:8080/"
        },
        "id": "ESSuePJKXmL-",
        "outputId": "59327b89-637f-4f48-c56e-c8feab224fad"
      },
      "execution_count": null,
      "outputs": [
        {
          "output_type": "stream",
          "name": "stdout",
          "text": [
            "El tiempo promedio que el empleado permanece en su trabajo hasta que lo abandona es de 3.36 meses\n"
          ]
        }
      ]
    },
    {
      "cell_type": "code",
      "source": [
        "Meses = attrition['time_spend_company']\n",
        "Estado = attrition['left']"
      ],
      "metadata": {
        "id": "-a5sIYX8alzl"
      },
      "execution_count": null,
      "outputs": []
    },
    {
      "cell_type": "code",
      "source": [
        "ax = plt.subplot(111)\n",
        "ax = kmf.fit(Meses, Estado, label = \"Supervivencia\").plot(ax=ax)"
      ],
      "metadata": {
        "colab": {
          "base_uri": "https://localhost:8080/",
          "height": 279
        },
        "id": "On3P6SO_bUDe",
        "outputId": "eef51054-0133-4e3f-c447-4070fd3f8455"
      },
      "execution_count": null,
      "outputs": [
        {
          "output_type": "display_data",
          "data": {
            "text/plain": [
              "<Figure size 432x288 with 1 Axes>"
            ],
            "image/png": "[encoded data removed]"
          },
          "metadata": {
            "needs_background": "light"
          }
        }
      ]
    },
    {
      "cell_type": "code",
      "source": [
        "kmf.survival_function_"
      ],
      "metadata": {
        "colab": {
          "base_uri": "https://localhost:8080/",
          "height": 363
        },
        "id": "becbOUnfd10z",
        "outputId": "cbd77c8e-945d-497c-9ade-eebcbccd3d0b"
      },
      "execution_count": null,
      "outputs": [
        {
          "output_type": "execute_result",
          "data": {
            "text/plain": [
              "          Supervivencia\n",
              "timeline               \n",
              "0.0            1.000000\n",
              "2.0            0.997415\n",
              "3.0            0.901419\n",
              "4.0            0.786743\n",
              "5.0            0.585677\n",
              "6.0            0.508203\n",
              "7.0            0.508203\n",
              "8.0            0.508203\n",
              "10.0           0.508203"
            ],
            "text/html": [
              "\n",
              "  <div id=\"df-15d6da7b-34b1-4114-b0ae-0d430675420e\">\n",
              "    <div class=\"colab-df-container\">\n",
              "      <div>\n",
              "<style scoped>\n",
              "    .dataframe tbody tr th:only-of-type {\n",
              "        vertical-align: middle;\n",
              "    }\n",
              "\n",
              "    .dataframe tbody tr th {\n",
              "        vertical-align: top;\n",
              "    }\n",
              "\n",
              "    .dataframe thead th {\n",
              "        text-align: right;\n",
              "    }\n",
              "</style>\n",
              "<table border=\"1\" class=\"dataframe\">\n",
              "  <thead>\n",
              "    <tr style=\"text-align: right;\">\n",
              "      <th></th>\n",
              "      <th>Supervivencia</th>\n",
              "    </tr>\n",
              "    <tr>\n",
              "      <th>timeline</th>\n",
              "      <th></th>\n",
              "    </tr>\n",
              "  </thead>\n",
              "  <tbody>\n",
              "    <tr>\n",
              "      <th>0.0</th>\n",
              "      <td>1.000000</td>\n",
              "    </tr>\n",
              "    <tr>\n",
              "      <th>2.0</th>\n",
              "      <td>0.997415</td>\n",
              "    </tr>\n",
              "    <tr>\n",
              "      <th>3.0</th>\n",
              "      <td>0.901419</td>\n",
              "    </tr>\n",
              "    <tr>\n",
              "      <th>4.0</th>\n",
              "      <td>0.786743</td>\n",
              "    </tr>\n",
              "    <tr>\n",
              "      <th>5.0</th>\n",
              "      <td>0.585677</td>\n",
              "    </tr>\n",
              "    <tr>\n",
              "      <th>6.0</th>\n",
              "      <td>0.508203</td>\n",
              "    </tr>\n",
              "    <tr>\n",
              "      <th>7.0</th>\n",
              "      <td>0.508203</td>\n",
              "    </tr>\n",
              "    <tr>\n",
              "      <th>8.0</th>\n",
              "      <td>0.508203</td>\n",
              "    </tr>\n",
              "    <tr>\n",
              "      <th>10.0</th>\n",
              "      <td>0.508203</td>\n",
              "    </tr>\n",
              "  </tbody>\n",
              "</table>\n",
              "</div>\n",
              "      <button class=\"colab-df-convert\" onclick=\"convertToInteractive('df-15d6da7b-34b1-4114-b0ae-0d430675420e')\"\n",
              "              title=\"Convert this dataframe to an interactive table.\"\n",
              "              style=\"display:none;\">\n",
              "        \n",
              "  <svg xmlns=\"http://www.w3.org/2000/svg\" height=\"24px\"viewBox=\"0 0 24 24\"\n",
              "       width=\"24px\">\n",
              "    <path d=\"M0 0h24v24H0V0z\" fill=\"none\"/>\n",
              "    <path d=\"M18.56 5.44l.94 2.06.94-2.06 2.06-.94-2.06-.94-.94-2.06-.94 2.06-2.06.94zm-11 1L8.5 8.5l.94-2.06 2.06-.94-2.06-.94L8.5 2.5l-.94 2.06-2.06.94zm10 10l.94 2.06.94-2.06 2.06-.94-2.06-.94-.94-2.06-.94 2.06-2.06.94z\"/><path d=\"M17.41 7.96l-1.37-1.37c-.4-.4-.92-.59-1.43-.59-.52 0-1.04.2-1.43.59L10.3 9.45l-7.72 7.72c-.78.78-.78 2.05 0 2.83L4 21.41c.39.39.9.59 1.41.59.51 0 1.02-.2 1.41-.59l7.78-7.78 2.81-2.81c.8-.78.8-2.07 0-2.86zM5.41 20L4 18.59l7.72-7.72 1.47 1.35L5.41 20z\"/>\n",
              "  </svg>\n",
              "      </button>\n",
              "      \n",
              "  <style>\n",
              "    .colab-df-container {\n",
              "      display:flex;\n",
              "      flex-wrap:wrap;\n",
              "      gap: 12px;\n",
              "    }\n",
              "\n",
              "    .colab-df-convert {\n",
              "      background-color: #E8F0FE;\n",
              "      border: none;\n",
              "      border-radius: 50%;\n",
              "      cursor: pointer;\n",
              "      display: none;\n",
              "      fill: #1967D2;\n",
              "      height: 32px;\n",
              "      padding: 0 0 0 0;\n",
              "      width: 32px;\n",
              "    }\n",
              "\n",
              "    .colab-df-convert:hover {\n",
              "      background-color: #E2EBFA;\n",
              "      box-shadow: 0px 1px 2px rgba(60, 64, 67, 0.3), 0px 1px 3px 1px rgba(60, 64, 67, 0.15);\n",
              "      fill: #174EA6;\n",
              "    }\n",
              "\n",
              "    [theme=dark] .colab-df-convert {\n",
              "      background-color: #3B4455;\n",
              "      fill: #D2E3FC;\n",
              "    }\n",
              "\n",
              "    [theme=dark] .colab-df-convert:hover {\n",
              "      background-color: #434B5C;\n",
              "      box-shadow: 0px 1px 3px 1px rgba(0, 0, 0, 0.15);\n",
              "      filter: drop-shadow(0px 1px 2px rgba(0, 0, 0, 0.3));\n",
              "      fill: #FFFFFF;\n",
              "    }\n",
              "  </style>\n",
              "\n",
              "      <script>\n",
              "        const buttonEl =\n",
              "          document.querySelector('#df-15d6da7b-34b1-4114-b0ae-0d430675420e button.colab-df-convert');\n",
              "        buttonEl.style.display =\n",
              "          google.colab.kernel.accessAllowed ? 'block' : 'none';\n",
              "\n",
              "        async function convertToInteractive(key) {\n",
              "          const element = document.querySelector('#df-15d6da7b-34b1-4114-b0ae-0d430675420e');\n",
              "          const dataTable =\n",
              "            await google.colab.kernel.invokeFunction('convertToInteractive',\n",
              "                                                     [key], {});\n",
              "          if (!dataTable) return;\n",
              "\n",
              "          const docLinkHtml = 'Like what you see? Visit the ' +\n",
              "            '<a target=\"_blank\" href=https://colab.research.google.com/notebooks/data_table.ipynb>data table notebook</a>'\n",
              "            + ' to learn more about interactive tables.';\n",
              "          element.innerHTML = '';\n",
              "          dataTable['output_type'] = 'display_data';\n",
              "          await google.colab.output.renderOutput(dataTable, element);\n",
              "          const docLink = document.createElement('div');\n",
              "          docLink.innerHTML = docLinkHtml;\n",
              "          element.appendChild(docLink);\n",
              "        }\n",
              "      </script>\n",
              "    </div>\n",
              "  </div>\n",
              "  "
            ]
          },
          "metadata": {},
          "execution_count": 39
        }
      ]
    },
    {
      "cell_type": "code",
      "source": [
        "kmf.median_survival_time_"
      ],
      "metadata": {
        "colab": {
          "base_uri": "https://localhost:8080/"
        },
        "id": "UuhRsDDYecR1",
        "outputId": "cae5311b-c25a-4d50-c0eb-0edaf7471a89"
      },
      "execution_count": null,
      "outputs": [
        {
          "output_type": "execute_result",
          "data": {
            "text/plain": [
              "inf"
            ]
          },
          "metadata": {},
          "execution_count": 40
        }
      ]
    },
    {
      "cell_type": "markdown",
      "source": [
        "La mediana del tiempo de supervivencia representa el punto en el tiempo en el que en promedio el 50% de los empleados se quedan en la compañía.\n",
        "Con el comando anterior deberiamos obtenerla, sin embargo, en este caso, el comando devuelve *inf*, lo que nos indica que en la curva de supervivencia no  se observa ese punto en nuestros datos."
      ],
      "metadata": {
        "id": "pE38D8gSZTfF"
      }
    },
    {
      "cell_type": "code",
      "source": [
        "#Análisis de Supervivencia Conforme al Salario\n",
        "#Utilizamos los dataframes que ya habiamos separado para calcular la proporción\n",
        "ax = plt.subplot(111)\n",
        "ax = kmf.fit(Group_high['time_spend_company'],Group_high['left'], label = \"ALTO\").plot(ax = ax)\n",
        "ax = kmf.fit(Group_medium['time_spend_company'],Group_medium['left'], label = \"MEDIO\").plot(ax = ax)\n",
        "ax = kmf.fit(Group_low['time_spend_company'],Group_low['left'], label = \"BAJO\").plot(ax = ax)"
      ],
      "metadata": {
        "colab": {
          "base_uri": "https://localhost:8080/",
          "height": 279
        },
        "id": "mgmRcESssj4X",
        "outputId": "6d7fa5e5-e14b-405c-ba7f-b0f2b9691e22"
      },
      "execution_count": null,
      "outputs": [
        {
          "output_type": "display_data",
          "data": {
            "text/plain": [
              "<Figure size 432x288 with 1 Axes>"
            ],
            "image/png": "[encoded data removed]"
          },
          "metadata": {
            "needs_background": "light"
          }
        }
      ]
    },
    {
      "cell_type": "code",
      "source": [
        "kmf.fit(Group_high['time_spend_company'],Group_high['left'], label = \"ALTO\")\n",
        "kmf.survival_function_"
      ],
      "metadata": {
        "colab": {
          "base_uri": "https://localhost:8080/",
          "height": 363
        },
        "id": "RXR_a0ITwzbB",
        "outputId": "c42149ee-09f0-4be4-edd0-0ebe12f66285"
      },
      "execution_count": null,
      "outputs": [
        {
          "output_type": "execute_result",
          "data": {
            "text/plain": [
              "              ALTO\n",
              "timeline          \n",
              "0.0       1.000000\n",
              "2.0       1.000000\n",
              "3.0       0.968579\n",
              "4.0       0.934540\n",
              "5.0       0.854272\n",
              "6.0       0.854272\n",
              "7.0       0.854272\n",
              "8.0       0.854272\n",
              "10.0      0.854272"
            ],
            "text/html": [
              "\n",
              "  <div id=\"df-d9caeea8-3ade-42d7-aaeb-e608e455f3c7\">\n",
              "    <div class=\"colab-df-container\">\n",
              "      <div>\n",
              "<style scoped>\n",
              "    .dataframe tbody tr th:only-of-type {\n",
              "        vertical-align: middle;\n",
              "    }\n",
              "\n",
              "    .dataframe tbody tr th {\n",
              "        vertical-align: top;\n",
              "    }\n",
              "\n",
              "    .dataframe thead th {\n",
              "        text-align: right;\n",
              "    }\n",
              "</style>\n",
              "<table border=\"1\" class=\"dataframe\">\n",
              "  <thead>\n",
              "    <tr style=\"text-align: right;\">\n",
              "      <th></th>\n",
              "      <th>ALTO</th>\n",
              "    </tr>\n",
              "    <tr>\n",
              "      <th>timeline</th>\n",
              "      <th></th>\n",
              "    </tr>\n",
              "  </thead>\n",
              "  <tbody>\n",
              "    <tr>\n",
              "      <th>0.0</th>\n",
              "      <td>1.000000</td>\n",
              "    </tr>\n",
              "    <tr>\n",
              "      <th>2.0</th>\n",
              "      <td>1.000000</td>\n",
              "    </tr>\n",
              "    <tr>\n",
              "      <th>3.0</th>\n",
              "      <td>0.968579</td>\n",
              "    </tr>\n",
              "    <tr>\n",
              "      <th>4.0</th>\n",
              "      <td>0.934540</td>\n",
              "    </tr>\n",
              "    <tr>\n",
              "      <th>5.0</th>\n",
              "      <td>0.854272</td>\n",
              "    </tr>\n",
              "    <tr>\n",
              "      <th>6.0</th>\n",
              "      <td>0.854272</td>\n",
              "    </tr>\n",
              "    <tr>\n",
              "      <th>7.0</th>\n",
              "      <td>0.854272</td>\n",
              "    </tr>\n",
              "    <tr>\n",
              "      <th>8.0</th>\n",
              "      <td>0.854272</td>\n",
              "    </tr>\n",
              "    <tr>\n",
              "      <th>10.0</th>\n",
              "      <td>0.854272</td>\n",
              "    </tr>\n",
              "  </tbody>\n",
              "</table>\n",
              "</div>\n",
              "      <button class=\"colab-df-convert\" onclick=\"convertToInteractive('df-d9caeea8-3ade-42d7-aaeb-e608e455f3c7')\"\n",
              "              title=\"Convert this dataframe to an interactive table.\"\n",
              "              style=\"display:none;\">\n",
              "        \n",
              "  <svg xmlns=\"http://www.w3.org/2000/svg\" height=\"24px\"viewBox=\"0 0 24 24\"\n",
              "       width=\"24px\">\n",
              "    <path d=\"M0 0h24v24H0V0z\" fill=\"none\"/>\n",
              "    <path d=\"M18.56 5.44l.94 2.06.94-2.06 2.06-.94-2.06-.94-.94-2.06-.94 2.06-2.06.94zm-11 1L8.5 8.5l.94-2.06 2.06-.94-2.06-.94L8.5 2.5l-.94 2.06-2.06.94zm10 10l.94 2.06.94-2.06 2.06-.94-2.06-.94-.94-2.06-.94 2.06-2.06.94z\"/><path d=\"M17.41 7.96l-1.37-1.37c-.4-.4-.92-.59-1.43-.59-.52 0-1.04.2-1.43.59L10.3 9.45l-7.72 7.72c-.78.78-.78 2.05 0 2.83L4 21.41c.39.39.9.59 1.41.59.51 0 1.02-.2 1.41-.59l7.78-7.78 2.81-2.81c.8-.78.8-2.07 0-2.86zM5.41 20L4 18.59l7.72-7.72 1.47 1.35L5.41 20z\"/>\n",
              "  </svg>\n",
              "      </button>\n",
              "      \n",
              "  <style>\n",
              "    .colab-df-container {\n",
              "      display:flex;\n",
              "      flex-wrap:wrap;\n",
              "      gap: 12px;\n",
              "    }\n",
              "\n",
              "    .colab-df-convert {\n",
              "      background-color: #E8F0FE;\n",
              "      border: none;\n",
              "      border-radius: 50%;\n",
              "      cursor: pointer;\n",
              "      display: none;\n",
              "      fill: #1967D2;\n",
              "      height: 32px;\n",
              "      padding: 0 0 0 0;\n",
              "      width: 32px;\n",
              "    }\n",
              "\n",
              "    .colab-df-convert:hover {\n",
              "      background-color: #E2EBFA;\n",
              "      box-shadow: 0px 1px 2px rgba(60, 64, 67, 0.3), 0px 1px 3px 1px rgba(60, 64, 67, 0.15);\n",
              "      fill: #174EA6;\n",
              "    }\n",
              "\n",
              "    [theme=dark] .colab-df-convert {\n",
              "      background-color: #3B4455;\n",
              "      fill: #D2E3FC;\n",
              "    }\n",
              "\n",
              "    [theme=dark] .colab-df-convert:hover {\n",
              "      background-color: #434B5C;\n",
              "      box-shadow: 0px 1px 3px 1px rgba(0, 0, 0, 0.15);\n",
              "      filter: drop-shadow(0px 1px 2px rgba(0, 0, 0, 0.3));\n",
              "      fill: #FFFFFF;\n",
              "    }\n",
              "  </style>\n",
              "\n",
              "      <script>\n",
              "        const buttonEl =\n",
              "          document.querySelector('#df-d9caeea8-3ade-42d7-aaeb-e608e455f3c7 button.colab-df-convert');\n",
              "        buttonEl.style.display =\n",
              "          google.colab.kernel.accessAllowed ? 'block' : 'none';\n",
              "\n",
              "        async function convertToInteractive(key) {\n",
              "          const element = document.querySelector('#df-d9caeea8-3ade-42d7-aaeb-e608e455f3c7');\n",
              "          const dataTable =\n",
              "            await google.colab.kernel.invokeFunction('convertToInteractive',\n",
              "                                                     [key], {});\n",
              "          if (!dataTable) return;\n",
              "\n",
              "          const docLinkHtml = 'Like what you see? Visit the ' +\n",
              "            '<a target=\"_blank\" href=https://colab.research.google.com/notebooks/data_table.ipynb>data table notebook</a>'\n",
              "            + ' to learn more about interactive tables.';\n",
              "          element.innerHTML = '';\n",
              "          dataTable['output_type'] = 'display_data';\n",
              "          await google.colab.output.renderOutput(dataTable, element);\n",
              "          const docLink = document.createElement('div');\n",
              "          docLink.innerHTML = docLinkHtml;\n",
              "          element.appendChild(docLink);\n",
              "        }\n",
              "      </script>\n",
              "    </div>\n",
              "  </div>\n",
              "  "
            ]
          },
          "metadata": {},
          "execution_count": 138
        }
      ]
    },
    {
      "cell_type": "code",
      "source": [
        "kmf.fit(Group_medium['time_spend_company'],Group_medium['left'], label = \"MEDIO\")\n",
        "kmf.survival_function_"
      ],
      "metadata": {
        "colab": {
          "base_uri": "https://localhost:8080/",
          "height": 363
        },
        "id": "OOau2PszxK8r",
        "outputId": "ac9e0ece-dc7f-4a06-bc70-19dea795f796"
      },
      "execution_count": null,
      "outputs": [
        {
          "output_type": "execute_result",
          "data": {
            "text/plain": [
              "             MEDIO\n",
              "timeline          \n",
              "0.0       1.000000\n",
              "2.0       0.996389\n",
              "3.0       0.915086\n",
              "4.0       0.815701\n",
              "5.0       0.631175\n",
              "6.0       0.566041\n",
              "7.0       0.566041\n",
              "8.0       0.566041\n",
              "10.0      0.566041"
            ],
            "text/html": [
              "\n",
              "  <div id=\"df-3a5fe546-41ba-4261-9605-713a814583a3\">\n",
              "    <div class=\"colab-df-container\">\n",
              "      <div>\n",
              "<style scoped>\n",
              "    .dataframe tbody tr th:only-of-type {\n",
              "        vertical-align: middle;\n",
              "    }\n",
              "\n",
              "    .dataframe tbody tr th {\n",
              "        vertical-align: top;\n",
              "    }\n",
              "\n",
              "    .dataframe thead th {\n",
              "        text-align: right;\n",
              "    }\n",
              "</style>\n",
              "<table border=\"1\" class=\"dataframe\">\n",
              "  <thead>\n",
              "    <tr style=\"text-align: right;\">\n",
              "      <th></th>\n",
              "      <th>MEDIO</th>\n",
              "    </tr>\n",
              "    <tr>\n",
              "      <th>timeline</th>\n",
              "      <th></th>\n",
              "    </tr>\n",
              "  </thead>\n",
              "  <tbody>\n",
              "    <tr>\n",
              "      <th>0.0</th>\n",
              "      <td>1.000000</td>\n",
              "    </tr>\n",
              "    <tr>\n",
              "      <th>2.0</th>\n",
              "      <td>0.996389</td>\n",
              "    </tr>\n",
              "    <tr>\n",
              "      <th>3.0</th>\n",
              "      <td>0.915086</td>\n",
              "    </tr>\n",
              "    <tr>\n",
              "      <th>4.0</th>\n",
              "      <td>0.815701</td>\n",
              "    </tr>\n",
              "    <tr>\n",
              "      <th>5.0</th>\n",
              "      <td>0.631175</td>\n",
              "    </tr>\n",
              "    <tr>\n",
              "      <th>6.0</th>\n",
              "      <td>0.566041</td>\n",
              "    </tr>\n",
              "    <tr>\n",
              "      <th>7.0</th>\n",
              "      <td>0.566041</td>\n",
              "    </tr>\n",
              "    <tr>\n",
              "      <th>8.0</th>\n",
              "      <td>0.566041</td>\n",
              "    </tr>\n",
              "    <tr>\n",
              "      <th>10.0</th>\n",
              "      <td>0.566041</td>\n",
              "    </tr>\n",
              "  </tbody>\n",
              "</table>\n",
              "</div>\n",
              "      <button class=\"colab-df-convert\" onclick=\"convertToInteractive('df-3a5fe546-41ba-4261-9605-713a814583a3')\"\n",
              "              title=\"Convert this dataframe to an interactive table.\"\n",
              "              style=\"display:none;\">\n",
              "        \n",
              "  <svg xmlns=\"http://www.w3.org/2000/svg\" height=\"24px\"viewBox=\"0 0 24 24\"\n",
              "       width=\"24px\">\n",
              "    <path d=\"M0 0h24v24H0V0z\" fill=\"none\"/>\n",
              "    <path d=\"M18.56 5.44l.94 2.06.94-2.06 2.06-.94-2.06-.94-.94-2.06-.94 2.06-2.06.94zm-11 1L8.5 8.5l.94-2.06 2.06-.94-2.06-.94L8.5 2.5l-.94 2.06-2.06.94zm10 10l.94 2.06.94-2.06 2.06-.94-2.06-.94-.94-2.06-.94 2.06-2.06.94z\"/><path d=\"M17.41 7.96l-1.37-1.37c-.4-.4-.92-.59-1.43-.59-.52 0-1.04.2-1.43.59L10.3 9.45l-7.72 7.72c-.78.78-.78 2.05 0 2.83L4 21.41c.39.39.9.59 1.41.59.51 0 1.02-.2 1.41-.59l7.78-7.78 2.81-2.81c.8-.78.8-2.07 0-2.86zM5.41 20L4 18.59l7.72-7.72 1.47 1.35L5.41 20z\"/>\n",
              "  </svg>\n",
              "      </button>\n",
              "      \n",
              "  <style>\n",
              "    .colab-df-container {\n",
              "      display:flex;\n",
              "      flex-wrap:wrap;\n",
              "      gap: 12px;\n",
              "    }\n",
              "\n",
              "    .colab-df-convert {\n",
              "      background-color: #E8F0FE;\n",
              "      border: none;\n",
              "      border-radius: 50%;\n",
              "      cursor: pointer;\n",
              "      display: none;\n",
              "      fill: #1967D2;\n",
              "      height: 32px;\n",
              "      padding: 0 0 0 0;\n",
              "      width: 32px;\n",
              "    }\n",
              "\n",
              "    .colab-df-convert:hover {\n",
              "      background-color: #E2EBFA;\n",
              "      box-shadow: 0px 1px 2px rgba(60, 64, 67, 0.3), 0px 1px 3px 1px rgba(60, 64, 67, 0.15);\n",
              "      fill: #174EA6;\n",
              "    }\n",
              "\n",
              "    [theme=dark] .colab-df-convert {\n",
              "      background-color: #3B4455;\n",
              "      fill: #D2E3FC;\n",
              "    }\n",
              "\n",
              "    [theme=dark] .colab-df-convert:hover {\n",
              "      background-color: #434B5C;\n",
              "      box-shadow: 0px 1px 3px 1px rgba(0, 0, 0, 0.15);\n",
              "      filter: drop-shadow(0px 1px 2px rgba(0, 0, 0, 0.3));\n",
              "      fill: #FFFFFF;\n",
              "    }\n",
              "  </style>\n",
              "\n",
              "      <script>\n",
              "        const buttonEl =\n",
              "          document.querySelector('#df-3a5fe546-41ba-4261-9605-713a814583a3 button.colab-df-convert');\n",
              "        buttonEl.style.display =\n",
              "          google.colab.kernel.accessAllowed ? 'block' : 'none';\n",
              "\n",
              "        async function convertToInteractive(key) {\n",
              "          const element = document.querySelector('#df-3a5fe546-41ba-4261-9605-713a814583a3');\n",
              "          const dataTable =\n",
              "            await google.colab.kernel.invokeFunction('convertToInteractive',\n",
              "                                                     [key], {});\n",
              "          if (!dataTable) return;\n",
              "\n",
              "          const docLinkHtml = 'Like what you see? Visit the ' +\n",
              "            '<a target=\"_blank\" href=https://colab.research.google.com/notebooks/data_table.ipynb>data table notebook</a>'\n",
              "            + ' to learn more about interactive tables.';\n",
              "          element.innerHTML = '';\n",
              "          dataTable['output_type'] = 'display_data';\n",
              "          await google.colab.output.renderOutput(dataTable, element);\n",
              "          const docLink = document.createElement('div');\n",
              "          docLink.innerHTML = docLinkHtml;\n",
              "          element.appendChild(docLink);\n",
              "        }\n",
              "      </script>\n",
              "    </div>\n",
              "  </div>\n",
              "  "
            ]
          },
          "metadata": {},
          "execution_count": 139
        }
      ]
    },
    {
      "cell_type": "code",
      "source": [
        "kmf.fit(Group_low['time_spend_company'],Group_low['left'], label = \"BAJO\")\n",
        "kmf.survival_function_"
      ],
      "metadata": {
        "colab": {
          "base_uri": "https://localhost:8080/",
          "height": 363
        },
        "outputId": "6835903f-198f-4b10-b090-7040a5bd4541",
        "id": "YaiUl81wxXn8"
      },
      "execution_count": null,
      "outputs": [
        {
          "output_type": "execute_result",
          "data": {
            "text/plain": [
              "              BAJO\n",
              "timeline          \n",
              "0.0       1.000000\n",
              "2.0       0.997909\n",
              "3.0       0.877685\n",
              "4.0       0.737027\n",
              "5.0       0.503336\n",
              "6.0       0.394900\n",
              "7.0       0.394900\n",
              "8.0       0.394900\n",
              "10.0      0.394900"
            ],
            "text/html": [
              "\n",
              "  <div id=\"df-54a22d04-d7a4-449f-aa45-b83542d356e2\">\n",
              "    <div class=\"colab-df-container\">\n",
              "      <div>\n",
              "<style scoped>\n",
              "    .dataframe tbody tr th:only-of-type {\n",
              "        vertical-align: middle;\n",
              "    }\n",
              "\n",
              "    .dataframe tbody tr th {\n",
              "        vertical-align: top;\n",
              "    }\n",
              "\n",
              "    .dataframe thead th {\n",
              "        text-align: right;\n",
              "    }\n",
              "</style>\n",
              "<table border=\"1\" class=\"dataframe\">\n",
              "  <thead>\n",
              "    <tr style=\"text-align: right;\">\n",
              "      <th></th>\n",
              "      <th>BAJO</th>\n",
              "    </tr>\n",
              "    <tr>\n",
              "      <th>timeline</th>\n",
              "      <th></th>\n",
              "    </tr>\n",
              "  </thead>\n",
              "  <tbody>\n",
              "    <tr>\n",
              "      <th>0.0</th>\n",
              "      <td>1.000000</td>\n",
              "    </tr>\n",
              "    <tr>\n",
              "      <th>2.0</th>\n",
              "      <td>0.997909</td>\n",
              "    </tr>\n",
              "    <tr>\n",
              "      <th>3.0</th>\n",
              "      <td>0.877685</td>\n",
              "    </tr>\n",
              "    <tr>\n",
              "      <th>4.0</th>\n",
              "      <td>0.737027</td>\n",
              "    </tr>\n",
              "    <tr>\n",
              "      <th>5.0</th>\n",
              "      <td>0.503336</td>\n",
              "    </tr>\n",
              "    <tr>\n",
              "      <th>6.0</th>\n",
              "      <td>0.394900</td>\n",
              "    </tr>\n",
              "    <tr>\n",
              "      <th>7.0</th>\n",
              "      <td>0.394900</td>\n",
              "    </tr>\n",
              "    <tr>\n",
              "      <th>8.0</th>\n",
              "      <td>0.394900</td>\n",
              "    </tr>\n",
              "    <tr>\n",
              "      <th>10.0</th>\n",
              "      <td>0.394900</td>\n",
              "    </tr>\n",
              "  </tbody>\n",
              "</table>\n",
              "</div>\n",
              "      <button class=\"colab-df-convert\" onclick=\"convertToInteractive('df-54a22d04-d7a4-449f-aa45-b83542d356e2')\"\n",
              "              title=\"Convert this dataframe to an interactive table.\"\n",
              "              style=\"display:none;\">\n",
              "        \n",
              "  <svg xmlns=\"http://www.w3.org/2000/svg\" height=\"24px\"viewBox=\"0 0 24 24\"\n",
              "       width=\"24px\">\n",
              "    <path d=\"M0 0h24v24H0V0z\" fill=\"none\"/>\n",
              "    <path d=\"M18.56 5.44l.94 2.06.94-2.06 2.06-.94-2.06-.94-.94-2.06-.94 2.06-2.06.94zm-11 1L8.5 8.5l.94-2.06 2.06-.94-2.06-.94L8.5 2.5l-.94 2.06-2.06.94zm10 10l.94 2.06.94-2.06 2.06-.94-2.06-.94-.94-2.06-.94 2.06-2.06.94z\"/><path d=\"M17.41 7.96l-1.37-1.37c-.4-.4-.92-.59-1.43-.59-.52 0-1.04.2-1.43.59L10.3 9.45l-7.72 7.72c-.78.78-.78 2.05 0 2.83L4 21.41c.39.39.9.59 1.41.59.51 0 1.02-.2 1.41-.59l7.78-7.78 2.81-2.81c.8-.78.8-2.07 0-2.86zM5.41 20L4 18.59l7.72-7.72 1.47 1.35L5.41 20z\"/>\n",
              "  </svg>\n",
              "      </button>\n",
              "      \n",
              "  <style>\n",
              "    .colab-df-container {\n",
              "      display:flex;\n",
              "      flex-wrap:wrap;\n",
              "      gap: 12px;\n",
              "    }\n",
              "\n",
              "    .colab-df-convert {\n",
              "      background-color: #E8F0FE;\n",
              "      border: none;\n",
              "      border-radius: 50%;\n",
              "      cursor: pointer;\n",
              "      display: none;\n",
              "      fill: #1967D2;\n",
              "      height: 32px;\n",
              "      padding: 0 0 0 0;\n",
              "      width: 32px;\n",
              "    }\n",
              "\n",
              "    .colab-df-convert:hover {\n",
              "      background-color: #E2EBFA;\n",
              "      box-shadow: 0px 1px 2px rgba(60, 64, 67, 0.3), 0px 1px 3px 1px rgba(60, 64, 67, 0.15);\n",
              "      fill: #174EA6;\n",
              "    }\n",
              "\n",
              "    [theme=dark] .colab-df-convert {\n",
              "      background-color: #3B4455;\n",
              "      fill: #D2E3FC;\n",
              "    }\n",
              "\n",
              "    [theme=dark] .colab-df-convert:hover {\n",
              "      background-color: #434B5C;\n",
              "      box-shadow: 0px 1px 3px 1px rgba(0, 0, 0, 0.15);\n",
              "      filter: drop-shadow(0px 1px 2px rgba(0, 0, 0, 0.3));\n",
              "      fill: #FFFFFF;\n",
              "    }\n",
              "  </style>\n",
              "\n",
              "      <script>\n",
              "        const buttonEl =\n",
              "          document.querySelector('#df-54a22d04-d7a4-449f-aa45-b83542d356e2 button.colab-df-convert');\n",
              "        buttonEl.style.display =\n",
              "          google.colab.kernel.accessAllowed ? 'block' : 'none';\n",
              "\n",
              "        async function convertToInteractive(key) {\n",
              "          const element = document.querySelector('#df-54a22d04-d7a4-449f-aa45-b83542d356e2');\n",
              "          const dataTable =\n",
              "            await google.colab.kernel.invokeFunction('convertToInteractive',\n",
              "                                                     [key], {});\n",
              "          if (!dataTable) return;\n",
              "\n",
              "          const docLinkHtml = 'Like what you see? Visit the ' +\n",
              "            '<a target=\"_blank\" href=https://colab.research.google.com/notebooks/data_table.ipynb>data table notebook</a>'\n",
              "            + ' to learn more about interactive tables.';\n",
              "          element.innerHTML = '';\n",
              "          dataTable['output_type'] = 'display_data';\n",
              "          await google.colab.output.renderOutput(dataTable, element);\n",
              "          const docLink = document.createElement('div');\n",
              "          docLink.innerHTML = docLinkHtml;\n",
              "          element.appendChild(docLink);\n",
              "        }\n",
              "      </script>\n",
              "    </div>\n",
              "  </div>\n",
              "  "
            ]
          },
          "metadata": {},
          "execution_count": 140
        }
      ]
    },
    {
      "cell_type": "code",
      "source": [
        "#Verificamos si las funciones de supervivencia de Alto, Medio, Bajo son iguales o distinas aplicando el long-rank test\n",
        "from lifelines.statistics import multivariate_logrank_test"
      ],
      "metadata": {
        "id": "ZVGiZ0FyZ83W"
      },
      "execution_count": null,
      "outputs": []
    },
    {
      "cell_type": "code",
      "source": [
        "result = multivariate_logrank_test(attrition['time_spend_company'],attrition['salary'],attrition['left'])"
      ],
      "metadata": {
        "id": "_sNuaLDga_jq"
      },
      "execution_count": null,
      "outputs": []
    },
    {
      "cell_type": "markdown",
      "source": [
        "**PRUEBA DE LOG-RANK**  \n",
        "$H_0$ : Las curvas de sobrevivencia son iguales.  \n",
        "$H_1$ : Las curvas de sobrevivencia son distintas."
      ],
      "metadata": {
        "id": "vbNQPM-Mi12u"
      }
    },
    {
      "cell_type": "code",
      "source": [
        "EP = result.test_statistic\n",
        "print(f'El estadistico de prueba es {round(EP, 2)}')"
      ],
      "metadata": {
        "colab": {
          "base_uri": "https://localhost:8080/"
        },
        "id": "ZiKOQUbgfTcX",
        "outputId": "07517bb8-ad5c-4109-d2e1-68d3f4c50f09"
      },
      "execution_count": null,
      "outputs": [
        {
          "output_type": "stream",
          "name": "stdout",
          "text": [
            "El estadistico de prueba es 194.64\n"
          ]
        }
      ]
    },
    {
      "cell_type": "code",
      "source": [
        "pvalor = result.p_value\n",
        "print(f'El valor del p-valor es {pvalor}')"
      ],
      "metadata": {
        "colab": {
          "base_uri": "https://localhost:8080/"
        },
        "id": "QkHkNG4lgfk7",
        "outputId": "7776f149-fe87-4d89-cd47-ee09612628f0"
      },
      "execution_count": null,
      "outputs": [
        {
          "output_type": "stream",
          "name": "stdout",
          "text": [
            "El valor del p-valor es 5.43858326321036e-43\n"
          ]
        }
      ]
    },
    {
      "cell_type": "code",
      "source": [
        "result.print_summary()"
      ],
      "metadata": {
        "colab": {
          "base_uri": "https://localhost:8080/",
          "height": 206
        },
        "id": "zUEGxKqAgknQ",
        "outputId": "8ccf49a3-67fc-41a3-d401-104a8cc51ab5"
      },
      "execution_count": null,
      "outputs": [
        {
          "output_type": "display_data",
          "data": {
            "text/plain": [
              "<lifelines.StatisticalResult: multivariate_logrank_test>\n",
              "               t_0 = -1\n",
              " null_distribution = chi squared\n",
              "degrees_of_freedom = 2\n",
              "         test_name = multivariate_logrank_test\n",
              "\n",
              "---\n",
              " test_statistic      p  -log2(p)\n",
              "         194.64 <0.005    140.40"
            ],
            "text/html": [
              "<div>\n",
              "<style scoped>\n",
              "    .dataframe tbody tr th:only-of-type {\n",
              "        vertical-align: middle;\n",
              "    }\n",
              "\n",
              "    .dataframe tbody tr th {\n",
              "        vertical-align: top;\n",
              "    }\n",
              "\n",
              "    .dataframe thead th {\n",
              "        text-align: right;\n",
              "    }\n",
              "</style>\n",
              "<table border=\"1\" class=\"dataframe\">\n",
              "  <tbody>\n",
              "    <tr>\n",
              "      <th>t_0</th>\n",
              "      <td>-1</td>\n",
              "    </tr>\n",
              "    <tr>\n",
              "      <th>null_distribution</th>\n",
              "      <td>chi squared</td>\n",
              "    </tr>\n",
              "    <tr>\n",
              "      <th>degrees_of_freedom</th>\n",
              "      <td>2</td>\n",
              "    </tr>\n",
              "    <tr>\n",
              "      <th>test_name</th>\n",
              "      <td>multivariate_logrank_test</td>\n",
              "    </tr>\n",
              "  </tbody>\n",
              "</table>\n",
              "</div><table border=\"1\" class=\"dataframe\">\n",
              "  <thead>\n",
              "    <tr style=\"text-align: right;\">\n",
              "      <th></th>\n",
              "      <th>test_statistic</th>\n",
              "      <th>p</th>\n",
              "      <th>-log2(p)</th>\n",
              "    </tr>\n",
              "  </thead>\n",
              "  <tbody>\n",
              "    <tr>\n",
              "      <th>0</th>\n",
              "      <td>194.64</td>\n",
              "      <td>&lt;0.005</td>\n",
              "      <td>140.40</td>\n",
              "    </tr>\n",
              "  </tbody>\n",
              "</table>"
            ],
            "text/latex": "\\begin{tabular}{lrrr}\n\\toprule\n{} &  test\\_statistic &             p &    -log2(p) \\\\\n\\midrule\n0 &      194.635281 &  5.438583e-43 &  140.399677 \\\\\n\\bottomrule\n\\end{tabular}\n"
          },
          "metadata": {}
        }
      ]
    },
    {
      "cell_type": "markdown",
      "source": [
        "Tenemos un P-valor < 5% y un estadístico de prueba igual a 194.64, lo que es estadisticamente significativo, por lo que tenemos suficiente evidencia para rechazar la hipótesis nula y conlcuir que nuestras funciones de supervivencia son distintas.  \n",
        "\n",
        "Esto nos da una fuerte evidencia de que la remuneración que recibe un empleado influye significativamente en que este permanezca la empresa.  "
      ],
      "metadata": {
        "id": "ioOd6ZTWnhQN"
      }
    },
    {
      "cell_type": "markdown",
      "source": [
        "## **MODELO DE COX**"
      ],
      "metadata": {
        "id": "BIEi_fvto-Vi"
      }
    },
    {
      "cell_type": "code",
      "source": [
        "from lifelines import CoxPHFitterm"
      ],
      "metadata": {
        "id": "oV7lHqiNpopm"
      },
      "execution_count": null,
      "outputs": []
    },
    {
      "cell_type": "code",
      "source": [
        "cph = CoxPHFitter()"
      ],
      "metadata": {
        "id": "sgX4AKkCpu4V"
      },
      "execution_count": null,
      "outputs": []
    },
    {
      "cell_type": "code",
      "source": [
        "cph.fit(attrition, duration_col = 'time_spend_company', event_col = 'left')"
      ],
      "metadata": {
        "colab": {
          "base_uri": "https://localhost:8080/"
        },
        "id": "GlIMkO4_p2YS",
        "outputId": "4da917a1-adef-4786-d5fb-4a99b29b0fec"
      },
      "execution_count": null,
      "outputs": [
        {
          "output_type": "execute_result",
          "data": {
            "text/plain": [
              "<lifelines.CoxPHFitter: fitted with 11991 total observations, 10000 right-censored observations>"
            ]
          },
          "metadata": {},
          "execution_count": 56
        }
      ]
    },
    {
      "cell_type": "code",
      "source": [
        "cph.print_summary()"
      ],
      "metadata": {
        "colab": {
          "base_uri": "https://localhost:8080/",
          "height": 694
        },
        "id": "x-c94im_qJqN",
        "outputId": "e8d9d58d-3ed3-4720-922b-42a6a3aa3c02"
      },
      "execution_count": null,
      "outputs": [
        {
          "output_type": "display_data",
          "data": {
            "text/plain": [
              "<lifelines.CoxPHFitter: fitted with 11991 total observations, 10000 right-censored observations>\n",
              "             duration col = 'time_spend_company'\n",
              "                event col = 'left'\n",
              "      baseline estimation = breslow\n",
              "   number of observations = 11991\n",
              "number of events observed = 1991\n",
              "   partial log-likelihood = -15996.31\n",
              "         time fit was run = 2022-05-23 20:42:51 UTC\n",
              "\n",
              "---\n",
              "                        coef  exp(coef)   se(coef)   coef lower 95%   coef upper 95%  exp(coef) lower 95%  exp(coef) upper 95%\n",
              "covariate                                                                                                                     \n",
              "satisfaction_level     -2.44       0.09       0.09            -2.61            -2.26                 0.07                 0.10\n",
              "last_evaluation        -0.04       0.96       0.14            -0.31             0.23                 0.73                 1.26\n",
              "number_projects        -0.29       0.75       0.02            -0.33            -0.25                 0.72                 0.78\n",
              "average_montly_hours    0.00       1.00       0.00             0.00             0.00                 1.00                 1.00\n",
              "work_accident          -1.21       0.30       0.10            -1.41            -1.02                 0.24                 0.36\n",
              "promotion_last_5years  -1.65       0.19       0.35            -2.35            -0.96                 0.10                 0.38\n",
              "department              0.03       1.03       0.01             0.01             0.04                 1.01                 1.04\n",
              "salary                  0.01       1.01       0.04            -0.06             0.08                 0.94                 1.08\n",
              "\n",
              "                        cmp to      z      p   -log2(p)\n",
              "covariate                                              \n",
              "satisfaction_level        0.00 -26.96 <0.005     529.30\n",
              "last_evaluation           0.00  -0.28   0.78       0.36\n",
              "number_projects           0.00 -14.82 <0.005     162.60\n",
              "average_montly_hours      0.00   3.88 <0.005      13.23\n",
              "work_accident             0.00 -12.07 <0.005     109.06\n",
              "promotion_last_5years     0.00  -4.66 <0.005      18.28\n",
              "department                0.00   3.51 <0.005      11.11\n",
              "salary                    0.00   0.21   0.83       0.27\n",
              "---\n",
              "Concordance = 0.85\n",
              "Partial AIC = 32008.62\n",
              "log-likelihood ratio test = 1136.43 on 8 df\n",
              "-log2(p) of ll-ratio test = 794.89"
            ],
            "text/html": [
              "<div>\n",
              "<style scoped>\n",
              "    .dataframe tbody tr th:only-of-type {\n",
              "        vertical-align: middle;\n",
              "    }\n",
              "\n",
              "    .dataframe tbody tr th {\n",
              "        vertical-align: top;\n",
              "    }\n",
              "\n",
              "    .dataframe thead th {\n",
              "        text-align: right;\n",
              "    }\n",
              "</style>\n",
              "<table border=\"1\" class=\"dataframe\">\n",
              "  <tbody>\n",
              "    <tr>\n",
              "      <th>model</th>\n",
              "      <td>lifelines.CoxPHFitter</td>\n",
              "    </tr>\n",
              "    <tr>\n",
              "      <th>duration col</th>\n",
              "      <td>'time_spend_company'</td>\n",
              "    </tr>\n",
              "    <tr>\n",
              "      <th>event col</th>\n",
              "      <td>'left'</td>\n",
              "    </tr>\n",
              "    <tr>\n",
              "      <th>baseline estimation</th>\n",
              "      <td>breslow</td>\n",
              "    </tr>\n",
              "    <tr>\n",
              "      <th>number of observations</th>\n",
              "      <td>11991</td>\n",
              "    </tr>\n",
              "    <tr>\n",
              "      <th>number of events observed</th>\n",
              "      <td>1991</td>\n",
              "    </tr>\n",
              "    <tr>\n",
              "      <th>partial log-likelihood</th>\n",
              "      <td>-15996.31</td>\n",
              "    </tr>\n",
              "    <tr>\n",
              "      <th>time fit was run</th>\n",
              "      <td>2022-05-23 20:42:51 UTC</td>\n",
              "    </tr>\n",
              "  </tbody>\n",
              "</table>\n",
              "</div><table border=\"1\" class=\"dataframe\">\n",
              "  <thead>\n",
              "    <tr style=\"text-align: right;\">\n",
              "      <th style=\"min-width: 12px;\"></th>\n",
              "      <th style=\"min-width: 12px;\">coef</th>\n",
              "      <th style=\"min-width: 12px;\">exp(coef)</th>\n",
              "      <th style=\"min-width: 12px;\">se(coef)</th>\n",
              "      <th style=\"min-width: 12px;\">coef lower 95%</th>\n",
              "      <th style=\"min-width: 12px;\">coef upper 95%</th>\n",
              "      <th style=\"min-width: 12px;\">exp(coef) lower 95%</th>\n",
              "      <th style=\"min-width: 12px;\">exp(coef) upper 95%</th>\n",
              "      <th style=\"min-width: 12px;\">cmp to</th>\n",
              "      <th style=\"min-width: 12px;\">z</th>\n",
              "      <th style=\"min-width: 12px;\">p</th>\n",
              "      <th style=\"min-width: 12px;\">-log2(p)</th>\n",
              "    </tr>\n",
              "  </thead>\n",
              "  <tbody>\n",
              "    <tr>\n",
              "      <th>satisfaction_level</th>\n",
              "      <td>-2.44</td>\n",
              "      <td>0.09</td>\n",
              "      <td>0.09</td>\n",
              "      <td>-2.61</td>\n",
              "      <td>-2.26</td>\n",
              "      <td>0.07</td>\n",
              "      <td>0.10</td>\n",
              "      <td>0.00</td>\n",
              "      <td>-26.96</td>\n",
              "      <td>&lt;0.005</td>\n",
              "      <td>529.30</td>\n",
              "    </tr>\n",
              "    <tr>\n",
              "      <th>last_evaluation</th>\n",
              "      <td>-0.04</td>\n",
              "      <td>0.96</td>\n",
              "      <td>0.14</td>\n",
              "      <td>-0.31</td>\n",
              "      <td>0.23</td>\n",
              "      <td>0.73</td>\n",
              "      <td>1.26</td>\n",
              "      <td>0.00</td>\n",
              "      <td>-0.28</td>\n",
              "      <td>0.78</td>\n",
              "      <td>0.36</td>\n",
              "    </tr>\n",
              "    <tr>\n",
              "      <th>number_projects</th>\n",
              "      <td>-0.29</td>\n",
              "      <td>0.75</td>\n",
              "      <td>0.02</td>\n",
              "      <td>-0.33</td>\n",
              "      <td>-0.25</td>\n",
              "      <td>0.72</td>\n",
              "      <td>0.78</td>\n",
              "      <td>0.00</td>\n",
              "      <td>-14.82</td>\n",
              "      <td>&lt;0.005</td>\n",
              "      <td>162.60</td>\n",
              "    </tr>\n",
              "    <tr>\n",
              "      <th>average_montly_hours</th>\n",
              "      <td>0.00</td>\n",
              "      <td>1.00</td>\n",
              "      <td>0.00</td>\n",
              "      <td>0.00</td>\n",
              "      <td>0.00</td>\n",
              "      <td>1.00</td>\n",
              "      <td>1.00</td>\n",
              "      <td>0.00</td>\n",
              "      <td>3.88</td>\n",
              "      <td>&lt;0.005</td>\n",
              "      <td>13.23</td>\n",
              "    </tr>\n",
              "    <tr>\n",
              "      <th>work_accident</th>\n",
              "      <td>-1.21</td>\n",
              "      <td>0.30</td>\n",
              "      <td>0.10</td>\n",
              "      <td>-1.41</td>\n",
              "      <td>-1.02</td>\n",
              "      <td>0.24</td>\n",
              "      <td>0.36</td>\n",
              "      <td>0.00</td>\n",
              "      <td>-12.07</td>\n",
              "      <td>&lt;0.005</td>\n",
              "      <td>109.06</td>\n",
              "    </tr>\n",
              "    <tr>\n",
              "      <th>promotion_last_5years</th>\n",
              "      <td>-1.65</td>\n",
              "      <td>0.19</td>\n",
              "      <td>0.35</td>\n",
              "      <td>-2.35</td>\n",
              "      <td>-0.96</td>\n",
              "      <td>0.10</td>\n",
              "      <td>0.38</td>\n",
              "      <td>0.00</td>\n",
              "      <td>-4.66</td>\n",
              "      <td>&lt;0.005</td>\n",
              "      <td>18.28</td>\n",
              "    </tr>\n",
              "    <tr>\n",
              "      <th>department</th>\n",
              "      <td>0.03</td>\n",
              "      <td>1.03</td>\n",
              "      <td>0.01</td>\n",
              "      <td>0.01</td>\n",
              "      <td>0.04</td>\n",
              "      <td>1.01</td>\n",
              "      <td>1.04</td>\n",
              "      <td>0.00</td>\n",
              "      <td>3.51</td>\n",
              "      <td>&lt;0.005</td>\n",
              "      <td>11.11</td>\n",
              "    </tr>\n",
              "    <tr>\n",
              "      <th>salary</th>\n",
              "      <td>0.01</td>\n",
              "      <td>1.01</td>\n",
              "      <td>0.04</td>\n",
              "      <td>-0.06</td>\n",
              "      <td>0.08</td>\n",
              "      <td>0.94</td>\n",
              "      <td>1.08</td>\n",
              "      <td>0.00</td>\n",
              "      <td>0.21</td>\n",
              "      <td>0.83</td>\n",
              "      <td>0.27</td>\n",
              "    </tr>\n",
              "  </tbody>\n",
              "</table><br><div>\n",
              "<style scoped>\n",
              "    .dataframe tbody tr th:only-of-type {\n",
              "        vertical-align: middle;\n",
              "    }\n",
              "\n",
              "    .dataframe tbody tr th {\n",
              "        vertical-align: top;\n",
              "    }\n",
              "\n",
              "    .dataframe thead th {\n",
              "        text-align: right;\n",
              "    }\n",
              "</style>\n",
              "<table border=\"1\" class=\"dataframe\">\n",
              "  <tbody>\n",
              "    <tr>\n",
              "      <th>Concordance</th>\n",
              "      <td>0.85</td>\n",
              "    </tr>\n",
              "    <tr>\n",
              "      <th>Partial AIC</th>\n",
              "      <td>32008.62</td>\n",
              "    </tr>\n",
              "    <tr>\n",
              "      <th>log-likelihood ratio test</th>\n",
              "      <td>1136.43 on 8 df</td>\n",
              "    </tr>\n",
              "    <tr>\n",
              "      <th>-log2(p) of ll-ratio test</th>\n",
              "      <td>794.89</td>\n",
              "    </tr>\n",
              "  </tbody>\n",
              "</table>\n",
              "</div>"
            ],
            "text/latex": "\\begin{tabular}{lrrrrrrrrrrr}\n\\toprule\n{} &  coef &  exp(coef) &  se(coef) &  coef lower 95\\% &  coef upper 95\\% &  exp(coef) lower 95\\% &  exp(coef) upper 95\\% &  cmp to &      z &    p &  -log2(p) \\\\\ncovariate             &       &            &           &                 &                 &                      &                      &         &        &      &           \\\\\n\\midrule\nsatisfaction\\_level    & -2.44 &       0.09 &      0.09 &           -2.61 &           -2.26 &                 0.07 &                 0.10 &    0.00 & -26.96 & 0.00 &    529.30 \\\\\nlast\\_evaluation       & -0.04 &       0.96 &      0.14 &           -0.31 &            0.23 &                 0.73 &                 1.26 &    0.00 &  -0.28 & 0.78 &      0.36 \\\\\nnumber\\_projects       & -0.29 &       0.75 &      0.02 &           -0.33 &           -0.25 &                 0.72 &                 0.78 &    0.00 & -14.82 & 0.00 &    162.60 \\\\\naverage\\_montly\\_hours  &  0.00 &       1.00 &      0.00 &            0.00 &            0.00 &                 1.00 &                 1.00 &    0.00 &   3.88 & 0.00 &     13.23 \\\\\nwork\\_accident         & -1.21 &       0.30 &      0.10 &           -1.41 &           -1.02 &                 0.24 &                 0.36 &    0.00 & -12.07 & 0.00 &    109.06 \\\\\npromotion\\_last\\_5years & -1.65 &       0.19 &      0.35 &           -2.35 &           -0.96 &                 0.10 &                 0.38 &    0.00 &  -4.66 & 0.00 &     18.28 \\\\\ndepartment            &  0.03 &       1.03 &      0.01 &            0.01 &            0.04 &                 1.01 &                 1.04 &    0.00 &   3.51 & 0.00 &     11.11 \\\\\nsalary                &  0.01 &       1.01 &      0.04 &           -0.06 &            0.08 &                 0.94 &                 1.08 &    0.00 &   0.21 & 0.83 &      0.27 \\\\\n\\bottomrule\n\\end{tabular}\n"
          },
          "metadata": {}
        }
      ]
    },
    {
      "cell_type": "code",
      "source": [
        "cph.plot() "
      ],
      "metadata": {
        "colab": {
          "base_uri": "https://localhost:8080/",
          "height": 296
        },
        "id": "LOs308OaqucP",
        "outputId": "c639e28e-c343-49ab-b727-0c872c4ca7b6"
      },
      "execution_count": null,
      "outputs": [
        {
          "output_type": "execute_result",
          "data": {
            "text/plain": [
              "<matplotlib.axes._subplots.AxesSubplot at 0x7f0bdd52e210>"
            ]
          },
          "metadata": {},
          "execution_count": 58
        },
        {
          "output_type": "display_data",
          "data": {
            "text/plain": [
              "<Figure size 432x288 with 1 Axes>"
            ],
            "image/png": "[encoded data removed]"
          },
          "metadata": {
            "needs_background": "light"
          }
        }
      ]
    },
    {
      "cell_type": "markdown",
      "source": [
        "##**INTERPRETACIÓN**"
      ],
      "metadata": {
        "id": "azJn6lNDsZsc"
      }
    },
    {
      "cell_type": "markdown",
      "source": [
        "|**VARIABLE**|**P-VALOR**|**COEFICIENTE**|**APORTACIÓN**|\n",
        "|-------|-------|-------|-------|\n",
        "|satisfaction_level|<0.005|-2.44|Significativa. El nivel de satisfacción disminuye el riesgo de abandonar la compañía|\n",
        "|last_evaluation|0.78|-0.04|No significativa|\n",
        "|number_projects|<0.005|-0.29|Significativa. El número de proyectos disminuye el riesgo de abandonar la compañía|\n",
        "|average_montly_hours|<0.005|0.00|Significativa. El promedio de horas trabajadas por mes aumenta el riesgo de abandonar la compañía|\n",
        "|work_accident|<0.005|-1.21|Significativa. El sufrir un accidente de trabajo afecta en el riesgo de abandonar la compañía| \n",
        "|promotion_last_5years|<0.005|-1.65|Significativa. Haber sido promovido en los últimos 5 años disminuye el riesgo de abandonar la compañía|\n",
        "|department|<0.005|0.03|Significativa. El departamento en el que se trabaja puede aumentar el riesgo de abandonar la compañia|\n",
        "|salary|0.83|0.01|No significativa|"
      ],
      "metadata": {
        "id": "BRYX_urzsfH4"
      }
    },
    {
      "cell_type": "markdown",
      "source": [
        "##**RECOMENDACIONES**  \n",
        "La empresa podría evitar la rotación del personal aumentado su nivel de satisfacción siguiendo algunas recomendaciones:  \n",
        "* **Asegurar los beneficios adecuados para los empleados:** Seguro de enfermedad, tiempo libre pagado, seguro de invalidez y de vida, opciones de trabajo flexibles.  \n",
        "* Ofrecer programas de capacitación y desarrollo.\n",
        "* Asegurar el reconocimiento de los empleados.\n",
        "* Mejorar la cultura en el lugar de trabajo.  \n",
        "* Ofrecer mejores remuneraciones."
      ],
      "metadata": {
        "id": "yXk2cl7X7uHm"
      }
    },
    {
      "cell_type": "markdown",
      "source": [
        "#**LIMITACIONES DE LOS MODELOS**\n",
        "Una de las limitaciones de la estimación de Kaplan Meier es que no se puede utilizar para el análisis multivariado, ya que solo estudia el efecto de un factor en el tiempo, otra es que no puede acomodar las variables dependientes del tiempo. Tampoco se puede predecir la estimación adecuada de la magnitud del cambio en el evento.  \n",
        "\n",
        "El Modelo de Cox también tiene sus desventajes entre ellas es que supone que la tasa de riesgo es constante a lo largo del tiempo,es decir, la proporcionalidad de los riesgos de un caso a otro no debe variar en función del tiempo. El último supuesto se conoce como el supuesto de proporcionalidad de los riesgos.\n"
      ],
      "metadata": {
        "id": "fCNVhvnyEDBW"
      }
    }
  ]
}