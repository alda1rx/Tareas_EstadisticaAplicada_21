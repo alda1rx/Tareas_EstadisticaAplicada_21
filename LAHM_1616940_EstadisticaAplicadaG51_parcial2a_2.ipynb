{
  "cells": [
    {
      "cell_type": "markdown",
      "metadata": {
        "id": "view-in-github",
        "colab_type": "text"
      },
      "source": [
        "<a href=\"https://colab.research.google.com/github/alda1rx/Tareas_EstadisticaAplicada_21/blob/main/LAHM_1616940_EstadisticaAplicadaG51_parcial2a_2.ipynb\" target=\"_parent\"><img src=\"https://colab.research.google.com/assets/colab-badge.svg\" alt=\"Open In Colab\"/></a>"
      ]
    },
    {
      "cell_type": "markdown",
      "id": "db739142-952e-403b-a4ad-1e9e738ce50c",
      "metadata": {
        "id": "db739142-952e-403b-a4ad-1e9e738ce50c"
      },
      "source": [
        "**a)**"
      ]
    },
    {
      "cell_type": "code",
      "execution_count": null,
      "id": "8c390451-3b6b-4128-a495-afe5badc5af5",
      "metadata": {
        "id": "8c390451-3b6b-4128-a495-afe5badc5af5"
      },
      "outputs": [],
      "source": [
        "# como siempre comenzamos importando las librerias\n",
        "import numpy as np\n",
        "import pandas as pd \n",
        "import scipy.stats as stats\n",
        "import matplotlib.pyplot as plt\n",
        "from statsmodels.graphics.tsaplots import plot_acf\n",
        "from statsmodels.graphics.tsaplots import plot_pacf\n",
        "from statsmodels.tsa.stattools import acf\n",
        "from statsmodels.tsa.stattools import pacf\n",
        "from statsmodels.tsa.stattools import adfuller\n",
        "from statsmodels.tsa.arima_process import ArmaProcess\n",
        "from statsmodels.tsa.arima.model import ARIMA\n",
        "\n",
        "\n",
        "%matplotlib inline"
      ]
    },
    {
      "cell_type": "code",
      "execution_count": null,
      "id": "3d6c6e80-2580-49cc-85fe-6efe7f29c107",
      "metadata": {
        "id": "3d6c6e80-2580-49cc-85fe-6efe7f29c107"
      },
      "outputs": [],
      "source": [
        "#fijamos tamaño de graficas\n",
        "plt.rcParams['figure.figsize'] = [10, 7.5]"
      ]
    },
    {
      "cell_type": "markdown",
      "id": "fe036e8b-30b1-4fbf-b8b3-f0722d5aea23",
      "metadata": {
        "id": "fe036e8b-30b1-4fbf-b8b3-f0722d5aea23"
      },
      "source": [
        "**b)**"
      ]
    },
    {
      "cell_type": "code",
      "execution_count": null,
      "id": "bf5bac61-6c3c-4705-9ead-ba01381100bc",
      "metadata": {
        "id": "bf5bac61-6c3c-4705-9ead-ba01381100bc",
        "outputId": "f0ed46a0-d5f8-43bc-d5b8-42b2c19b3566"
      },
      "outputs": [
        {
          "data": {
            "text/html": [
              "<div>\n",
              "<style scoped>\n",
              "    .dataframe tbody tr th:only-of-type {\n",
              "        vertical-align: middle;\n",
              "    }\n",
              "\n",
              "    .dataframe tbody tr th {\n",
              "        vertical-align: top;\n",
              "    }\n",
              "\n",
              "    .dataframe thead th {\n",
              "        text-align: right;\n",
              "    }\n",
              "</style>\n",
              "<table border=\"1\" class=\"dataframe\">\n",
              "  <thead>\n",
              "    <tr style=\"text-align: right;\">\n",
              "      <th></th>\n",
              "      <th>IGAE</th>\n",
              "    </tr>\n",
              "    <tr>\n",
              "      <th>Periodo</th>\n",
              "      <th></th>\n",
              "    </tr>\n",
              "  </thead>\n",
              "  <tbody>\n",
              "    <tr>\n",
              "      <th>1993-01-01</th>\n",
              "      <td>60.41</td>\n",
              "    </tr>\n",
              "    <tr>\n",
              "      <th>1993-02-01</th>\n",
              "      <td>61.02</td>\n",
              "    </tr>\n",
              "    <tr>\n",
              "      <th>1993-03-01</th>\n",
              "      <td>63.94</td>\n",
              "    </tr>\n",
              "    <tr>\n",
              "      <th>1993-04-01</th>\n",
              "      <td>61.87</td>\n",
              "    </tr>\n",
              "    <tr>\n",
              "      <th>1993-05-01</th>\n",
              "      <td>63.61</td>\n",
              "    </tr>\n",
              "    <tr>\n",
              "      <th>...</th>\n",
              "      <td>...</td>\n",
              "    </tr>\n",
              "    <tr>\n",
              "      <th>2021-09-01</th>\n",
              "      <td>104.13</td>\n",
              "    </tr>\n",
              "    <tr>\n",
              "      <th>2021-10-01</th>\n",
              "      <td>108.36</td>\n",
              "    </tr>\n",
              "    <tr>\n",
              "      <th>2021-11-01</th>\n",
              "      <td>112.69</td>\n",
              "    </tr>\n",
              "    <tr>\n",
              "      <th>2021-12-01</th>\n",
              "      <td>112.15</td>\n",
              "    </tr>\n",
              "    <tr>\n",
              "      <th>2022-01-01</th>\n",
              "      <td>107.23</td>\n",
              "    </tr>\n",
              "  </tbody>\n",
              "</table>\n",
              "<p>349 rows × 1 columns</p>\n",
              "</div>"
            ],
            "text/plain": [
              "             IGAE \n",
              "Periodo           \n",
              "1993-01-01   60.41\n",
              "1993-02-01   61.02\n",
              "1993-03-01   63.94\n",
              "1993-04-01   61.87\n",
              "1993-05-01   63.61\n",
              "...            ...\n",
              "2021-09-01  104.13\n",
              "2021-10-01  108.36\n",
              "2021-11-01  112.69\n",
              "2021-12-01  112.15\n",
              "2022-01-01  107.23\n",
              "\n",
              "[349 rows x 1 columns]"
            ]
          },
          "execution_count": 64,
          "metadata": {},
          "output_type": "execute_result"
        }
      ],
      "source": [
        "igae = pd.read_csv('https://raw.githubusercontent.com/alda1rx/Tareas_EstadisticaAplicada_21/main/IGAE.csv?token=GHSAT0AAAAAABS6CQ6BJNT4EGUPXTBRYXNQYSBCLKA', index_col= 'Periodo', parse_dates = True)\n",
        "igae"
      ]
    },
    {
      "cell_type": "code",
      "execution_count": null,
      "id": "8b3adedd-a065-4f67-90ab-34779b37c940",
      "metadata": {
        "id": "8b3adedd-a065-4f67-90ab-34779b37c940"
      },
      "outputs": [],
      "source": [
        "igae.dropna(inplace=True)"
      ]
    },
    {
      "cell_type": "code",
      "execution_count": null,
      "id": "825cab6a-84e0-432e-b6d7-d448716b3359",
      "metadata": {
        "id": "825cab6a-84e0-432e-b6d7-d448716b3359",
        "outputId": "20893c6f-84d3-4d08-de73-4ecdf6514c5b"
      },
      "outputs": [
        {
          "data": {
            "text/html": [
              "<div>\n",
              "<style scoped>\n",
              "    .dataframe tbody tr th:only-of-type {\n",
              "        vertical-align: middle;\n",
              "    }\n",
              "\n",
              "    .dataframe tbody tr th {\n",
              "        vertical-align: top;\n",
              "    }\n",
              "\n",
              "    .dataframe thead th {\n",
              "        text-align: right;\n",
              "    }\n",
              "</style>\n",
              "<table border=\"1\" class=\"dataframe\">\n",
              "  <thead>\n",
              "    <tr style=\"text-align: right;\">\n",
              "      <th></th>\n",
              "      <th>IGAE</th>\n",
              "    </tr>\n",
              "    <tr>\n",
              "      <th>Periodo</th>\n",
              "      <th></th>\n",
              "    </tr>\n",
              "  </thead>\n",
              "  <tbody>\n",
              "    <tr>\n",
              "      <th>1993-01-01</th>\n",
              "      <td>60.41</td>\n",
              "    </tr>\n",
              "    <tr>\n",
              "      <th>1993-02-01</th>\n",
              "      <td>61.02</td>\n",
              "    </tr>\n",
              "    <tr>\n",
              "      <th>1993-03-01</th>\n",
              "      <td>63.94</td>\n",
              "    </tr>\n",
              "    <tr>\n",
              "      <th>1993-04-01</th>\n",
              "      <td>61.87</td>\n",
              "    </tr>\n",
              "    <tr>\n",
              "      <th>1993-05-01</th>\n",
              "      <td>63.61</td>\n",
              "    </tr>\n",
              "  </tbody>\n",
              "</table>\n",
              "</div>"
            ],
            "text/plain": [
              "            IGAE \n",
              "Periodo          \n",
              "1993-01-01  60.41\n",
              "1993-02-01  61.02\n",
              "1993-03-01  63.94\n",
              "1993-04-01  61.87\n",
              "1993-05-01  63.61"
            ]
          },
          "execution_count": 66,
          "metadata": {},
          "output_type": "execute_result"
        }
      ],
      "source": [
        "igae.head()"
      ]
    },
    {
      "cell_type": "markdown",
      "id": "36f45c16-782c-4f14-b745-4108d643320c",
      "metadata": {
        "id": "36f45c16-782c-4f14-b745-4108d643320c"
      },
      "source": [
        "**c)**"
      ]
    },
    {
      "cell_type": "code",
      "execution_count": null,
      "id": "1b6b9ff2-06be-4178-9e50-d119ea4c774e",
      "metadata": {
        "id": "1b6b9ff2-06be-4178-9e50-d119ea4c774e",
        "outputId": "f1d7f3ff-d877-43dd-a21e-1b3e781a089d"
      },
      "outputs": [
        {
          "data": {
            "image/png": "[encoded data removed]",
            "text/plain": [
              "<Figure size 720x540 with 1 Axes>"
            ]
          },
          "metadata": {
            "needs_background": "light"
          },
          "output_type": "display_data"
        }
      ],
      "source": [
        "igae.plot()\n",
        "\n",
        "plt.title('Indicador Global de la Actividad Económica (IGAE) ')\n",
        "plt.show()"
      ]
    },
    {
      "cell_type": "markdown",
      "id": "d1e55948-01d8-49c0-94b4-19f9be95eab4",
      "metadata": {
        "id": "d1e55948-01d8-49c0-94b4-19f9be95eab4"
      },
      "source": [
        "**d)**"
      ]
    },
    {
      "cell_type": "markdown",
      "id": "f62d48bc-b53c-47e7-ae9b-83c06736bcad",
      "metadata": {
        "id": "f62d48bc-b53c-47e7-ae9b-83c06736bcad"
      },
      "source": [
        "Podemos observar en la grafica que la serie no es estacionaria y tiene un comportamiento alcista \n",
        "\n",
        "De igual manera se realizará una prueba para confirmar lo mencionado \n"
      ]
    },
    {
      "cell_type": "code",
      "execution_count": null,
      "id": "16d8cca6-5305-43bc-af53-dc1514d2364f",
      "metadata": {
        "tags": [],
        "id": "16d8cca6-5305-43bc-af53-dc1514d2364f",
        "outputId": "be2d3232-51f6-4c7b-9960-1a1c922bf9a4"
      },
      "outputs": [
        {
          "name": "stdout",
          "output_type": "stream",
          "text": [
            "p-value: 0.760955\n"
          ]
        }
      ],
      "source": [
        "#hacemos la prueba de dickey fuller aumentada ADF\n",
        "adf = adfuller(igae['IGAE '])\n",
        "\n",
        "#presentamos el p-value\n",
        "print('p-value: %f' % adf[1])"
      ]
    },
    {
      "cell_type": "code",
      "execution_count": null,
      "id": "94dd1f78-552a-4454-b28f-2346f5f4bd61",
      "metadata": {
        "id": "94dd1f78-552a-4454-b28f-2346f5f4bd61",
        "outputId": "25670da1-ddd2-447b-c1df-b92c9e93dfbb"
      },
      "outputs": [
        {
          "name": "stdout",
          "output_type": "stream",
          "text": [
            "con un un p-value = 0.761\n",
            " NO se rechaza hipótesis nula, SERIE NO ESTACIONARIA \n"
          ]
        }
      ],
      "source": [
        "if adf[1] < 0.05:\n",
        "    \n",
        "    print(f'con un un p-value={adf[1].round(3)}\\n Se rechaza hipótesis nula, ERIE ESTACIONARIA') \n",
        "    \n",
        "else:\n",
        "    \n",
        "    print(f'con un un p-value = {adf[1].round(3)}\\n NO se rechaza hipótesis nula, SERIE NO ESTACIONARIA ') "
      ]
    },
    {
      "cell_type": "markdown",
      "id": "a973c52a-1824-4a3a-b5a4-96edb9a5ba22",
      "metadata": {
        "id": "a973c52a-1824-4a3a-b5a4-96edb9a5ba22"
      },
      "source": [
        "**e)**"
      ]
    },
    {
      "cell_type": "code",
      "execution_count": null,
      "id": "3e1b04b1-4ed9-4e37-9145-51483f9a637c",
      "metadata": {
        "id": "3e1b04b1-4ed9-4e37-9145-51483f9a637c",
        "outputId": "ce46eef7-826d-4867-ab02-a96eb240a118"
      },
      "outputs": [
        {
          "data": {
            "image/png": "[encoded data removed]",
            "text/plain": [
              "<Figure size 720x540 with 4 Axes>"
            ]
          },
          "metadata": {
            "needs_background": "light"
          },
          "output_type": "display_data"
        }
      ],
      "source": [
        "from statsmodels.tsa.seasonal import seasonal_decompose\n",
        "\n",
        "result = seasonal_decompose(igae['IGAE '], model='multiplicative')  #mul tambien funciona\n",
        "result.plot();"
      ]
    },
    {
      "cell_type": "code",
      "execution_count": null,
      "id": "ff8662ec-711d-409f-b2a0-93ac9cf1a966",
      "metadata": {
        "id": "ff8662ec-711d-409f-b2a0-93ac9cf1a966"
      },
      "outputs": [],
      "source": [
        "#vamos a obtner la serie desestacionalida\n",
        "#primero obtenemos el componente estacional al que accedemos con .seasonal del objeto result\n",
        "componente_estacional = result.seasonal\n",
        "igae['desestacionalizado'] = igae['IGAE '] / componente_estacional"
      ]
    },
    {
      "cell_type": "code",
      "execution_count": null,
      "id": "fcd67f00-d7be-49fd-aa58-3c88a03a519e",
      "metadata": {
        "id": "fcd67f00-d7be-49fd-aa58-3c88a03a519e",
        "outputId": "66e141f8-bf79-421b-e2ea-abb1b0571fdd"
      },
      "outputs": [
        {
          "data": {
            "image/png": "[encoded data removed]",
            "text/plain": [
              "<Figure size 720x576 with 1 Axes>"
            ]
          },
          "metadata": {
            "needs_background": "light"
          },
          "output_type": "display_data"
        }
      ],
      "source": [
        "#graficamos\n",
        "igae[['IGAE ','desestacionalizado']].plot(figsize=(10,8));"
      ]
    },
    {
      "cell_type": "markdown",
      "id": "93a1ed8e-2a88-4076-b480-f232769234bc",
      "metadata": {
        "id": "93a1ed8e-2a88-4076-b480-f232769234bc"
      },
      "source": [
        "**g)**"
      ]
    },
    {
      "cell_type": "code",
      "execution_count": null,
      "id": "57fd889f-a6fc-4ba5-b6c1-23caae2a2b44",
      "metadata": {
        "id": "57fd889f-a6fc-4ba5-b6c1-23caae2a2b44"
      },
      "outputs": [],
      "source": [
        "igae_diff = igae['IGAE '] - igae['IGAE '].shift()"
      ]
    },
    {
      "cell_type": "code",
      "execution_count": null,
      "id": "be945819-fd85-4a90-b3f0-910dca2d1a91",
      "metadata": {
        "id": "be945819-fd85-4a90-b3f0-910dca2d1a91",
        "outputId": "d9f9ef40-ac51-4176-d29e-f1526bf62b4f"
      },
      "outputs": [
        {
          "data": {
            "image/png": "[encoded data removed]",
            "text/plain": [
              "<Figure size 720x540 with 1 Axes>"
            ]
          },
          "metadata": {
            "needs_background": "light"
          },
          "output_type": "display_data"
        }
      ],
      "source": [
        "#graficamos el tipo de cambio diferenciado\n",
        "igae_diff.plot()\n",
        "plt.title('Indicador Global de la Actividad Económica (IGAE) diferenciada ')\n",
        "plt.show()"
      ]
    },
    {
      "cell_type": "code",
      "execution_count": null,
      "id": "7e0320b0-f304-4b0b-a00d-f5783391f556",
      "metadata": {
        "id": "7e0320b0-f304-4b0b-a00d-f5783391f556"
      },
      "outputs": [],
      "source": [
        "#eliminamos los Nan\n",
        "igae_diff = igae_diff.dropna()"
      ]
    },
    {
      "cell_type": "code",
      "execution_count": null,
      "id": "fd8cbf5f-71ad-4fff-b536-94e44936cab5",
      "metadata": {
        "id": "fd8cbf5f-71ad-4fff-b536-94e44936cab5",
        "outputId": "023f81de-dd58-4c7d-a944-84e1886fb8ca"
      },
      "outputs": [
        {
          "data": {
            "text/plain": [
              "1      2.31\n",
              "2     -4.99\n",
              "3      3.81\n",
              "4     -2.47\n",
              "5      0.65\n",
              "       ... \n",
              "343   -0.32\n",
              "344    7.25\n",
              "345    0.10\n",
              "346   -4.87\n",
              "347   -4.38\n",
              "Name: IGAE , Length: 347, dtype: float64"
            ]
          },
          "execution_count": 142,
          "metadata": {},
          "output_type": "execute_result"
        }
      ],
      "source": [
        "igae_diff"
      ]
    },
    {
      "cell_type": "code",
      "execution_count": null,
      "id": "94c1b2dd-ec50-48ce-a638-31370fedad79",
      "metadata": {
        "id": "94c1b2dd-ec50-48ce-a638-31370fedad79",
        "outputId": "e7147413-b258-4220-d40f-e0b25df6cbba"
      },
      "outputs": [
        {
          "name": "stdout",
          "output_type": "stream",
          "text": [
            "con un un p-value=9.305476634118779e-14\n",
            " Se rechaza hipótesis nula, SERIE ESTACIONARIA\n"
          ]
        }
      ],
      "source": [
        "adf1 = adfuller(igae_diff)\n",
        "if adf1[1] < 0.05:\n",
        "    \n",
        "    print(f'con un un p-value={adf1[1]}\\n Se rechaza hipótesis nula, SERIE ESTACIONARIA') \n",
        "    \n",
        "else:\n",
        "    \n",
        "    print(f'con un un p-value = {adf1[1]}\\n NO se rechaza hipótesis nula, SERIE NO ESTACIONARIA ') "
      ]
    },
    {
      "cell_type": "markdown",
      "id": "9d0fd2f0-7f17-4daf-a036-df69103cbee2",
      "metadata": {
        "id": "9d0fd2f0-7f17-4daf-a036-df69103cbee2"
      },
      "source": [
        "Al  realizar  de  nuevo  la  prueba,  confirmamos  que  ya  es  Estacionaria,  con  un  **orden  de  integracion  de 1**"
      ]
    },
    {
      "cell_type": "markdown",
      "id": "d9000a9e-2fc9-4030-9cfc-b6556ed35962",
      "metadata": {
        "id": "d9000a9e-2fc9-4030-9cfc-b6556ed35962"
      },
      "source": [
        "**h)**"
      ]
    },
    {
      "cell_type": "code",
      "execution_count": null,
      "id": "35393169-0f55-4e28-8555-79886f0626e0",
      "metadata": {
        "id": "35393169-0f55-4e28-8555-79886f0626e0",
        "outputId": "b81a9626-7754-49bf-9ce3-cf378bbee054"
      },
      "outputs": [
        {
          "data": {
            "image/png": "[encoded data removed]",
            "text/plain": [
              "<Figure size 720x540 with 1 Axes>"
            ]
          },
          "metadata": {
            "needs_background": "light"
          },
          "output_type": "display_data"
        }
      ],
      "source": [
        "#grafica de autocorrelación ACF\n",
        "plot_acf(igae_diff, zero=False, lags=30)\n",
        "plt.title('función de autocorrelación del Indicador Global de la Actividad Económica (IGAE)')\n",
        "plt.show()"
      ]
    },
    {
      "cell_type": "code",
      "execution_count": null,
      "id": "96c355a8-f24a-4d05-bd61-e46cc0801d10",
      "metadata": {
        "id": "96c355a8-f24a-4d05-bd61-e46cc0801d10",
        "outputId": "eb08554d-aeab-4e21-8ca0-3b97b27b869b"
      },
      "outputs": [
        {
          "data": {
            "image/png": "[encoded data removed]",
            "text/plain": [
              "<Figure size 720x540 with 1 Axes>"
            ]
          },
          "metadata": {
            "needs_background": "light"
          },
          "output_type": "display_data"
        }
      ],
      "source": [
        "#grafica de autocorrelación parcial PACF\n",
        "plot_pacf(igae_diff, zero=False, lags=30)\n",
        "plt.title('función de autocorrelación parcial del Indicador Global de la Actividad Económica (IGAE)')\n",
        "plt.show()"
      ]
    },
    {
      "cell_type": "markdown",
      "id": "a8450a56-4520-426e-9a79-e775c342fc22",
      "metadata": {
        "id": "a8450a56-4520-426e-9a79-e775c342fc22"
      },
      "source": [
        "Notamos que el primer rezago de ACF y PACF es significativo, por lo que parece que **la diferencia del IGAE es un ARMA (1,1)**"
      ]
    },
    {
      "cell_type": "code",
      "execution_count": null,
      "id": "1337a88f-c187-4d10-a805-567941fca39e",
      "metadata": {
        "id": "1337a88f-c187-4d10-a805-567941fca39e",
        "outputId": "209dcb6f-4e0f-4dc6-f38d-854abb1dd995"
      },
      "outputs": [
        {
          "name": "stderr",
          "output_type": "stream",
          "text": [
            "C:\\ProgramData\\Anaconda3\\lib\\site-packages\\statsmodels\\tsa\\base\\tsa_model.py:578: ValueWarning: An unsupported index was provided and will be ignored when e.g. forecasting.\n",
            "  warnings.warn('An unsupported index was provided and will be'\n",
            "C:\\ProgramData\\Anaconda3\\lib\\site-packages\\statsmodels\\tsa\\base\\tsa_model.py:578: ValueWarning: An unsupported index was provided and will be ignored when e.g. forecasting.\n",
            "  warnings.warn('An unsupported index was provided and will be'\n",
            "C:\\ProgramData\\Anaconda3\\lib\\site-packages\\statsmodels\\tsa\\base\\tsa_model.py:578: ValueWarning: An unsupported index was provided and will be ignored when e.g. forecasting.\n",
            "  warnings.warn('An unsupported index was provided and will be'\n"
          ]
        },
        {
          "data": {
            "text/html": [
              "<table class=\"simpletable\">\n",
              "<caption>SARIMAX Results</caption>\n",
              "<tr>\n",
              "  <th>Dep. Variable:</th>         <td>IGAE </td>      <th>  No. Observations:  </th>    <td>347</td>  \n",
              "</tr>\n",
              "<tr>\n",
              "  <th>Model:</th>            <td>ARIMA(1, 0, 1)</td>  <th>  Log Likelihood     </th> <td>-874.201</td>\n",
              "</tr>\n",
              "<tr>\n",
              "  <th>Date:</th>            <td>Sun, 27 Mar 2022</td> <th>  AIC                </th> <td>1756.401</td>\n",
              "</tr>\n",
              "<tr>\n",
              "  <th>Time:</th>                <td>21:08:21</td>     <th>  BIC                </th> <td>1771.798</td>\n",
              "</tr>\n",
              "<tr>\n",
              "  <th>Sample:</th>                  <td>0</td>        <th>  HQIC               </th> <td>1762.532</td>\n",
              "</tr>\n",
              "<tr>\n",
              "  <th></th>                      <td> - 347</td>      <th>                     </th>     <td> </td>   \n",
              "</tr>\n",
              "<tr>\n",
              "  <th>Covariance Type:</th>        <td>opg</td>       <th>                     </th>     <td> </td>   \n",
              "</tr>\n",
              "</table>\n",
              "<table class=\"simpletable\">\n",
              "<tr>\n",
              "     <td></td>       <th>coef</th>     <th>std err</th>      <th>z</th>      <th>P>|z|</th>  <th>[0.025</th>    <th>0.975]</th>  \n",
              "</tr>\n",
              "<tr>\n",
              "  <th>const</th>  <td>   -0.0005</td> <td>    0.001</td> <td>   -0.421</td> <td> 0.674</td> <td>   -0.003</td> <td>    0.002</td>\n",
              "</tr>\n",
              "<tr>\n",
              "  <th>ar.L1</th>  <td>   -0.2389</td> <td>    0.049</td> <td>   -4.897</td> <td> 0.000</td> <td>   -0.334</td> <td>   -0.143</td>\n",
              "</tr>\n",
              "<tr>\n",
              "  <th>ma.L1</th>  <td>   -0.9999</td> <td>    1.234</td> <td>   -0.810</td> <td> 0.418</td> <td>   -3.419</td> <td>    1.420</td>\n",
              "</tr>\n",
              "<tr>\n",
              "  <th>sigma2</th> <td>    8.8683</td> <td>   10.810</td> <td>    0.820</td> <td> 0.412</td> <td>  -12.319</td> <td>   30.056</td>\n",
              "</tr>\n",
              "</table>\n",
              "<table class=\"simpletable\">\n",
              "<tr>\n",
              "  <th>Ljung-Box (L1) (Q):</th>     <td>0.51</td> <th>  Jarque-Bera (JB):  </th> <td>741.69</td>\n",
              "</tr>\n",
              "<tr>\n",
              "  <th>Prob(Q):</th>                <td>0.47</td> <th>  Prob(JB):          </th>  <td>0.00</td> \n",
              "</tr>\n",
              "<tr>\n",
              "  <th>Heteroskedasticity (H):</th> <td>5.00</td> <th>  Skew:              </th>  <td>-0.77</td>\n",
              "</tr>\n",
              "<tr>\n",
              "  <th>Prob(H) (two-sided):</th>    <td>0.00</td> <th>  Kurtosis:          </th>  <td>9.99</td> \n",
              "</tr>\n",
              "</table><br/><br/>Warnings:<br/>[1] Covariance matrix calculated using the outer product of gradients (complex-step)."
            ],
            "text/plain": [
              "<class 'statsmodels.iolib.summary.Summary'>\n",
              "\"\"\"\n",
              "                               SARIMAX Results                                \n",
              "==============================================================================\n",
              "Dep. Variable:                  IGAE    No. Observations:                  347\n",
              "Model:                 ARIMA(1, 0, 1)   Log Likelihood                -874.201\n",
              "Date:                Sun, 27 Mar 2022   AIC                           1756.401\n",
              "Time:                        21:08:21   BIC                           1771.798\n",
              "Sample:                             0   HQIC                          1762.532\n",
              "                                - 347                                         \n",
              "Covariance Type:                  opg                                         \n",
              "==============================================================================\n",
              "                 coef    std err          z      P>|z|      [0.025      0.975]\n",
              "------------------------------------------------------------------------------\n",
              "const         -0.0005      0.001     -0.421      0.674      -0.003       0.002\n",
              "ar.L1         -0.2389      0.049     -4.897      0.000      -0.334      -0.143\n",
              "ma.L1         -0.9999      1.234     -0.810      0.418      -3.419       1.420\n",
              "sigma2         8.8683     10.810      0.820      0.412     -12.319      30.056\n",
              "===================================================================================\n",
              "Ljung-Box (L1) (Q):                   0.51   Jarque-Bera (JB):               741.69\n",
              "Prob(Q):                              0.47   Prob(JB):                         0.00\n",
              "Heteroskedasticity (H):               5.00   Skew:                            -0.77\n",
              "Prob(H) (two-sided):                  0.00   Kurtosis:                         9.99\n",
              "===================================================================================\n",
              "\n",
              "Warnings:\n",
              "[1] Covariance matrix calculated using the outer product of gradients (complex-step).\n",
              "\"\"\""
            ]
          },
          "execution_count": 155,
          "metadata": {},
          "output_type": "execute_result"
        }
      ],
      "source": [
        "# estimamos un ARMA (1,1)\n",
        "modelo = ARIMA(igae_diff, order=(1, 0, 1))\n",
        "resultado = modelo.fit()\n",
        "resultado.summary()"
      ]
    },
    {
      "cell_type": "markdown",
      "id": "a16e1eb4-bb38-4cd7-a2af-9803b291068d",
      "metadata": {
        "id": "a16e1eb4-bb38-4cd7-a2af-9803b291068d"
      },
      "source": [
        "**i)**"
      ]
    },
    {
      "cell_type": "markdown",
      "id": "f3563bb9-beea-41b8-8d05-81538d9f0354",
      "metadata": {
        "id": "f3563bb9-beea-41b8-8d05-81538d9f0354"
      },
      "source": [
        "Aunque los ACF y PACF nos sugieren un ARMA(1,1), no son del todo precisos, asi que vamos a estimar varios modelos con 6 rezagos de AR, 6 rezagos de MA y elegir uno"
      ]
    },
    {
      "cell_type": "code",
      "execution_count": null,
      "id": "c582dca1-bf5c-4365-8879-6e6d97c82203",
      "metadata": {
        "id": "c582dca1-bf5c-4365-8879-6e6d97c82203",
        "outputId": "8adeff6e-6bda-43f4-b5d6-7cbeefbe2d97"
      },
      "outputs": [
        {
          "name": "stdout",
          "output_type": "stream",
          "text": [
            "AR: 0, MA: 0\n",
            "AR: 0, MA: 1\n"
          ]
        },
        {
          "name": "stderr",
          "output_type": "stream",
          "text": [
            "C:\\ProgramData\\Anaconda3\\lib\\site-packages\\statsmodels\\tsa\\base\\tsa_model.py:578: ValueWarning: An unsupported index was provided and will be ignored when e.g. forecasting.\n",
            "  warnings.warn('An unsupported index was provided and will be'\n",
            "C:\\ProgramData\\Anaconda3\\lib\\site-packages\\statsmodels\\tsa\\base\\tsa_model.py:578: ValueWarning: An unsupported index was provided and will be ignored when e.g. forecasting.\n",
            "  warnings.warn('An unsupported index was provided and will be'\n",
            "C:\\ProgramData\\Anaconda3\\lib\\site-packages\\statsmodels\\tsa\\base\\tsa_model.py:578: ValueWarning: An unsupported index was provided and will be ignored when e.g. forecasting.\n",
            "  warnings.warn('An unsupported index was provided and will be'\n",
            "C:\\ProgramData\\Anaconda3\\lib\\site-packages\\statsmodels\\tsa\\base\\tsa_model.py:578: ValueWarning: An unsupported index was provided and will be ignored when e.g. forecasting.\n",
            "  warnings.warn('An unsupported index was provided and will be'\n",
            "C:\\ProgramData\\Anaconda3\\lib\\site-packages\\statsmodels\\tsa\\base\\tsa_model.py:578: ValueWarning: An unsupported index was provided and will be ignored when e.g. forecasting.\n",
            "  warnings.warn('An unsupported index was provided and will be'\n",
            "C:\\ProgramData\\Anaconda3\\lib\\site-packages\\statsmodels\\tsa\\base\\tsa_model.py:578: ValueWarning: An unsupported index was provided and will be ignored when e.g. forecasting.\n",
            "  warnings.warn('An unsupported index was provided and will be'\n"
          ]
        },
        {
          "name": "stdout",
          "output_type": "stream",
          "text": [
            "AR: 0, MA: 2\n"
          ]
        },
        {
          "name": "stderr",
          "output_type": "stream",
          "text": [
            "C:\\ProgramData\\Anaconda3\\lib\\site-packages\\statsmodels\\tsa\\base\\tsa_model.py:578: ValueWarning: An unsupported index was provided and will be ignored when e.g. forecasting.\n",
            "  warnings.warn('An unsupported index was provided and will be'\n",
            "C:\\ProgramData\\Anaconda3\\lib\\site-packages\\statsmodels\\tsa\\base\\tsa_model.py:578: ValueWarning: An unsupported index was provided and will be ignored when e.g. forecasting.\n",
            "  warnings.warn('An unsupported index was provided and will be'\n",
            "C:\\ProgramData\\Anaconda3\\lib\\site-packages\\statsmodels\\tsa\\base\\tsa_model.py:578: ValueWarning: An unsupported index was provided and will be ignored when e.g. forecasting.\n",
            "  warnings.warn('An unsupported index was provided and will be'\n",
            "C:\\ProgramData\\Anaconda3\\lib\\site-packages\\statsmodels\\tsa\\statespace\\sarimax.py:978: UserWarning: Non-invertible starting MA parameters found. Using zeros as starting parameters.\n",
            "  warn('Non-invertible starting MA parameters found.'\n"
          ]
        },
        {
          "name": "stdout",
          "output_type": "stream",
          "text": [
            "AR: 0, MA: 3\n"
          ]
        },
        {
          "name": "stderr",
          "output_type": "stream",
          "text": [
            "C:\\ProgramData\\Anaconda3\\lib\\site-packages\\statsmodels\\tsa\\base\\tsa_model.py:578: ValueWarning: An unsupported index was provided and will be ignored when e.g. forecasting.\n",
            "  warnings.warn('An unsupported index was provided and will be'\n",
            "C:\\ProgramData\\Anaconda3\\lib\\site-packages\\statsmodels\\tsa\\base\\tsa_model.py:578: ValueWarning: An unsupported index was provided and will be ignored when e.g. forecasting.\n",
            "  warnings.warn('An unsupported index was provided and will be'\n",
            "C:\\ProgramData\\Anaconda3\\lib\\site-packages\\statsmodels\\tsa\\base\\tsa_model.py:578: ValueWarning: An unsupported index was provided and will be ignored when e.g. forecasting.\n",
            "  warnings.warn('An unsupported index was provided and will be'\n"
          ]
        },
        {
          "name": "stdout",
          "output_type": "stream",
          "text": [
            "AR: 0, MA: 4\n"
          ]
        },
        {
          "name": "stderr",
          "output_type": "stream",
          "text": [
            "C:\\ProgramData\\Anaconda3\\lib\\site-packages\\statsmodels\\tsa\\base\\tsa_model.py:578: ValueWarning: An unsupported index was provided and will be ignored when e.g. forecasting.\n",
            "  warnings.warn('An unsupported index was provided and will be'\n",
            "C:\\ProgramData\\Anaconda3\\lib\\site-packages\\statsmodels\\tsa\\base\\tsa_model.py:578: ValueWarning: An unsupported index was provided and will be ignored when e.g. forecasting.\n",
            "  warnings.warn('An unsupported index was provided and will be'\n",
            "C:\\ProgramData\\Anaconda3\\lib\\site-packages\\statsmodels\\tsa\\base\\tsa_model.py:578: ValueWarning: An unsupported index was provided and will be ignored when e.g. forecasting.\n",
            "  warnings.warn('An unsupported index was provided and will be'\n",
            "C:\\ProgramData\\Anaconda3\\lib\\site-packages\\statsmodels\\base\\model.py:566: ConvergenceWarning: Maximum Likelihood optimization failed to converge. Check mle_retvals\n",
            "  warnings.warn(\"Maximum Likelihood optimization failed to \"\n",
            "C:\\ProgramData\\Anaconda3\\lib\\site-packages\\statsmodels\\tsa\\base\\tsa_model.py:578: ValueWarning: An unsupported index was provided and will be ignored when e.g. forecasting.\n",
            "  warnings.warn('An unsupported index was provided and will be'\n",
            "C:\\ProgramData\\Anaconda3\\lib\\site-packages\\statsmodels\\tsa\\base\\tsa_model.py:578: ValueWarning: An unsupported index was provided and will be ignored when e.g. forecasting.\n",
            "  warnings.warn('An unsupported index was provided and will be'\n",
            "C:\\ProgramData\\Anaconda3\\lib\\site-packages\\statsmodels\\tsa\\base\\tsa_model.py:578: ValueWarning: An unsupported index was provided and will be ignored when e.g. forecasting.\n",
            "  warnings.warn('An unsupported index was provided and will be'\n"
          ]
        },
        {
          "name": "stdout",
          "output_type": "stream",
          "text": [
            "AR: 0, MA: 5\n"
          ]
        },
        {
          "name": "stderr",
          "output_type": "stream",
          "text": [
            "C:\\ProgramData\\Anaconda3\\lib\\site-packages\\statsmodels\\base\\model.py:566: ConvergenceWarning: Maximum Likelihood optimization failed to converge. Check mle_retvals\n",
            "  warnings.warn(\"Maximum Likelihood optimization failed to \"\n",
            "C:\\ProgramData\\Anaconda3\\lib\\site-packages\\statsmodels\\tsa\\base\\tsa_model.py:578: ValueWarning: An unsupported index was provided and will be ignored when e.g. forecasting.\n",
            "  warnings.warn('An unsupported index was provided and will be'\n",
            "C:\\ProgramData\\Anaconda3\\lib\\site-packages\\statsmodels\\tsa\\base\\tsa_model.py:578: ValueWarning: An unsupported index was provided and will be ignored when e.g. forecasting.\n",
            "  warnings.warn('An unsupported index was provided and will be'\n",
            "C:\\ProgramData\\Anaconda3\\lib\\site-packages\\statsmodels\\tsa\\base\\tsa_model.py:578: ValueWarning: An unsupported index was provided and will be ignored when e.g. forecasting.\n",
            "  warnings.warn('An unsupported index was provided and will be'\n"
          ]
        },
        {
          "name": "stdout",
          "output_type": "stream",
          "text": [
            "AR: 0, MA: 6\n"
          ]
        },
        {
          "name": "stderr",
          "output_type": "stream",
          "text": [
            "C:\\ProgramData\\Anaconda3\\lib\\site-packages\\statsmodels\\base\\model.py:566: ConvergenceWarning: Maximum Likelihood optimization failed to converge. Check mle_retvals\n",
            "  warnings.warn(\"Maximum Likelihood optimization failed to \"\n",
            "C:\\ProgramData\\Anaconda3\\lib\\site-packages\\statsmodels\\tsa\\base\\tsa_model.py:578: ValueWarning: An unsupported index was provided and will be ignored when e.g. forecasting.\n",
            "  warnings.warn('An unsupported index was provided and will be'\n",
            "C:\\ProgramData\\Anaconda3\\lib\\site-packages\\statsmodels\\tsa\\base\\tsa_model.py:578: ValueWarning: An unsupported index was provided and will be ignored when e.g. forecasting.\n",
            "  warnings.warn('An unsupported index was provided and will be'\n",
            "C:\\ProgramData\\Anaconda3\\lib\\site-packages\\statsmodels\\tsa\\base\\tsa_model.py:578: ValueWarning: An unsupported index was provided and will be ignored when e.g. forecasting.\n",
            "  warnings.warn('An unsupported index was provided and will be'\n",
            "C:\\ProgramData\\Anaconda3\\lib\\site-packages\\statsmodels\\tsa\\base\\tsa_model.py:578: ValueWarning: An unsupported index was provided and will be ignored when e.g. forecasting.\n",
            "  warnings.warn('An unsupported index was provided and will be'\n",
            "C:\\ProgramData\\Anaconda3\\lib\\site-packages\\statsmodels\\tsa\\base\\tsa_model.py:578: ValueWarning: An unsupported index was provided and will be ignored when e.g. forecasting.\n",
            "  warnings.warn('An unsupported index was provided and will be'\n",
            "C:\\ProgramData\\Anaconda3\\lib\\site-packages\\statsmodels\\tsa\\base\\tsa_model.py:578: ValueWarning: An unsupported index was provided and will be ignored when e.g. forecasting.\n",
            "  warnings.warn('An unsupported index was provided and will be'\n"
          ]
        },
        {
          "name": "stdout",
          "output_type": "stream",
          "text": [
            "AR: 1, MA: 0\n",
            "AR: 1, MA: 1\n",
            "AR: 1, MA: 2\n"
          ]
        },
        {
          "name": "stderr",
          "output_type": "stream",
          "text": [
            "C:\\ProgramData\\Anaconda3\\lib\\site-packages\\statsmodels\\tsa\\base\\tsa_model.py:578: ValueWarning: An unsupported index was provided and will be ignored when e.g. forecasting.\n",
            "  warnings.warn('An unsupported index was provided and will be'\n",
            "C:\\ProgramData\\Anaconda3\\lib\\site-packages\\statsmodels\\tsa\\base\\tsa_model.py:578: ValueWarning: An unsupported index was provided and will be ignored when e.g. forecasting.\n",
            "  warnings.warn('An unsupported index was provided and will be'\n",
            "C:\\ProgramData\\Anaconda3\\lib\\site-packages\\statsmodels\\tsa\\base\\tsa_model.py:578: ValueWarning: An unsupported index was provided and will be ignored when e.g. forecasting.\n",
            "  warnings.warn('An unsupported index was provided and will be'\n"
          ]
        },
        {
          "name": "stdout",
          "output_type": "stream",
          "text": [
            "AR: 1, MA: 3\n"
          ]
        },
        {
          "name": "stderr",
          "output_type": "stream",
          "text": [
            "C:\\ProgramData\\Anaconda3\\lib\\site-packages\\statsmodels\\tsa\\base\\tsa_model.py:578: ValueWarning: An unsupported index was provided and will be ignored when e.g. forecasting.\n",
            "  warnings.warn('An unsupported index was provided and will be'\n",
            "C:\\ProgramData\\Anaconda3\\lib\\site-packages\\statsmodels\\tsa\\base\\tsa_model.py:578: ValueWarning: An unsupported index was provided and will be ignored when e.g. forecasting.\n",
            "  warnings.warn('An unsupported index was provided and will be'\n",
            "C:\\ProgramData\\Anaconda3\\lib\\site-packages\\statsmodels\\tsa\\base\\tsa_model.py:578: ValueWarning: An unsupported index was provided and will be ignored when e.g. forecasting.\n",
            "  warnings.warn('An unsupported index was provided and will be'\n",
            "C:\\ProgramData\\Anaconda3\\lib\\site-packages\\statsmodels\\base\\model.py:566: ConvergenceWarning: Maximum Likelihood optimization failed to converge. Check mle_retvals\n",
            "  warnings.warn(\"Maximum Likelihood optimization failed to \"\n",
            "C:\\ProgramData\\Anaconda3\\lib\\site-packages\\statsmodels\\tsa\\base\\tsa_model.py:578: ValueWarning: An unsupported index was provided and will be ignored when e.g. forecasting.\n",
            "  warnings.warn('An unsupported index was provided and will be'\n",
            "C:\\ProgramData\\Anaconda3\\lib\\site-packages\\statsmodels\\tsa\\base\\tsa_model.py:578: ValueWarning: An unsupported index was provided and will be ignored when e.g. forecasting.\n",
            "  warnings.warn('An unsupported index was provided and will be'\n",
            "C:\\ProgramData\\Anaconda3\\lib\\site-packages\\statsmodels\\tsa\\base\\tsa_model.py:578: ValueWarning: An unsupported index was provided and will be ignored when e.g. forecasting.\n",
            "  warnings.warn('An unsupported index was provided and will be'\n"
          ]
        },
        {
          "name": "stdout",
          "output_type": "stream",
          "text": [
            "AR: 1, MA: 4\n",
            "AR: 1, MA: 5\n"
          ]
        },
        {
          "name": "stderr",
          "output_type": "stream",
          "text": [
            "C:\\ProgramData\\Anaconda3\\lib\\site-packages\\statsmodels\\tsa\\base\\tsa_model.py:578: ValueWarning: An unsupported index was provided and will be ignored when e.g. forecasting.\n",
            "  warnings.warn('An unsupported index was provided and will be'\n",
            "C:\\ProgramData\\Anaconda3\\lib\\site-packages\\statsmodels\\tsa\\base\\tsa_model.py:578: ValueWarning: An unsupported index was provided and will be ignored when e.g. forecasting.\n",
            "  warnings.warn('An unsupported index was provided and will be'\n",
            "C:\\ProgramData\\Anaconda3\\lib\\site-packages\\statsmodels\\tsa\\base\\tsa_model.py:578: ValueWarning: An unsupported index was provided and will be ignored when e.g. forecasting.\n",
            "  warnings.warn('An unsupported index was provided and will be'\n",
            "C:\\ProgramData\\Anaconda3\\lib\\site-packages\\statsmodels\\base\\model.py:566: ConvergenceWarning: Maximum Likelihood optimization failed to converge. Check mle_retvals\n",
            "  warnings.warn(\"Maximum Likelihood optimization failed to \"\n",
            "C:\\ProgramData\\Anaconda3\\lib\\site-packages\\statsmodels\\tsa\\base\\tsa_model.py:578: ValueWarning: An unsupported index was provided and will be ignored when e.g. forecasting.\n",
            "  warnings.warn('An unsupported index was provided and will be'\n",
            "C:\\ProgramData\\Anaconda3\\lib\\site-packages\\statsmodels\\tsa\\base\\tsa_model.py:578: ValueWarning: An unsupported index was provided and will be ignored when e.g. forecasting.\n",
            "  warnings.warn('An unsupported index was provided and will be'\n",
            "C:\\ProgramData\\Anaconda3\\lib\\site-packages\\statsmodels\\tsa\\base\\tsa_model.py:578: ValueWarning: An unsupported index was provided and will be ignored when e.g. forecasting.\n",
            "  warnings.warn('An unsupported index was provided and will be'\n"
          ]
        },
        {
          "name": "stdout",
          "output_type": "stream",
          "text": [
            "AR: 1, MA: 6\n"
          ]
        },
        {
          "name": "stderr",
          "output_type": "stream",
          "text": [
            "C:\\ProgramData\\Anaconda3\\lib\\site-packages\\statsmodels\\base\\model.py:566: ConvergenceWarning: Maximum Likelihood optimization failed to converge. Check mle_retvals\n",
            "  warnings.warn(\"Maximum Likelihood optimization failed to \"\n",
            "C:\\ProgramData\\Anaconda3\\lib\\site-packages\\statsmodels\\tsa\\base\\tsa_model.py:578: ValueWarning: An unsupported index was provided and will be ignored when e.g. forecasting.\n",
            "  warnings.warn('An unsupported index was provided and will be'\n",
            "C:\\ProgramData\\Anaconda3\\lib\\site-packages\\statsmodels\\tsa\\base\\tsa_model.py:578: ValueWarning: An unsupported index was provided and will be ignored when e.g. forecasting.\n",
            "  warnings.warn('An unsupported index was provided and will be'\n",
            "C:\\ProgramData\\Anaconda3\\lib\\site-packages\\statsmodels\\tsa\\base\\tsa_model.py:578: ValueWarning: An unsupported index was provided and will be ignored when e.g. forecasting.\n",
            "  warnings.warn('An unsupported index was provided and will be'\n",
            "C:\\ProgramData\\Anaconda3\\lib\\site-packages\\statsmodels\\tsa\\base\\tsa_model.py:578: ValueWarning: An unsupported index was provided and will be ignored when e.g. forecasting.\n",
            "  warnings.warn('An unsupported index was provided and will be'\n",
            "C:\\ProgramData\\Anaconda3\\lib\\site-packages\\statsmodels\\tsa\\base\\tsa_model.py:578: ValueWarning: An unsupported index was provided and will be ignored when e.g. forecasting.\n",
            "  warnings.warn('An unsupported index was provided and will be'\n",
            "C:\\ProgramData\\Anaconda3\\lib\\site-packages\\statsmodels\\tsa\\base\\tsa_model.py:578: ValueWarning: An unsupported index was provided and will be ignored when e.g. forecasting.\n",
            "  warnings.warn('An unsupported index was provided and will be'\n"
          ]
        },
        {
          "name": "stdout",
          "output_type": "stream",
          "text": [
            "AR: 2, MA: 0\n",
            "AR: 2, MA: 1\n",
            "AR: 2, MA: 2\n"
          ]
        },
        {
          "name": "stderr",
          "output_type": "stream",
          "text": [
            "C:\\ProgramData\\Anaconda3\\lib\\site-packages\\statsmodels\\tsa\\base\\tsa_model.py:578: ValueWarning: An unsupported index was provided and will be ignored when e.g. forecasting.\n",
            "  warnings.warn('An unsupported index was provided and will be'\n",
            "C:\\ProgramData\\Anaconda3\\lib\\site-packages\\statsmodels\\tsa\\base\\tsa_model.py:578: ValueWarning: An unsupported index was provided and will be ignored when e.g. forecasting.\n",
            "  warnings.warn('An unsupported index was provided and will be'\n",
            "C:\\ProgramData\\Anaconda3\\lib\\site-packages\\statsmodels\\tsa\\base\\tsa_model.py:578: ValueWarning: An unsupported index was provided and will be ignored when e.g. forecasting.\n",
            "  warnings.warn('An unsupported index was provided and will be'\n",
            "C:\\ProgramData\\Anaconda3\\lib\\site-packages\\statsmodels\\base\\model.py:566: ConvergenceWarning: Maximum Likelihood optimization failed to converge. Check mle_retvals\n",
            "  warnings.warn(\"Maximum Likelihood optimization failed to \"\n",
            "C:\\ProgramData\\Anaconda3\\lib\\site-packages\\statsmodels\\tsa\\base\\tsa_model.py:578: ValueWarning: An unsupported index was provided and will be ignored when e.g. forecasting.\n",
            "  warnings.warn('An unsupported index was provided and will be'\n",
            "C:\\ProgramData\\Anaconda3\\lib\\site-packages\\statsmodels\\tsa\\base\\tsa_model.py:578: ValueWarning: An unsupported index was provided and will be ignored when e.g. forecasting.\n",
            "  warnings.warn('An unsupported index was provided and will be'\n",
            "C:\\ProgramData\\Anaconda3\\lib\\site-packages\\statsmodels\\tsa\\base\\tsa_model.py:578: ValueWarning: An unsupported index was provided and will be ignored when e.g. forecasting.\n",
            "  warnings.warn('An unsupported index was provided and will be'\n"
          ]
        },
        {
          "name": "stdout",
          "output_type": "stream",
          "text": [
            "AR: 2, MA: 3\n"
          ]
        },
        {
          "name": "stderr",
          "output_type": "stream",
          "text": [
            "C:\\ProgramData\\Anaconda3\\lib\\site-packages\\statsmodels\\base\\model.py:566: ConvergenceWarning: Maximum Likelihood optimization failed to converge. Check mle_retvals\n",
            "  warnings.warn(\"Maximum Likelihood optimization failed to \"\n",
            "C:\\ProgramData\\Anaconda3\\lib\\site-packages\\statsmodels\\tsa\\base\\tsa_model.py:578: ValueWarning: An unsupported index was provided and will be ignored when e.g. forecasting.\n",
            "  warnings.warn('An unsupported index was provided and will be'\n",
            "C:\\ProgramData\\Anaconda3\\lib\\site-packages\\statsmodels\\tsa\\base\\tsa_model.py:578: ValueWarning: An unsupported index was provided and will be ignored when e.g. forecasting.\n",
            "  warnings.warn('An unsupported index was provided and will be'\n",
            "C:\\ProgramData\\Anaconda3\\lib\\site-packages\\statsmodels\\tsa\\base\\tsa_model.py:578: ValueWarning: An unsupported index was provided and will be ignored when e.g. forecasting.\n",
            "  warnings.warn('An unsupported index was provided and will be'\n"
          ]
        },
        {
          "name": "stdout",
          "output_type": "stream",
          "text": [
            "AR: 2, MA: 4\n"
          ]
        },
        {
          "name": "stderr",
          "output_type": "stream",
          "text": [
            "C:\\ProgramData\\Anaconda3\\lib\\site-packages\\statsmodels\\base\\model.py:566: ConvergenceWarning: Maximum Likelihood optimization failed to converge. Check mle_retvals\n",
            "  warnings.warn(\"Maximum Likelihood optimization failed to \"\n",
            "C:\\ProgramData\\Anaconda3\\lib\\site-packages\\statsmodels\\tsa\\base\\tsa_model.py:578: ValueWarning: An unsupported index was provided and will be ignored when e.g. forecasting.\n",
            "  warnings.warn('An unsupported index was provided and will be'\n",
            "C:\\ProgramData\\Anaconda3\\lib\\site-packages\\statsmodels\\tsa\\base\\tsa_model.py:578: ValueWarning: An unsupported index was provided and will be ignored when e.g. forecasting.\n",
            "  warnings.warn('An unsupported index was provided and will be'\n",
            "C:\\ProgramData\\Anaconda3\\lib\\site-packages\\statsmodels\\tsa\\base\\tsa_model.py:578: ValueWarning: An unsupported index was provided and will be ignored when e.g. forecasting.\n",
            "  warnings.warn('An unsupported index was provided and will be'\n"
          ]
        },
        {
          "name": "stdout",
          "output_type": "stream",
          "text": [
            "AR: 2, MA: 5\n"
          ]
        },
        {
          "name": "stderr",
          "output_type": "stream",
          "text": [
            "C:\\ProgramData\\Anaconda3\\lib\\site-packages\\statsmodels\\base\\model.py:566: ConvergenceWarning: Maximum Likelihood optimization failed to converge. Check mle_retvals\n",
            "  warnings.warn(\"Maximum Likelihood optimization failed to \"\n",
            "C:\\ProgramData\\Anaconda3\\lib\\site-packages\\statsmodels\\tsa\\base\\tsa_model.py:578: ValueWarning: An unsupported index was provided and will be ignored when e.g. forecasting.\n",
            "  warnings.warn('An unsupported index was provided and will be'\n",
            "C:\\ProgramData\\Anaconda3\\lib\\site-packages\\statsmodels\\tsa\\base\\tsa_model.py:578: ValueWarning: An unsupported index was provided and will be ignored when e.g. forecasting.\n",
            "  warnings.warn('An unsupported index was provided and will be'\n",
            "C:\\ProgramData\\Anaconda3\\lib\\site-packages\\statsmodels\\tsa\\base\\tsa_model.py:578: ValueWarning: An unsupported index was provided and will be ignored when e.g. forecasting.\n",
            "  warnings.warn('An unsupported index was provided and will be'\n"
          ]
        },
        {
          "name": "stdout",
          "output_type": "stream",
          "text": [
            "AR: 2, MA: 6\n"
          ]
        },
        {
          "name": "stderr",
          "output_type": "stream",
          "text": [
            "C:\\ProgramData\\Anaconda3\\lib\\site-packages\\statsmodels\\base\\model.py:566: ConvergenceWarning: Maximum Likelihood optimization failed to converge. Check mle_retvals\n",
            "  warnings.warn(\"Maximum Likelihood optimization failed to \"\n",
            "C:\\ProgramData\\Anaconda3\\lib\\site-packages\\statsmodels\\tsa\\base\\tsa_model.py:578: ValueWarning: An unsupported index was provided and will be ignored when e.g. forecasting.\n",
            "  warnings.warn('An unsupported index was provided and will be'\n",
            "C:\\ProgramData\\Anaconda3\\lib\\site-packages\\statsmodels\\tsa\\base\\tsa_model.py:578: ValueWarning: An unsupported index was provided and will be ignored when e.g. forecasting.\n",
            "  warnings.warn('An unsupported index was provided and will be'\n",
            "C:\\ProgramData\\Anaconda3\\lib\\site-packages\\statsmodels\\tsa\\base\\tsa_model.py:578: ValueWarning: An unsupported index was provided and will be ignored when e.g. forecasting.\n",
            "  warnings.warn('An unsupported index was provided and will be'\n",
            "C:\\ProgramData\\Anaconda3\\lib\\site-packages\\statsmodels\\tsa\\base\\tsa_model.py:578: ValueWarning: An unsupported index was provided and will be ignored when e.g. forecasting.\n",
            "  warnings.warn('An unsupported index was provided and will be'\n",
            "C:\\ProgramData\\Anaconda3\\lib\\site-packages\\statsmodels\\tsa\\base\\tsa_model.py:578: ValueWarning: An unsupported index was provided and will be ignored when e.g. forecasting.\n",
            "  warnings.warn('An unsupported index was provided and will be'\n",
            "C:\\ProgramData\\Anaconda3\\lib\\site-packages\\statsmodels\\tsa\\base\\tsa_model.py:578: ValueWarning: An unsupported index was provided and will be ignored when e.g. forecasting.\n",
            "  warnings.warn('An unsupported index was provided and will be'\n"
          ]
        },
        {
          "name": "stdout",
          "output_type": "stream",
          "text": [
            "AR: 3, MA: 0\n",
            "AR: 3, MA: 1\n"
          ]
        },
        {
          "name": "stderr",
          "output_type": "stream",
          "text": [
            "C:\\ProgramData\\Anaconda3\\lib\\site-packages\\statsmodels\\base\\model.py:566: ConvergenceWarning: Maximum Likelihood optimization failed to converge. Check mle_retvals\n",
            "  warnings.warn(\"Maximum Likelihood optimization failed to \"\n",
            "C:\\ProgramData\\Anaconda3\\lib\\site-packages\\statsmodels\\tsa\\base\\tsa_model.py:578: ValueWarning: An unsupported index was provided and will be ignored when e.g. forecasting.\n",
            "  warnings.warn('An unsupported index was provided and will be'\n",
            "C:\\ProgramData\\Anaconda3\\lib\\site-packages\\statsmodels\\tsa\\base\\tsa_model.py:578: ValueWarning: An unsupported index was provided and will be ignored when e.g. forecasting.\n",
            "  warnings.warn('An unsupported index was provided and will be'\n",
            "C:\\ProgramData\\Anaconda3\\lib\\site-packages\\statsmodels\\tsa\\base\\tsa_model.py:578: ValueWarning: An unsupported index was provided and will be ignored when e.g. forecasting.\n",
            "  warnings.warn('An unsupported index was provided and will be'\n"
          ]
        },
        {
          "name": "stdout",
          "output_type": "stream",
          "text": [
            "AR: 3, MA: 2\n"
          ]
        },
        {
          "name": "stderr",
          "output_type": "stream",
          "text": [
            "C:\\ProgramData\\Anaconda3\\lib\\site-packages\\statsmodels\\base\\model.py:566: ConvergenceWarning: Maximum Likelihood optimization failed to converge. Check mle_retvals\n",
            "  warnings.warn(\"Maximum Likelihood optimization failed to \"\n",
            "C:\\ProgramData\\Anaconda3\\lib\\site-packages\\statsmodels\\tsa\\base\\tsa_model.py:578: ValueWarning: An unsupported index was provided and will be ignored when e.g. forecasting.\n",
            "  warnings.warn('An unsupported index was provided and will be'\n",
            "C:\\ProgramData\\Anaconda3\\lib\\site-packages\\statsmodels\\tsa\\base\\tsa_model.py:578: ValueWarning: An unsupported index was provided and will be ignored when e.g. forecasting.\n",
            "  warnings.warn('An unsupported index was provided and will be'\n",
            "C:\\ProgramData\\Anaconda3\\lib\\site-packages\\statsmodels\\tsa\\base\\tsa_model.py:578: ValueWarning: An unsupported index was provided and will be ignored when e.g. forecasting.\n",
            "  warnings.warn('An unsupported index was provided and will be'\n"
          ]
        },
        {
          "name": "stdout",
          "output_type": "stream",
          "text": [
            "AR: 3, MA: 3\n"
          ]
        },
        {
          "name": "stderr",
          "output_type": "stream",
          "text": [
            "C:\\ProgramData\\Anaconda3\\lib\\site-packages\\statsmodels\\base\\model.py:566: ConvergenceWarning: Maximum Likelihood optimization failed to converge. Check mle_retvals\n",
            "  warnings.warn(\"Maximum Likelihood optimization failed to \"\n",
            "C:\\ProgramData\\Anaconda3\\lib\\site-packages\\statsmodels\\tsa\\base\\tsa_model.py:578: ValueWarning: An unsupported index was provided and will be ignored when e.g. forecasting.\n",
            "  warnings.warn('An unsupported index was provided and will be'\n",
            "C:\\ProgramData\\Anaconda3\\lib\\site-packages\\statsmodels\\tsa\\base\\tsa_model.py:578: ValueWarning: An unsupported index was provided and will be ignored when e.g. forecasting.\n",
            "  warnings.warn('An unsupported index was provided and will be'\n",
            "C:\\ProgramData\\Anaconda3\\lib\\site-packages\\statsmodels\\tsa\\base\\tsa_model.py:578: ValueWarning: An unsupported index was provided and will be ignored when e.g. forecasting.\n",
            "  warnings.warn('An unsupported index was provided and will be'\n"
          ]
        },
        {
          "name": "stdout",
          "output_type": "stream",
          "text": [
            "AR: 3, MA: 4\n"
          ]
        },
        {
          "name": "stderr",
          "output_type": "stream",
          "text": [
            "C:\\ProgramData\\Anaconda3\\lib\\site-packages\\statsmodels\\base\\model.py:566: ConvergenceWarning: Maximum Likelihood optimization failed to converge. Check mle_retvals\n",
            "  warnings.warn(\"Maximum Likelihood optimization failed to \"\n",
            "C:\\ProgramData\\Anaconda3\\lib\\site-packages\\statsmodels\\tsa\\base\\tsa_model.py:578: ValueWarning: An unsupported index was provided and will be ignored when e.g. forecasting.\n",
            "  warnings.warn('An unsupported index was provided and will be'\n",
            "C:\\ProgramData\\Anaconda3\\lib\\site-packages\\statsmodels\\tsa\\base\\tsa_model.py:578: ValueWarning: An unsupported index was provided and will be ignored when e.g. forecasting.\n",
            "  warnings.warn('An unsupported index was provided and will be'\n",
            "C:\\ProgramData\\Anaconda3\\lib\\site-packages\\statsmodels\\tsa\\base\\tsa_model.py:578: ValueWarning: An unsupported index was provided and will be ignored when e.g. forecasting.\n",
            "  warnings.warn('An unsupported index was provided and will be'\n"
          ]
        },
        {
          "name": "stdout",
          "output_type": "stream",
          "text": [
            "AR: 3, MA: 5\n"
          ]
        },
        {
          "name": "stderr",
          "output_type": "stream",
          "text": [
            "C:\\ProgramData\\Anaconda3\\lib\\site-packages\\statsmodels\\base\\model.py:566: ConvergenceWarning: Maximum Likelihood optimization failed to converge. Check mle_retvals\n",
            "  warnings.warn(\"Maximum Likelihood optimization failed to \"\n",
            "C:\\ProgramData\\Anaconda3\\lib\\site-packages\\statsmodels\\tsa\\base\\tsa_model.py:578: ValueWarning: An unsupported index was provided and will be ignored when e.g. forecasting.\n",
            "  warnings.warn('An unsupported index was provided and will be'\n",
            "C:\\ProgramData\\Anaconda3\\lib\\site-packages\\statsmodels\\tsa\\base\\tsa_model.py:578: ValueWarning: An unsupported index was provided and will be ignored when e.g. forecasting.\n",
            "  warnings.warn('An unsupported index was provided and will be'\n",
            "C:\\ProgramData\\Anaconda3\\lib\\site-packages\\statsmodels\\tsa\\base\\tsa_model.py:578: ValueWarning: An unsupported index was provided and will be ignored when e.g. forecasting.\n",
            "  warnings.warn('An unsupported index was provided and will be'\n"
          ]
        },
        {
          "name": "stdout",
          "output_type": "stream",
          "text": [
            "AR: 3, MA: 6\n"
          ]
        },
        {
          "name": "stderr",
          "output_type": "stream",
          "text": [
            "C:\\ProgramData\\Anaconda3\\lib\\site-packages\\statsmodels\\base\\model.py:566: ConvergenceWarning: Maximum Likelihood optimization failed to converge. Check mle_retvals\n",
            "  warnings.warn(\"Maximum Likelihood optimization failed to \"\n",
            "C:\\ProgramData\\Anaconda3\\lib\\site-packages\\statsmodels\\tsa\\base\\tsa_model.py:578: ValueWarning: An unsupported index was provided and will be ignored when e.g. forecasting.\n",
            "  warnings.warn('An unsupported index was provided and will be'\n",
            "C:\\ProgramData\\Anaconda3\\lib\\site-packages\\statsmodels\\tsa\\base\\tsa_model.py:578: ValueWarning: An unsupported index was provided and will be ignored when e.g. forecasting.\n",
            "  warnings.warn('An unsupported index was provided and will be'\n",
            "C:\\ProgramData\\Anaconda3\\lib\\site-packages\\statsmodels\\tsa\\base\\tsa_model.py:578: ValueWarning: An unsupported index was provided and will be ignored when e.g. forecasting.\n",
            "  warnings.warn('An unsupported index was provided and will be'\n",
            "C:\\ProgramData\\Anaconda3\\lib\\site-packages\\statsmodels\\tsa\\base\\tsa_model.py:578: ValueWarning: An unsupported index was provided and will be ignored when e.g. forecasting.\n",
            "  warnings.warn('An unsupported index was provided and will be'\n",
            "C:\\ProgramData\\Anaconda3\\lib\\site-packages\\statsmodels\\tsa\\base\\tsa_model.py:578: ValueWarning: An unsupported index was provided and will be ignored when e.g. forecasting.\n",
            "  warnings.warn('An unsupported index was provided and will be'\n",
            "C:\\ProgramData\\Anaconda3\\lib\\site-packages\\statsmodels\\tsa\\base\\tsa_model.py:578: ValueWarning: An unsupported index was provided and will be ignored when e.g. forecasting.\n",
            "  warnings.warn('An unsupported index was provided and will be'\n"
          ]
        },
        {
          "name": "stdout",
          "output_type": "stream",
          "text": [
            "AR: 4, MA: 0\n",
            "AR: 4, MA: 1\n"
          ]
        },
        {
          "name": "stderr",
          "output_type": "stream",
          "text": [
            "C:\\ProgramData\\Anaconda3\\lib\\site-packages\\statsmodels\\base\\model.py:566: ConvergenceWarning: Maximum Likelihood optimization failed to converge. Check mle_retvals\n",
            "  warnings.warn(\"Maximum Likelihood optimization failed to \"\n",
            "C:\\ProgramData\\Anaconda3\\lib\\site-packages\\statsmodels\\tsa\\base\\tsa_model.py:578: ValueWarning: An unsupported index was provided and will be ignored when e.g. forecasting.\n",
            "  warnings.warn('An unsupported index was provided and will be'\n",
            "C:\\ProgramData\\Anaconda3\\lib\\site-packages\\statsmodels\\tsa\\base\\tsa_model.py:578: ValueWarning: An unsupported index was provided and will be ignored when e.g. forecasting.\n",
            "  warnings.warn('An unsupported index was provided and will be'\n",
            "C:\\ProgramData\\Anaconda3\\lib\\site-packages\\statsmodels\\tsa\\base\\tsa_model.py:578: ValueWarning: An unsupported index was provided and will be ignored when e.g. forecasting.\n",
            "  warnings.warn('An unsupported index was provided and will be'\n"
          ]
        },
        {
          "name": "stdout",
          "output_type": "stream",
          "text": [
            "AR: 4, MA: 2\n"
          ]
        },
        {
          "name": "stderr",
          "output_type": "stream",
          "text": [
            "C:\\ProgramData\\Anaconda3\\lib\\site-packages\\statsmodels\\base\\model.py:566: ConvergenceWarning: Maximum Likelihood optimization failed to converge. Check mle_retvals\n",
            "  warnings.warn(\"Maximum Likelihood optimization failed to \"\n",
            "C:\\ProgramData\\Anaconda3\\lib\\site-packages\\statsmodels\\tsa\\base\\tsa_model.py:578: ValueWarning: An unsupported index was provided and will be ignored when e.g. forecasting.\n",
            "  warnings.warn('An unsupported index was provided and will be'\n",
            "C:\\ProgramData\\Anaconda3\\lib\\site-packages\\statsmodels\\tsa\\base\\tsa_model.py:578: ValueWarning: An unsupported index was provided and will be ignored when e.g. forecasting.\n",
            "  warnings.warn('An unsupported index was provided and will be'\n",
            "C:\\ProgramData\\Anaconda3\\lib\\site-packages\\statsmodels\\tsa\\base\\tsa_model.py:578: ValueWarning: An unsupported index was provided and will be ignored when e.g. forecasting.\n",
            "  warnings.warn('An unsupported index was provided and will be'\n"
          ]
        },
        {
          "name": "stdout",
          "output_type": "stream",
          "text": [
            "AR: 4, MA: 3\n"
          ]
        },
        {
          "name": "stderr",
          "output_type": "stream",
          "text": [
            "C:\\ProgramData\\Anaconda3\\lib\\site-packages\\statsmodels\\base\\model.py:566: ConvergenceWarning: Maximum Likelihood optimization failed to converge. Check mle_retvals\n",
            "  warnings.warn(\"Maximum Likelihood optimization failed to \"\n",
            "C:\\ProgramData\\Anaconda3\\lib\\site-packages\\statsmodels\\tsa\\base\\tsa_model.py:578: ValueWarning: An unsupported index was provided and will be ignored when e.g. forecasting.\n",
            "  warnings.warn('An unsupported index was provided and will be'\n",
            "C:\\ProgramData\\Anaconda3\\lib\\site-packages\\statsmodels\\tsa\\base\\tsa_model.py:578: ValueWarning: An unsupported index was provided and will be ignored when e.g. forecasting.\n",
            "  warnings.warn('An unsupported index was provided and will be'\n",
            "C:\\ProgramData\\Anaconda3\\lib\\site-packages\\statsmodels\\tsa\\base\\tsa_model.py:578: ValueWarning: An unsupported index was provided and will be ignored when e.g. forecasting.\n",
            "  warnings.warn('An unsupported index was provided and will be'\n"
          ]
        },
        {
          "name": "stdout",
          "output_type": "stream",
          "text": [
            "AR: 4, MA: 4\n"
          ]
        },
        {
          "name": "stderr",
          "output_type": "stream",
          "text": [
            "C:\\ProgramData\\Anaconda3\\lib\\site-packages\\statsmodels\\base\\model.py:566: ConvergenceWarning: Maximum Likelihood optimization failed to converge. Check mle_retvals\n",
            "  warnings.warn(\"Maximum Likelihood optimization failed to \"\n",
            "C:\\ProgramData\\Anaconda3\\lib\\site-packages\\statsmodels\\tsa\\base\\tsa_model.py:578: ValueWarning: An unsupported index was provided and will be ignored when e.g. forecasting.\n",
            "  warnings.warn('An unsupported index was provided and will be'\n",
            "C:\\ProgramData\\Anaconda3\\lib\\site-packages\\statsmodels\\tsa\\base\\tsa_model.py:578: ValueWarning: An unsupported index was provided and will be ignored when e.g. forecasting.\n",
            "  warnings.warn('An unsupported index was provided and will be'\n",
            "C:\\ProgramData\\Anaconda3\\lib\\site-packages\\statsmodels\\tsa\\base\\tsa_model.py:578: ValueWarning: An unsupported index was provided and will be ignored when e.g. forecasting.\n",
            "  warnings.warn('An unsupported index was provided and will be'\n",
            "C:\\ProgramData\\Anaconda3\\lib\\site-packages\\statsmodels\\tsa\\statespace\\sarimax.py:966: UserWarning: Non-stationary starting autoregressive parameters found. Using zeros as starting parameters.\n",
            "  warn('Non-stationary starting autoregressive parameters'\n"
          ]
        },
        {
          "name": "stdout",
          "output_type": "stream",
          "text": [
            "AR: 4, MA: 5\n"
          ]
        },
        {
          "name": "stderr",
          "output_type": "stream",
          "text": [
            "C:\\ProgramData\\Anaconda3\\lib\\site-packages\\statsmodels\\base\\model.py:566: ConvergenceWarning: Maximum Likelihood optimization failed to converge. Check mle_retvals\n",
            "  warnings.warn(\"Maximum Likelihood optimization failed to \"\n",
            "C:\\ProgramData\\Anaconda3\\lib\\site-packages\\statsmodels\\tsa\\base\\tsa_model.py:578: ValueWarning: An unsupported index was provided and will be ignored when e.g. forecasting.\n",
            "  warnings.warn('An unsupported index was provided and will be'\n",
            "C:\\ProgramData\\Anaconda3\\lib\\site-packages\\statsmodels\\tsa\\base\\tsa_model.py:578: ValueWarning: An unsupported index was provided and will be ignored when e.g. forecasting.\n",
            "  warnings.warn('An unsupported index was provided and will be'\n",
            "C:\\ProgramData\\Anaconda3\\lib\\site-packages\\statsmodels\\tsa\\base\\tsa_model.py:578: ValueWarning: An unsupported index was provided and will be ignored when e.g. forecasting.\n",
            "  warnings.warn('An unsupported index was provided and will be'\n"
          ]
        },
        {
          "name": "stdout",
          "output_type": "stream",
          "text": [
            "AR: 4, MA: 6\n"
          ]
        },
        {
          "name": "stderr",
          "output_type": "stream",
          "text": [
            "C:\\ProgramData\\Anaconda3\\lib\\site-packages\\statsmodels\\base\\model.py:566: ConvergenceWarning: Maximum Likelihood optimization failed to converge. Check mle_retvals\n",
            "  warnings.warn(\"Maximum Likelihood optimization failed to \"\n",
            "C:\\ProgramData\\Anaconda3\\lib\\site-packages\\statsmodels\\tsa\\base\\tsa_model.py:578: ValueWarning: An unsupported index was provided and will be ignored when e.g. forecasting.\n",
            "  warnings.warn('An unsupported index was provided and will be'\n",
            "C:\\ProgramData\\Anaconda3\\lib\\site-packages\\statsmodels\\tsa\\base\\tsa_model.py:578: ValueWarning: An unsupported index was provided and will be ignored when e.g. forecasting.\n",
            "  warnings.warn('An unsupported index was provided and will be'\n",
            "C:\\ProgramData\\Anaconda3\\lib\\site-packages\\statsmodels\\tsa\\base\\tsa_model.py:578: ValueWarning: An unsupported index was provided and will be ignored when e.g. forecasting.\n",
            "  warnings.warn('An unsupported index was provided and will be'\n"
          ]
        },
        {
          "name": "stdout",
          "output_type": "stream",
          "text": [
            "AR: 5, MA: 0\n",
            "AR: 5, MA: 1\n"
          ]
        },
        {
          "name": "stderr",
          "output_type": "stream",
          "text": [
            "C:\\ProgramData\\Anaconda3\\lib\\site-packages\\statsmodels\\tsa\\base\\tsa_model.py:578: ValueWarning: An unsupported index was provided and will be ignored when e.g. forecasting.\n",
            "  warnings.warn('An unsupported index was provided and will be'\n",
            "C:\\ProgramData\\Anaconda3\\lib\\site-packages\\statsmodels\\tsa\\base\\tsa_model.py:578: ValueWarning: An unsupported index was provided and will be ignored when e.g. forecasting.\n",
            "  warnings.warn('An unsupported index was provided and will be'\n",
            "C:\\ProgramData\\Anaconda3\\lib\\site-packages\\statsmodels\\tsa\\base\\tsa_model.py:578: ValueWarning: An unsupported index was provided and will be ignored when e.g. forecasting.\n",
            "  warnings.warn('An unsupported index was provided and will be'\n",
            "C:\\ProgramData\\Anaconda3\\lib\\site-packages\\statsmodels\\base\\model.py:566: ConvergenceWarning: Maximum Likelihood optimization failed to converge. Check mle_retvals\n",
            "  warnings.warn(\"Maximum Likelihood optimization failed to \"\n",
            "C:\\ProgramData\\Anaconda3\\lib\\site-packages\\statsmodels\\tsa\\base\\tsa_model.py:578: ValueWarning: An unsupported index was provided and will be ignored when e.g. forecasting.\n",
            "  warnings.warn('An unsupported index was provided and will be'\n",
            "C:\\ProgramData\\Anaconda3\\lib\\site-packages\\statsmodels\\tsa\\base\\tsa_model.py:578: ValueWarning: An unsupported index was provided and will be ignored when e.g. forecasting.\n",
            "  warnings.warn('An unsupported index was provided and will be'\n",
            "C:\\ProgramData\\Anaconda3\\lib\\site-packages\\statsmodels\\tsa\\base\\tsa_model.py:578: ValueWarning: An unsupported index was provided and will be ignored when e.g. forecasting.\n",
            "  warnings.warn('An unsupported index was provided and will be'\n"
          ]
        },
        {
          "name": "stdout",
          "output_type": "stream",
          "text": [
            "AR: 5, MA: 2\n"
          ]
        },
        {
          "name": "stderr",
          "output_type": "stream",
          "text": [
            "C:\\ProgramData\\Anaconda3\\lib\\site-packages\\statsmodels\\base\\model.py:566: ConvergenceWarning: Maximum Likelihood optimization failed to converge. Check mle_retvals\n",
            "  warnings.warn(\"Maximum Likelihood optimization failed to \"\n",
            "C:\\ProgramData\\Anaconda3\\lib\\site-packages\\statsmodels\\tsa\\base\\tsa_model.py:578: ValueWarning: An unsupported index was provided and will be ignored when e.g. forecasting.\n",
            "  warnings.warn('An unsupported index was provided and will be'\n",
            "C:\\ProgramData\\Anaconda3\\lib\\site-packages\\statsmodels\\tsa\\base\\tsa_model.py:578: ValueWarning: An unsupported index was provided and will be ignored when e.g. forecasting.\n",
            "  warnings.warn('An unsupported index was provided and will be'\n",
            "C:\\ProgramData\\Anaconda3\\lib\\site-packages\\statsmodels\\tsa\\base\\tsa_model.py:578: ValueWarning: An unsupported index was provided and will be ignored when e.g. forecasting.\n",
            "  warnings.warn('An unsupported index was provided and will be'\n"
          ]
        },
        {
          "name": "stdout",
          "output_type": "stream",
          "text": [
            "AR: 5, MA: 3\n"
          ]
        },
        {
          "name": "stderr",
          "output_type": "stream",
          "text": [
            "C:\\ProgramData\\Anaconda3\\lib\\site-packages\\statsmodels\\base\\model.py:566: ConvergenceWarning: Maximum Likelihood optimization failed to converge. Check mle_retvals\n",
            "  warnings.warn(\"Maximum Likelihood optimization failed to \"\n",
            "C:\\ProgramData\\Anaconda3\\lib\\site-packages\\statsmodels\\tsa\\base\\tsa_model.py:578: ValueWarning: An unsupported index was provided and will be ignored when e.g. forecasting.\n",
            "  warnings.warn('An unsupported index was provided and will be'\n",
            "C:\\ProgramData\\Anaconda3\\lib\\site-packages\\statsmodels\\tsa\\base\\tsa_model.py:578: ValueWarning: An unsupported index was provided and will be ignored when e.g. forecasting.\n",
            "  warnings.warn('An unsupported index was provided and will be'\n",
            "C:\\ProgramData\\Anaconda3\\lib\\site-packages\\statsmodels\\tsa\\base\\tsa_model.py:578: ValueWarning: An unsupported index was provided and will be ignored when e.g. forecasting.\n",
            "  warnings.warn('An unsupported index was provided and will be'\n"
          ]
        },
        {
          "name": "stdout",
          "output_type": "stream",
          "text": [
            "AR: 5, MA: 4\n"
          ]
        },
        {
          "name": "stderr",
          "output_type": "stream",
          "text": [
            "C:\\ProgramData\\Anaconda3\\lib\\site-packages\\statsmodels\\base\\model.py:566: ConvergenceWarning: Maximum Likelihood optimization failed to converge. Check mle_retvals\n",
            "  warnings.warn(\"Maximum Likelihood optimization failed to \"\n",
            "C:\\ProgramData\\Anaconda3\\lib\\site-packages\\statsmodels\\tsa\\base\\tsa_model.py:578: ValueWarning: An unsupported index was provided and will be ignored when e.g. forecasting.\n",
            "  warnings.warn('An unsupported index was provided and will be'\n",
            "C:\\ProgramData\\Anaconda3\\lib\\site-packages\\statsmodels\\tsa\\base\\tsa_model.py:578: ValueWarning: An unsupported index was provided and will be ignored when e.g. forecasting.\n",
            "  warnings.warn('An unsupported index was provided and will be'\n",
            "C:\\ProgramData\\Anaconda3\\lib\\site-packages\\statsmodels\\tsa\\base\\tsa_model.py:578: ValueWarning: An unsupported index was provided and will be ignored when e.g. forecasting.\n",
            "  warnings.warn('An unsupported index was provided and will be'\n"
          ]
        },
        {
          "name": "stdout",
          "output_type": "stream",
          "text": [
            "AR: 5, MA: 5\n"
          ]
        },
        {
          "name": "stderr",
          "output_type": "stream",
          "text": [
            "C:\\ProgramData\\Anaconda3\\lib\\site-packages\\statsmodels\\base\\model.py:566: ConvergenceWarning: Maximum Likelihood optimization failed to converge. Check mle_retvals\n",
            "  warnings.warn(\"Maximum Likelihood optimization failed to \"\n",
            "C:\\ProgramData\\Anaconda3\\lib\\site-packages\\statsmodels\\tsa\\base\\tsa_model.py:578: ValueWarning: An unsupported index was provided and will be ignored when e.g. forecasting.\n",
            "  warnings.warn('An unsupported index was provided and will be'\n",
            "C:\\ProgramData\\Anaconda3\\lib\\site-packages\\statsmodels\\tsa\\base\\tsa_model.py:578: ValueWarning: An unsupported index was provided and will be ignored when e.g. forecasting.\n",
            "  warnings.warn('An unsupported index was provided and will be'\n",
            "C:\\ProgramData\\Anaconda3\\lib\\site-packages\\statsmodels\\tsa\\base\\tsa_model.py:578: ValueWarning: An unsupported index was provided and will be ignored when e.g. forecasting.\n",
            "  warnings.warn('An unsupported index was provided and will be'\n"
          ]
        },
        {
          "name": "stdout",
          "output_type": "stream",
          "text": [
            "AR: 5, MA: 6\n"
          ]
        },
        {
          "name": "stderr",
          "output_type": "stream",
          "text": [
            "C:\\ProgramData\\Anaconda3\\lib\\site-packages\\statsmodels\\base\\model.py:566: ConvergenceWarning: Maximum Likelihood optimization failed to converge. Check mle_retvals\n",
            "  warnings.warn(\"Maximum Likelihood optimization failed to \"\n",
            "C:\\ProgramData\\Anaconda3\\lib\\site-packages\\statsmodels\\tsa\\base\\tsa_model.py:578: ValueWarning: An unsupported index was provided and will be ignored when e.g. forecasting.\n",
            "  warnings.warn('An unsupported index was provided and will be'\n",
            "C:\\ProgramData\\Anaconda3\\lib\\site-packages\\statsmodels\\tsa\\base\\tsa_model.py:578: ValueWarning: An unsupported index was provided and will be ignored when e.g. forecasting.\n",
            "  warnings.warn('An unsupported index was provided and will be'\n",
            "C:\\ProgramData\\Anaconda3\\lib\\site-packages\\statsmodels\\tsa\\base\\tsa_model.py:578: ValueWarning: An unsupported index was provided and will be ignored when e.g. forecasting.\n",
            "  warnings.warn('An unsupported index was provided and will be'\n"
          ]
        },
        {
          "name": "stdout",
          "output_type": "stream",
          "text": [
            "AR: 6, MA: 0\n",
            "AR: 6, MA: 1\n"
          ]
        },
        {
          "name": "stderr",
          "output_type": "stream",
          "text": [
            "C:\\ProgramData\\Anaconda3\\lib\\site-packages\\statsmodels\\tsa\\base\\tsa_model.py:578: ValueWarning: An unsupported index was provided and will be ignored when e.g. forecasting.\n",
            "  warnings.warn('An unsupported index was provided and will be'\n",
            "C:\\ProgramData\\Anaconda3\\lib\\site-packages\\statsmodels\\tsa\\base\\tsa_model.py:578: ValueWarning: An unsupported index was provided and will be ignored when e.g. forecasting.\n",
            "  warnings.warn('An unsupported index was provided and will be'\n",
            "C:\\ProgramData\\Anaconda3\\lib\\site-packages\\statsmodels\\tsa\\base\\tsa_model.py:578: ValueWarning: An unsupported index was provided and will be ignored when e.g. forecasting.\n",
            "  warnings.warn('An unsupported index was provided and will be'\n",
            "C:\\ProgramData\\Anaconda3\\lib\\site-packages\\statsmodels\\base\\model.py:566: ConvergenceWarning: Maximum Likelihood optimization failed to converge. Check mle_retvals\n",
            "  warnings.warn(\"Maximum Likelihood optimization failed to \"\n",
            "C:\\ProgramData\\Anaconda3\\lib\\site-packages\\statsmodels\\tsa\\base\\tsa_model.py:578: ValueWarning: An unsupported index was provided and will be ignored when e.g. forecasting.\n",
            "  warnings.warn('An unsupported index was provided and will be'\n",
            "C:\\ProgramData\\Anaconda3\\lib\\site-packages\\statsmodels\\tsa\\base\\tsa_model.py:578: ValueWarning: An unsupported index was provided and will be ignored when e.g. forecasting.\n",
            "  warnings.warn('An unsupported index was provided and will be'\n",
            "C:\\ProgramData\\Anaconda3\\lib\\site-packages\\statsmodels\\tsa\\base\\tsa_model.py:578: ValueWarning: An unsupported index was provided and will be ignored when e.g. forecasting.\n",
            "  warnings.warn('An unsupported index was provided and will be'\n"
          ]
        },
        {
          "name": "stdout",
          "output_type": "stream",
          "text": [
            "AR: 6, MA: 2\n"
          ]
        },
        {
          "name": "stderr",
          "output_type": "stream",
          "text": [
            "C:\\ProgramData\\Anaconda3\\lib\\site-packages\\statsmodels\\base\\model.py:566: ConvergenceWarning: Maximum Likelihood optimization failed to converge. Check mle_retvals\n",
            "  warnings.warn(\"Maximum Likelihood optimization failed to \"\n",
            "C:\\ProgramData\\Anaconda3\\lib\\site-packages\\statsmodels\\tsa\\base\\tsa_model.py:578: ValueWarning: An unsupported index was provided and will be ignored when e.g. forecasting.\n",
            "  warnings.warn('An unsupported index was provided and will be'\n",
            "C:\\ProgramData\\Anaconda3\\lib\\site-packages\\statsmodels\\tsa\\base\\tsa_model.py:578: ValueWarning: An unsupported index was provided and will be ignored when e.g. forecasting.\n",
            "  warnings.warn('An unsupported index was provided and will be'\n",
            "C:\\ProgramData\\Anaconda3\\lib\\site-packages\\statsmodels\\tsa\\base\\tsa_model.py:578: ValueWarning: An unsupported index was provided and will be ignored when e.g. forecasting.\n",
            "  warnings.warn('An unsupported index was provided and will be'\n"
          ]
        },
        {
          "name": "stdout",
          "output_type": "stream",
          "text": [
            "AR: 6, MA: 3\n"
          ]
        },
        {
          "name": "stderr",
          "output_type": "stream",
          "text": [
            "C:\\ProgramData\\Anaconda3\\lib\\site-packages\\statsmodels\\base\\model.py:566: ConvergenceWarning: Maximum Likelihood optimization failed to converge. Check mle_retvals\n",
            "  warnings.warn(\"Maximum Likelihood optimization failed to \"\n",
            "C:\\ProgramData\\Anaconda3\\lib\\site-packages\\statsmodels\\tsa\\base\\tsa_model.py:578: ValueWarning: An unsupported index was provided and will be ignored when e.g. forecasting.\n",
            "  warnings.warn('An unsupported index was provided and will be'\n",
            "C:\\ProgramData\\Anaconda3\\lib\\site-packages\\statsmodels\\tsa\\base\\tsa_model.py:578: ValueWarning: An unsupported index was provided and will be ignored when e.g. forecasting.\n",
            "  warnings.warn('An unsupported index was provided and will be'\n",
            "C:\\ProgramData\\Anaconda3\\lib\\site-packages\\statsmodels\\tsa\\base\\tsa_model.py:578: ValueWarning: An unsupported index was provided and will be ignored when e.g. forecasting.\n",
            "  warnings.warn('An unsupported index was provided and will be'\n"
          ]
        },
        {
          "name": "stdout",
          "output_type": "stream",
          "text": [
            "AR: 6, MA: 4\n"
          ]
        },
        {
          "name": "stderr",
          "output_type": "stream",
          "text": [
            "C:\\ProgramData\\Anaconda3\\lib\\site-packages\\statsmodels\\base\\model.py:566: ConvergenceWarning: Maximum Likelihood optimization failed to converge. Check mle_retvals\n",
            "  warnings.warn(\"Maximum Likelihood optimization failed to \"\n",
            "C:\\ProgramData\\Anaconda3\\lib\\site-packages\\statsmodels\\tsa\\base\\tsa_model.py:578: ValueWarning: An unsupported index was provided and will be ignored when e.g. forecasting.\n",
            "  warnings.warn('An unsupported index was provided and will be'\n",
            "C:\\ProgramData\\Anaconda3\\lib\\site-packages\\statsmodels\\tsa\\base\\tsa_model.py:578: ValueWarning: An unsupported index was provided and will be ignored when e.g. forecasting.\n",
            "  warnings.warn('An unsupported index was provided and will be'\n",
            "C:\\ProgramData\\Anaconda3\\lib\\site-packages\\statsmodels\\tsa\\base\\tsa_model.py:578: ValueWarning: An unsupported index was provided and will be ignored when e.g. forecasting.\n",
            "  warnings.warn('An unsupported index was provided and will be'\n"
          ]
        },
        {
          "name": "stdout",
          "output_type": "stream",
          "text": [
            "AR: 6, MA: 5\n"
          ]
        },
        {
          "name": "stderr",
          "output_type": "stream",
          "text": [
            "C:\\ProgramData\\Anaconda3\\lib\\site-packages\\statsmodels\\base\\model.py:566: ConvergenceWarning: Maximum Likelihood optimization failed to converge. Check mle_retvals\n",
            "  warnings.warn(\"Maximum Likelihood optimization failed to \"\n",
            "C:\\ProgramData\\Anaconda3\\lib\\site-packages\\statsmodels\\tsa\\base\\tsa_model.py:578: ValueWarning: An unsupported index was provided and will be ignored when e.g. forecasting.\n",
            "  warnings.warn('An unsupported index was provided and will be'\n",
            "C:\\ProgramData\\Anaconda3\\lib\\site-packages\\statsmodels\\tsa\\base\\tsa_model.py:578: ValueWarning: An unsupported index was provided and will be ignored when e.g. forecasting.\n",
            "  warnings.warn('An unsupported index was provided and will be'\n",
            "C:\\ProgramData\\Anaconda3\\lib\\site-packages\\statsmodels\\tsa\\base\\tsa_model.py:578: ValueWarning: An unsupported index was provided and will be ignored when e.g. forecasting.\n",
            "  warnings.warn('An unsupported index was provided and will be'\n"
          ]
        },
        {
          "name": "stdout",
          "output_type": "stream",
          "text": [
            "AR: 6, MA: 6\n"
          ]
        },
        {
          "name": "stderr",
          "output_type": "stream",
          "text": [
            "C:\\ProgramData\\Anaconda3\\lib\\site-packages\\statsmodels\\base\\model.py:566: ConvergenceWarning: Maximum Likelihood optimization failed to converge. Check mle_retvals\n",
            "  warnings.warn(\"Maximum Likelihood optimization failed to \"\n"
          ]
        },
        {
          "data": {
            "text/html": [
              "<div>\n",
              "<style scoped>\n",
              "    .dataframe tbody tr th:only-of-type {\n",
              "        vertical-align: middle;\n",
              "    }\n",
              "\n",
              "    .dataframe tbody tr th {\n",
              "        vertical-align: top;\n",
              "    }\n",
              "\n",
              "    .dataframe thead th {\n",
              "        text-align: right;\n",
              "    }\n",
              "</style>\n",
              "<table border=\"1\" class=\"dataframe\">\n",
              "  <thead>\n",
              "    <tr style=\"text-align: right;\">\n",
              "      <th></th>\n",
              "      <th></th>\n",
              "      <th>AIC</th>\n",
              "      <th>BIC</th>\n",
              "    </tr>\n",
              "    <tr>\n",
              "      <th>AR</th>\n",
              "      <th>MA</th>\n",
              "      <th></th>\n",
              "      <th></th>\n",
              "    </tr>\n",
              "  </thead>\n",
              "  <tbody>\n",
              "    <tr>\n",
              "      <th rowspan=\"7\" valign=\"top\">0</th>\n",
              "      <th>0</th>\n",
              "      <td>2080.889098</td>\n",
              "      <td>2088.587747</td>\n",
              "    </tr>\n",
              "    <tr>\n",
              "      <th>1</th>\n",
              "      <td>1774.655532</td>\n",
              "      <td>1786.203506</td>\n",
              "    </tr>\n",
              "    <tr>\n",
              "      <th>2</th>\n",
              "      <td>1741.689285</td>\n",
              "      <td>1757.086584</td>\n",
              "    </tr>\n",
              "    <tr>\n",
              "      <th>3</th>\n",
              "      <td>1721.272122</td>\n",
              "      <td>1740.518746</td>\n",
              "    </tr>\n",
              "    <tr>\n",
              "      <th>4</th>\n",
              "      <td>1714.031668</td>\n",
              "      <td>1737.127616</td>\n",
              "    </tr>\n",
              "    <tr>\n",
              "      <th>5</th>\n",
              "      <td>1715.912765</td>\n",
              "      <td>1742.858039</td>\n",
              "    </tr>\n",
              "    <tr>\n",
              "      <th>6</th>\n",
              "      <td>1696.806253</td>\n",
              "      <td>1727.600851</td>\n",
              "    </tr>\n",
              "    <tr>\n",
              "      <th rowspan=\"7\" valign=\"top\">1</th>\n",
              "      <th>0</th>\n",
              "      <td>1950.914209</td>\n",
              "      <td>1962.462183</td>\n",
              "    </tr>\n",
              "    <tr>\n",
              "      <th>1</th>\n",
              "      <td>1756.401116</td>\n",
              "      <td>1771.798415</td>\n",
              "    </tr>\n",
              "    <tr>\n",
              "      <th>2</th>\n",
              "      <td>1778.048058</td>\n",
              "      <td>1797.294682</td>\n",
              "    </tr>\n",
              "    <tr>\n",
              "      <th>3</th>\n",
              "      <td>1725.306124</td>\n",
              "      <td>1748.402073</td>\n",
              "    </tr>\n",
              "    <tr>\n",
              "      <th>4</th>\n",
              "      <td>1725.259532</td>\n",
              "      <td>1752.204806</td>\n",
              "    </tr>\n",
              "    <tr>\n",
              "      <th>5</th>\n",
              "      <td>1705.321956</td>\n",
              "      <td>1736.116554</td>\n",
              "    </tr>\n",
              "    <tr>\n",
              "      <th>6</th>\n",
              "      <td>1716.197067</td>\n",
              "      <td>1750.840990</td>\n",
              "    </tr>\n",
              "    <tr>\n",
              "      <th rowspan=\"7\" valign=\"top\">2</th>\n",
              "      <th>0</th>\n",
              "      <td>1910.253063</td>\n",
              "      <td>1925.650362</td>\n",
              "    </tr>\n",
              "    <tr>\n",
              "      <th>1</th>\n",
              "      <td>1750.682409</td>\n",
              "      <td>1769.929033</td>\n",
              "    </tr>\n",
              "    <tr>\n",
              "      <th>2</th>\n",
              "      <td>1746.478299</td>\n",
              "      <td>1769.574247</td>\n",
              "    </tr>\n",
              "    <tr>\n",
              "      <th>3</th>\n",
              "      <td>1687.266380</td>\n",
              "      <td>1714.211653</td>\n",
              "    </tr>\n",
              "    <tr>\n",
              "      <th>4</th>\n",
              "      <td>1707.570474</td>\n",
              "      <td>1738.365072</td>\n",
              "    </tr>\n",
              "    <tr>\n",
              "      <th>5</th>\n",
              "      <td>1660.002774</td>\n",
              "      <td>1694.646697</td>\n",
              "    </tr>\n",
              "    <tr>\n",
              "      <th>6</th>\n",
              "      <td>1668.576299</td>\n",
              "      <td>1707.069547</td>\n",
              "    </tr>\n",
              "    <tr>\n",
              "      <th rowspan=\"7\" valign=\"top\">3</th>\n",
              "      <th>0</th>\n",
              "      <td>1896.603972</td>\n",
              "      <td>1915.850596</td>\n",
              "    </tr>\n",
              "    <tr>\n",
              "      <th>1</th>\n",
              "      <td>1737.690950</td>\n",
              "      <td>1760.786898</td>\n",
              "    </tr>\n",
              "    <tr>\n",
              "      <th>2</th>\n",
              "      <td>1748.410899</td>\n",
              "      <td>1775.356172</td>\n",
              "    </tr>\n",
              "    <tr>\n",
              "      <th>3</th>\n",
              "      <td>1689.308465</td>\n",
              "      <td>1720.103063</td>\n",
              "    </tr>\n",
              "    <tr>\n",
              "      <th>4</th>\n",
              "      <td>1679.164040</td>\n",
              "      <td>1713.807963</td>\n",
              "    </tr>\n",
              "    <tr>\n",
              "      <th>5</th>\n",
              "      <td>1701.613475</td>\n",
              "      <td>1740.106722</td>\n",
              "    </tr>\n",
              "    <tr>\n",
              "      <th>6</th>\n",
              "      <td>1697.253784</td>\n",
              "      <td>1739.596357</td>\n",
              "    </tr>\n",
              "    <tr>\n",
              "      <th rowspan=\"7\" valign=\"top\">4</th>\n",
              "      <th>0</th>\n",
              "      <td>1797.881795</td>\n",
              "      <td>1820.977743</td>\n",
              "    </tr>\n",
              "    <tr>\n",
              "      <th>1</th>\n",
              "      <td>1698.373650</td>\n",
              "      <td>1725.318924</td>\n",
              "    </tr>\n",
              "    <tr>\n",
              "      <th>2</th>\n",
              "      <td>1685.557696</td>\n",
              "      <td>1716.352294</td>\n",
              "    </tr>\n",
              "    <tr>\n",
              "      <th>3</th>\n",
              "      <td>1656.243307</td>\n",
              "      <td>1690.887230</td>\n",
              "    </tr>\n",
              "    <tr>\n",
              "      <th>4</th>\n",
              "      <td>1643.326139</td>\n",
              "      <td>1681.819387</td>\n",
              "    </tr>\n",
              "    <tr>\n",
              "      <th>5</th>\n",
              "      <td>1625.550021</td>\n",
              "      <td>1667.892593</td>\n",
              "    </tr>\n",
              "    <tr>\n",
              "      <th>6</th>\n",
              "      <td>1661.326936</td>\n",
              "      <td>1707.518833</td>\n",
              "    </tr>\n",
              "    <tr>\n",
              "      <th rowspan=\"7\" valign=\"top\">5</th>\n",
              "      <th>0</th>\n",
              "      <td>1793.678114</td>\n",
              "      <td>1820.623387</td>\n",
              "    </tr>\n",
              "    <tr>\n",
              "      <th>1</th>\n",
              "      <td>1697.256666</td>\n",
              "      <td>1728.051265</td>\n",
              "    </tr>\n",
              "    <tr>\n",
              "      <th>2</th>\n",
              "      <td>1693.132792</td>\n",
              "      <td>1727.776715</td>\n",
              "    </tr>\n",
              "    <tr>\n",
              "      <th>3</th>\n",
              "      <td>1672.387923</td>\n",
              "      <td>1710.881170</td>\n",
              "    </tr>\n",
              "    <tr>\n",
              "      <th>4</th>\n",
              "      <td>1633.261765</td>\n",
              "      <td>1675.604338</td>\n",
              "    </tr>\n",
              "    <tr>\n",
              "      <th>5</th>\n",
              "      <td>1665.198784</td>\n",
              "      <td>1711.390681</td>\n",
              "    </tr>\n",
              "    <tr>\n",
              "      <th>6</th>\n",
              "      <td>1628.725620</td>\n",
              "      <td>1678.766842</td>\n",
              "    </tr>\n",
              "    <tr>\n",
              "      <th rowspan=\"7\" valign=\"top\">6</th>\n",
              "      <th>0</th>\n",
              "      <td>1739.908774</td>\n",
              "      <td>1770.703373</td>\n",
              "    </tr>\n",
              "    <tr>\n",
              "      <th>1</th>\n",
              "      <td>1687.149922</td>\n",
              "      <td>1721.793845</td>\n",
              "    </tr>\n",
              "    <tr>\n",
              "      <th>2</th>\n",
              "      <td>1686.284490</td>\n",
              "      <td>1724.777738</td>\n",
              "    </tr>\n",
              "    <tr>\n",
              "      <th>3</th>\n",
              "      <td>1649.485125</td>\n",
              "      <td>1691.827697</td>\n",
              "    </tr>\n",
              "    <tr>\n",
              "      <th>4</th>\n",
              "      <td>1658.705254</td>\n",
              "      <td>1704.897151</td>\n",
              "    </tr>\n",
              "    <tr>\n",
              "      <th>5</th>\n",
              "      <td>1653.132184</td>\n",
              "      <td>1703.173406</td>\n",
              "    </tr>\n",
              "    <tr>\n",
              "      <th>6</th>\n",
              "      <td>1619.421459</td>\n",
              "      <td>1673.312006</td>\n",
              "    </tr>\n",
              "  </tbody>\n",
              "</table>\n",
              "</div>"
            ],
            "text/plain": [
              "               AIC          BIC\n",
              "AR MA                          \n",
              "0  0   2080.889098  2088.587747\n",
              "   1   1774.655532  1786.203506\n",
              "   2   1741.689285  1757.086584\n",
              "   3   1721.272122  1740.518746\n",
              "   4   1714.031668  1737.127616\n",
              "   5   1715.912765  1742.858039\n",
              "   6   1696.806253  1727.600851\n",
              "1  0   1950.914209  1962.462183\n",
              "   1   1756.401116  1771.798415\n",
              "   2   1778.048058  1797.294682\n",
              "   3   1725.306124  1748.402073\n",
              "   4   1725.259532  1752.204806\n",
              "   5   1705.321956  1736.116554\n",
              "   6   1716.197067  1750.840990\n",
              "2  0   1910.253063  1925.650362\n",
              "   1   1750.682409  1769.929033\n",
              "   2   1746.478299  1769.574247\n",
              "   3   1687.266380  1714.211653\n",
              "   4   1707.570474  1738.365072\n",
              "   5   1660.002774  1694.646697\n",
              "   6   1668.576299  1707.069547\n",
              "3  0   1896.603972  1915.850596\n",
              "   1   1737.690950  1760.786898\n",
              "   2   1748.410899  1775.356172\n",
              "   3   1689.308465  1720.103063\n",
              "   4   1679.164040  1713.807963\n",
              "   5   1701.613475  1740.106722\n",
              "   6   1697.253784  1739.596357\n",
              "4  0   1797.881795  1820.977743\n",
              "   1   1698.373650  1725.318924\n",
              "   2   1685.557696  1716.352294\n",
              "   3   1656.243307  1690.887230\n",
              "   4   1643.326139  1681.819387\n",
              "   5   1625.550021  1667.892593\n",
              "   6   1661.326936  1707.518833\n",
              "5  0   1793.678114  1820.623387\n",
              "   1   1697.256666  1728.051265\n",
              "   2   1693.132792  1727.776715\n",
              "   3   1672.387923  1710.881170\n",
              "   4   1633.261765  1675.604338\n",
              "   5   1665.198784  1711.390681\n",
              "   6   1628.725620  1678.766842\n",
              "6  0   1739.908774  1770.703373\n",
              "   1   1687.149922  1721.793845\n",
              "   2   1686.284490  1724.777738\n",
              "   3   1649.485125  1691.827697\n",
              "   4   1658.705254  1704.897151\n",
              "   5   1653.132184  1703.173406\n",
              "   6   1619.421459  1673.312006"
            ]
          },
          "execution_count": 156,
          "metadata": {},
          "output_type": "execute_result"
        }
      ],
      "source": [
        "ic = {}\n",
        "for ar in range(7):\n",
        "    for ma in range(7):\n",
        "        print(f\"AR: {ar}, MA: {ma}\")\n",
        "        modelo = ARIMA(igae_diff, order=(ar, 0, ma))\n",
        "        resultado = modelo.fit()\n",
        "        ic[(ar, ma)] = [resultado.aic, resultado.bic]\n",
        "\n",
        "ic = pd.DataFrame(ic, index=[\"AIC\", \"BIC\"]).T\n",
        "ic.index = ic.index.set_names([\"AR\", \"MA\"])\n",
        "ic"
      ]
    },
    {
      "cell_type": "markdown",
      "id": "39cc5bf0-cd70-4bba-aa2a-c67a9150615e",
      "metadata": {
        "id": "39cc5bf0-cd70-4bba-aa2a-c67a9150615e"
      },
      "source": [
        "Ordenando los valones de acuerdo al BIC "
      ]
    },
    {
      "cell_type": "code",
      "execution_count": null,
      "id": "dd400e0c-ef7f-4444-bf33-48c1ff297b63",
      "metadata": {
        "id": "dd400e0c-ef7f-4444-bf33-48c1ff297b63",
        "outputId": "1618cc4e-f9d2-469d-8386-1764ac3056f0"
      },
      "outputs": [
        {
          "data": {
            "text/html": [
              "<div>\n",
              "<style scoped>\n",
              "    .dataframe tbody tr th:only-of-type {\n",
              "        vertical-align: middle;\n",
              "    }\n",
              "\n",
              "    .dataframe tbody tr th {\n",
              "        vertical-align: top;\n",
              "    }\n",
              "\n",
              "    .dataframe thead th {\n",
              "        text-align: right;\n",
              "    }\n",
              "</style>\n",
              "<table border=\"1\" class=\"dataframe\">\n",
              "  <thead>\n",
              "    <tr style=\"text-align: right;\">\n",
              "      <th></th>\n",
              "      <th></th>\n",
              "      <th>AIC</th>\n",
              "      <th>BIC</th>\n",
              "    </tr>\n",
              "    <tr>\n",
              "      <th>AR</th>\n",
              "      <th>MA</th>\n",
              "      <th></th>\n",
              "      <th></th>\n",
              "    </tr>\n",
              "  </thead>\n",
              "  <tbody>\n",
              "    <tr>\n",
              "      <th>4</th>\n",
              "      <th>5</th>\n",
              "      <td>1625.550021</td>\n",
              "      <td>1667.892593</td>\n",
              "    </tr>\n",
              "    <tr>\n",
              "      <th>6</th>\n",
              "      <th>6</th>\n",
              "      <td>1619.421459</td>\n",
              "      <td>1673.312006</td>\n",
              "    </tr>\n",
              "    <tr>\n",
              "      <th rowspan=\"2\" valign=\"top\">5</th>\n",
              "      <th>4</th>\n",
              "      <td>1633.261765</td>\n",
              "      <td>1675.604338</td>\n",
              "    </tr>\n",
              "    <tr>\n",
              "      <th>6</th>\n",
              "      <td>1628.725620</td>\n",
              "      <td>1678.766842</td>\n",
              "    </tr>\n",
              "    <tr>\n",
              "      <th rowspan=\"2\" valign=\"top\">4</th>\n",
              "      <th>4</th>\n",
              "      <td>1643.326139</td>\n",
              "      <td>1681.819387</td>\n",
              "    </tr>\n",
              "    <tr>\n",
              "      <th>3</th>\n",
              "      <td>1656.243307</td>\n",
              "      <td>1690.887230</td>\n",
              "    </tr>\n",
              "    <tr>\n",
              "      <th>6</th>\n",
              "      <th>3</th>\n",
              "      <td>1649.485125</td>\n",
              "      <td>1691.827697</td>\n",
              "    </tr>\n",
              "    <tr>\n",
              "      <th>2</th>\n",
              "      <th>5</th>\n",
              "      <td>1660.002774</td>\n",
              "      <td>1694.646697</td>\n",
              "    </tr>\n",
              "    <tr>\n",
              "      <th rowspan=\"2\" valign=\"top\">6</th>\n",
              "      <th>5</th>\n",
              "      <td>1653.132184</td>\n",
              "      <td>1703.173406</td>\n",
              "    </tr>\n",
              "    <tr>\n",
              "      <th>4</th>\n",
              "      <td>1658.705254</td>\n",
              "      <td>1704.897151</td>\n",
              "    </tr>\n",
              "    <tr>\n",
              "      <th>2</th>\n",
              "      <th>6</th>\n",
              "      <td>1668.576299</td>\n",
              "      <td>1707.069547</td>\n",
              "    </tr>\n",
              "    <tr>\n",
              "      <th>4</th>\n",
              "      <th>6</th>\n",
              "      <td>1661.326936</td>\n",
              "      <td>1707.518833</td>\n",
              "    </tr>\n",
              "    <tr>\n",
              "      <th rowspan=\"2\" valign=\"top\">5</th>\n",
              "      <th>3</th>\n",
              "      <td>1672.387923</td>\n",
              "      <td>1710.881170</td>\n",
              "    </tr>\n",
              "    <tr>\n",
              "      <th>5</th>\n",
              "      <td>1665.198784</td>\n",
              "      <td>1711.390681</td>\n",
              "    </tr>\n",
              "    <tr>\n",
              "      <th>3</th>\n",
              "      <th>4</th>\n",
              "      <td>1679.164040</td>\n",
              "      <td>1713.807963</td>\n",
              "    </tr>\n",
              "    <tr>\n",
              "      <th>2</th>\n",
              "      <th>3</th>\n",
              "      <td>1687.266380</td>\n",
              "      <td>1714.211653</td>\n",
              "    </tr>\n",
              "    <tr>\n",
              "      <th>4</th>\n",
              "      <th>2</th>\n",
              "      <td>1685.557696</td>\n",
              "      <td>1716.352294</td>\n",
              "    </tr>\n",
              "    <tr>\n",
              "      <th>3</th>\n",
              "      <th>3</th>\n",
              "      <td>1689.308465</td>\n",
              "      <td>1720.103063</td>\n",
              "    </tr>\n",
              "    <tr>\n",
              "      <th rowspan=\"2\" valign=\"top\">6</th>\n",
              "      <th>1</th>\n",
              "      <td>1687.149922</td>\n",
              "      <td>1721.793845</td>\n",
              "    </tr>\n",
              "    <tr>\n",
              "      <th>2</th>\n",
              "      <td>1686.284490</td>\n",
              "      <td>1724.777738</td>\n",
              "    </tr>\n",
              "    <tr>\n",
              "      <th>4</th>\n",
              "      <th>1</th>\n",
              "      <td>1698.373650</td>\n",
              "      <td>1725.318924</td>\n",
              "    </tr>\n",
              "    <tr>\n",
              "      <th>0</th>\n",
              "      <th>6</th>\n",
              "      <td>1696.806253</td>\n",
              "      <td>1727.600851</td>\n",
              "    </tr>\n",
              "    <tr>\n",
              "      <th rowspan=\"2\" valign=\"top\">5</th>\n",
              "      <th>2</th>\n",
              "      <td>1693.132792</td>\n",
              "      <td>1727.776715</td>\n",
              "    </tr>\n",
              "    <tr>\n",
              "      <th>1</th>\n",
              "      <td>1697.256666</td>\n",
              "      <td>1728.051265</td>\n",
              "    </tr>\n",
              "    <tr>\n",
              "      <th>1</th>\n",
              "      <th>5</th>\n",
              "      <td>1705.321956</td>\n",
              "      <td>1736.116554</td>\n",
              "    </tr>\n",
              "    <tr>\n",
              "      <th>0</th>\n",
              "      <th>4</th>\n",
              "      <td>1714.031668</td>\n",
              "      <td>1737.127616</td>\n",
              "    </tr>\n",
              "    <tr>\n",
              "      <th>2</th>\n",
              "      <th>4</th>\n",
              "      <td>1707.570474</td>\n",
              "      <td>1738.365072</td>\n",
              "    </tr>\n",
              "    <tr>\n",
              "      <th rowspan=\"2\" valign=\"top\">3</th>\n",
              "      <th>6</th>\n",
              "      <td>1697.253784</td>\n",
              "      <td>1739.596357</td>\n",
              "    </tr>\n",
              "    <tr>\n",
              "      <th>5</th>\n",
              "      <td>1701.613475</td>\n",
              "      <td>1740.106722</td>\n",
              "    </tr>\n",
              "    <tr>\n",
              "      <th rowspan=\"2\" valign=\"top\">0</th>\n",
              "      <th>3</th>\n",
              "      <td>1721.272122</td>\n",
              "      <td>1740.518746</td>\n",
              "    </tr>\n",
              "    <tr>\n",
              "      <th>5</th>\n",
              "      <td>1715.912765</td>\n",
              "      <td>1742.858039</td>\n",
              "    </tr>\n",
              "    <tr>\n",
              "      <th rowspan=\"3\" valign=\"top\">1</th>\n",
              "      <th>3</th>\n",
              "      <td>1725.306124</td>\n",
              "      <td>1748.402073</td>\n",
              "    </tr>\n",
              "    <tr>\n",
              "      <th>6</th>\n",
              "      <td>1716.197067</td>\n",
              "      <td>1750.840990</td>\n",
              "    </tr>\n",
              "    <tr>\n",
              "      <th>4</th>\n",
              "      <td>1725.259532</td>\n",
              "      <td>1752.204806</td>\n",
              "    </tr>\n",
              "    <tr>\n",
              "      <th>0</th>\n",
              "      <th>2</th>\n",
              "      <td>1741.689285</td>\n",
              "      <td>1757.086584</td>\n",
              "    </tr>\n",
              "    <tr>\n",
              "      <th>3</th>\n",
              "      <th>1</th>\n",
              "      <td>1737.690950</td>\n",
              "      <td>1760.786898</td>\n",
              "    </tr>\n",
              "    <tr>\n",
              "      <th rowspan=\"2\" valign=\"top\">2</th>\n",
              "      <th>2</th>\n",
              "      <td>1746.478299</td>\n",
              "      <td>1769.574247</td>\n",
              "    </tr>\n",
              "    <tr>\n",
              "      <th>1</th>\n",
              "      <td>1750.682409</td>\n",
              "      <td>1769.929033</td>\n",
              "    </tr>\n",
              "    <tr>\n",
              "      <th>6</th>\n",
              "      <th>0</th>\n",
              "      <td>1739.908774</td>\n",
              "      <td>1770.703373</td>\n",
              "    </tr>\n",
              "    <tr>\n",
              "      <th>1</th>\n",
              "      <th>1</th>\n",
              "      <td>1756.401116</td>\n",
              "      <td>1771.798415</td>\n",
              "    </tr>\n",
              "    <tr>\n",
              "      <th>3</th>\n",
              "      <th>2</th>\n",
              "      <td>1748.410899</td>\n",
              "      <td>1775.356172</td>\n",
              "    </tr>\n",
              "    <tr>\n",
              "      <th>0</th>\n",
              "      <th>1</th>\n",
              "      <td>1774.655532</td>\n",
              "      <td>1786.203506</td>\n",
              "    </tr>\n",
              "    <tr>\n",
              "      <th>1</th>\n",
              "      <th>2</th>\n",
              "      <td>1778.048058</td>\n",
              "      <td>1797.294682</td>\n",
              "    </tr>\n",
              "    <tr>\n",
              "      <th>5</th>\n",
              "      <th>0</th>\n",
              "      <td>1793.678114</td>\n",
              "      <td>1820.623387</td>\n",
              "    </tr>\n",
              "    <tr>\n",
              "      <th>4</th>\n",
              "      <th>0</th>\n",
              "      <td>1797.881795</td>\n",
              "      <td>1820.977743</td>\n",
              "    </tr>\n",
              "    <tr>\n",
              "      <th>3</th>\n",
              "      <th>0</th>\n",
              "      <td>1896.603972</td>\n",
              "      <td>1915.850596</td>\n",
              "    </tr>\n",
              "    <tr>\n",
              "      <th>2</th>\n",
              "      <th>0</th>\n",
              "      <td>1910.253063</td>\n",
              "      <td>1925.650362</td>\n",
              "    </tr>\n",
              "    <tr>\n",
              "      <th>1</th>\n",
              "      <th>0</th>\n",
              "      <td>1950.914209</td>\n",
              "      <td>1962.462183</td>\n",
              "    </tr>\n",
              "    <tr>\n",
              "      <th>0</th>\n",
              "      <th>0</th>\n",
              "      <td>2080.889098</td>\n",
              "      <td>2088.587747</td>\n",
              "    </tr>\n",
              "  </tbody>\n",
              "</table>\n",
              "</div>"
            ],
            "text/plain": [
              "               AIC          BIC\n",
              "AR MA                          \n",
              "4  5   1625.550021  1667.892593\n",
              "6  6   1619.421459  1673.312006\n",
              "5  4   1633.261765  1675.604338\n",
              "   6   1628.725620  1678.766842\n",
              "4  4   1643.326139  1681.819387\n",
              "   3   1656.243307  1690.887230\n",
              "6  3   1649.485125  1691.827697\n",
              "2  5   1660.002774  1694.646697\n",
              "6  5   1653.132184  1703.173406\n",
              "   4   1658.705254  1704.897151\n",
              "2  6   1668.576299  1707.069547\n",
              "4  6   1661.326936  1707.518833\n",
              "5  3   1672.387923  1710.881170\n",
              "   5   1665.198784  1711.390681\n",
              "3  4   1679.164040  1713.807963\n",
              "2  3   1687.266380  1714.211653\n",
              "4  2   1685.557696  1716.352294\n",
              "3  3   1689.308465  1720.103063\n",
              "6  1   1687.149922  1721.793845\n",
              "   2   1686.284490  1724.777738\n",
              "4  1   1698.373650  1725.318924\n",
              "0  6   1696.806253  1727.600851\n",
              "5  2   1693.132792  1727.776715\n",
              "   1   1697.256666  1728.051265\n",
              "1  5   1705.321956  1736.116554\n",
              "0  4   1714.031668  1737.127616\n",
              "2  4   1707.570474  1738.365072\n",
              "3  6   1697.253784  1739.596357\n",
              "   5   1701.613475  1740.106722\n",
              "0  3   1721.272122  1740.518746\n",
              "   5   1715.912765  1742.858039\n",
              "1  3   1725.306124  1748.402073\n",
              "   6   1716.197067  1750.840990\n",
              "   4   1725.259532  1752.204806\n",
              "0  2   1741.689285  1757.086584\n",
              "3  1   1737.690950  1760.786898\n",
              "2  2   1746.478299  1769.574247\n",
              "   1   1750.682409  1769.929033\n",
              "6  0   1739.908774  1770.703373\n",
              "1  1   1756.401116  1771.798415\n",
              "3  2   1748.410899  1775.356172\n",
              "0  1   1774.655532  1786.203506\n",
              "1  2   1778.048058  1797.294682\n",
              "5  0   1793.678114  1820.623387\n",
              "4  0   1797.881795  1820.977743\n",
              "3  0   1896.603972  1915.850596\n",
              "2  0   1910.253063  1925.650362\n",
              "1  0   1950.914209  1962.462183\n",
              "0  0   2080.889098  2088.587747"
            ]
          },
          "execution_count": 157,
          "metadata": {},
          "output_type": "execute_result"
        }
      ],
      "source": [
        "ic.sort_values('BIC', ascending = True)"
      ]
    },
    {
      "cell_type": "markdown",
      "id": "b0906f75-3369-4cf4-95e5-0396fd45b992",
      "metadata": {
        "id": "b0906f75-3369-4cf4-95e5-0396fd45b992"
      },
      "source": [
        "Ordenando los valones de acuerdo al Akaike (AIC)"
      ]
    },
    {
      "cell_type": "code",
      "execution_count": null,
      "id": "34f6758c-4bc1-4395-8968-073632f073bf",
      "metadata": {
        "id": "34f6758c-4bc1-4395-8968-073632f073bf",
        "outputId": "17c0a064-7d1a-413b-cfb8-857d739cbdcd"
      },
      "outputs": [
        {
          "data": {
            "text/html": [
              "<div>\n",
              "<style scoped>\n",
              "    .dataframe tbody tr th:only-of-type {\n",
              "        vertical-align: middle;\n",
              "    }\n",
              "\n",
              "    .dataframe tbody tr th {\n",
              "        vertical-align: top;\n",
              "    }\n",
              "\n",
              "    .dataframe thead th {\n",
              "        text-align: right;\n",
              "    }\n",
              "</style>\n",
              "<table border=\"1\" class=\"dataframe\">\n",
              "  <thead>\n",
              "    <tr style=\"text-align: right;\">\n",
              "      <th></th>\n",
              "      <th></th>\n",
              "      <th>AIC</th>\n",
              "      <th>BIC</th>\n",
              "    </tr>\n",
              "    <tr>\n",
              "      <th>AR</th>\n",
              "      <th>MA</th>\n",
              "      <th></th>\n",
              "      <th></th>\n",
              "    </tr>\n",
              "  </thead>\n",
              "  <tbody>\n",
              "    <tr>\n",
              "      <th>6</th>\n",
              "      <th>6</th>\n",
              "      <td>1619.421459</td>\n",
              "      <td>1673.312006</td>\n",
              "    </tr>\n",
              "    <tr>\n",
              "      <th>4</th>\n",
              "      <th>5</th>\n",
              "      <td>1625.550021</td>\n",
              "      <td>1667.892593</td>\n",
              "    </tr>\n",
              "    <tr>\n",
              "      <th rowspan=\"2\" valign=\"top\">5</th>\n",
              "      <th>6</th>\n",
              "      <td>1628.725620</td>\n",
              "      <td>1678.766842</td>\n",
              "    </tr>\n",
              "    <tr>\n",
              "      <th>4</th>\n",
              "      <td>1633.261765</td>\n",
              "      <td>1675.604338</td>\n",
              "    </tr>\n",
              "    <tr>\n",
              "      <th>4</th>\n",
              "      <th>4</th>\n",
              "      <td>1643.326139</td>\n",
              "      <td>1681.819387</td>\n",
              "    </tr>\n",
              "    <tr>\n",
              "      <th rowspan=\"2\" valign=\"top\">6</th>\n",
              "      <th>3</th>\n",
              "      <td>1649.485125</td>\n",
              "      <td>1691.827697</td>\n",
              "    </tr>\n",
              "    <tr>\n",
              "      <th>5</th>\n",
              "      <td>1653.132184</td>\n",
              "      <td>1703.173406</td>\n",
              "    </tr>\n",
              "    <tr>\n",
              "      <th>4</th>\n",
              "      <th>3</th>\n",
              "      <td>1656.243307</td>\n",
              "      <td>1690.887230</td>\n",
              "    </tr>\n",
              "    <tr>\n",
              "      <th>6</th>\n",
              "      <th>4</th>\n",
              "      <td>1658.705254</td>\n",
              "      <td>1704.897151</td>\n",
              "    </tr>\n",
              "    <tr>\n",
              "      <th>2</th>\n",
              "      <th>5</th>\n",
              "      <td>1660.002774</td>\n",
              "      <td>1694.646697</td>\n",
              "    </tr>\n",
              "    <tr>\n",
              "      <th>4</th>\n",
              "      <th>6</th>\n",
              "      <td>1661.326936</td>\n",
              "      <td>1707.518833</td>\n",
              "    </tr>\n",
              "    <tr>\n",
              "      <th>5</th>\n",
              "      <th>5</th>\n",
              "      <td>1665.198784</td>\n",
              "      <td>1711.390681</td>\n",
              "    </tr>\n",
              "    <tr>\n",
              "      <th>2</th>\n",
              "      <th>6</th>\n",
              "      <td>1668.576299</td>\n",
              "      <td>1707.069547</td>\n",
              "    </tr>\n",
              "    <tr>\n",
              "      <th>5</th>\n",
              "      <th>3</th>\n",
              "      <td>1672.387923</td>\n",
              "      <td>1710.881170</td>\n",
              "    </tr>\n",
              "    <tr>\n",
              "      <th>3</th>\n",
              "      <th>4</th>\n",
              "      <td>1679.164040</td>\n",
              "      <td>1713.807963</td>\n",
              "    </tr>\n",
              "    <tr>\n",
              "      <th>4</th>\n",
              "      <th>2</th>\n",
              "      <td>1685.557696</td>\n",
              "      <td>1716.352294</td>\n",
              "    </tr>\n",
              "    <tr>\n",
              "      <th rowspan=\"2\" valign=\"top\">6</th>\n",
              "      <th>2</th>\n",
              "      <td>1686.284490</td>\n",
              "      <td>1724.777738</td>\n",
              "    </tr>\n",
              "    <tr>\n",
              "      <th>1</th>\n",
              "      <td>1687.149922</td>\n",
              "      <td>1721.793845</td>\n",
              "    </tr>\n",
              "    <tr>\n",
              "      <th>2</th>\n",
              "      <th>3</th>\n",
              "      <td>1687.266380</td>\n",
              "      <td>1714.211653</td>\n",
              "    </tr>\n",
              "    <tr>\n",
              "      <th>3</th>\n",
              "      <th>3</th>\n",
              "      <td>1689.308465</td>\n",
              "      <td>1720.103063</td>\n",
              "    </tr>\n",
              "    <tr>\n",
              "      <th>5</th>\n",
              "      <th>2</th>\n",
              "      <td>1693.132792</td>\n",
              "      <td>1727.776715</td>\n",
              "    </tr>\n",
              "    <tr>\n",
              "      <th>0</th>\n",
              "      <th>6</th>\n",
              "      <td>1696.806253</td>\n",
              "      <td>1727.600851</td>\n",
              "    </tr>\n",
              "    <tr>\n",
              "      <th>3</th>\n",
              "      <th>6</th>\n",
              "      <td>1697.253784</td>\n",
              "      <td>1739.596357</td>\n",
              "    </tr>\n",
              "    <tr>\n",
              "      <th>5</th>\n",
              "      <th>1</th>\n",
              "      <td>1697.256666</td>\n",
              "      <td>1728.051265</td>\n",
              "    </tr>\n",
              "    <tr>\n",
              "      <th>4</th>\n",
              "      <th>1</th>\n",
              "      <td>1698.373650</td>\n",
              "      <td>1725.318924</td>\n",
              "    </tr>\n",
              "    <tr>\n",
              "      <th>3</th>\n",
              "      <th>5</th>\n",
              "      <td>1701.613475</td>\n",
              "      <td>1740.106722</td>\n",
              "    </tr>\n",
              "    <tr>\n",
              "      <th>1</th>\n",
              "      <th>5</th>\n",
              "      <td>1705.321956</td>\n",
              "      <td>1736.116554</td>\n",
              "    </tr>\n",
              "    <tr>\n",
              "      <th>2</th>\n",
              "      <th>4</th>\n",
              "      <td>1707.570474</td>\n",
              "      <td>1738.365072</td>\n",
              "    </tr>\n",
              "    <tr>\n",
              "      <th rowspan=\"2\" valign=\"top\">0</th>\n",
              "      <th>4</th>\n",
              "      <td>1714.031668</td>\n",
              "      <td>1737.127616</td>\n",
              "    </tr>\n",
              "    <tr>\n",
              "      <th>5</th>\n",
              "      <td>1715.912765</td>\n",
              "      <td>1742.858039</td>\n",
              "    </tr>\n",
              "    <tr>\n",
              "      <th>1</th>\n",
              "      <th>6</th>\n",
              "      <td>1716.197067</td>\n",
              "      <td>1750.840990</td>\n",
              "    </tr>\n",
              "    <tr>\n",
              "      <th>0</th>\n",
              "      <th>3</th>\n",
              "      <td>1721.272122</td>\n",
              "      <td>1740.518746</td>\n",
              "    </tr>\n",
              "    <tr>\n",
              "      <th rowspan=\"2\" valign=\"top\">1</th>\n",
              "      <th>4</th>\n",
              "      <td>1725.259532</td>\n",
              "      <td>1752.204806</td>\n",
              "    </tr>\n",
              "    <tr>\n",
              "      <th>3</th>\n",
              "      <td>1725.306124</td>\n",
              "      <td>1748.402073</td>\n",
              "    </tr>\n",
              "    <tr>\n",
              "      <th>3</th>\n",
              "      <th>1</th>\n",
              "      <td>1737.690950</td>\n",
              "      <td>1760.786898</td>\n",
              "    </tr>\n",
              "    <tr>\n",
              "      <th>6</th>\n",
              "      <th>0</th>\n",
              "      <td>1739.908774</td>\n",
              "      <td>1770.703373</td>\n",
              "    </tr>\n",
              "    <tr>\n",
              "      <th>0</th>\n",
              "      <th>2</th>\n",
              "      <td>1741.689285</td>\n",
              "      <td>1757.086584</td>\n",
              "    </tr>\n",
              "    <tr>\n",
              "      <th>2</th>\n",
              "      <th>2</th>\n",
              "      <td>1746.478299</td>\n",
              "      <td>1769.574247</td>\n",
              "    </tr>\n",
              "    <tr>\n",
              "      <th>3</th>\n",
              "      <th>2</th>\n",
              "      <td>1748.410899</td>\n",
              "      <td>1775.356172</td>\n",
              "    </tr>\n",
              "    <tr>\n",
              "      <th>2</th>\n",
              "      <th>1</th>\n",
              "      <td>1750.682409</td>\n",
              "      <td>1769.929033</td>\n",
              "    </tr>\n",
              "    <tr>\n",
              "      <th>1</th>\n",
              "      <th>1</th>\n",
              "      <td>1756.401116</td>\n",
              "      <td>1771.798415</td>\n",
              "    </tr>\n",
              "    <tr>\n",
              "      <th>0</th>\n",
              "      <th>1</th>\n",
              "      <td>1774.655532</td>\n",
              "      <td>1786.203506</td>\n",
              "    </tr>\n",
              "    <tr>\n",
              "      <th>1</th>\n",
              "      <th>2</th>\n",
              "      <td>1778.048058</td>\n",
              "      <td>1797.294682</td>\n",
              "    </tr>\n",
              "    <tr>\n",
              "      <th>5</th>\n",
              "      <th>0</th>\n",
              "      <td>1793.678114</td>\n",
              "      <td>1820.623387</td>\n",
              "    </tr>\n",
              "    <tr>\n",
              "      <th>4</th>\n",
              "      <th>0</th>\n",
              "      <td>1797.881795</td>\n",
              "      <td>1820.977743</td>\n",
              "    </tr>\n",
              "    <tr>\n",
              "      <th>3</th>\n",
              "      <th>0</th>\n",
              "      <td>1896.603972</td>\n",
              "      <td>1915.850596</td>\n",
              "    </tr>\n",
              "    <tr>\n",
              "      <th>2</th>\n",
              "      <th>0</th>\n",
              "      <td>1910.253063</td>\n",
              "      <td>1925.650362</td>\n",
              "    </tr>\n",
              "    <tr>\n",
              "      <th>1</th>\n",
              "      <th>0</th>\n",
              "      <td>1950.914209</td>\n",
              "      <td>1962.462183</td>\n",
              "    </tr>\n",
              "    <tr>\n",
              "      <th>0</th>\n",
              "      <th>0</th>\n",
              "      <td>2080.889098</td>\n",
              "      <td>2088.587747</td>\n",
              "    </tr>\n",
              "  </tbody>\n",
              "</table>\n",
              "</div>"
            ],
            "text/plain": [
              "               AIC          BIC\n",
              "AR MA                          \n",
              "6  6   1619.421459  1673.312006\n",
              "4  5   1625.550021  1667.892593\n",
              "5  6   1628.725620  1678.766842\n",
              "   4   1633.261765  1675.604338\n",
              "4  4   1643.326139  1681.819387\n",
              "6  3   1649.485125  1691.827697\n",
              "   5   1653.132184  1703.173406\n",
              "4  3   1656.243307  1690.887230\n",
              "6  4   1658.705254  1704.897151\n",
              "2  5   1660.002774  1694.646697\n",
              "4  6   1661.326936  1707.518833\n",
              "5  5   1665.198784  1711.390681\n",
              "2  6   1668.576299  1707.069547\n",
              "5  3   1672.387923  1710.881170\n",
              "3  4   1679.164040  1713.807963\n",
              "4  2   1685.557696  1716.352294\n",
              "6  2   1686.284490  1724.777738\n",
              "   1   1687.149922  1721.793845\n",
              "2  3   1687.266380  1714.211653\n",
              "3  3   1689.308465  1720.103063\n",
              "5  2   1693.132792  1727.776715\n",
              "0  6   1696.806253  1727.600851\n",
              "3  6   1697.253784  1739.596357\n",
              "5  1   1697.256666  1728.051265\n",
              "4  1   1698.373650  1725.318924\n",
              "3  5   1701.613475  1740.106722\n",
              "1  5   1705.321956  1736.116554\n",
              "2  4   1707.570474  1738.365072\n",
              "0  4   1714.031668  1737.127616\n",
              "   5   1715.912765  1742.858039\n",
              "1  6   1716.197067  1750.840990\n",
              "0  3   1721.272122  1740.518746\n",
              "1  4   1725.259532  1752.204806\n",
              "   3   1725.306124  1748.402073\n",
              "3  1   1737.690950  1760.786898\n",
              "6  0   1739.908774  1770.703373\n",
              "0  2   1741.689285  1757.086584\n",
              "2  2   1746.478299  1769.574247\n",
              "3  2   1748.410899  1775.356172\n",
              "2  1   1750.682409  1769.929033\n",
              "1  1   1756.401116  1771.798415\n",
              "0  1   1774.655532  1786.203506\n",
              "1  2   1778.048058  1797.294682\n",
              "5  0   1793.678114  1820.623387\n",
              "4  0   1797.881795  1820.977743\n",
              "3  0   1896.603972  1915.850596\n",
              "2  0   1910.253063  1925.650362\n",
              "1  0   1950.914209  1962.462183\n",
              "0  0   2080.889098  2088.587747"
            ]
          },
          "execution_count": 158,
          "metadata": {},
          "output_type": "execute_result"
        }
      ],
      "source": [
        "ic.sort_values('AIC', ascending = True)"
      ]
    },
    {
      "cell_type": "markdown",
      "id": "6c5695cf-e888-4207-92fd-d711670d13fc",
      "metadata": {
        "id": "6c5695cf-e888-4207-92fd-d711670d13fc"
      },
      "source": [
        "El mejor modelo BIC es un ARMA(4,5)"
      ]
    },
    {
      "cell_type": "code",
      "execution_count": null,
      "id": "c14a28cc-86b0-40ba-8fbf-bbcb4ad1ed4a",
      "metadata": {
        "id": "c14a28cc-86b0-40ba-8fbf-bbcb4ad1ed4a",
        "outputId": "db87ad50-f271-4434-ddb6-2b0bca433199"
      },
      "outputs": [
        {
          "name": "stderr",
          "output_type": "stream",
          "text": [
            "C:\\ProgramData\\Anaconda3\\lib\\site-packages\\statsmodels\\tsa\\base\\tsa_model.py:578: ValueWarning: An unsupported index was provided and will be ignored when e.g. forecasting.\n",
            "  warnings.warn('An unsupported index was provided and will be'\n",
            "C:\\ProgramData\\Anaconda3\\lib\\site-packages\\statsmodels\\tsa\\base\\tsa_model.py:578: ValueWarning: An unsupported index was provided and will be ignored when e.g. forecasting.\n",
            "  warnings.warn('An unsupported index was provided and will be'\n",
            "C:\\ProgramData\\Anaconda3\\lib\\site-packages\\statsmodels\\tsa\\base\\tsa_model.py:578: ValueWarning: An unsupported index was provided and will be ignored when e.g. forecasting.\n",
            "  warnings.warn('An unsupported index was provided and will be'\n",
            "C:\\ProgramData\\Anaconda3\\lib\\site-packages\\statsmodels\\tsa\\statespace\\sarimax.py:966: UserWarning: Non-stationary starting autoregressive parameters found. Using zeros as starting parameters.\n",
            "  warn('Non-stationary starting autoregressive parameters'\n",
            "C:\\ProgramData\\Anaconda3\\lib\\site-packages\\statsmodels\\tsa\\statespace\\sarimax.py:978: UserWarning: Non-invertible starting MA parameters found. Using zeros as starting parameters.\n",
            "  warn('Non-invertible starting MA parameters found.'\n",
            "C:\\ProgramData\\Anaconda3\\lib\\site-packages\\statsmodels\\base\\model.py:566: ConvergenceWarning: Maximum Likelihood optimization failed to converge. Check mle_retvals\n",
            "  warnings.warn(\"Maximum Likelihood optimization failed to \"\n"
          ]
        },
        {
          "data": {
            "text/html": [
              "<table class=\"simpletable\">\n",
              "<caption>SARIMAX Results</caption>\n",
              "<tr>\n",
              "  <th>Dep. Variable:</th>         <td>IGAE </td>      <th>  No. Observations:  </th>    <td>347</td>  \n",
              "</tr>\n",
              "<tr>\n",
              "  <th>Model:</th>            <td>ARIMA(4, 0, 5)</td>  <th>  Log Likelihood     </th> <td>-801.775</td>\n",
              "</tr>\n",
              "<tr>\n",
              "  <th>Date:</th>            <td>Sun, 27 Mar 2022</td> <th>  AIC                </th> <td>1625.550</td>\n",
              "</tr>\n",
              "<tr>\n",
              "  <th>Time:</th>                <td>21:20:02</td>     <th>  BIC                </th> <td>1667.893</td>\n",
              "</tr>\n",
              "<tr>\n",
              "  <th>Sample:</th>                  <td>0</td>        <th>  HQIC               </th> <td>1642.409</td>\n",
              "</tr>\n",
              "<tr>\n",
              "  <th></th>                      <td> - 347</td>      <th>                     </th>     <td> </td>   \n",
              "</tr>\n",
              "<tr>\n",
              "  <th>Covariance Type:</th>        <td>opg</td>       <th>                     </th>     <td> </td>   \n",
              "</tr>\n",
              "</table>\n",
              "<table class=\"simpletable\">\n",
              "<tr>\n",
              "     <td></td>       <th>coef</th>     <th>std err</th>      <th>z</th>      <th>P>|z|</th>  <th>[0.025</th>    <th>0.975]</th>  \n",
              "</tr>\n",
              "<tr>\n",
              "  <th>const</th>  <td>   -0.0005</td> <td>    0.001</td> <td>   -0.458</td> <td> 0.647</td> <td>   -0.002</td> <td>    0.002</td>\n",
              "</tr>\n",
              "<tr>\n",
              "  <th>ar.L1</th>  <td>   -0.7421</td> <td>    0.022</td> <td>  -33.863</td> <td> 0.000</td> <td>   -0.785</td> <td>   -0.699</td>\n",
              "</tr>\n",
              "<tr>\n",
              "  <th>ar.L2</th>  <td>   -0.2506</td> <td>    0.030</td> <td>   -8.293</td> <td> 0.000</td> <td>   -0.310</td> <td>   -0.191</td>\n",
              "</tr>\n",
              "<tr>\n",
              "  <th>ar.L3</th>  <td>   -0.6759</td> <td>    0.034</td> <td>  -19.751</td> <td> 0.000</td> <td>   -0.743</td> <td>   -0.609</td>\n",
              "</tr>\n",
              "<tr>\n",
              "  <th>ar.L4</th>  <td>   -0.9592</td> <td>    0.025</td> <td>  -38.831</td> <td> 0.000</td> <td>   -1.008</td> <td>   -0.911</td>\n",
              "</tr>\n",
              "<tr>\n",
              "  <th>ma.L1</th>  <td>   -0.3179</td> <td>    0.509</td> <td>   -0.625</td> <td> 0.532</td> <td>   -1.315</td> <td>    0.679</td>\n",
              "</tr>\n",
              "<tr>\n",
              "  <th>ma.L2</th>  <td>   -0.5622</td> <td>    0.333</td> <td>   -1.688</td> <td> 0.091</td> <td>   -1.215</td> <td>    0.091</td>\n",
              "</tr>\n",
              "<tr>\n",
              "  <th>ma.L3</th>  <td>    0.3680</td> <td>    0.087</td> <td>    4.243</td> <td> 0.000</td> <td>    0.198</td> <td>    0.538</td>\n",
              "</tr>\n",
              "<tr>\n",
              "  <th>ma.L4</th>  <td>    0.3775</td> <td>    0.258</td> <td>    1.463</td> <td> 0.143</td> <td>   -0.128</td> <td>    0.883</td>\n",
              "</tr>\n",
              "<tr>\n",
              "  <th>ma.L5</th>  <td>   -0.8647</td> <td>    0.448</td> <td>   -1.928</td> <td> 0.054</td> <td>   -1.744</td> <td>    0.014</td>\n",
              "</tr>\n",
              "<tr>\n",
              "  <th>sigma2</th> <td>    5.6571</td> <td>    2.844</td> <td>    1.989</td> <td> 0.047</td> <td>    0.083</td> <td>   11.231</td>\n",
              "</tr>\n",
              "</table>\n",
              "<table class=\"simpletable\">\n",
              "<tr>\n",
              "  <th>Ljung-Box (L1) (Q):</th>     <td>3.17</td> <th>  Jarque-Bera (JB):  </th> <td>3536.97</td>\n",
              "</tr>\n",
              "<tr>\n",
              "  <th>Prob(Q):</th>                <td>0.07</td> <th>  Prob(JB):          </th>  <td>0.00</td>  \n",
              "</tr>\n",
              "<tr>\n",
              "  <th>Heteroskedasticity (H):</th> <td>4.58</td> <th>  Skew:              </th>  <td>-1.56</td> \n",
              "</tr>\n",
              "<tr>\n",
              "  <th>Prob(H) (two-sided):</th>    <td>0.00</td> <th>  Kurtosis:          </th>  <td>18.33</td> \n",
              "</tr>\n",
              "</table><br/><br/>Warnings:<br/>[1] Covariance matrix calculated using the outer product of gradients (complex-step)."
            ],
            "text/plain": [
              "<class 'statsmodels.iolib.summary.Summary'>\n",
              "\"\"\"\n",
              "                               SARIMAX Results                                \n",
              "==============================================================================\n",
              "Dep. Variable:                  IGAE    No. Observations:                  347\n",
              "Model:                 ARIMA(4, 0, 5)   Log Likelihood                -801.775\n",
              "Date:                Sun, 27 Mar 2022   AIC                           1625.550\n",
              "Time:                        21:20:02   BIC                           1667.893\n",
              "Sample:                             0   HQIC                          1642.409\n",
              "                                - 347                                         \n",
              "Covariance Type:                  opg                                         \n",
              "==============================================================================\n",
              "                 coef    std err          z      P>|z|      [0.025      0.975]\n",
              "------------------------------------------------------------------------------\n",
              "const         -0.0005      0.001     -0.458      0.647      -0.002       0.002\n",
              "ar.L1         -0.7421      0.022    -33.863      0.000      -0.785      -0.699\n",
              "ar.L2         -0.2506      0.030     -8.293      0.000      -0.310      -0.191\n",
              "ar.L3         -0.6759      0.034    -19.751      0.000      -0.743      -0.609\n",
              "ar.L4         -0.9592      0.025    -38.831      0.000      -1.008      -0.911\n",
              "ma.L1         -0.3179      0.509     -0.625      0.532      -1.315       0.679\n",
              "ma.L2         -0.5622      0.333     -1.688      0.091      -1.215       0.091\n",
              "ma.L3          0.3680      0.087      4.243      0.000       0.198       0.538\n",
              "ma.L4          0.3775      0.258      1.463      0.143      -0.128       0.883\n",
              "ma.L5         -0.8647      0.448     -1.928      0.054      -1.744       0.014\n",
              "sigma2         5.6571      2.844      1.989      0.047       0.083      11.231\n",
              "===================================================================================\n",
              "Ljung-Box (L1) (Q):                   3.17   Jarque-Bera (JB):              3536.97\n",
              "Prob(Q):                              0.07   Prob(JB):                         0.00\n",
              "Heteroskedasticity (H):               4.58   Skew:                            -1.56\n",
              "Prob(H) (two-sided):                  0.00   Kurtosis:                        18.33\n",
              "===================================================================================\n",
              "\n",
              "Warnings:\n",
              "[1] Covariance matrix calculated using the outer product of gradients (complex-step).\n",
              "\"\"\""
            ]
          },
          "execution_count": 161,
          "metadata": {},
          "output_type": "execute_result"
        }
      ],
      "source": [
        "# estimamos un ARMA (4,5)\n",
        "modelo = ARIMA(igae_diff, order=(4, 0, 5))\n",
        "resultado = modelo.fit()\n",
        "resultado.summary()"
      ]
    },
    {
      "cell_type": "markdown",
      "id": "331117ed-38b8-4eb3-b7c0-8546c9f32206",
      "metadata": {
        "id": "331117ed-38b8-4eb3-b7c0-8546c9f32206"
      },
      "source": [
        "El mejor modelo BIC es un ARMA(6,6)"
      ]
    },
    {
      "cell_type": "code",
      "execution_count": null,
      "id": "100d206f-4788-4617-8d55-d1fbad68f6b4",
      "metadata": {
        "id": "100d206f-4788-4617-8d55-d1fbad68f6b4",
        "outputId": "36efe9c6-771e-4b57-a007-a28ffff65ed1"
      },
      "outputs": [
        {
          "name": "stderr",
          "output_type": "stream",
          "text": [
            "C:\\ProgramData\\Anaconda3\\lib\\site-packages\\statsmodels\\tsa\\base\\tsa_model.py:578: ValueWarning: An unsupported index was provided and will be ignored when e.g. forecasting.\n",
            "  warnings.warn('An unsupported index was provided and will be'\n",
            "C:\\ProgramData\\Anaconda3\\lib\\site-packages\\statsmodels\\tsa\\base\\tsa_model.py:578: ValueWarning: An unsupported index was provided and will be ignored when e.g. forecasting.\n",
            "  warnings.warn('An unsupported index was provided and will be'\n",
            "C:\\ProgramData\\Anaconda3\\lib\\site-packages\\statsmodels\\tsa\\base\\tsa_model.py:578: ValueWarning: An unsupported index was provided and will be ignored when e.g. forecasting.\n",
            "  warnings.warn('An unsupported index was provided and will be'\n",
            "C:\\ProgramData\\Anaconda3\\lib\\site-packages\\statsmodels\\base\\model.py:566: ConvergenceWarning: Maximum Likelihood optimization failed to converge. Check mle_retvals\n",
            "  warnings.warn(\"Maximum Likelihood optimization failed to \"\n"
          ]
        },
        {
          "data": {
            "text/html": [
              "<table class=\"simpletable\">\n",
              "<caption>SARIMAX Results</caption>\n",
              "<tr>\n",
              "  <th>Dep. Variable:</th>         <td>IGAE </td>      <th>  No. Observations:  </th>    <td>347</td>  \n",
              "</tr>\n",
              "<tr>\n",
              "  <th>Model:</th>            <td>ARIMA(6, 0, 6)</td>  <th>  Log Likelihood     </th> <td>-795.711</td>\n",
              "</tr>\n",
              "<tr>\n",
              "  <th>Date:</th>            <td>Sun, 27 Mar 2022</td> <th>  AIC                </th> <td>1619.421</td>\n",
              "</tr>\n",
              "<tr>\n",
              "  <th>Time:</th>                <td>21:19:53</td>     <th>  BIC                </th> <td>1673.312</td>\n",
              "</tr>\n",
              "<tr>\n",
              "  <th>Sample:</th>                  <td>0</td>        <th>  HQIC               </th> <td>1640.879</td>\n",
              "</tr>\n",
              "<tr>\n",
              "  <th></th>                      <td> - 347</td>      <th>                     </th>     <td> </td>   \n",
              "</tr>\n",
              "<tr>\n",
              "  <th>Covariance Type:</th>        <td>opg</td>       <th>                     </th>     <td> </td>   \n",
              "</tr>\n",
              "</table>\n",
              "<table class=\"simpletable\">\n",
              "<tr>\n",
              "     <td></td>       <th>coef</th>     <th>std err</th>      <th>z</th>      <th>P>|z|</th>  <th>[0.025</th>    <th>0.975]</th>  \n",
              "</tr>\n",
              "<tr>\n",
              "  <th>const</th>  <td>   -0.0004</td> <td>    0.001</td> <td>   -0.581</td> <td> 0.561</td> <td>   -0.002</td> <td>    0.001</td>\n",
              "</tr>\n",
              "<tr>\n",
              "  <th>ar.L1</th>  <td>   -0.6761</td> <td>    0.120</td> <td>   -5.635</td> <td> 0.000</td> <td>   -0.911</td> <td>   -0.441</td>\n",
              "</tr>\n",
              "<tr>\n",
              "  <th>ar.L2</th>  <td>   -0.7266</td> <td>    0.141</td> <td>   -5.157</td> <td> 0.000</td> <td>   -1.003</td> <td>   -0.450</td>\n",
              "</tr>\n",
              "<tr>\n",
              "  <th>ar.L3</th>  <td>   -1.0050</td> <td>    0.109</td> <td>   -9.238</td> <td> 0.000</td> <td>   -1.218</td> <td>   -0.792</td>\n",
              "</tr>\n",
              "<tr>\n",
              "  <th>ar.L4</th>  <td>   -0.8537</td> <td>    0.117</td> <td>   -7.286</td> <td> 0.000</td> <td>   -1.083</td> <td>   -0.624</td>\n",
              "</tr>\n",
              "<tr>\n",
              "  <th>ar.L5</th>  <td>   -0.0411</td> <td>    0.130</td> <td>   -0.316</td> <td> 0.752</td> <td>   -0.296</td> <td>    0.214</td>\n",
              "</tr>\n",
              "<tr>\n",
              "  <th>ar.L6</th>  <td>   -0.3765</td> <td>    0.058</td> <td>   -6.494</td> <td> 0.000</td> <td>   -0.490</td> <td>   -0.263</td>\n",
              "</tr>\n",
              "<tr>\n",
              "  <th>ma.L1</th>  <td>   -0.4716</td> <td>    0.119</td> <td>   -3.977</td> <td> 0.000</td> <td>   -0.704</td> <td>   -0.239</td>\n",
              "</tr>\n",
              "<tr>\n",
              "  <th>ma.L2</th>  <td>   -0.2114</td> <td>    0.063</td> <td>   -3.371</td> <td> 0.001</td> <td>   -0.334</td> <td>   -0.088</td>\n",
              "</tr>\n",
              "<tr>\n",
              "  <th>ma.L3</th>  <td>    0.1985</td> <td>    0.076</td> <td>    2.597</td> <td> 0.009</td> <td>    0.049</td> <td>    0.348</td>\n",
              "</tr>\n",
              "<tr>\n",
              "  <th>ma.L4</th>  <td>   -0.1817</td> <td>    0.070</td> <td>   -2.585</td> <td> 0.010</td> <td>   -0.320</td> <td>   -0.044</td>\n",
              "</tr>\n",
              "<tr>\n",
              "  <th>ma.L5</th>  <td>   -0.8454</td> <td>    0.078</td> <td>  -10.818</td> <td> 0.000</td> <td>   -0.999</td> <td>   -0.692</td>\n",
              "</tr>\n",
              "<tr>\n",
              "  <th>ma.L6</th>  <td>    0.5266</td> <td>    0.106</td> <td>    4.984</td> <td> 0.000</td> <td>    0.319</td> <td>    0.734</td>\n",
              "</tr>\n",
              "<tr>\n",
              "  <th>sigma2</th> <td>    5.7114</td> <td>    0.299</td> <td>   19.127</td> <td> 0.000</td> <td>    5.126</td> <td>    6.297</td>\n",
              "</tr>\n",
              "</table>\n",
              "<table class=\"simpletable\">\n",
              "<tr>\n",
              "  <th>Ljung-Box (L1) (Q):</th>     <td>0.21</td> <th>  Jarque-Bera (JB):  </th> <td>3534.42</td>\n",
              "</tr>\n",
              "<tr>\n",
              "  <th>Prob(Q):</th>                <td>0.65</td> <th>  Prob(JB):          </th>  <td>0.00</td>  \n",
              "</tr>\n",
              "<tr>\n",
              "  <th>Heteroskedasticity (H):</th> <td>3.74</td> <th>  Skew:              </th>  <td>-1.67</td> \n",
              "</tr>\n",
              "<tr>\n",
              "  <th>Prob(H) (two-sided):</th>    <td>0.00</td> <th>  Kurtosis:          </th>  <td>18.27</td> \n",
              "</tr>\n",
              "</table><br/><br/>Warnings:<br/>[1] Covariance matrix calculated using the outer product of gradients (complex-step)."
            ],
            "text/plain": [
              "<class 'statsmodels.iolib.summary.Summary'>\n",
              "\"\"\"\n",
              "                               SARIMAX Results                                \n",
              "==============================================================================\n",
              "Dep. Variable:                  IGAE    No. Observations:                  347\n",
              "Model:                 ARIMA(6, 0, 6)   Log Likelihood                -795.711\n",
              "Date:                Sun, 27 Mar 2022   AIC                           1619.421\n",
              "Time:                        21:19:53   BIC                           1673.312\n",
              "Sample:                             0   HQIC                          1640.879\n",
              "                                - 347                                         \n",
              "Covariance Type:                  opg                                         \n",
              "==============================================================================\n",
              "                 coef    std err          z      P>|z|      [0.025      0.975]\n",
              "------------------------------------------------------------------------------\n",
              "const         -0.0004      0.001     -0.581      0.561      -0.002       0.001\n",
              "ar.L1         -0.6761      0.120     -5.635      0.000      -0.911      -0.441\n",
              "ar.L2         -0.7266      0.141     -5.157      0.000      -1.003      -0.450\n",
              "ar.L3         -1.0050      0.109     -9.238      0.000      -1.218      -0.792\n",
              "ar.L4         -0.8537      0.117     -7.286      0.000      -1.083      -0.624\n",
              "ar.L5         -0.0411      0.130     -0.316      0.752      -0.296       0.214\n",
              "ar.L6         -0.3765      0.058     -6.494      0.000      -0.490      -0.263\n",
              "ma.L1         -0.4716      0.119     -3.977      0.000      -0.704      -0.239\n",
              "ma.L2         -0.2114      0.063     -3.371      0.001      -0.334      -0.088\n",
              "ma.L3          0.1985      0.076      2.597      0.009       0.049       0.348\n",
              "ma.L4         -0.1817      0.070     -2.585      0.010      -0.320      -0.044\n",
              "ma.L5         -0.8454      0.078    -10.818      0.000      -0.999      -0.692\n",
              "ma.L6          0.5266      0.106      4.984      0.000       0.319       0.734\n",
              "sigma2         5.7114      0.299     19.127      0.000       5.126       6.297\n",
              "===================================================================================\n",
              "Ljung-Box (L1) (Q):                   0.21   Jarque-Bera (JB):              3534.42\n",
              "Prob(Q):                              0.65   Prob(JB):                         0.00\n",
              "Heteroskedasticity (H):               3.74   Skew:                            -1.67\n",
              "Prob(H) (two-sided):                  0.00   Kurtosis:                        18.27\n",
              "===================================================================================\n",
              "\n",
              "Warnings:\n",
              "[1] Covariance matrix calculated using the outer product of gradients (complex-step).\n",
              "\"\"\""
            ]
          },
          "execution_count": 160,
          "metadata": {},
          "output_type": "execute_result"
        }
      ],
      "source": [
        "# estimamos un ARMA (6,6)\n",
        "modelo = ARIMA(igae_diff, order=(6, 0, 6))\n",
        "resultado = modelo.fit()\n",
        "resultado.summary()"
      ]
    },
    {
      "cell_type": "markdown",
      "id": "77a3015a-af9c-4612-b086-15c0c69730b1",
      "metadata": {
        "id": "77a3015a-af9c-4612-b086-15c0c69730b1"
      },
      "source": [
        "\n",
        "\n",
        "Al realizar ambos, observamos que el mejor modelo es un ARMA (6,6)\n",
        "\n",
        "Sin embargo, en este caso, como diferenciamos una vez la serie de tiempo estacionaria para hacerla estacionaria, nuestro modelo ARMA (6,6), es un ARIMA(6,1,6) de la serie original"
      ]
    },
    {
      "cell_type": "markdown",
      "id": "15bea2ff-f2c2-4a94-8182-d1527107c203",
      "metadata": {
        "id": "15bea2ff-f2c2-4a94-8182-d1527107c203"
      },
      "source": [
        "**l)**"
      ]
    },
    {
      "cell_type": "code",
      "execution_count": null,
      "id": "32c43a58-7c5f-4692-9234-ddaa9c7c3605",
      "metadata": {
        "id": "32c43a58-7c5f-4692-9234-ddaa9c7c3605",
        "outputId": "5d12fb31-154a-4e88-ec42-ddeb70ce4d93"
      },
      "outputs": [
        {
          "name": "stderr",
          "output_type": "stream",
          "text": [
            "C:\\ProgramData\\Anaconda3\\lib\\site-packages\\statsmodels\\base\\model.py:566: ConvergenceWarning: Maximum Likelihood optimization failed to converge. Check mle_retvals\n",
            "  warnings.warn(\"Maximum Likelihood optimization failed to \"\n"
          ]
        },
        {
          "data": {
            "text/html": [
              "<table class=\"simpletable\">\n",
              "<caption>SARIMAX Results</caption>\n",
              "<tr>\n",
              "  <th>Dep. Variable:</th>         <td>IGAE </td>      <th>  No. Observations:  </th>    <td>348</td>  \n",
              "</tr>\n",
              "<tr>\n",
              "  <th>Model:</th>            <td>ARIMA(6, 1, 6)</td>  <th>  Log Likelihood     </th> <td>-793.735</td>\n",
              "</tr>\n",
              "<tr>\n",
              "  <th>Date:</th>            <td>Sun, 27 Mar 2022</td> <th>  AIC                </th> <td>1613.469</td>\n",
              "</tr>\n",
              "<tr>\n",
              "  <th>Time:</th>                <td>22:42:07</td>     <th>  BIC                </th> <td>1663.510</td>\n",
              "</tr>\n",
              "<tr>\n",
              "  <th>Sample:</th>                  <td>0</td>        <th>  HQIC               </th> <td>1633.394</td>\n",
              "</tr>\n",
              "<tr>\n",
              "  <th></th>                      <td> - 348</td>      <th>                     </th>     <td> </td>   \n",
              "</tr>\n",
              "<tr>\n",
              "  <th>Covariance Type:</th>        <td>opg</td>       <th>                     </th>     <td> </td>   \n",
              "</tr>\n",
              "</table>\n",
              "<table class=\"simpletable\">\n",
              "<tr>\n",
              "     <td></td>       <th>coef</th>     <th>std err</th>      <th>z</th>      <th>P>|z|</th>  <th>[0.025</th>    <th>0.975]</th>  \n",
              "</tr>\n",
              "<tr>\n",
              "  <th>ar.L1</th>  <td>   -0.7295</td> <td>    0.104</td> <td>   -7.009</td> <td> 0.000</td> <td>   -0.934</td> <td>   -0.526</td>\n",
              "</tr>\n",
              "<tr>\n",
              "  <th>ar.L2</th>  <td>   -0.8016</td> <td>    0.131</td> <td>   -6.110</td> <td> 0.000</td> <td>   -1.059</td> <td>   -0.544</td>\n",
              "</tr>\n",
              "<tr>\n",
              "  <th>ar.L3</th>  <td>   -1.0672</td> <td>    0.113</td> <td>   -9.420</td> <td> 0.000</td> <td>   -1.289</td> <td>   -0.845</td>\n",
              "</tr>\n",
              "<tr>\n",
              "  <th>ar.L4</th>  <td>   -0.9081</td> <td>    0.124</td> <td>   -7.341</td> <td> 0.000</td> <td>   -1.151</td> <td>   -0.666</td>\n",
              "</tr>\n",
              "<tr>\n",
              "  <th>ar.L5</th>  <td>   -0.0906</td> <td>    0.124</td> <td>   -0.733</td> <td> 0.464</td> <td>   -0.333</td> <td>    0.152</td>\n",
              "</tr>\n",
              "<tr>\n",
              "  <th>ar.L6</th>  <td>   -0.3897</td> <td>    0.056</td> <td>   -6.905</td> <td> 0.000</td> <td>   -0.500</td> <td>   -0.279</td>\n",
              "</tr>\n",
              "<tr>\n",
              "  <th>ma.L1</th>  <td>   -0.4312</td> <td>    0.106</td> <td>   -4.061</td> <td> 0.000</td> <td>   -0.639</td> <td>   -0.223</td>\n",
              "</tr>\n",
              "<tr>\n",
              "  <th>ma.L2</th>  <td>   -0.1937</td> <td>    0.044</td> <td>   -4.386</td> <td> 0.000</td> <td>   -0.280</td> <td>   -0.107</td>\n",
              "</tr>\n",
              "<tr>\n",
              "  <th>ma.L3</th>  <td>    0.2130</td> <td>    0.054</td> <td>    3.927</td> <td> 0.000</td> <td>    0.107</td> <td>    0.319</td>\n",
              "</tr>\n",
              "<tr>\n",
              "  <th>ma.L4</th>  <td>   -0.2194</td> <td>    0.056</td> <td>   -3.945</td> <td> 0.000</td> <td>   -0.328</td> <td>   -0.110</td>\n",
              "</tr>\n",
              "<tr>\n",
              "  <th>ma.L5</th>  <td>   -0.8778</td> <td>    0.058</td> <td>  -15.170</td> <td> 0.000</td> <td>   -0.991</td> <td>   -0.764</td>\n",
              "</tr>\n",
              "<tr>\n",
              "  <th>ma.L6</th>  <td>    0.5133</td> <td>    0.095</td> <td>    5.429</td> <td> 0.000</td> <td>    0.328</td> <td>    0.699</td>\n",
              "</tr>\n",
              "<tr>\n",
              "  <th>sigma2</th> <td>    5.4072</td> <td>    0.356</td> <td>   15.190</td> <td> 0.000</td> <td>    4.710</td> <td>    6.105</td>\n",
              "</tr>\n",
              "</table>\n",
              "<table class=\"simpletable\">\n",
              "<tr>\n",
              "  <th>Ljung-Box (L1) (Q):</th>     <td>0.03</td> <th>  Jarque-Bera (JB):  </th> <td>3288.32</td>\n",
              "</tr>\n",
              "<tr>\n",
              "  <th>Prob(Q):</th>                <td>0.86</td> <th>  Prob(JB):          </th>  <td>0.00</td>  \n",
              "</tr>\n",
              "<tr>\n",
              "  <th>Heteroskedasticity (H):</th> <td>3.83</td> <th>  Skew:              </th>  <td>-1.65</td> \n",
              "</tr>\n",
              "<tr>\n",
              "  <th>Prob(H) (two-sided):</th>    <td>0.00</td> <th>  Kurtosis:          </th>  <td>17.71</td> \n",
              "</tr>\n",
              "</table><br/><br/>Warnings:<br/>[1] Covariance matrix calculated using the outer product of gradients (complex-step)."
            ],
            "text/plain": [
              "<class 'statsmodels.iolib.summary.Summary'>\n",
              "\"\"\"\n",
              "                               SARIMAX Results                                \n",
              "==============================================================================\n",
              "Dep. Variable:                  IGAE    No. Observations:                  348\n",
              "Model:                 ARIMA(6, 1, 6)   Log Likelihood                -793.735\n",
              "Date:                Sun, 27 Mar 2022   AIC                           1613.469\n",
              "Time:                        22:42:07   BIC                           1663.510\n",
              "Sample:                             0   HQIC                          1633.394\n",
              "                                - 348                                         \n",
              "Covariance Type:                  opg                                         \n",
              "==============================================================================\n",
              "                 coef    std err          z      P>|z|      [0.025      0.975]\n",
              "------------------------------------------------------------------------------\n",
              "ar.L1         -0.7295      0.104     -7.009      0.000      -0.934      -0.526\n",
              "ar.L2         -0.8016      0.131     -6.110      0.000      -1.059      -0.544\n",
              "ar.L3         -1.0672      0.113     -9.420      0.000      -1.289      -0.845\n",
              "ar.L4         -0.9081      0.124     -7.341      0.000      -1.151      -0.666\n",
              "ar.L5         -0.0906      0.124     -0.733      0.464      -0.333       0.152\n",
              "ar.L6         -0.3897      0.056     -6.905      0.000      -0.500      -0.279\n",
              "ma.L1         -0.4312      0.106     -4.061      0.000      -0.639      -0.223\n",
              "ma.L2         -0.1937      0.044     -4.386      0.000      -0.280      -0.107\n",
              "ma.L3          0.2130      0.054      3.927      0.000       0.107       0.319\n",
              "ma.L4         -0.2194      0.056     -3.945      0.000      -0.328      -0.110\n",
              "ma.L5         -0.8778      0.058    -15.170      0.000      -0.991      -0.764\n",
              "ma.L6          0.5133      0.095      5.429      0.000       0.328       0.699\n",
              "sigma2         5.4072      0.356     15.190      0.000       4.710       6.105\n",
              "===================================================================================\n",
              "Ljung-Box (L1) (Q):                   0.03   Jarque-Bera (JB):              3288.32\n",
              "Prob(Q):                              0.86   Prob(JB):                         0.00\n",
              "Heteroskedasticity (H):               3.83   Skew:                            -1.65\n",
              "Prob(H) (two-sided):                  0.00   Kurtosis:                        17.71\n",
              "===================================================================================\n",
              "\n",
              "Warnings:\n",
              "[1] Covariance matrix calculated using the outer product of gradients (complex-step).\n",
              "\"\"\""
            ]
          },
          "execution_count": 170,
          "metadata": {},
          "output_type": "execute_result"
        }
      ],
      "source": [
        "# estimamos un ARIMA (6,6)\n",
        "modelo2 = ARIMA(igae['IGAE '], order=(6, 1, 6))\n",
        "resultado2 = modelo2.fit()\n",
        "resultado2.summary()"
      ]
    },
    {
      "cell_type": "code",
      "execution_count": null,
      "id": "0f489408-ab5c-4467-a05b-c0b4c32fb1b5",
      "metadata": {
        "id": "0f489408-ab5c-4467-a05b-c0b4c32fb1b5",
        "outputId": "daa9c24c-c8d5-4392-a3c8-23f1f5b5f005"
      },
      "outputs": [
        {
          "name": "stderr",
          "output_type": "stream",
          "text": [
            "C:\\Users\\alda1\\AppData\\Local\\Temp/ipykernel_17220/3943101455.py:3: SettingWithCopyWarning: \n",
            "A value is trying to be set on a copy of a slice from a DataFrame\n",
            "\n",
            "See the caveats in the documentation: https://pandas.pydata.org/pandas-docs/stable/user_guide/indexing.html#returning-a-view-versus-a-copy\n",
            "  igae['pronostico'][0] = igae['IGAE '][0]\n"
          ]
        }
      ],
      "source": [
        "# vamos a estimar la serie con el modelo ARIMA\n",
        "igae['pronostico'] = resultado2.predict()\n",
        "igae['pronostico'][0] = igae['IGAE '][0]"
      ]
    },
    {
      "cell_type": "markdown",
      "id": "f99cb918-d184-4621-84a1-72c9d9ca4ca8",
      "metadata": {
        "id": "f99cb918-d184-4621-84a1-72c9d9ca4ca8"
      },
      "source": [
        "graficamos la y_estimada con la y_original"
      ]
    },
    {
      "cell_type": "code",
      "execution_count": null,
      "id": "bae1a85e-272c-4969-80bd-0b70e1b08057",
      "metadata": {
        "id": "bae1a85e-272c-4969-80bd-0b70e1b08057",
        "outputId": "fcd15ec6-e112-43d1-e434-69d0f2018fd0"
      },
      "outputs": [
        {
          "data": {
            "image/png": "[encoded data removed]",
            "text/plain": [
              "<Figure size 720x540 with 1 Axes>"
            ]
          },
          "metadata": {
            "needs_background": "light"
          },
          "output_type": "display_data"
        }
      ],
      "source": [
        "igae[['IGAE ', 'pronostico']].plot()\n",
        "plt.show()"
      ]
    },
    {
      "cell_type": "code",
      "execution_count": null,
      "id": "d708da4a-fe8c-4f19-bae0-1f861786843d",
      "metadata": {
        "id": "d708da4a-fe8c-4f19-bae0-1f861786843d",
        "outputId": "107f9e33-cbf5-4675-e476-936df6a10e22"
      },
      "outputs": [
        {
          "data": {
            "text/plain": [
              "348"
            ]
          },
          "execution_count": 166,
          "metadata": {},
          "output_type": "execute_result"
        }
      ],
      "source": [
        "#calculamos cuantas observaciones tenemos para hacer nuestra predicción\n",
        "len(igae)"
      ]
    },
    {
      "cell_type": "markdown",
      "id": "0a1492c0-cf31-4304-af4e-553968ea407c",
      "metadata": {
        "id": "0a1492c0-cf31-4304-af4e-553968ea407c"
      },
      "source": [
        "**m)**"
      ]
    },
    {
      "cell_type": "code",
      "execution_count": null,
      "id": "b0954365-0a8c-4275-b663-93967bc5d2b0",
      "metadata": {
        "id": "b0954365-0a8c-4275-b663-93967bc5d2b0",
        "outputId": "046c7fb2-7c9b-4b56-a403-90fce87369ea"
      },
      "outputs": [
        {
          "data": {
            "text/plain": [
              "349    4.797131\n",
              "350    0.599098\n",
              "351    4.223094\n",
              "352   -2.740750\n",
              "353   -3.433647\n",
              "Name: predicted_mean, dtype: float64"
            ]
          },
          "execution_count": 167,
          "metadata": {},
          "output_type": "execute_result"
        }
      ],
      "source": [
        "## vamos a pronosticar los siguientes 5 meses \n",
        "resultado2.predict(349, 353)"
      ]
    },
    {
      "cell_type": "markdown",
      "id": "4be86475-41e5-4efc-91c7-ad5799b0ee0f",
      "metadata": {
        "id": "4be86475-41e5-4efc-91c7-ad5799b0ee0f"
      },
      "source": [
        "**n)**"
      ]
    },
    {
      "cell_type": "code",
      "execution_count": null,
      "id": "a61e9cdc-fc95-4a20-b860-e0374a40ac73",
      "metadata": {
        "id": "a61e9cdc-fc95-4a20-b860-e0374a40ac73",
        "outputId": "aef4fcba-c2cc-440b-9c6f-954a8a727c2d"
      },
      "outputs": [
        {
          "data": {
            "text/plain": [
              "349    4.797131\n",
              "350    0.599098\n",
              "351    4.223094\n",
              "352   -2.740750\n",
              "353   -3.433647\n",
              "354    1.465160\n",
              "355   -0.488305\n",
              "356    5.380259\n",
              "357   -2.715235\n",
              "358   -1.100970\n",
              "359   -0.452258\n",
              "360   -0.640549\n",
              "361    4.834550\n",
              "362   -2.720147\n",
              "363    1.022359\n",
              "364   -2.011919\n",
              "365    0.056866\n",
              "366    3.423162\n",
              "367   -2.300038\n",
              "368    2.328748\n",
              "369   -3.114797\n",
              "370    1.192014\n",
              "371    1.559554\n",
              "372   -1.347782\n",
              "373    2.635892\n",
              "374   -3.553196\n",
              "375    2.268484\n",
              "376   -0.340286\n",
              "377    0.004147\n",
              "378    2.022933\n",
              "379   -3.219633\n",
              "Name: predicted_mean, dtype: float64"
            ]
          },
          "execution_count": 169,
          "metadata": {},
          "output_type": "execute_result"
        }
      ],
      "source": [
        "## vamos a pronosticar los siguientes 30 meses \n",
        "resultado2.predict(349, 379)"
      ]
    },
    {
      "cell_type": "markdown",
      "id": "3afca83b-8a24-4991-88bd-2667fb521396",
      "metadata": {
        "id": "3afca83b-8a24-4991-88bd-2667fb521396"
      },
      "source": [
        "Podemos observar que a partir del mes 12, las variaciones son mas amplias "
      ]
    }
  ],
  "metadata": {
    "kernelspec": {
      "display_name": "Python 3 (ipykernel)",
      "language": "python",
      "name": "python3"
    },
    "language_info": {
      "codemirror_mode": {
        "name": "ipython",
        "version": 3
      },
      "file_extension": ".py",
      "mimetype": "text/x-python",
      "name": "python",
      "nbconvert_exporter": "python",
      "pygments_lexer": "ipython3",
      "version": "3.9.7"
    },
    "colab": {
      "name": "LAHM_1616940_EstadisticaAplicadaG51_parcial2a_2.ipynb",
      "provenance": [],
      "include_colab_link": true
    }
  },
  "nbformat": 4,
  "nbformat_minor": 5
}