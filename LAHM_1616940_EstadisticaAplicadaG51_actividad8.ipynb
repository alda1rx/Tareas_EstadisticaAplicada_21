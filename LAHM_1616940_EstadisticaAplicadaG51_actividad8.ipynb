{
 "cells": [
  {
   "cell_type": "markdown",
   "id": "ae5706e5-c78e-4d3f-a8c0-a0d05a34ceec",
   "metadata": {},
   "source": [
    "# pronóstico de series de tiempo"
   ]
  },
  {
   "cell_type": "markdown",
   "id": "fbab081d-9ddf-49c4-9dbf-991046695b65",
   "metadata": {},
   "source": [
    "En esta notebook vamos a realizar el pronóstico de una serie de tiempo\n",
    "1. Descargaremos los datos\n",
    "2. Graficaremos la series para darnos una idea de su comportamiento\n",
    "3. realizaremos una prueba de raíz unitaria para comprobrar si la serie es estacionaria\n",
    "4. Diferenciaremos la serie en caso de que no sea estacionaria\n",
    "5. Realizamos la prueba a la serie diferenciada para ver si es estacionaria\n",
    "6. Graficaremos la serie estacionaria\n",
    "7. realizaremos su ACF y PACF para tratar de identificar que tipo de proceso es MA(q), AR(P), ARMA(p,q), etc\n",
    "8. Estimamos distintos modelos\n",
    "9. Elegimos el modelo\n",
    "10. Realizamos el pronóstico "
   ]
  },
  {
   "cell_type": "code",
   "execution_count": null,
   "id": "33df1691-3fef-405f-8a39-8377ec72c594",
   "metadata": {},
   "outputs": [],
   "source": [
    "# como siempre comenzamos importando las librerias\n",
    "import numpy as np\n",
    "import pandas as pd \n",
    "import yfinance as yf\n",
    "import scipy.stats as stats\n",
    "import matplotlib.pyplot as plt\n",
    "from statsmodels.graphics.tsaplots import plot_acf\n",
    "from statsmodels.graphics.tsaplots import plot_pacf\n",
    "from statsmodels.tsa.stattools import acf\n",
    "from statsmodels.tsa.stattools import pacf\n",
    "from statsmodels.tsa.stattools import adfuller\n",
    "from statsmodels.tsa.arima_process import ArmaProcess\n",
    "from statsmodels.tsa.arima.model import ARIMA\n",
    "\n",
    "\n",
    "%matplotlib inline"
   ]
  },
  {
   "cell_type": "code",
   "execution_count": null,
   "id": "9d02ce75-4fb9-4d71-b094-057ed1d71d7d",
   "metadata": {},
   "outputs": [],
   "source": [
    "#fijamos tamaño de graficas\n",
    "plt.rcParams['figure.figsize'] = [10, 7.5]"
   ]
  },
  {
   "cell_type": "markdown",
   "id": "d6b3e9aa-b042-442d-9620-6cc1ff4fc407",
   "metadata": {},
   "source": [
    "## 1. Importamos los datos desde la api de yahoo finance"
   ]
  },
  {
   "cell_type": "markdown",
   "id": "cbd85856-0cbd-4289-bb3a-0c2ebf23c47d",
   "metadata": {},
   "source": [
    "en mi caso yo voy a utilizar las acciones de walmart de México y voy a utilizar la información de los ultimos dos años hasta el día viernes, que es cuando estuvo abierta la bolsa"
   ]
  },
  {
   "cell_type": "code",
   "execution_count": null,
   "id": "b0f5c7b1-c26e-46bd-90da-f9d3f8983bfd",
   "metadata": {},
   "outputs": [],
   "source": [
    "\n",
    "elektra = yf.download('ELEKTRA.MX', \n",
    "                       start='2020-03-12', \n",
    "                       end='2022-03-12',\n",
    "                       progress=False)"
   ]
  },
  {
   "cell_type": "code",
   "execution_count": null,
   "id": "9c7f1aec-6ca7-477f-9699-5467054b0934",
   "metadata": {},
   "outputs": [
    {
     "data": {
      "text/html": [
       "<div>\n",
       "<style scoped>\n",
       "    .dataframe tbody tr th:only-of-type {\n",
       "        vertical-align: middle;\n",
       "    }\n",
       "\n",
       "    .dataframe tbody tr th {\n",
       "        vertical-align: top;\n",
       "    }\n",
       "\n",
       "    .dataframe thead th {\n",
       "        text-align: right;\n",
       "    }\n",
       "</style>\n",
       "<table border=\"1\" class=\"dataframe\">\n",
       "  <thead>\n",
       "    <tr style=\"text-align: right;\">\n",
       "      <th></th>\n",
       "      <th>Open</th>\n",
       "      <th>High</th>\n",
       "      <th>Low</th>\n",
       "      <th>Close</th>\n",
       "      <th>Adj Close</th>\n",
       "      <th>Volume</th>\n",
       "    </tr>\n",
       "    <tr>\n",
       "      <th>Date</th>\n",
       "      <th></th>\n",
       "      <th></th>\n",
       "      <th></th>\n",
       "      <th></th>\n",
       "      <th></th>\n",
       "      <th></th>\n",
       "    </tr>\n",
       "  </thead>\n",
       "  <tbody>\n",
       "    <tr>\n",
       "      <th>2022-02-28</th>\n",
       "      <td>1354.000000</td>\n",
       "      <td>1354.050049</td>\n",
       "      <td>1323.390015</td>\n",
       "      <td>1343.709961</td>\n",
       "      <td>1343.709961</td>\n",
       "      <td>49010</td>\n",
       "    </tr>\n",
       "    <tr>\n",
       "      <th>2022-03-01</th>\n",
       "      <td>1328.000000</td>\n",
       "      <td>1343.699951</td>\n",
       "      <td>1305.199951</td>\n",
       "      <td>1324.959961</td>\n",
       "      <td>1324.959961</td>\n",
       "      <td>69579</td>\n",
       "    </tr>\n",
       "    <tr>\n",
       "      <th>2022-03-02</th>\n",
       "      <td>1339.689941</td>\n",
       "      <td>1342.000000</td>\n",
       "      <td>1305.010010</td>\n",
       "      <td>1335.780029</td>\n",
       "      <td>1335.780029</td>\n",
       "      <td>59033</td>\n",
       "    </tr>\n",
       "    <tr>\n",
       "      <th>2022-03-03</th>\n",
       "      <td>1340.000000</td>\n",
       "      <td>1340.000000</td>\n",
       "      <td>1311.699951</td>\n",
       "      <td>1323.219971</td>\n",
       "      <td>1323.219971</td>\n",
       "      <td>44697</td>\n",
       "    </tr>\n",
       "    <tr>\n",
       "      <th>2022-03-04</th>\n",
       "      <td>1330.739990</td>\n",
       "      <td>1336.989990</td>\n",
       "      <td>1312.030029</td>\n",
       "      <td>1326.550049</td>\n",
       "      <td>1326.550049</td>\n",
       "      <td>20892</td>\n",
       "    </tr>\n",
       "    <tr>\n",
       "      <th>2022-03-07</th>\n",
       "      <td>1337.000000</td>\n",
       "      <td>1337.000000</td>\n",
       "      <td>1309.010010</td>\n",
       "      <td>1317.099976</td>\n",
       "      <td>1317.099976</td>\n",
       "      <td>20204</td>\n",
       "    </tr>\n",
       "    <tr>\n",
       "      <th>2022-03-08</th>\n",
       "      <td>1329.979980</td>\n",
       "      <td>1329.979980</td>\n",
       "      <td>1286.510010</td>\n",
       "      <td>1298.530029</td>\n",
       "      <td>1298.530029</td>\n",
       "      <td>90740</td>\n",
       "    </tr>\n",
       "    <tr>\n",
       "      <th>2022-03-09</th>\n",
       "      <td>1295.000000</td>\n",
       "      <td>1308.989990</td>\n",
       "      <td>1270.000000</td>\n",
       "      <td>1282.089966</td>\n",
       "      <td>1282.089966</td>\n",
       "      <td>69865</td>\n",
       "    </tr>\n",
       "    <tr>\n",
       "      <th>2022-03-10</th>\n",
       "      <td>1298.849976</td>\n",
       "      <td>1312.949951</td>\n",
       "      <td>1261.500000</td>\n",
       "      <td>1287.979980</td>\n",
       "      <td>1287.979980</td>\n",
       "      <td>58951</td>\n",
       "    </tr>\n",
       "    <tr>\n",
       "      <th>2022-03-11</th>\n",
       "      <td>1300.000000</td>\n",
       "      <td>1300.000000</td>\n",
       "      <td>1275.010010</td>\n",
       "      <td>1280.930054</td>\n",
       "      <td>1280.930054</td>\n",
       "      <td>29401</td>\n",
       "    </tr>\n",
       "  </tbody>\n",
       "</table>\n",
       "</div>"
      ],
      "text/plain": [
       "                   Open         High          Low        Close    Adj Close  \\\n",
       "Date                                                                          \n",
       "2022-02-28  1354.000000  1354.050049  1323.390015  1343.709961  1343.709961   \n",
       "2022-03-01  1328.000000  1343.699951  1305.199951  1324.959961  1324.959961   \n",
       "2022-03-02  1339.689941  1342.000000  1305.010010  1335.780029  1335.780029   \n",
       "2022-03-03  1340.000000  1340.000000  1311.699951  1323.219971  1323.219971   \n",
       "2022-03-04  1330.739990  1336.989990  1312.030029  1326.550049  1326.550049   \n",
       "2022-03-07  1337.000000  1337.000000  1309.010010  1317.099976  1317.099976   \n",
       "2022-03-08  1329.979980  1329.979980  1286.510010  1298.530029  1298.530029   \n",
       "2022-03-09  1295.000000  1308.989990  1270.000000  1282.089966  1282.089966   \n",
       "2022-03-10  1298.849976  1312.949951  1261.500000  1287.979980  1287.979980   \n",
       "2022-03-11  1300.000000  1300.000000  1275.010010  1280.930054  1280.930054   \n",
       "\n",
       "            Volume  \n",
       "Date                \n",
       "2022-02-28   49010  \n",
       "2022-03-01   69579  \n",
       "2022-03-02   59033  \n",
       "2022-03-03   44697  \n",
       "2022-03-04   20892  \n",
       "2022-03-07   20204  \n",
       "2022-03-08   90740  \n",
       "2022-03-09   69865  \n",
       "2022-03-10   58951  \n",
       "2022-03-11   29401  "
      ]
     },
     "execution_count": 57,
     "metadata": {},
     "output_type": "execute_result"
    }
   ],
   "source": [
    "#vemos los ultimos 10 datos\n",
    "elektra.tail(10)"
   ]
  },
  {
   "cell_type": "code",
   "execution_count": null,
   "id": "7ffe0568-7cd5-4023-a918-51e6ddd78b85",
   "metadata": {},
   "outputs": [],
   "source": [
    "##Voy renombar columna 'Adj Close' por adj_close \n",
    "elektra.rename(columns = {'Adj Close':'adj_close'}, inplace=True)"
   ]
  },
  {
   "cell_type": "code",
   "execution_count": null,
   "id": "3d285176-a55d-4ef9-8600-4ddc7619b15d",
   "metadata": {},
   "outputs": [
    {
     "data": {
      "image/png": "[encoded data removed]",
      "text/plain": [
       "<Figure size 720x540 with 1 Axes>"
      ]
     },
     "metadata": {
      "needs_background": "light"
     },
     "output_type": "display_data"
    }
   ],
   "source": [
    "# vamos a graficar\n",
    "elektra.adj_close.plot()\n",
    "plt.title('Precio de acción de Elektra México en pesos (enero 2020 - 11 marzo 2022)')\n",
    "plt.show()"
   ]
  },
  {
   "cell_type": "code",
   "execution_count": null,
   "id": "91857505-e616-47bc-9488-589fe6afd70a",
   "metadata": {},
   "outputs": [
    {
     "name": "stdout",
     "output_type": "stream",
     "text": [
      "p-value: 0.759693\n"
     ]
    }
   ],
   "source": [
    "#hacemos la prueba de dickey fuller aumentada ADF\n",
    "adf = adfuller(elektra['adj_close'])\n",
    "\n",
    "#presentamos el p-value\n",
    "print('p-value: %f' % adf[1])\n",
    "\n"
   ]
  },
  {
   "cell_type": "markdown",
   "id": "462c80c9-f448-4c53-94e3-8b19994e00f4",
   "metadata": {},
   "source": [
    "Recuerda que $H_0$: serie no estacionaria"
   ]
  },
  {
   "cell_type": "code",
   "execution_count": null,
   "id": "33a2b8bb-7dc1-4c03-acc2-41e146159836",
   "metadata": {},
   "outputs": [
    {
     "name": "stdout",
     "output_type": "stream",
     "text": [
      "con un un p-value = 0.76\n",
      " NO se rechaza hipótesis nula, serie no estacionaria\n"
     ]
    }
   ],
   "source": [
    "if adf[1] < 0.05:\n",
    "    \n",
    "    print(f'con un un p-value={adf[1].round(3)}\\n Se rechaza hipótesis nula, serie estacionaria') \n",
    "    \n",
    "else:\n",
    "    \n",
    "    print(f'con un un p-value = {adf[1].round(3)}\\n NO se rechaza hipótesis nula, serie no estacionaria') \n"
   ]
  },
  {
   "cell_type": "markdown",
   "id": "0f21dd97-1ea0-4a22-b490-9dc9b0499510",
   "metadata": {},
   "source": [
    "para hacer la serie estacionaria, usaremos lafunción shift de pandas \n",
    "\n",
    "y guardaremos la serie diferenciada en un objeto aparte"
   ]
  },
  {
   "cell_type": "code",
   "execution_count": null,
   "id": "00211906-3c5a-41b9-bff9-c436bf90c77f",
   "metadata": {},
   "outputs": [],
   "source": [
    "elektra_diff = elektra['adj_close'] - elektra['adj_close'].shift()"
   ]
  },
  {
   "cell_type": "code",
   "execution_count": null,
   "id": "5f0614ac-8a8a-4399-9bec-4c675999348b",
   "metadata": {},
   "outputs": [
    {
     "data": {
      "image/png": "[encoded data removed]",
      "text/plain": [
       "<Figure size 720x540 with 1 Axes>"
      ]
     },
     "metadata": {
      "needs_background": "light"
     },
     "output_type": "display_data"
    }
   ],
   "source": [
    "#graficamos el tipo de cambio diferenciado\n",
    "elektra_diff.plot()\n",
    "plt.title('Precio de acción de elektra México diferenciada en pesos, (enero 2020-11 marzo 2022)')\n",
    "plt.show()"
   ]
  },
  {
   "cell_type": "code",
   "execution_count": null,
   "id": "3827dbf1-f7d1-4a7f-bb7e-40f11203cf93",
   "metadata": {},
   "outputs": [],
   "source": [
    "#eliminamos los Nan\n",
    "elektra_diff = elektra_diff.dropna()"
   ]
  },
  {
   "cell_type": "code",
   "execution_count": null,
   "id": "440c7cd2-1fdc-43a4-bc64-ed90d4243378",
   "metadata": {},
   "outputs": [],
   "source": [
    "## como la serie tiene saltos (los fines de semana los mercados no abren)\n",
    "## removeremos la fecha\n",
    "elektra_diff = elektra_diff.reset_index()\n",
    "\n",
    "### eliminamos columna fecha\n",
    "elektra_diff = elektra_diff.drop(['Date'], axis=1)"
   ]
  },
  {
   "cell_type": "code",
   "execution_count": null,
   "id": "66d417dc-5d8b-4d91-b9d8-97dc94e2d96a",
   "metadata": {},
   "outputs": [
    {
     "data": {
      "text/html": [
       "<div>\n",
       "<style scoped>\n",
       "    .dataframe tbody tr th:only-of-type {\n",
       "        vertical-align: middle;\n",
       "    }\n",
       "\n",
       "    .dataframe tbody tr th {\n",
       "        vertical-align: top;\n",
       "    }\n",
       "\n",
       "    .dataframe thead th {\n",
       "        text-align: right;\n",
       "    }\n",
       "</style>\n",
       "<table border=\"1\" class=\"dataframe\">\n",
       "  <thead>\n",
       "    <tr style=\"text-align: right;\">\n",
       "      <th></th>\n",
       "      <th>adj_close</th>\n",
       "    </tr>\n",
       "  </thead>\n",
       "  <tbody>\n",
       "    <tr>\n",
       "      <th>0</th>\n",
       "      <td>48.291504</td>\n",
       "    </tr>\n",
       "    <tr>\n",
       "      <th>1</th>\n",
       "      <td>61.796631</td>\n",
       "    </tr>\n",
       "    <tr>\n",
       "      <th>2</th>\n",
       "      <td>-2.343628</td>\n",
       "    </tr>\n",
       "    <tr>\n",
       "      <th>3</th>\n",
       "      <td>2.522339</td>\n",
       "    </tr>\n",
       "    <tr>\n",
       "      <th>4</th>\n",
       "      <td>-5.620605</td>\n",
       "    </tr>\n",
       "    <tr>\n",
       "      <th>...</th>\n",
       "      <td>...</td>\n",
       "    </tr>\n",
       "    <tr>\n",
       "      <th>499</th>\n",
       "      <td>-9.450073</td>\n",
       "    </tr>\n",
       "    <tr>\n",
       "      <th>500</th>\n",
       "      <td>-18.569946</td>\n",
       "    </tr>\n",
       "    <tr>\n",
       "      <th>501</th>\n",
       "      <td>-16.440063</td>\n",
       "    </tr>\n",
       "    <tr>\n",
       "      <th>502</th>\n",
       "      <td>5.890015</td>\n",
       "    </tr>\n",
       "    <tr>\n",
       "      <th>503</th>\n",
       "      <td>-7.049927</td>\n",
       "    </tr>\n",
       "  </tbody>\n",
       "</table>\n",
       "<p>504 rows × 1 columns</p>\n",
       "</div>"
      ],
      "text/plain": [
       "     adj_close\n",
       "0    48.291504\n",
       "1    61.796631\n",
       "2    -2.343628\n",
       "3     2.522339\n",
       "4    -5.620605\n",
       "..         ...\n",
       "499  -9.450073\n",
       "500 -18.569946\n",
       "501 -16.440063\n",
       "502   5.890015\n",
       "503  -7.049927\n",
       "\n",
       "[504 rows x 1 columns]"
      ]
     },
     "execution_count": 66,
     "metadata": {},
     "output_type": "execute_result"
    }
   ],
   "source": [
    "elektra_diff"
   ]
  },
  {
   "cell_type": "markdown",
   "id": "844b175b-830a-4e05-a4c4-c5fe812f408a",
   "metadata": {},
   "source": [
    "volvemos a realizar la prueba de raíz unitaria ADF"
   ]
  },
  {
   "cell_type": "code",
   "execution_count": null,
   "id": "2407b303-3579-474b-ba45-0cb91d46e1d9",
   "metadata": {
    "tags": []
   },
   "outputs": [
    {
     "name": "stdout",
     "output_type": "stream",
     "text": [
      "con un un p-value=0.0\n",
      " Se rechaza hipótesis nula, serie estacionaria\n"
     ]
    }
   ],
   "source": [
    "adf1 = adfuller(elektra_diff)\n",
    "if adf1[1] < 0.05:\n",
    "    \n",
    "    print(f'con un un p-value={adf1[1]}\\n Se rechaza hipótesis nula, serie estacionaria') \n",
    "    \n",
    "else:\n",
    "    \n",
    "    print(f'con un un p-value = {adf1[1]}\\n NO se rechaza hipótesis nula, serie no estacionaria') \n"
   ]
  },
  {
   "cell_type": "markdown",
   "id": "ca0f07f5-73e4-4388-9791-be4415d3556d",
   "metadata": {},
   "source": [
    "Ahora que la serie ya es estacionaria, podemos hacer pronósticos con ella\n",
    "por tanto debemos identificar que tipo de proceso es\n"
   ]
  },
  {
   "cell_type": "code",
   "execution_count": null,
   "id": "8fbebe87-21e6-4c95-9c1c-63c7e881297f",
   "metadata": {},
   "outputs": [
    {
     "data": {
      "image/png": "[encoded data removed]",
      "text/plain": [
       "<Figure size 720x540 with 1 Axes>"
      ]
     },
     "metadata": {
      "needs_background": "light"
     },
     "output_type": "display_data"
    }
   ],
   "source": [
    "#grafica de autocorrelación ACF\n",
    "plot_acf(elektra_diff, zero=False, lags=30)\n",
    "plt.title('función de autocorrelación diferencia de elektra')\n",
    "plt.show()"
   ]
  },
  {
   "cell_type": "code",
   "execution_count": null,
   "id": "3c8b330c-d281-40a7-afcd-7eb120cb0d7b",
   "metadata": {},
   "outputs": [
    {
     "data": {
      "image/png": "[encoded data removed]",
      "text/plain": [
       "<Figure size 720x540 with 1 Axes>"
      ]
     },
     "metadata": {
      "needs_background": "light"
     },
     "output_type": "display_data"
    }
   ],
   "source": [
    "#grafica de autocorrelación parcial PACF\n",
    "plot_pacf(elektra_diff, zero=False, lags=30)\n",
    "plt.title('función de autocorrelación parcial diferencia de elektra')\n",
    "plt.show()"
   ]
  },
  {
   "cell_type": "markdown",
   "id": "2e35f859-98ab-4cde-9f7f-844c3d5ece60",
   "metadata": {},
   "source": [
    "nota que el primer rezago de ACF y PACF es significativo, por lo que parece que la diferencia de las acciones de Elektra es en ARMA (2,2) "
   ]
  },
  {
   "cell_type": "code",
   "execution_count": null,
   "id": "65cf1f94-21c8-4e1f-bdad-764c07bf76d4",
   "metadata": {},
   "outputs": [
    {
     "data": {
      "text/html": [
       "<table class=\"simpletable\">\n",
       "<caption>SARIMAX Results</caption>\n",
       "<tr>\n",
       "  <th>Dep. Variable:</th>       <td>adj_close</td>    <th>  No. Observations:  </th>    <td>504</td>   \n",
       "</tr>\n",
       "<tr>\n",
       "  <th>Model:</th>            <td>ARIMA(2, 0, 2)</td>  <th>  Log Likelihood     </th> <td>-2011.985</td>\n",
       "</tr>\n",
       "<tr>\n",
       "  <th>Date:</th>            <td>Sun, 13 Mar 2022</td> <th>  AIC                </th> <td>4035.970</td> \n",
       "</tr>\n",
       "<tr>\n",
       "  <th>Time:</th>                <td>17:59:44</td>     <th>  BIC                </th> <td>4061.305</td> \n",
       "</tr>\n",
       "<tr>\n",
       "  <th>Sample:</th>                  <td>0</td>        <th>  HQIC               </th> <td>4045.908</td> \n",
       "</tr>\n",
       "<tr>\n",
       "  <th></th>                      <td> - 504</td>      <th>                     </th>     <td> </td>    \n",
       "</tr>\n",
       "<tr>\n",
       "  <th>Covariance Type:</th>        <td>opg</td>       <th>                     </th>     <td> </td>    \n",
       "</tr>\n",
       "</table>\n",
       "<table class=\"simpletable\">\n",
       "<tr>\n",
       "     <td></td>       <th>coef</th>     <th>std err</th>      <th>z</th>      <th>P>|z|</th>  <th>[0.025</th>    <th>0.975]</th>  \n",
       "</tr>\n",
       "<tr>\n",
       "  <th>const</th>  <td>   -0.0023</td> <td>    0.673</td> <td>   -0.003</td> <td> 0.997</td> <td>   -1.320</td> <td>    1.316</td>\n",
       "</tr>\n",
       "<tr>\n",
       "  <th>ar.L1</th>  <td>   -0.3878</td> <td>    0.216</td> <td>   -1.798</td> <td> 0.072</td> <td>   -0.810</td> <td>    0.035</td>\n",
       "</tr>\n",
       "<tr>\n",
       "  <th>ar.L2</th>  <td>   -0.7164</td> <td>    0.126</td> <td>   -5.689</td> <td> 0.000</td> <td>   -0.963</td> <td>   -0.470</td>\n",
       "</tr>\n",
       "<tr>\n",
       "  <th>ma.L1</th>  <td>    0.4574</td> <td>    0.210</td> <td>    2.176</td> <td> 0.030</td> <td>    0.045</td> <td>    0.869</td>\n",
       "</tr>\n",
       "<tr>\n",
       "  <th>ma.L2</th>  <td>    0.7442</td> <td>    0.116</td> <td>    6.413</td> <td> 0.000</td> <td>    0.517</td> <td>    0.972</td>\n",
       "</tr>\n",
       "<tr>\n",
       "  <th>sigma2</th> <td>  171.7876</td> <td>    4.552</td> <td>   37.739</td> <td> 0.000</td> <td>  162.866</td> <td>  180.709</td>\n",
       "</tr>\n",
       "</table>\n",
       "<table class=\"simpletable\">\n",
       "<tr>\n",
       "  <th>Ljung-Box (L1) (Q):</th>     <td>0.11</td> <th>  Jarque-Bera (JB):  </th> <td>3836.80</td>\n",
       "</tr>\n",
       "<tr>\n",
       "  <th>Prob(Q):</th>                <td>0.74</td> <th>  Prob(JB):          </th>  <td>0.00</td>  \n",
       "</tr>\n",
       "<tr>\n",
       "  <th>Heteroskedasticity (H):</th> <td>2.20</td> <th>  Skew:              </th>  <td>0.14</td>  \n",
       "</tr>\n",
       "<tr>\n",
       "  <th>Prob(H) (two-sided):</th>    <td>0.00</td> <th>  Kurtosis:          </th>  <td>16.51</td> \n",
       "</tr>\n",
       "</table><br/><br/>Warnings:<br/>[1] Covariance matrix calculated using the outer product of gradients (complex-step)."
      ],
      "text/plain": [
       "<class 'statsmodels.iolib.summary.Summary'>\n",
       "\"\"\"\n",
       "                               SARIMAX Results                                \n",
       "==============================================================================\n",
       "Dep. Variable:              adj_close   No. Observations:                  504\n",
       "Model:                 ARIMA(2, 0, 2)   Log Likelihood               -2011.985\n",
       "Date:                Sun, 13 Mar 2022   AIC                           4035.970\n",
       "Time:                        17:59:44   BIC                           4061.305\n",
       "Sample:                             0   HQIC                          4045.908\n",
       "                                - 504                                         \n",
       "Covariance Type:                  opg                                         \n",
       "==============================================================================\n",
       "                 coef    std err          z      P>|z|      [0.025      0.975]\n",
       "------------------------------------------------------------------------------\n",
       "const         -0.0023      0.673     -0.003      0.997      -1.320       1.316\n",
       "ar.L1         -0.3878      0.216     -1.798      0.072      -0.810       0.035\n",
       "ar.L2         -0.7164      0.126     -5.689      0.000      -0.963      -0.470\n",
       "ma.L1          0.4574      0.210      2.176      0.030       0.045       0.869\n",
       "ma.L2          0.7442      0.116      6.413      0.000       0.517       0.972\n",
       "sigma2       171.7876      4.552     37.739      0.000     162.866     180.709\n",
       "===================================================================================\n",
       "Ljung-Box (L1) (Q):                   0.11   Jarque-Bera (JB):              3836.80\n",
       "Prob(Q):                              0.74   Prob(JB):                         0.00\n",
       "Heteroskedasticity (H):               2.20   Skew:                             0.14\n",
       "Prob(H) (two-sided):                  0.00   Kurtosis:                        16.51\n",
       "===================================================================================\n",
       "\n",
       "Warnings:\n",
       "[1] Covariance matrix calculated using the outer product of gradients (complex-step).\n",
       "\"\"\""
      ]
     },
     "execution_count": 70,
     "metadata": {},
     "output_type": "execute_result"
    }
   ],
   "source": [
    "# estimamos un ARMA (2,2)\n",
    "modelo = ARIMA(elektra_diff, order=(2, 0, 2))\n",
    "resultado = modelo.fit()\n",
    "resultado.summary()"
   ]
  },
  {
   "cell_type": "markdown",
   "id": "08216f52-1dba-47f3-a352-2cb810cce639",
   "metadata": {},
   "source": [
    "Note que la constante no es significativa, es decir, es cero. Pero los coeficientes de los rezagos si son significativos (distintos de cero) acuerdo con sus p-values"
   ]
  },
  {
   "cell_type": "markdown",
   "id": "855eaee5-927a-4906-9e18-2134b9e35d7d",
   "metadata": {},
   "source": [
    "Aunque los ACF y PACF nos sugieren un ARMA(1,1), no son del todo precisos, asi que vamos a estimar varios modelos con 6 rezagos de AR, 6rezagos de MA y elegir uno de acuerdo con el BIC (criterio bayesiano de información)"
   ]
  },
  {
   "cell_type": "code",
   "execution_count": 71,
   "id": "52f89740-5cb3-4604-acbf-09a85b4332b0",
   "metadata": {},
   "outputs": [
    {
     "name": "stdout",
     "output_type": "stream",
     "text": [
      "AR: 0, MA: 0\n",
      "AR: 0, MA: 1\n",
      "AR: 0, MA: 2\n",
      "AR: 0, MA: 3\n",
      "AR: 0, MA: 4\n",
      "AR: 0, MA: 5\n",
      "AR: 0, MA: 6\n",
      "AR: 1, MA: 0\n",
      "AR: 1, MA: 1\n",
      "AR: 1, MA: 2\n",
      "AR: 1, MA: 3\n",
      "AR: 1, MA: 4\n",
      "AR: 1, MA: 5\n",
      "AR: 1, MA: 6\n",
      "AR: 2, MA: 0\n",
      "AR: 2, MA: 1\n"
     ]
    },
    {
     "name": "stderr",
     "output_type": "stream",
     "text": [
      "C:\\ProgramData\\Anaconda3\\lib\\site-packages\\statsmodels\\tsa\\statespace\\sarimax.py:966: UserWarning: Non-stationary starting autoregressive parameters found. Using zeros as starting parameters.\n",
      "  warn('Non-stationary starting autoregressive parameters'\n",
      "C:\\ProgramData\\Anaconda3\\lib\\site-packages\\statsmodels\\tsa\\statespace\\sarimax.py:978: UserWarning: Non-invertible starting MA parameters found. Using zeros as starting parameters.\n",
      "  warn('Non-invertible starting MA parameters found.'\n"
     ]
    },
    {
     "name": "stdout",
     "output_type": "stream",
     "text": [
      "AR: 2, MA: 2\n",
      "AR: 2, MA: 3\n",
      "AR: 2, MA: 4\n"
     ]
    },
    {
     "name": "stderr",
     "output_type": "stream",
     "text": [
      "C:\\ProgramData\\Anaconda3\\lib\\site-packages\\statsmodels\\base\\model.py:566: ConvergenceWarning: Maximum Likelihood optimization failed to converge. Check mle_retvals\n",
      "  warnings.warn(\"Maximum Likelihood optimization failed to \"\n"
     ]
    },
    {
     "name": "stdout",
     "output_type": "stream",
     "text": [
      "AR: 2, MA: 5\n"
     ]
    },
    {
     "name": "stderr",
     "output_type": "stream",
     "text": [
      "C:\\ProgramData\\Anaconda3\\lib\\site-packages\\statsmodels\\base\\model.py:566: ConvergenceWarning: Maximum Likelihood optimization failed to converge. Check mle_retvals\n",
      "  warnings.warn(\"Maximum Likelihood optimization failed to \"\n"
     ]
    },
    {
     "name": "stdout",
     "output_type": "stream",
     "text": [
      "AR: 2, MA: 6\n"
     ]
    },
    {
     "name": "stderr",
     "output_type": "stream",
     "text": [
      "C:\\ProgramData\\Anaconda3\\lib\\site-packages\\statsmodels\\base\\model.py:566: ConvergenceWarning: Maximum Likelihood optimization failed to converge. Check mle_retvals\n",
      "  warnings.warn(\"Maximum Likelihood optimization failed to \"\n"
     ]
    },
    {
     "name": "stdout",
     "output_type": "stream",
     "text": [
      "AR: 3, MA: 0\n",
      "AR: 3, MA: 1\n",
      "AR: 3, MA: 2\n"
     ]
    },
    {
     "name": "stderr",
     "output_type": "stream",
     "text": [
      "C:\\ProgramData\\Anaconda3\\lib\\site-packages\\statsmodels\\base\\model.py:566: ConvergenceWarning: Maximum Likelihood optimization failed to converge. Check mle_retvals\n",
      "  warnings.warn(\"Maximum Likelihood optimization failed to \"\n"
     ]
    },
    {
     "name": "stdout",
     "output_type": "stream",
     "text": [
      "AR: 3, MA: 3\n"
     ]
    },
    {
     "name": "stderr",
     "output_type": "stream",
     "text": [
      "C:\\ProgramData\\Anaconda3\\lib\\site-packages\\statsmodels\\base\\model.py:566: ConvergenceWarning: Maximum Likelihood optimization failed to converge. Check mle_retvals\n",
      "  warnings.warn(\"Maximum Likelihood optimization failed to \"\n"
     ]
    },
    {
     "name": "stdout",
     "output_type": "stream",
     "text": [
      "AR: 3, MA: 4\n"
     ]
    },
    {
     "name": "stderr",
     "output_type": "stream",
     "text": [
      "C:\\ProgramData\\Anaconda3\\lib\\site-packages\\statsmodels\\base\\model.py:566: ConvergenceWarning: Maximum Likelihood optimization failed to converge. Check mle_retvals\n",
      "  warnings.warn(\"Maximum Likelihood optimization failed to \"\n"
     ]
    },
    {
     "name": "stdout",
     "output_type": "stream",
     "text": [
      "AR: 3, MA: 5\n"
     ]
    },
    {
     "name": "stderr",
     "output_type": "stream",
     "text": [
      "C:\\ProgramData\\Anaconda3\\lib\\site-packages\\statsmodels\\base\\model.py:566: ConvergenceWarning: Maximum Likelihood optimization failed to converge. Check mle_retvals\n",
      "  warnings.warn(\"Maximum Likelihood optimization failed to \"\n"
     ]
    },
    {
     "name": "stdout",
     "output_type": "stream",
     "text": [
      "AR: 3, MA: 6\n"
     ]
    },
    {
     "name": "stderr",
     "output_type": "stream",
     "text": [
      "C:\\ProgramData\\Anaconda3\\lib\\site-packages\\statsmodels\\base\\model.py:566: ConvergenceWarning: Maximum Likelihood optimization failed to converge. Check mle_retvals\n",
      "  warnings.warn(\"Maximum Likelihood optimization failed to \"\n"
     ]
    },
    {
     "name": "stdout",
     "output_type": "stream",
     "text": [
      "AR: 4, MA: 0\n",
      "AR: 4, MA: 1\n",
      "AR: 4, MA: 2\n"
     ]
    },
    {
     "name": "stderr",
     "output_type": "stream",
     "text": [
      "C:\\ProgramData\\Anaconda3\\lib\\site-packages\\statsmodels\\base\\model.py:566: ConvergenceWarning: Maximum Likelihood optimization failed to converge. Check mle_retvals\n",
      "  warnings.warn(\"Maximum Likelihood optimization failed to \"\n"
     ]
    },
    {
     "name": "stdout",
     "output_type": "stream",
     "text": [
      "AR: 4, MA: 3\n"
     ]
    },
    {
     "name": "stderr",
     "output_type": "stream",
     "text": [
      "C:\\ProgramData\\Anaconda3\\lib\\site-packages\\statsmodels\\base\\model.py:566: ConvergenceWarning: Maximum Likelihood optimization failed to converge. Check mle_retvals\n",
      "  warnings.warn(\"Maximum Likelihood optimization failed to \"\n"
     ]
    },
    {
     "name": "stdout",
     "output_type": "stream",
     "text": [
      "AR: 4, MA: 4\n"
     ]
    },
    {
     "name": "stderr",
     "output_type": "stream",
     "text": [
      "C:\\ProgramData\\Anaconda3\\lib\\site-packages\\statsmodels\\base\\model.py:566: ConvergenceWarning: Maximum Likelihood optimization failed to converge. Check mle_retvals\n",
      "  warnings.warn(\"Maximum Likelihood optimization failed to \"\n"
     ]
    },
    {
     "name": "stdout",
     "output_type": "stream",
     "text": [
      "AR: 4, MA: 5\n"
     ]
    },
    {
     "name": "stderr",
     "output_type": "stream",
     "text": [
      "C:\\ProgramData\\Anaconda3\\lib\\site-packages\\statsmodels\\base\\model.py:566: ConvergenceWarning: Maximum Likelihood optimization failed to converge. Check mle_retvals\n",
      "  warnings.warn(\"Maximum Likelihood optimization failed to \"\n"
     ]
    },
    {
     "name": "stdout",
     "output_type": "stream",
     "text": [
      "AR: 4, MA: 6\n"
     ]
    },
    {
     "name": "stderr",
     "output_type": "stream",
     "text": [
      "C:\\ProgramData\\Anaconda3\\lib\\site-packages\\statsmodels\\base\\model.py:566: ConvergenceWarning: Maximum Likelihood optimization failed to converge. Check mle_retvals\n",
      "  warnings.warn(\"Maximum Likelihood optimization failed to \"\n"
     ]
    },
    {
     "name": "stdout",
     "output_type": "stream",
     "text": [
      "AR: 5, MA: 0\n",
      "AR: 5, MA: 1\n",
      "AR: 5, MA: 2\n"
     ]
    },
    {
     "name": "stderr",
     "output_type": "stream",
     "text": [
      "C:\\ProgramData\\Anaconda3\\lib\\site-packages\\statsmodels\\base\\model.py:566: ConvergenceWarning: Maximum Likelihood optimization failed to converge. Check mle_retvals\n",
      "  warnings.warn(\"Maximum Likelihood optimization failed to \"\n"
     ]
    },
    {
     "name": "stdout",
     "output_type": "stream",
     "text": [
      "AR: 5, MA: 3\n"
     ]
    },
    {
     "name": "stderr",
     "output_type": "stream",
     "text": [
      "C:\\ProgramData\\Anaconda3\\lib\\site-packages\\statsmodels\\base\\model.py:566: ConvergenceWarning: Maximum Likelihood optimization failed to converge. Check mle_retvals\n",
      "  warnings.warn(\"Maximum Likelihood optimization failed to \"\n"
     ]
    },
    {
     "name": "stdout",
     "output_type": "stream",
     "text": [
      "AR: 5, MA: 4\n"
     ]
    },
    {
     "name": "stderr",
     "output_type": "stream",
     "text": [
      "C:\\ProgramData\\Anaconda3\\lib\\site-packages\\statsmodels\\base\\model.py:566: ConvergenceWarning: Maximum Likelihood optimization failed to converge. Check mle_retvals\n",
      "  warnings.warn(\"Maximum Likelihood optimization failed to \"\n"
     ]
    },
    {
     "name": "stdout",
     "output_type": "stream",
     "text": [
      "AR: 5, MA: 5\n"
     ]
    },
    {
     "name": "stderr",
     "output_type": "stream",
     "text": [
      "C:\\ProgramData\\Anaconda3\\lib\\site-packages\\statsmodels\\base\\model.py:566: ConvergenceWarning: Maximum Likelihood optimization failed to converge. Check mle_retvals\n",
      "  warnings.warn(\"Maximum Likelihood optimization failed to \"\n"
     ]
    },
    {
     "name": "stdout",
     "output_type": "stream",
     "text": [
      "AR: 5, MA: 6\n"
     ]
    },
    {
     "name": "stderr",
     "output_type": "stream",
     "text": [
      "C:\\ProgramData\\Anaconda3\\lib\\site-packages\\statsmodels\\base\\model.py:566: ConvergenceWarning: Maximum Likelihood optimization failed to converge. Check mle_retvals\n",
      "  warnings.warn(\"Maximum Likelihood optimization failed to \"\n"
     ]
    },
    {
     "name": "stdout",
     "output_type": "stream",
     "text": [
      "AR: 6, MA: 0\n",
      "AR: 6, MA: 1\n",
      "AR: 6, MA: 2\n"
     ]
    },
    {
     "name": "stderr",
     "output_type": "stream",
     "text": [
      "C:\\ProgramData\\Anaconda3\\lib\\site-packages\\statsmodels\\base\\model.py:566: ConvergenceWarning: Maximum Likelihood optimization failed to converge. Check mle_retvals\n",
      "  warnings.warn(\"Maximum Likelihood optimization failed to \"\n"
     ]
    },
    {
     "name": "stdout",
     "output_type": "stream",
     "text": [
      "AR: 6, MA: 3\n"
     ]
    },
    {
     "name": "stderr",
     "output_type": "stream",
     "text": [
      "C:\\ProgramData\\Anaconda3\\lib\\site-packages\\statsmodels\\base\\model.py:566: ConvergenceWarning: Maximum Likelihood optimization failed to converge. Check mle_retvals\n",
      "  warnings.warn(\"Maximum Likelihood optimization failed to \"\n"
     ]
    },
    {
     "name": "stdout",
     "output_type": "stream",
     "text": [
      "AR: 6, MA: 4\n"
     ]
    },
    {
     "name": "stderr",
     "output_type": "stream",
     "text": [
      "C:\\ProgramData\\Anaconda3\\lib\\site-packages\\statsmodels\\base\\model.py:566: ConvergenceWarning: Maximum Likelihood optimization failed to converge. Check mle_retvals\n",
      "  warnings.warn(\"Maximum Likelihood optimization failed to \"\n"
     ]
    },
    {
     "name": "stdout",
     "output_type": "stream",
     "text": [
      "AR: 6, MA: 5\n"
     ]
    },
    {
     "name": "stderr",
     "output_type": "stream",
     "text": [
      "C:\\ProgramData\\Anaconda3\\lib\\site-packages\\statsmodels\\base\\model.py:566: ConvergenceWarning: Maximum Likelihood optimization failed to converge. Check mle_retvals\n",
      "  warnings.warn(\"Maximum Likelihood optimization failed to \"\n"
     ]
    },
    {
     "name": "stdout",
     "output_type": "stream",
     "text": [
      "AR: 6, MA: 6\n"
     ]
    },
    {
     "name": "stderr",
     "output_type": "stream",
     "text": [
      "C:\\ProgramData\\Anaconda3\\lib\\site-packages\\statsmodels\\base\\model.py:566: ConvergenceWarning: Maximum Likelihood optimization failed to converge. Check mle_retvals\n",
      "  warnings.warn(\"Maximum Likelihood optimization failed to \"\n"
     ]
    },
    {
     "data": {
      "text/html": [
       "<div>\n",
       "<style scoped>\n",
       "    .dataframe tbody tr th:only-of-type {\n",
       "        vertical-align: middle;\n",
       "    }\n",
       "\n",
       "    .dataframe tbody tr th {\n",
       "        vertical-align: top;\n",
       "    }\n",
       "\n",
       "    .dataframe thead th {\n",
       "        text-align: right;\n",
       "    }\n",
       "</style>\n",
       "<table border=\"1\" class=\"dataframe\">\n",
       "  <thead>\n",
       "    <tr style=\"text-align: right;\">\n",
       "      <th></th>\n",
       "      <th></th>\n",
       "      <th>AIC</th>\n",
       "      <th>BIC</th>\n",
       "    </tr>\n",
       "    <tr>\n",
       "      <th>AR</th>\n",
       "      <th>MA</th>\n",
       "      <th></th>\n",
       "      <th></th>\n",
       "    </tr>\n",
       "  </thead>\n",
       "  <tbody>\n",
       "    <tr>\n",
       "      <th rowspan=\"7\" valign=\"top\">0</th>\n",
       "      <th>0</th>\n",
       "      <td>4032.881634</td>\n",
       "      <td>4041.326787</td>\n",
       "    </tr>\n",
       "    <tr>\n",
       "      <th>1</th>\n",
       "      <td>4031.269984</td>\n",
       "      <td>4043.937713</td>\n",
       "    </tr>\n",
       "    <tr>\n",
       "      <th>2</th>\n",
       "      <td>4033.269341</td>\n",
       "      <td>4050.159646</td>\n",
       "    </tr>\n",
       "    <tr>\n",
       "      <th>3</th>\n",
       "      <td>4035.147923</td>\n",
       "      <td>4056.260805</td>\n",
       "    </tr>\n",
       "    <tr>\n",
       "      <th>4</th>\n",
       "      <td>4037.121516</td>\n",
       "      <td>4062.456974</td>\n",
       "    </tr>\n",
       "    <tr>\n",
       "      <th>5</th>\n",
       "      <td>4038.720745</td>\n",
       "      <td>4068.278779</td>\n",
       "    </tr>\n",
       "    <tr>\n",
       "      <th>6</th>\n",
       "      <td>4040.720568</td>\n",
       "      <td>4074.501178</td>\n",
       "    </tr>\n",
       "    <tr>\n",
       "      <th rowspan=\"7\" valign=\"top\">1</th>\n",
       "      <th>0</th>\n",
       "      <td>4031.312872</td>\n",
       "      <td>4043.980601</td>\n",
       "    </tr>\n",
       "    <tr>\n",
       "      <th>1</th>\n",
       "      <td>4033.269612</td>\n",
       "      <td>4050.159917</td>\n",
       "    </tr>\n",
       "    <tr>\n",
       "      <th>2</th>\n",
       "      <td>4035.252352</td>\n",
       "      <td>4056.365233</td>\n",
       "    </tr>\n",
       "    <tr>\n",
       "      <th>3</th>\n",
       "      <td>4037.141176</td>\n",
       "      <td>4062.476634</td>\n",
       "    </tr>\n",
       "    <tr>\n",
       "      <th>4</th>\n",
       "      <td>4036.982733</td>\n",
       "      <td>4066.540766</td>\n",
       "    </tr>\n",
       "    <tr>\n",
       "      <th>5</th>\n",
       "      <td>4037.959151</td>\n",
       "      <td>4071.739761</td>\n",
       "    </tr>\n",
       "    <tr>\n",
       "      <th>6</th>\n",
       "      <td>4039.717185</td>\n",
       "      <td>4077.720371</td>\n",
       "    </tr>\n",
       "    <tr>\n",
       "      <th rowspan=\"7\" valign=\"top\">2</th>\n",
       "      <th>0</th>\n",
       "      <td>4033.253113</td>\n",
       "      <td>4050.143418</td>\n",
       "    </tr>\n",
       "    <tr>\n",
       "      <th>1</th>\n",
       "      <td>4035.210427</td>\n",
       "      <td>4056.323309</td>\n",
       "    </tr>\n",
       "    <tr>\n",
       "      <th>2</th>\n",
       "      <td>4035.970040</td>\n",
       "      <td>4061.305498</td>\n",
       "    </tr>\n",
       "    <tr>\n",
       "      <th>3</th>\n",
       "      <td>4039.102510</td>\n",
       "      <td>4068.660544</td>\n",
       "    </tr>\n",
       "    <tr>\n",
       "      <th>4</th>\n",
       "      <td>4037.109999</td>\n",
       "      <td>4070.890609</td>\n",
       "    </tr>\n",
       "    <tr>\n",
       "      <th>5</th>\n",
       "      <td>4035.452738</td>\n",
       "      <td>4073.455924</td>\n",
       "    </tr>\n",
       "    <tr>\n",
       "      <th>6</th>\n",
       "      <td>4037.591703</td>\n",
       "      <td>4079.817465</td>\n",
       "    </tr>\n",
       "    <tr>\n",
       "      <th rowspan=\"7\" valign=\"top\">3</th>\n",
       "      <th>0</th>\n",
       "      <td>4035.131172</td>\n",
       "      <td>4056.244054</td>\n",
       "    </tr>\n",
       "    <tr>\n",
       "      <th>1</th>\n",
       "      <td>4037.132799</td>\n",
       "      <td>4062.468257</td>\n",
       "    </tr>\n",
       "    <tr>\n",
       "      <th>2</th>\n",
       "      <td>4033.702691</td>\n",
       "      <td>4063.260725</td>\n",
       "    </tr>\n",
       "    <tr>\n",
       "      <th>3</th>\n",
       "      <td>4036.673468</td>\n",
       "      <td>4070.454078</td>\n",
       "    </tr>\n",
       "    <tr>\n",
       "      <th>4</th>\n",
       "      <td>4039.900099</td>\n",
       "      <td>4077.903286</td>\n",
       "    </tr>\n",
       "    <tr>\n",
       "      <th>5</th>\n",
       "      <td>4039.999565</td>\n",
       "      <td>4082.225327</td>\n",
       "    </tr>\n",
       "    <tr>\n",
       "      <th>6</th>\n",
       "      <td>4041.166158</td>\n",
       "      <td>4087.614497</td>\n",
       "    </tr>\n",
       "    <tr>\n",
       "      <th rowspan=\"7\" valign=\"top\">4</th>\n",
       "      <th>0</th>\n",
       "      <td>4037.130134</td>\n",
       "      <td>4062.465592</td>\n",
       "    </tr>\n",
       "    <tr>\n",
       "      <th>1</th>\n",
       "      <td>4039.086677</td>\n",
       "      <td>4068.644711</td>\n",
       "    </tr>\n",
       "    <tr>\n",
       "      <th>2</th>\n",
       "      <td>4036.163226</td>\n",
       "      <td>4069.943836</td>\n",
       "    </tr>\n",
       "    <tr>\n",
       "      <th>3</th>\n",
       "      <td>4038.292272</td>\n",
       "      <td>4076.295458</td>\n",
       "    </tr>\n",
       "    <tr>\n",
       "      <th>4</th>\n",
       "      <td>4040.623207</td>\n",
       "      <td>4082.848970</td>\n",
       "    </tr>\n",
       "    <tr>\n",
       "      <th>5</th>\n",
       "      <td>4040.752877</td>\n",
       "      <td>4087.201216</td>\n",
       "    </tr>\n",
       "    <tr>\n",
       "      <th>6</th>\n",
       "      <td>4037.367903</td>\n",
       "      <td>4088.038819</td>\n",
       "    </tr>\n",
       "    <tr>\n",
       "      <th rowspan=\"7\" valign=\"top\">5</th>\n",
       "      <th>0</th>\n",
       "      <td>4038.865698</td>\n",
       "      <td>4068.423732</td>\n",
       "    </tr>\n",
       "    <tr>\n",
       "      <th>1</th>\n",
       "      <td>4040.862776</td>\n",
       "      <td>4074.643386</td>\n",
       "    </tr>\n",
       "    <tr>\n",
       "      <th>2</th>\n",
       "      <td>4040.837584</td>\n",
       "      <td>4078.840770</td>\n",
       "    </tr>\n",
       "    <tr>\n",
       "      <th>3</th>\n",
       "      <td>4039.535834</td>\n",
       "      <td>4081.761597</td>\n",
       "    </tr>\n",
       "    <tr>\n",
       "      <th>4</th>\n",
       "      <td>4040.184242</td>\n",
       "      <td>4086.632581</td>\n",
       "    </tr>\n",
       "    <tr>\n",
       "      <th>5</th>\n",
       "      <td>4040.811334</td>\n",
       "      <td>4091.482249</td>\n",
       "    </tr>\n",
       "    <tr>\n",
       "      <th>6</th>\n",
       "      <td>4045.932056</td>\n",
       "      <td>4100.825547</td>\n",
       "    </tr>\n",
       "    <tr>\n",
       "      <th rowspan=\"7\" valign=\"top\">6</th>\n",
       "      <th>0</th>\n",
       "      <td>4040.863339</td>\n",
       "      <td>4074.643950</td>\n",
       "    </tr>\n",
       "    <tr>\n",
       "      <th>1</th>\n",
       "      <td>4042.860284</td>\n",
       "      <td>4080.863471</td>\n",
       "    </tr>\n",
       "    <tr>\n",
       "      <th>2</th>\n",
       "      <td>4042.414727</td>\n",
       "      <td>4084.640490</td>\n",
       "    </tr>\n",
       "    <tr>\n",
       "      <th>3</th>\n",
       "      <td>4040.861302</td>\n",
       "      <td>4087.309641</td>\n",
       "    </tr>\n",
       "    <tr>\n",
       "      <th>4</th>\n",
       "      <td>4042.302990</td>\n",
       "      <td>4092.973905</td>\n",
       "    </tr>\n",
       "    <tr>\n",
       "      <th>5</th>\n",
       "      <td>4042.771694</td>\n",
       "      <td>4097.665186</td>\n",
       "    </tr>\n",
       "    <tr>\n",
       "      <th>6</th>\n",
       "      <td>4047.293236</td>\n",
       "      <td>4106.409303</td>\n",
       "    </tr>\n",
       "  </tbody>\n",
       "</table>\n",
       "</div>"
      ],
      "text/plain": [
       "               AIC          BIC\n",
       "AR MA                          \n",
       "0  0   4032.881634  4041.326787\n",
       "   1   4031.269984  4043.937713\n",
       "   2   4033.269341  4050.159646\n",
       "   3   4035.147923  4056.260805\n",
       "   4   4037.121516  4062.456974\n",
       "   5   4038.720745  4068.278779\n",
       "   6   4040.720568  4074.501178\n",
       "1  0   4031.312872  4043.980601\n",
       "   1   4033.269612  4050.159917\n",
       "   2   4035.252352  4056.365233\n",
       "   3   4037.141176  4062.476634\n",
       "   4   4036.982733  4066.540766\n",
       "   5   4037.959151  4071.739761\n",
       "   6   4039.717185  4077.720371\n",
       "2  0   4033.253113  4050.143418\n",
       "   1   4035.210427  4056.323309\n",
       "   2   4035.970040  4061.305498\n",
       "   3   4039.102510  4068.660544\n",
       "   4   4037.109999  4070.890609\n",
       "   5   4035.452738  4073.455924\n",
       "   6   4037.591703  4079.817465\n",
       "3  0   4035.131172  4056.244054\n",
       "   1   4037.132799  4062.468257\n",
       "   2   4033.702691  4063.260725\n",
       "   3   4036.673468  4070.454078\n",
       "   4   4039.900099  4077.903286\n",
       "   5   4039.999565  4082.225327\n",
       "   6   4041.166158  4087.614497\n",
       "4  0   4037.130134  4062.465592\n",
       "   1   4039.086677  4068.644711\n",
       "   2   4036.163226  4069.943836\n",
       "   3   4038.292272  4076.295458\n",
       "   4   4040.623207  4082.848970\n",
       "   5   4040.752877  4087.201216\n",
       "   6   4037.367903  4088.038819\n",
       "5  0   4038.865698  4068.423732\n",
       "   1   4040.862776  4074.643386\n",
       "   2   4040.837584  4078.840770\n",
       "   3   4039.535834  4081.761597\n",
       "   4   4040.184242  4086.632581\n",
       "   5   4040.811334  4091.482249\n",
       "   6   4045.932056  4100.825547\n",
       "6  0   4040.863339  4074.643950\n",
       "   1   4042.860284  4080.863471\n",
       "   2   4042.414727  4084.640490\n",
       "   3   4040.861302  4087.309641\n",
       "   4   4042.302990  4092.973905\n",
       "   5   4042.771694  4097.665186\n",
       "   6   4047.293236  4106.409303"
      ]
     },
     "execution_count": 71,
     "metadata": {},
     "output_type": "execute_result"
    }
   ],
   "source": [
    "ic = {}\n",
    "for ar in range(7):\n",
    "    for ma in range(7):\n",
    "        print(f\"AR: {ar}, MA: {ma}\")\n",
    "        modelo = ARIMA(elektra_diff, order=(ar, 0, ma))\n",
    "        resultado = modelo.fit()\n",
    "        ic[(ar, ma)] = [resultado.aic, resultado.bic]\n",
    "\n",
    "ic = pd.DataFrame(ic, index=[\"AIC\", \"BIC\"]).T\n",
    "ic.index = ic.index.set_names([\"AR\", \"MA\"])\n",
    "ic"
   ]
  },
  {
   "cell_type": "markdown",
   "id": "1ec39e4c-376d-43d5-8525-4e93f8d62266",
   "metadata": {},
   "source": [
    "los ordenamos de acuerdo al BIC que es el indicador que voy a utilizar"
   ]
  },
  {
   "cell_type": "code",
   "execution_count": 72,
   "id": "0b8ca96a-dab0-416f-9055-afb5b523b150",
   "metadata": {},
   "outputs": [
    {
     "data": {
      "text/html": [
       "<div>\n",
       "<style scoped>\n",
       "    .dataframe tbody tr th:only-of-type {\n",
       "        vertical-align: middle;\n",
       "    }\n",
       "\n",
       "    .dataframe tbody tr th {\n",
       "        vertical-align: top;\n",
       "    }\n",
       "\n",
       "    .dataframe thead th {\n",
       "        text-align: right;\n",
       "    }\n",
       "</style>\n",
       "<table border=\"1\" class=\"dataframe\">\n",
       "  <thead>\n",
       "    <tr style=\"text-align: right;\">\n",
       "      <th></th>\n",
       "      <th></th>\n",
       "      <th>AIC</th>\n",
       "      <th>BIC</th>\n",
       "    </tr>\n",
       "    <tr>\n",
       "      <th>AR</th>\n",
       "      <th>MA</th>\n",
       "      <th></th>\n",
       "      <th></th>\n",
       "    </tr>\n",
       "  </thead>\n",
       "  <tbody>\n",
       "    <tr>\n",
       "      <th rowspan=\"2\" valign=\"top\">0</th>\n",
       "      <th>0</th>\n",
       "      <td>4032.881634</td>\n",
       "      <td>4041.326787</td>\n",
       "    </tr>\n",
       "    <tr>\n",
       "      <th>1</th>\n",
       "      <td>4031.269984</td>\n",
       "      <td>4043.937713</td>\n",
       "    </tr>\n",
       "    <tr>\n",
       "      <th>1</th>\n",
       "      <th>0</th>\n",
       "      <td>4031.312872</td>\n",
       "      <td>4043.980601</td>\n",
       "    </tr>\n",
       "    <tr>\n",
       "      <th>2</th>\n",
       "      <th>0</th>\n",
       "      <td>4033.253113</td>\n",
       "      <td>4050.143418</td>\n",
       "    </tr>\n",
       "    <tr>\n",
       "      <th>0</th>\n",
       "      <th>2</th>\n",
       "      <td>4033.269341</td>\n",
       "      <td>4050.159646</td>\n",
       "    </tr>\n",
       "    <tr>\n",
       "      <th>1</th>\n",
       "      <th>1</th>\n",
       "      <td>4033.269612</td>\n",
       "      <td>4050.159917</td>\n",
       "    </tr>\n",
       "    <tr>\n",
       "      <th>3</th>\n",
       "      <th>0</th>\n",
       "      <td>4035.131172</td>\n",
       "      <td>4056.244054</td>\n",
       "    </tr>\n",
       "    <tr>\n",
       "      <th>0</th>\n",
       "      <th>3</th>\n",
       "      <td>4035.147923</td>\n",
       "      <td>4056.260805</td>\n",
       "    </tr>\n",
       "    <tr>\n",
       "      <th>2</th>\n",
       "      <th>1</th>\n",
       "      <td>4035.210427</td>\n",
       "      <td>4056.323309</td>\n",
       "    </tr>\n",
       "    <tr>\n",
       "      <th>1</th>\n",
       "      <th>2</th>\n",
       "      <td>4035.252352</td>\n",
       "      <td>4056.365233</td>\n",
       "    </tr>\n",
       "    <tr>\n",
       "      <th>2</th>\n",
       "      <th>2</th>\n",
       "      <td>4035.970040</td>\n",
       "      <td>4061.305498</td>\n",
       "    </tr>\n",
       "    <tr>\n",
       "      <th>0</th>\n",
       "      <th>4</th>\n",
       "      <td>4037.121516</td>\n",
       "      <td>4062.456974</td>\n",
       "    </tr>\n",
       "    <tr>\n",
       "      <th>4</th>\n",
       "      <th>0</th>\n",
       "      <td>4037.130134</td>\n",
       "      <td>4062.465592</td>\n",
       "    </tr>\n",
       "    <tr>\n",
       "      <th>3</th>\n",
       "      <th>1</th>\n",
       "      <td>4037.132799</td>\n",
       "      <td>4062.468257</td>\n",
       "    </tr>\n",
       "    <tr>\n",
       "      <th>1</th>\n",
       "      <th>3</th>\n",
       "      <td>4037.141176</td>\n",
       "      <td>4062.476634</td>\n",
       "    </tr>\n",
       "    <tr>\n",
       "      <th>3</th>\n",
       "      <th>2</th>\n",
       "      <td>4033.702691</td>\n",
       "      <td>4063.260725</td>\n",
       "    </tr>\n",
       "    <tr>\n",
       "      <th>1</th>\n",
       "      <th>4</th>\n",
       "      <td>4036.982733</td>\n",
       "      <td>4066.540766</td>\n",
       "    </tr>\n",
       "    <tr>\n",
       "      <th>0</th>\n",
       "      <th>5</th>\n",
       "      <td>4038.720745</td>\n",
       "      <td>4068.278779</td>\n",
       "    </tr>\n",
       "    <tr>\n",
       "      <th>5</th>\n",
       "      <th>0</th>\n",
       "      <td>4038.865698</td>\n",
       "      <td>4068.423732</td>\n",
       "    </tr>\n",
       "    <tr>\n",
       "      <th>4</th>\n",
       "      <th>1</th>\n",
       "      <td>4039.086677</td>\n",
       "      <td>4068.644711</td>\n",
       "    </tr>\n",
       "    <tr>\n",
       "      <th>2</th>\n",
       "      <th>3</th>\n",
       "      <td>4039.102510</td>\n",
       "      <td>4068.660544</td>\n",
       "    </tr>\n",
       "    <tr>\n",
       "      <th>4</th>\n",
       "      <th>2</th>\n",
       "      <td>4036.163226</td>\n",
       "      <td>4069.943836</td>\n",
       "    </tr>\n",
       "    <tr>\n",
       "      <th>3</th>\n",
       "      <th>3</th>\n",
       "      <td>4036.673468</td>\n",
       "      <td>4070.454078</td>\n",
       "    </tr>\n",
       "    <tr>\n",
       "      <th>2</th>\n",
       "      <th>4</th>\n",
       "      <td>4037.109999</td>\n",
       "      <td>4070.890609</td>\n",
       "    </tr>\n",
       "    <tr>\n",
       "      <th>1</th>\n",
       "      <th>5</th>\n",
       "      <td>4037.959151</td>\n",
       "      <td>4071.739761</td>\n",
       "    </tr>\n",
       "    <tr>\n",
       "      <th>2</th>\n",
       "      <th>5</th>\n",
       "      <td>4035.452738</td>\n",
       "      <td>4073.455924</td>\n",
       "    </tr>\n",
       "    <tr>\n",
       "      <th>0</th>\n",
       "      <th>6</th>\n",
       "      <td>4040.720568</td>\n",
       "      <td>4074.501178</td>\n",
       "    </tr>\n",
       "    <tr>\n",
       "      <th>5</th>\n",
       "      <th>1</th>\n",
       "      <td>4040.862776</td>\n",
       "      <td>4074.643386</td>\n",
       "    </tr>\n",
       "    <tr>\n",
       "      <th>6</th>\n",
       "      <th>0</th>\n",
       "      <td>4040.863339</td>\n",
       "      <td>4074.643950</td>\n",
       "    </tr>\n",
       "    <tr>\n",
       "      <th>4</th>\n",
       "      <th>3</th>\n",
       "      <td>4038.292272</td>\n",
       "      <td>4076.295458</td>\n",
       "    </tr>\n",
       "    <tr>\n",
       "      <th>1</th>\n",
       "      <th>6</th>\n",
       "      <td>4039.717185</td>\n",
       "      <td>4077.720371</td>\n",
       "    </tr>\n",
       "    <tr>\n",
       "      <th>3</th>\n",
       "      <th>4</th>\n",
       "      <td>4039.900099</td>\n",
       "      <td>4077.903286</td>\n",
       "    </tr>\n",
       "    <tr>\n",
       "      <th>5</th>\n",
       "      <th>2</th>\n",
       "      <td>4040.837584</td>\n",
       "      <td>4078.840770</td>\n",
       "    </tr>\n",
       "    <tr>\n",
       "      <th>2</th>\n",
       "      <th>6</th>\n",
       "      <td>4037.591703</td>\n",
       "      <td>4079.817465</td>\n",
       "    </tr>\n",
       "    <tr>\n",
       "      <th>6</th>\n",
       "      <th>1</th>\n",
       "      <td>4042.860284</td>\n",
       "      <td>4080.863471</td>\n",
       "    </tr>\n",
       "    <tr>\n",
       "      <th>5</th>\n",
       "      <th>3</th>\n",
       "      <td>4039.535834</td>\n",
       "      <td>4081.761597</td>\n",
       "    </tr>\n",
       "    <tr>\n",
       "      <th>3</th>\n",
       "      <th>5</th>\n",
       "      <td>4039.999565</td>\n",
       "      <td>4082.225327</td>\n",
       "    </tr>\n",
       "    <tr>\n",
       "      <th>4</th>\n",
       "      <th>4</th>\n",
       "      <td>4040.623207</td>\n",
       "      <td>4082.848970</td>\n",
       "    </tr>\n",
       "    <tr>\n",
       "      <th>6</th>\n",
       "      <th>2</th>\n",
       "      <td>4042.414727</td>\n",
       "      <td>4084.640490</td>\n",
       "    </tr>\n",
       "    <tr>\n",
       "      <th>5</th>\n",
       "      <th>4</th>\n",
       "      <td>4040.184242</td>\n",
       "      <td>4086.632581</td>\n",
       "    </tr>\n",
       "    <tr>\n",
       "      <th>4</th>\n",
       "      <th>5</th>\n",
       "      <td>4040.752877</td>\n",
       "      <td>4087.201216</td>\n",
       "    </tr>\n",
       "    <tr>\n",
       "      <th>6</th>\n",
       "      <th>3</th>\n",
       "      <td>4040.861302</td>\n",
       "      <td>4087.309641</td>\n",
       "    </tr>\n",
       "    <tr>\n",
       "      <th>3</th>\n",
       "      <th>6</th>\n",
       "      <td>4041.166158</td>\n",
       "      <td>4087.614497</td>\n",
       "    </tr>\n",
       "    <tr>\n",
       "      <th>4</th>\n",
       "      <th>6</th>\n",
       "      <td>4037.367903</td>\n",
       "      <td>4088.038819</td>\n",
       "    </tr>\n",
       "    <tr>\n",
       "      <th>5</th>\n",
       "      <th>5</th>\n",
       "      <td>4040.811334</td>\n",
       "      <td>4091.482249</td>\n",
       "    </tr>\n",
       "    <tr>\n",
       "      <th rowspan=\"2\" valign=\"top\">6</th>\n",
       "      <th>4</th>\n",
       "      <td>4042.302990</td>\n",
       "      <td>4092.973905</td>\n",
       "    </tr>\n",
       "    <tr>\n",
       "      <th>5</th>\n",
       "      <td>4042.771694</td>\n",
       "      <td>4097.665186</td>\n",
       "    </tr>\n",
       "    <tr>\n",
       "      <th>5</th>\n",
       "      <th>6</th>\n",
       "      <td>4045.932056</td>\n",
       "      <td>4100.825547</td>\n",
       "    </tr>\n",
       "    <tr>\n",
       "      <th>6</th>\n",
       "      <th>6</th>\n",
       "      <td>4047.293236</td>\n",
       "      <td>4106.409303</td>\n",
       "    </tr>\n",
       "  </tbody>\n",
       "</table>\n",
       "</div>"
      ],
      "text/plain": [
       "               AIC          BIC\n",
       "AR MA                          \n",
       "0  0   4032.881634  4041.326787\n",
       "   1   4031.269984  4043.937713\n",
       "1  0   4031.312872  4043.980601\n",
       "2  0   4033.253113  4050.143418\n",
       "0  2   4033.269341  4050.159646\n",
       "1  1   4033.269612  4050.159917\n",
       "3  0   4035.131172  4056.244054\n",
       "0  3   4035.147923  4056.260805\n",
       "2  1   4035.210427  4056.323309\n",
       "1  2   4035.252352  4056.365233\n",
       "2  2   4035.970040  4061.305498\n",
       "0  4   4037.121516  4062.456974\n",
       "4  0   4037.130134  4062.465592\n",
       "3  1   4037.132799  4062.468257\n",
       "1  3   4037.141176  4062.476634\n",
       "3  2   4033.702691  4063.260725\n",
       "1  4   4036.982733  4066.540766\n",
       "0  5   4038.720745  4068.278779\n",
       "5  0   4038.865698  4068.423732\n",
       "4  1   4039.086677  4068.644711\n",
       "2  3   4039.102510  4068.660544\n",
       "4  2   4036.163226  4069.943836\n",
       "3  3   4036.673468  4070.454078\n",
       "2  4   4037.109999  4070.890609\n",
       "1  5   4037.959151  4071.739761\n",
       "2  5   4035.452738  4073.455924\n",
       "0  6   4040.720568  4074.501178\n",
       "5  1   4040.862776  4074.643386\n",
       "6  0   4040.863339  4074.643950\n",
       "4  3   4038.292272  4076.295458\n",
       "1  6   4039.717185  4077.720371\n",
       "3  4   4039.900099  4077.903286\n",
       "5  2   4040.837584  4078.840770\n",
       "2  6   4037.591703  4079.817465\n",
       "6  1   4042.860284  4080.863471\n",
       "5  3   4039.535834  4081.761597\n",
       "3  5   4039.999565  4082.225327\n",
       "4  4   4040.623207  4082.848970\n",
       "6  2   4042.414727  4084.640490\n",
       "5  4   4040.184242  4086.632581\n",
       "4  5   4040.752877  4087.201216\n",
       "6  3   4040.861302  4087.309641\n",
       "3  6   4041.166158  4087.614497\n",
       "4  6   4037.367903  4088.038819\n",
       "5  5   4040.811334  4091.482249\n",
       "6  4   4042.302990  4092.973905\n",
       "   5   4042.771694  4097.665186\n",
       "5  6   4045.932056  4100.825547\n",
       "6  6   4047.293236  4106.409303"
      ]
     },
     "execution_count": 72,
     "metadata": {},
     "output_type": "execute_result"
    }
   ],
   "source": [
    "ic.sort_values('BIC', ascending = True)"
   ]
  },
  {
   "cell_type": "markdown",
   "id": "bb12aaac-f73b-4254-a313-1afc329e7a55",
   "metadata": {},
   "source": [
    "el BIC me sugiere un ARMA(1,1)"
   ]
  },
  {
   "cell_type": "markdown",
   "id": "5c37f51f-da0a-49ba-bcee-c7a56c701909",
   "metadata": {},
   "source": [
    "veamos que me sugiere el criterio de Akaike (AIC)"
   ]
  },
  {
   "cell_type": "code",
   "execution_count": 73,
   "id": "3dba8951-2c69-48e2-9862-92b633647e10",
   "metadata": {},
   "outputs": [
    {
     "data": {
      "text/html": [
       "<div>\n",
       "<style scoped>\n",
       "    .dataframe tbody tr th:only-of-type {\n",
       "        vertical-align: middle;\n",
       "    }\n",
       "\n",
       "    .dataframe tbody tr th {\n",
       "        vertical-align: top;\n",
       "    }\n",
       "\n",
       "    .dataframe thead th {\n",
       "        text-align: right;\n",
       "    }\n",
       "</style>\n",
       "<table border=\"1\" class=\"dataframe\">\n",
       "  <thead>\n",
       "    <tr style=\"text-align: right;\">\n",
       "      <th></th>\n",
       "      <th></th>\n",
       "      <th>AIC</th>\n",
       "      <th>BIC</th>\n",
       "    </tr>\n",
       "    <tr>\n",
       "      <th>AR</th>\n",
       "      <th>MA</th>\n",
       "      <th></th>\n",
       "      <th></th>\n",
       "    </tr>\n",
       "  </thead>\n",
       "  <tbody>\n",
       "    <tr>\n",
       "      <th>0</th>\n",
       "      <th>1</th>\n",
       "      <td>4031.269984</td>\n",
       "      <td>4043.937713</td>\n",
       "    </tr>\n",
       "    <tr>\n",
       "      <th>1</th>\n",
       "      <th>0</th>\n",
       "      <td>4031.312872</td>\n",
       "      <td>4043.980601</td>\n",
       "    </tr>\n",
       "    <tr>\n",
       "      <th>0</th>\n",
       "      <th>0</th>\n",
       "      <td>4032.881634</td>\n",
       "      <td>4041.326787</td>\n",
       "    </tr>\n",
       "    <tr>\n",
       "      <th>2</th>\n",
       "      <th>0</th>\n",
       "      <td>4033.253113</td>\n",
       "      <td>4050.143418</td>\n",
       "    </tr>\n",
       "    <tr>\n",
       "      <th>0</th>\n",
       "      <th>2</th>\n",
       "      <td>4033.269341</td>\n",
       "      <td>4050.159646</td>\n",
       "    </tr>\n",
       "    <tr>\n",
       "      <th>1</th>\n",
       "      <th>1</th>\n",
       "      <td>4033.269612</td>\n",
       "      <td>4050.159917</td>\n",
       "    </tr>\n",
       "    <tr>\n",
       "      <th rowspan=\"2\" valign=\"top\">3</th>\n",
       "      <th>2</th>\n",
       "      <td>4033.702691</td>\n",
       "      <td>4063.260725</td>\n",
       "    </tr>\n",
       "    <tr>\n",
       "      <th>0</th>\n",
       "      <td>4035.131172</td>\n",
       "      <td>4056.244054</td>\n",
       "    </tr>\n",
       "    <tr>\n",
       "      <th>0</th>\n",
       "      <th>3</th>\n",
       "      <td>4035.147923</td>\n",
       "      <td>4056.260805</td>\n",
       "    </tr>\n",
       "    <tr>\n",
       "      <th>2</th>\n",
       "      <th>1</th>\n",
       "      <td>4035.210427</td>\n",
       "      <td>4056.323309</td>\n",
       "    </tr>\n",
       "    <tr>\n",
       "      <th>1</th>\n",
       "      <th>2</th>\n",
       "      <td>4035.252352</td>\n",
       "      <td>4056.365233</td>\n",
       "    </tr>\n",
       "    <tr>\n",
       "      <th rowspan=\"2\" valign=\"top\">2</th>\n",
       "      <th>5</th>\n",
       "      <td>4035.452738</td>\n",
       "      <td>4073.455924</td>\n",
       "    </tr>\n",
       "    <tr>\n",
       "      <th>2</th>\n",
       "      <td>4035.970040</td>\n",
       "      <td>4061.305498</td>\n",
       "    </tr>\n",
       "    <tr>\n",
       "      <th>4</th>\n",
       "      <th>2</th>\n",
       "      <td>4036.163226</td>\n",
       "      <td>4069.943836</td>\n",
       "    </tr>\n",
       "    <tr>\n",
       "      <th>3</th>\n",
       "      <th>3</th>\n",
       "      <td>4036.673468</td>\n",
       "      <td>4070.454078</td>\n",
       "    </tr>\n",
       "    <tr>\n",
       "      <th>1</th>\n",
       "      <th>4</th>\n",
       "      <td>4036.982733</td>\n",
       "      <td>4066.540766</td>\n",
       "    </tr>\n",
       "    <tr>\n",
       "      <th>2</th>\n",
       "      <th>4</th>\n",
       "      <td>4037.109999</td>\n",
       "      <td>4070.890609</td>\n",
       "    </tr>\n",
       "    <tr>\n",
       "      <th>0</th>\n",
       "      <th>4</th>\n",
       "      <td>4037.121516</td>\n",
       "      <td>4062.456974</td>\n",
       "    </tr>\n",
       "    <tr>\n",
       "      <th>4</th>\n",
       "      <th>0</th>\n",
       "      <td>4037.130134</td>\n",
       "      <td>4062.465592</td>\n",
       "    </tr>\n",
       "    <tr>\n",
       "      <th>3</th>\n",
       "      <th>1</th>\n",
       "      <td>4037.132799</td>\n",
       "      <td>4062.468257</td>\n",
       "    </tr>\n",
       "    <tr>\n",
       "      <th>1</th>\n",
       "      <th>3</th>\n",
       "      <td>4037.141176</td>\n",
       "      <td>4062.476634</td>\n",
       "    </tr>\n",
       "    <tr>\n",
       "      <th>4</th>\n",
       "      <th>6</th>\n",
       "      <td>4037.367903</td>\n",
       "      <td>4088.038819</td>\n",
       "    </tr>\n",
       "    <tr>\n",
       "      <th>2</th>\n",
       "      <th>6</th>\n",
       "      <td>4037.591703</td>\n",
       "      <td>4079.817465</td>\n",
       "    </tr>\n",
       "    <tr>\n",
       "      <th>1</th>\n",
       "      <th>5</th>\n",
       "      <td>4037.959151</td>\n",
       "      <td>4071.739761</td>\n",
       "    </tr>\n",
       "    <tr>\n",
       "      <th>4</th>\n",
       "      <th>3</th>\n",
       "      <td>4038.292272</td>\n",
       "      <td>4076.295458</td>\n",
       "    </tr>\n",
       "    <tr>\n",
       "      <th>0</th>\n",
       "      <th>5</th>\n",
       "      <td>4038.720745</td>\n",
       "      <td>4068.278779</td>\n",
       "    </tr>\n",
       "    <tr>\n",
       "      <th>5</th>\n",
       "      <th>0</th>\n",
       "      <td>4038.865698</td>\n",
       "      <td>4068.423732</td>\n",
       "    </tr>\n",
       "    <tr>\n",
       "      <th>4</th>\n",
       "      <th>1</th>\n",
       "      <td>4039.086677</td>\n",
       "      <td>4068.644711</td>\n",
       "    </tr>\n",
       "    <tr>\n",
       "      <th>2</th>\n",
       "      <th>3</th>\n",
       "      <td>4039.102510</td>\n",
       "      <td>4068.660544</td>\n",
       "    </tr>\n",
       "    <tr>\n",
       "      <th>5</th>\n",
       "      <th>3</th>\n",
       "      <td>4039.535834</td>\n",
       "      <td>4081.761597</td>\n",
       "    </tr>\n",
       "    <tr>\n",
       "      <th>1</th>\n",
       "      <th>6</th>\n",
       "      <td>4039.717185</td>\n",
       "      <td>4077.720371</td>\n",
       "    </tr>\n",
       "    <tr>\n",
       "      <th rowspan=\"2\" valign=\"top\">3</th>\n",
       "      <th>4</th>\n",
       "      <td>4039.900099</td>\n",
       "      <td>4077.903286</td>\n",
       "    </tr>\n",
       "    <tr>\n",
       "      <th>5</th>\n",
       "      <td>4039.999565</td>\n",
       "      <td>4082.225327</td>\n",
       "    </tr>\n",
       "    <tr>\n",
       "      <th>5</th>\n",
       "      <th>4</th>\n",
       "      <td>4040.184242</td>\n",
       "      <td>4086.632581</td>\n",
       "    </tr>\n",
       "    <tr>\n",
       "      <th>4</th>\n",
       "      <th>4</th>\n",
       "      <td>4040.623207</td>\n",
       "      <td>4082.848970</td>\n",
       "    </tr>\n",
       "    <tr>\n",
       "      <th>0</th>\n",
       "      <th>6</th>\n",
       "      <td>4040.720568</td>\n",
       "      <td>4074.501178</td>\n",
       "    </tr>\n",
       "    <tr>\n",
       "      <th>4</th>\n",
       "      <th>5</th>\n",
       "      <td>4040.752877</td>\n",
       "      <td>4087.201216</td>\n",
       "    </tr>\n",
       "    <tr>\n",
       "      <th rowspan=\"2\" valign=\"top\">5</th>\n",
       "      <th>5</th>\n",
       "      <td>4040.811334</td>\n",
       "      <td>4091.482249</td>\n",
       "    </tr>\n",
       "    <tr>\n",
       "      <th>2</th>\n",
       "      <td>4040.837584</td>\n",
       "      <td>4078.840770</td>\n",
       "    </tr>\n",
       "    <tr>\n",
       "      <th>6</th>\n",
       "      <th>3</th>\n",
       "      <td>4040.861302</td>\n",
       "      <td>4087.309641</td>\n",
       "    </tr>\n",
       "    <tr>\n",
       "      <th>5</th>\n",
       "      <th>1</th>\n",
       "      <td>4040.862776</td>\n",
       "      <td>4074.643386</td>\n",
       "    </tr>\n",
       "    <tr>\n",
       "      <th>6</th>\n",
       "      <th>0</th>\n",
       "      <td>4040.863339</td>\n",
       "      <td>4074.643950</td>\n",
       "    </tr>\n",
       "    <tr>\n",
       "      <th>3</th>\n",
       "      <th>6</th>\n",
       "      <td>4041.166158</td>\n",
       "      <td>4087.614497</td>\n",
       "    </tr>\n",
       "    <tr>\n",
       "      <th rowspan=\"4\" valign=\"top\">6</th>\n",
       "      <th>4</th>\n",
       "      <td>4042.302990</td>\n",
       "      <td>4092.973905</td>\n",
       "    </tr>\n",
       "    <tr>\n",
       "      <th>2</th>\n",
       "      <td>4042.414727</td>\n",
       "      <td>4084.640490</td>\n",
       "    </tr>\n",
       "    <tr>\n",
       "      <th>5</th>\n",
       "      <td>4042.771694</td>\n",
       "      <td>4097.665186</td>\n",
       "    </tr>\n",
       "    <tr>\n",
       "      <th>1</th>\n",
       "      <td>4042.860284</td>\n",
       "      <td>4080.863471</td>\n",
       "    </tr>\n",
       "    <tr>\n",
       "      <th>5</th>\n",
       "      <th>6</th>\n",
       "      <td>4045.932056</td>\n",
       "      <td>4100.825547</td>\n",
       "    </tr>\n",
       "    <tr>\n",
       "      <th>6</th>\n",
       "      <th>6</th>\n",
       "      <td>4047.293236</td>\n",
       "      <td>4106.409303</td>\n",
       "    </tr>\n",
       "  </tbody>\n",
       "</table>\n",
       "</div>"
      ],
      "text/plain": [
       "               AIC          BIC\n",
       "AR MA                          \n",
       "0  1   4031.269984  4043.937713\n",
       "1  0   4031.312872  4043.980601\n",
       "0  0   4032.881634  4041.326787\n",
       "2  0   4033.253113  4050.143418\n",
       "0  2   4033.269341  4050.159646\n",
       "1  1   4033.269612  4050.159917\n",
       "3  2   4033.702691  4063.260725\n",
       "   0   4035.131172  4056.244054\n",
       "0  3   4035.147923  4056.260805\n",
       "2  1   4035.210427  4056.323309\n",
       "1  2   4035.252352  4056.365233\n",
       "2  5   4035.452738  4073.455924\n",
       "   2   4035.970040  4061.305498\n",
       "4  2   4036.163226  4069.943836\n",
       "3  3   4036.673468  4070.454078\n",
       "1  4   4036.982733  4066.540766\n",
       "2  4   4037.109999  4070.890609\n",
       "0  4   4037.121516  4062.456974\n",
       "4  0   4037.130134  4062.465592\n",
       "3  1   4037.132799  4062.468257\n",
       "1  3   4037.141176  4062.476634\n",
       "4  6   4037.367903  4088.038819\n",
       "2  6   4037.591703  4079.817465\n",
       "1  5   4037.959151  4071.739761\n",
       "4  3   4038.292272  4076.295458\n",
       "0  5   4038.720745  4068.278779\n",
       "5  0   4038.865698  4068.423732\n",
       "4  1   4039.086677  4068.644711\n",
       "2  3   4039.102510  4068.660544\n",
       "5  3   4039.535834  4081.761597\n",
       "1  6   4039.717185  4077.720371\n",
       "3  4   4039.900099  4077.903286\n",
       "   5   4039.999565  4082.225327\n",
       "5  4   4040.184242  4086.632581\n",
       "4  4   4040.623207  4082.848970\n",
       "0  6   4040.720568  4074.501178\n",
       "4  5   4040.752877  4087.201216\n",
       "5  5   4040.811334  4091.482249\n",
       "   2   4040.837584  4078.840770\n",
       "6  3   4040.861302  4087.309641\n",
       "5  1   4040.862776  4074.643386\n",
       "6  0   4040.863339  4074.643950\n",
       "3  6   4041.166158  4087.614497\n",
       "6  4   4042.302990  4092.973905\n",
       "   2   4042.414727  4084.640490\n",
       "   5   4042.771694  4097.665186\n",
       "   1   4042.860284  4080.863471\n",
       "5  6   4045.932056  4100.825547\n",
       "6  6   4047.293236  4106.409303"
      ]
     },
     "execution_count": 73,
     "metadata": {},
     "output_type": "execute_result"
    }
   ],
   "source": [
    "ic.sort_values('AIC', ascending = True)"
   ]
  },
  {
   "cell_type": "markdown",
   "id": "cdee3b44-7825-4ba8-beac-781f13b335b8",
   "metadata": {},
   "source": [
    "criterio de AIC tambien me sugiere ARMA (1,1)"
   ]
  },
  {
   "cell_type": "code",
   "execution_count": 74,
   "id": "1b0299ab-02a4-436c-b656-1d9179d82d80",
   "metadata": {
    "tags": []
   },
   "outputs": [
    {
     "data": {
      "text/html": [
       "<table class=\"simpletable\">\n",
       "<caption>SARIMAX Results</caption>\n",
       "<tr>\n",
       "  <th>Dep. Variable:</th>       <td>adj_close</td>    <th>  No. Observations:  </th>    <td>504</td>   \n",
       "</tr>\n",
       "<tr>\n",
       "  <th>Model:</th>            <td>ARIMA(0, 0, 1)</td>  <th>  Log Likelihood     </th> <td>-2012.635</td>\n",
       "</tr>\n",
       "<tr>\n",
       "  <th>Date:</th>            <td>Sun, 13 Mar 2022</td> <th>  AIC                </th> <td>4031.270</td> \n",
       "</tr>\n",
       "<tr>\n",
       "  <th>Time:</th>                <td>18:00:23</td>     <th>  BIC                </th> <td>4043.938</td> \n",
       "</tr>\n",
       "<tr>\n",
       "  <th>Sample:</th>                  <td>0</td>        <th>  HQIC               </th> <td>4036.239</td> \n",
       "</tr>\n",
       "<tr>\n",
       "  <th></th>                      <td> - 504</td>      <th>                     </th>     <td> </td>    \n",
       "</tr>\n",
       "<tr>\n",
       "  <th>Covariance Type:</th>        <td>opg</td>       <th>                     </th>     <td> </td>    \n",
       "</tr>\n",
       "</table>\n",
       "<table class=\"simpletable\">\n",
       "<tr>\n",
       "     <td></td>       <th>coef</th>     <th>std err</th>      <th>z</th>      <th>P>|z|</th>  <th>[0.025</th>    <th>0.975]</th>  \n",
       "</tr>\n",
       "<tr>\n",
       "  <th>const</th>  <td>   -0.0013</td> <td>    0.690</td> <td>   -0.002</td> <td> 0.998</td> <td>   -1.353</td> <td>    1.350</td>\n",
       "</tr>\n",
       "<tr>\n",
       "  <th>ma.L1</th>  <td>    0.0858</td> <td>    0.019</td> <td>    4.572</td> <td> 0.000</td> <td>    0.049</td> <td>    0.123</td>\n",
       "</tr>\n",
       "<tr>\n",
       "  <th>sigma2</th> <td>  172.2180</td> <td>    3.922</td> <td>   43.910</td> <td> 0.000</td> <td>  164.531</td> <td>  179.905</td>\n",
       "</tr>\n",
       "</table>\n",
       "<table class=\"simpletable\">\n",
       "<tr>\n",
       "  <th>Ljung-Box (L1) (Q):</th>     <td>0.00</td> <th>  Jarque-Bera (JB):  </th> <td>4388.52</td>\n",
       "</tr>\n",
       "<tr>\n",
       "  <th>Prob(Q):</th>                <td>0.97</td> <th>  Prob(JB):          </th>  <td>0.00</td>  \n",
       "</tr>\n",
       "<tr>\n",
       "  <th>Heteroskedasticity (H):</th> <td>2.22</td> <th>  Skew:              </th>  <td>0.00</td>  \n",
       "</tr>\n",
       "<tr>\n",
       "  <th>Prob(H) (two-sided):</th>    <td>0.00</td> <th>  Kurtosis:          </th>  <td>17.46</td> \n",
       "</tr>\n",
       "</table><br/><br/>Warnings:<br/>[1] Covariance matrix calculated using the outer product of gradients (complex-step)."
      ],
      "text/plain": [
       "<class 'statsmodels.iolib.summary.Summary'>\n",
       "\"\"\"\n",
       "                               SARIMAX Results                                \n",
       "==============================================================================\n",
       "Dep. Variable:              adj_close   No. Observations:                  504\n",
       "Model:                 ARIMA(0, 0, 1)   Log Likelihood               -2012.635\n",
       "Date:                Sun, 13 Mar 2022   AIC                           4031.270\n",
       "Time:                        18:00:23   BIC                           4043.938\n",
       "Sample:                             0   HQIC                          4036.239\n",
       "                                - 504                                         \n",
       "Covariance Type:                  opg                                         \n",
       "==============================================================================\n",
       "                 coef    std err          z      P>|z|      [0.025      0.975]\n",
       "------------------------------------------------------------------------------\n",
       "const         -0.0013      0.690     -0.002      0.998      -1.353       1.350\n",
       "ma.L1          0.0858      0.019      4.572      0.000       0.049       0.123\n",
       "sigma2       172.2180      3.922     43.910      0.000     164.531     179.905\n",
       "===================================================================================\n",
       "Ljung-Box (L1) (Q):                   0.00   Jarque-Bera (JB):              4388.52\n",
       "Prob(Q):                              0.97   Prob(JB):                         0.00\n",
       "Heteroskedasticity (H):               2.22   Skew:                             0.00\n",
       "Prob(H) (two-sided):                  0.00   Kurtosis:                        17.46\n",
       "===================================================================================\n",
       "\n",
       "Warnings:\n",
       "[1] Covariance matrix calculated using the outer product of gradients (complex-step).\n",
       "\"\"\""
      ]
     },
     "execution_count": 74,
     "metadata": {},
     "output_type": "execute_result"
    }
   ],
   "source": [
    "# estimamos un ARMA (0,1)\n",
    "modelo = ARIMA(elektra_diff, order=(0, 0, 1))\n",
    "resultado = modelo.fit()\n",
    "resultado.summary()"
   ]
  },
  {
   "cell_type": "markdown",
   "id": "b7266ed8-1a41-40b2-855b-6024e3f42bd5",
   "metadata": {},
   "source": [
    "En realidad, en este caso, como diferenciamos una vez la serie de tiempo estacionaria para hacerla estacionaria, nuestro modelo ARMA (1,1), es un ARIMA(1,1,1) de la serie original"
   ]
  },
  {
   "cell_type": "code",
   "execution_count": 83,
   "id": "efebd326-8a1f-43cb-944a-d40f633666b9",
   "metadata": {},
   "outputs": [
    {
     "name": "stderr",
     "output_type": "stream",
     "text": [
      "C:\\ProgramData\\Anaconda3\\lib\\site-packages\\statsmodels\\tsa\\base\\tsa_model.py:581: ValueWarning: A date index has been provided, but it has no associated frequency information and so will be ignored when e.g. forecasting.\n",
      "  warnings.warn('A date index has been provided, but it has no'\n",
      "C:\\ProgramData\\Anaconda3\\lib\\site-packages\\statsmodels\\tsa\\base\\tsa_model.py:581: ValueWarning: A date index has been provided, but it has no associated frequency information and so will be ignored when e.g. forecasting.\n",
      "  warnings.warn('A date index has been provided, but it has no'\n",
      "C:\\ProgramData\\Anaconda3\\lib\\site-packages\\statsmodels\\tsa\\base\\tsa_model.py:581: ValueWarning: A date index has been provided, but it has no associated frequency information and so will be ignored when e.g. forecasting.\n",
      "  warnings.warn('A date index has been provided, but it has no'\n"
     ]
    },
    {
     "data": {
      "text/html": [
       "<table class=\"simpletable\">\n",
       "<caption>SARIMAX Results</caption>\n",
       "<tr>\n",
       "  <th>Dep. Variable:</th>       <td>adj_close</td>    <th>  No. Observations:  </th>    <td>505</td>   \n",
       "</tr>\n",
       "<tr>\n",
       "  <th>Model:</th>            <td>ARIMA(1, 1, 0)</td>  <th>  Log Likelihood     </th> <td>-2012.651</td>\n",
       "</tr>\n",
       "<tr>\n",
       "  <th>Date:</th>            <td>Sun, 13 Mar 2022</td> <th>  AIC                </th> <td>4029.302</td> \n",
       "</tr>\n",
       "<tr>\n",
       "  <th>Time:</th>                <td>18:01:13</td>     <th>  BIC                </th> <td>4037.747</td> \n",
       "</tr>\n",
       "<tr>\n",
       "  <th>Sample:</th>                  <td>0</td>        <th>  HQIC               </th> <td>4032.615</td> \n",
       "</tr>\n",
       "<tr>\n",
       "  <th></th>                      <td> - 505</td>      <th>                     </th>     <td> </td>    \n",
       "</tr>\n",
       "<tr>\n",
       "  <th>Covariance Type:</th>        <td>opg</td>       <th>                     </th>     <td> </td>    \n",
       "</tr>\n",
       "</table>\n",
       "<table class=\"simpletable\">\n",
       "<tr>\n",
       "     <td></td>       <th>coef</th>     <th>std err</th>      <th>z</th>      <th>P>|z|</th>  <th>[0.025</th>    <th>0.975]</th>  \n",
       "</tr>\n",
       "<tr>\n",
       "  <th>ar.L1</th>  <td>    0.0852</td> <td>    0.016</td> <td>    5.277</td> <td> 0.000</td> <td>    0.054</td> <td>    0.117</td>\n",
       "</tr>\n",
       "<tr>\n",
       "  <th>sigma2</th> <td>  172.2317</td> <td>    3.935</td> <td>   43.773</td> <td> 0.000</td> <td>  164.520</td> <td>  179.943</td>\n",
       "</tr>\n",
       "</table>\n",
       "<table class=\"simpletable\">\n",
       "<tr>\n",
       "  <th>Ljung-Box (L1) (Q):</th>     <td>0.00</td> <th>  Jarque-Bera (JB):  </th> <td>4452.96</td>\n",
       "</tr>\n",
       "<tr>\n",
       "  <th>Prob(Q):</th>                <td>0.98</td> <th>  Prob(JB):          </th>  <td>0.00</td>  \n",
       "</tr>\n",
       "<tr>\n",
       "  <th>Heteroskedasticity (H):</th> <td>2.23</td> <th>  Skew:              </th>  <td>-0.01</td> \n",
       "</tr>\n",
       "<tr>\n",
       "  <th>Prob(H) (two-sided):</th>    <td>0.00</td> <th>  Kurtosis:          </th>  <td>17.56</td> \n",
       "</tr>\n",
       "</table><br/><br/>Warnings:<br/>[1] Covariance matrix calculated using the outer product of gradients (complex-step)."
      ],
      "text/plain": [
       "<class 'statsmodels.iolib.summary.Summary'>\n",
       "\"\"\"\n",
       "                               SARIMAX Results                                \n",
       "==============================================================================\n",
       "Dep. Variable:              adj_close   No. Observations:                  505\n",
       "Model:                 ARIMA(1, 1, 0)   Log Likelihood               -2012.651\n",
       "Date:                Sun, 13 Mar 2022   AIC                           4029.302\n",
       "Time:                        18:01:13   BIC                           4037.747\n",
       "Sample:                             0   HQIC                          4032.615\n",
       "                                - 505                                         \n",
       "Covariance Type:                  opg                                         \n",
       "==============================================================================\n",
       "                 coef    std err          z      P>|z|      [0.025      0.975]\n",
       "------------------------------------------------------------------------------\n",
       "ar.L1          0.0852      0.016      5.277      0.000       0.054       0.117\n",
       "sigma2       172.2317      3.935     43.773      0.000     164.520     179.943\n",
       "===================================================================================\n",
       "Ljung-Box (L1) (Q):                   0.00   Jarque-Bera (JB):              4452.96\n",
       "Prob(Q):                              0.98   Prob(JB):                         0.00\n",
       "Heteroskedasticity (H):               2.23   Skew:                            -0.01\n",
       "Prob(H) (two-sided):                  0.00   Kurtosis:                        17.56\n",
       "===================================================================================\n",
       "\n",
       "Warnings:\n",
       "[1] Covariance matrix calculated using the outer product of gradients (complex-step).\n",
       "\"\"\""
      ]
     },
     "execution_count": 83,
     "metadata": {},
     "output_type": "execute_result"
    }
   ],
   "source": [
    "# estimamos un ARIMA (0,1)\n",
    "modelo2 = ARIMA(elektra['adj_close'], order=(1, 1, 0))\n",
    "resultado2 = modelo2.fit()\n",
    "resultado2.summary()"
   ]
  },
  {
   "cell_type": "code",
   "execution_count": 84,
   "id": "2104b093-3091-4bbe-a125-74bf4d2f8102",
   "metadata": {},
   "outputs": [
    {
     "name": "stderr",
     "output_type": "stream",
     "text": [
      "C:\\Users\\alda1\\AppData\\Local\\Temp/ipykernel_9128/224709543.py:3: SettingWithCopyWarning: \n",
      "A value is trying to be set on a copy of a slice from a DataFrame\n",
      "\n",
      "See the caveats in the documentation: https://pandas.pydata.org/pandas-docs/stable/user_guide/indexing.html#returning-a-view-versus-a-copy\n",
      "  elektra['pronostico'][0] = elektra['adj_close'][0]\n"
     ]
    }
   ],
   "source": [
    "# vamos a estimar la serie con el modelo ARIMA\n",
    "elektra['pronostico'] = resultado2.predict()\n",
    "elektra['pronostico'][0] = elektra['adj_close'][0]"
   ]
  },
  {
   "cell_type": "markdown",
   "id": "627b25d7-a2b8-4b4d-b3d7-e7cf91875ae1",
   "metadata": {},
   "source": [
    "graficamos la y_estimada con la y_original"
   ]
  },
  {
   "cell_type": "code",
   "execution_count": 85,
   "id": "d4977b8a-35a1-4f1f-9093-e18848fa24b3",
   "metadata": {},
   "outputs": [
    {
     "data": {
      "image/png": "[encoded data removed]",
      "text/plain": [
       "<Figure size 720x540 with 1 Axes>"
      ]
     },
     "metadata": {
      "needs_background": "light"
     },
     "output_type": "display_data"
    }
   ],
   "source": [
    "elektra[['adj_close', 'pronostico']].plot()\n",
    "plt.show()"
   ]
  },
  {
   "cell_type": "code",
   "execution_count": 86,
   "id": "7c0c4714-ccd7-4a1f-be0d-f6cb888bf2f7",
   "metadata": {},
   "outputs": [
    {
     "data": {
      "text/plain": [
       "505"
      ]
     },
     "execution_count": 86,
     "metadata": {},
     "output_type": "execute_result"
    }
   ],
   "source": [
    "#calculamos cuantas observaciones tenemos para hacer nuestra predicción\n",
    "len(elektra)\n"
   ]
  },
  {
   "cell_type": "markdown",
   "id": "d7fa0880-e14e-4b75-91f0-29cb033ffb41",
   "metadata": {},
   "source": [
    "la función len nos arrojo que tenemos 554 observaciones,  quiere decir que el lunes sería la observación 555, el martes la 556, y el miércoles la 557"
   ]
  },
  {
   "cell_type": "code",
   "execution_count": 87,
   "id": "ea5df273-90a0-45ea-9ac8-8bdafb593264",
   "metadata": {},
   "outputs": [
    {
     "name": "stderr",
     "output_type": "stream",
     "text": [
      "C:\\ProgramData\\Anaconda3\\lib\\site-packages\\statsmodels\\tsa\\base\\tsa_model.py:376: ValueWarning: No supported index is available. Prediction results will be given with an integer index beginning at `start`.\n",
      "  warnings.warn('No supported index is available.'\n"
     ]
    },
    {
     "data": {
      "text/plain": [
       "506    1280.278143\n",
       "507    1280.273781\n",
       "508    1280.273409\n",
       "509    1280.273378\n",
       "Name: predicted_mean, dtype: float64"
      ]
     },
     "execution_count": 87,
     "metadata": {},
     "output_type": "execute_result"
    }
   ],
   "source": [
    "## vamos a pronosticar esos días\n",
    "resultado2.predict(506, 509)"
   ]
  },
  {
   "cell_type": "markdown",
   "id": "cba6c415-c70a-4ede-86bb-003df8d470e4",
   "metadata": {},
   "source": [
    "mi pronostico para el lunes 14 de marzo es que la acción de walmart tenga un precio de cierre (ajustado) de 75.912163"
   ]
  },
  {
   "cell_type": "markdown",
   "id": "17f82de6-8c65-41c1-bb30-53a12a2d3890",
   "metadata": {},
   "source": [
    "El viernes cerro en 78.7399"
   ]
  }
 ],
 "metadata": {
  "kernelspec": {
   "display_name": "Python 3 (ipykernel)",
   "language": "python",
   "name": "python3"
  },
  "language_info": {
   "codemirror_mode": {
    "name": "ipython",
    "version": 3
   },
   "file_extension": ".py",
   "mimetype": "text/x-python",
   "name": "python",
   "nbconvert_exporter": "python",
   "pygments_lexer": "ipython3",
   "version": "3.9.7"
  }
 },
 "nbformat": 4,
 "nbformat_minor": 5
}
