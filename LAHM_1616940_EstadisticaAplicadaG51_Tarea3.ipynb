{
  "cells": [
    {
      "cell_type": "markdown",
      "metadata": {
        "id": "view-in-github",
        "colab_type": "text"
      },
      "source": [
        "<a href=\"https://colab.research.google.com/github/alda1rx/Tareas_EstadisticaAplicada_21/blob/main/LAHM_1616940_EstadisticaAplicadaG51_Tarea3.ipynb\" target=\"_parent\"><img src=\"https://colab.research.google.com/assets/colab-badge.svg\" alt=\"Open In Colab\"/></a>"
      ]
    },
    {
      "cell_type": "code",
      "execution_count": null,
      "id": "a5591ca6-733f-455b-b899-145efa534881",
      "metadata": {
        "id": "a5591ca6-733f-455b-b899-145efa534881"
      },
      "outputs": [],
      "source": [
        ""
      ]
    },
    {
      "cell_type": "code",
      "execution_count": 9,
      "id": "ea72fbc2-67fe-406e-91bf-8223ed2aed56",
      "metadata": {
        "id": "ea72fbc2-67fe-406e-91bf-8223ed2aed56",
        "tags": [],
        "colab": {
          "base_uri": "https://localhost:8080/"
        },
        "outputId": "cb7c105a-14c4-48a0-b0e6-b36a1b4b5b74"
      },
      "outputs": [
        {
          "output_type": "stream",
          "name": "stdout",
          "text": [
            "Collecting yfinance\n",
            "  Downloading yfinance-0.1.70-py2.py3-none-any.whl (26 kB)\n",
            "Requirement already satisfied: pandas>=0.24.0 in /usr/local/lib/python3.7/dist-packages (from yfinance) (1.3.5)\n",
            "Requirement already satisfied: numpy>=1.15 in /usr/local/lib/python3.7/dist-packages (from yfinance) (1.19.5)\n",
            "Requirement already satisfied: multitasking>=0.0.7 in /usr/local/lib/python3.7/dist-packages (from yfinance) (0.0.10)\n",
            "Collecting lxml>=4.5.1\n",
            "  Downloading lxml-4.7.1-cp37-cp37m-manylinux_2_17_x86_64.manylinux2014_x86_64.manylinux_2_24_x86_64.whl (6.4 MB)\n",
            "\u001b[K     |████████████████████████████████| 6.4 MB 10.4 MB/s \n",
            "\u001b[33mWARNING: Retrying (Retry(total=4, connect=None, read=None, redirect=None, status=None)) after connection broken by 'ProtocolError('Connection aborted.', ConnectionResetError(104, 'Connection reset by peer'))': /simple/requests/\u001b[0m\n",
            "\u001b[?25hCollecting requests>=2.26\n",
            "  Downloading requests-2.27.1-py2.py3-none-any.whl (63 kB)\n",
            "\u001b[K     |████████████████████████████████| 63 kB 2.0 MB/s \n",
            "\u001b[?25hRequirement already satisfied: pytz>=2017.3 in /usr/local/lib/python3.7/dist-packages (from pandas>=0.24.0->yfinance) (2018.9)\n",
            "Requirement already satisfied: python-dateutil>=2.7.3 in /usr/local/lib/python3.7/dist-packages (from pandas>=0.24.0->yfinance) (2.8.2)\n",
            "Requirement already satisfied: six>=1.5 in /usr/local/lib/python3.7/dist-packages (from python-dateutil>=2.7.3->pandas>=0.24.0->yfinance) (1.15.0)\n",
            "Requirement already satisfied: idna<4,>=2.5 in /usr/local/lib/python3.7/dist-packages (from requests>=2.26->yfinance) (2.10)\n",
            "Requirement already satisfied: certifi>=2017.4.17 in /usr/local/lib/python3.7/dist-packages (from requests>=2.26->yfinance) (2021.10.8)\n",
            "Requirement already satisfied: charset-normalizer~=2.0.0 in /usr/local/lib/python3.7/dist-packages (from requests>=2.26->yfinance) (2.0.11)\n",
            "Requirement already satisfied: urllib3<1.27,>=1.21.1 in /usr/local/lib/python3.7/dist-packages (from requests>=2.26->yfinance) (1.24.3)\n",
            "Installing collected packages: requests, lxml, yfinance\n",
            "  Attempting uninstall: requests\n",
            "    Found existing installation: requests 2.23.0\n",
            "    Uninstalling requests-2.23.0:\n",
            "      Successfully uninstalled requests-2.23.0\n",
            "  Attempting uninstall: lxml\n",
            "    Found existing installation: lxml 4.2.6\n",
            "    Uninstalling lxml-4.2.6:\n",
            "      Successfully uninstalled lxml-4.2.6\n",
            "\u001b[31mERROR: pip's dependency resolver does not currently take into account all the packages that are installed. This behaviour is the source of the following dependency conflicts.\n",
            "google-colab 1.0.0 requires requests~=2.23.0, but you have requests 2.27.1 which is incompatible.\n",
            "datascience 0.10.6 requires folium==0.2.1, but you have folium 0.8.3 which is incompatible.\u001b[0m\n",
            "Successfully installed lxml-4.7.1 requests-2.27.1 yfinance-0.1.70\n"
          ]
        }
      ],
      "source": [
        "!pip install yfinance"
      ]
    },
    {
      "cell_type": "code",
      "execution_count": 10,
      "id": "3a7fe70c-2749-4e6f-9236-acf5318a9920",
      "metadata": {
        "id": "3a7fe70c-2749-4e6f-9236-acf5318a9920"
      },
      "outputs": [],
      "source": [
        "import numpy as np\n",
        "import pandas as pd \n",
        "import yfinance as yf\n",
        "import scipy.stats as stats\n",
        "import matplotlib.pyplot as plt\n",
        "%matplotlib inline"
      ]
    },
    {
      "cell_type": "code",
      "execution_count": 11,
      "id": "29ecd020-f679-4254-bfc3-52977977ad24",
      "metadata": {
        "id": "29ecd020-f679-4254-bfc3-52977977ad24"
      },
      "outputs": [],
      "source": [
        "walmex = yf.download('WALMEX.MX', \n",
        "                       start='2014-01-01', \n",
        "                       end='2017-12-31',\n",
        "                       progress=False)"
      ]
    },
    {
      "cell_type": "code",
      "execution_count": null,
      "id": "bed0c93c-84b0-4003-84c4-a87537e66a33",
      "metadata": {
        "id": "bed0c93c-84b0-4003-84c4-a87537e66a33",
        "outputId": "3b024559-e427-412d-8395-c8a6d5fc13d4"
      },
      "outputs": [
        {
          "data": {
            "text/html": [
              "<div>\n",
              "<style scoped>\n",
              "    .dataframe tbody tr th:only-of-type {\n",
              "        vertical-align: middle;\n",
              "    }\n",
              "\n",
              "    .dataframe tbody tr th {\n",
              "        vertical-align: top;\n",
              "    }\n",
              "\n",
              "    .dataframe thead th {\n",
              "        text-align: right;\n",
              "    }\n",
              "</style>\n",
              "<table border=\"1\" class=\"dataframe\">\n",
              "  <thead>\n",
              "    <tr style=\"text-align: right;\">\n",
              "      <th></th>\n",
              "      <th>Open</th>\n",
              "      <th>High</th>\n",
              "      <th>Low</th>\n",
              "      <th>Close</th>\n",
              "      <th>Adj Close</th>\n",
              "      <th>Volume</th>\n",
              "    </tr>\n",
              "    <tr>\n",
              "      <th>Date</th>\n",
              "      <th></th>\n",
              "      <th></th>\n",
              "      <th></th>\n",
              "      <th></th>\n",
              "      <th></th>\n",
              "      <th></th>\n",
              "    </tr>\n",
              "  </thead>\n",
              "  <tbody>\n",
              "    <tr>\n",
              "      <th>2014-01-02</th>\n",
              "      <td>34.290001</td>\n",
              "      <td>34.389999</td>\n",
              "      <td>33.189999</td>\n",
              "      <td>33.419998</td>\n",
              "      <td>26.425303</td>\n",
              "      <td>12895411</td>\n",
              "    </tr>\n",
              "    <tr>\n",
              "      <th>2014-01-03</th>\n",
              "      <td>33.509998</td>\n",
              "      <td>33.590000</td>\n",
              "      <td>33.160000</td>\n",
              "      <td>33.250000</td>\n",
              "      <td>26.290886</td>\n",
              "      <td>8764140</td>\n",
              "    </tr>\n",
              "    <tr>\n",
              "      <th>2014-01-06</th>\n",
              "      <td>33.580002</td>\n",
              "      <td>33.590000</td>\n",
              "      <td>32.599998</td>\n",
              "      <td>32.849998</td>\n",
              "      <td>25.974604</td>\n",
              "      <td>10102481</td>\n",
              "    </tr>\n",
              "    <tr>\n",
              "      <th>2014-01-07</th>\n",
              "      <td>32.930000</td>\n",
              "      <td>33.549999</td>\n",
              "      <td>32.810001</td>\n",
              "      <td>33.380001</td>\n",
              "      <td>26.393675</td>\n",
              "      <td>18559062</td>\n",
              "    </tr>\n",
              "    <tr>\n",
              "      <th>2014-01-08</th>\n",
              "      <td>33.439999</td>\n",
              "      <td>33.570000</td>\n",
              "      <td>32.860001</td>\n",
              "      <td>32.889999</td>\n",
              "      <td>26.006227</td>\n",
              "      <td>17925028</td>\n",
              "    </tr>\n",
              "  </tbody>\n",
              "</table>\n",
              "</div>"
            ],
            "text/plain": [
              "                 Open       High        Low      Close  Adj Close    Volume\n",
              "Date                                                                       \n",
              "2014-01-02  34.290001  34.389999  33.189999  33.419998  26.425303  12895411\n",
              "2014-01-03  33.509998  33.590000  33.160000  33.250000  26.290886   8764140\n",
              "2014-01-06  33.580002  33.590000  32.599998  32.849998  25.974604  10102481\n",
              "2014-01-07  32.930000  33.549999  32.810001  33.380001  26.393675  18559062\n",
              "2014-01-08  33.439999  33.570000  32.860001  32.889999  26.006227  17925028"
            ]
          },
          "execution_count": 26,
          "metadata": {},
          "output_type": "execute_result"
        }
      ],
      "source": [
        "walmex.head()"
      ]
    },
    {
      "cell_type": "code",
      "execution_count": null,
      "id": "bb29d43d-5fdc-4da0-b588-8b6bf692f8fe",
      "metadata": {
        "id": "bb29d43d-5fdc-4da0-b588-8b6bf692f8fe",
        "outputId": "38e91203-587c-43a4-9edc-8022e9a91207"
      },
      "outputs": [
        {
          "data": {
            "text/html": [
              "<div>\n",
              "<style scoped>\n",
              "    .dataframe tbody tr th:only-of-type {\n",
              "        vertical-align: middle;\n",
              "    }\n",
              "\n",
              "    .dataframe tbody tr th {\n",
              "        vertical-align: top;\n",
              "    }\n",
              "\n",
              "    .dataframe thead th {\n",
              "        text-align: right;\n",
              "    }\n",
              "</style>\n",
              "<table border=\"1\" class=\"dataframe\">\n",
              "  <thead>\n",
              "    <tr style=\"text-align: right;\">\n",
              "      <th></th>\n",
              "      <th>Open</th>\n",
              "      <th>High</th>\n",
              "      <th>Low</th>\n",
              "      <th>Close</th>\n",
              "      <th>Adj Close</th>\n",
              "      <th>Volume</th>\n",
              "    </tr>\n",
              "    <tr>\n",
              "      <th>Date</th>\n",
              "      <th></th>\n",
              "      <th></th>\n",
              "      <th></th>\n",
              "      <th></th>\n",
              "      <th></th>\n",
              "      <th></th>\n",
              "    </tr>\n",
              "  </thead>\n",
              "  <tbody>\n",
              "    <tr>\n",
              "      <th>2017-12-22</th>\n",
              "      <td>46.400002</td>\n",
              "      <td>46.500000</td>\n",
              "      <td>45.869999</td>\n",
              "      <td>46.009998</td>\n",
              "      <td>42.662647</td>\n",
              "      <td>5321344</td>\n",
              "    </tr>\n",
              "    <tr>\n",
              "      <th>2017-12-26</th>\n",
              "      <td>45.900002</td>\n",
              "      <td>46.389999</td>\n",
              "      <td>45.770000</td>\n",
              "      <td>45.950001</td>\n",
              "      <td>42.607014</td>\n",
              "      <td>10207072</td>\n",
              "    </tr>\n",
              "    <tr>\n",
              "      <th>2017-12-27</th>\n",
              "      <td>46.180000</td>\n",
              "      <td>46.889999</td>\n",
              "      <td>46.180000</td>\n",
              "      <td>46.810001</td>\n",
              "      <td>43.404449</td>\n",
              "      <td>7449128</td>\n",
              "    </tr>\n",
              "    <tr>\n",
              "      <th>2017-12-28</th>\n",
              "      <td>46.810001</td>\n",
              "      <td>47.290001</td>\n",
              "      <td>46.169998</td>\n",
              "      <td>47.189999</td>\n",
              "      <td>43.756798</td>\n",
              "      <td>5411119</td>\n",
              "    </tr>\n",
              "    <tr>\n",
              "      <th>2017-12-29</th>\n",
              "      <td>47.290001</td>\n",
              "      <td>48.500000</td>\n",
              "      <td>47.110001</td>\n",
              "      <td>48.189999</td>\n",
              "      <td>44.684044</td>\n",
              "      <td>11568658</td>\n",
              "    </tr>\n",
              "  </tbody>\n",
              "</table>\n",
              "</div>"
            ],
            "text/plain": [
              "                 Open       High        Low      Close  Adj Close    Volume\n",
              "Date                                                                       \n",
              "2017-12-22  46.400002  46.500000  45.869999  46.009998  42.662647   5321344\n",
              "2017-12-26  45.900002  46.389999  45.770000  45.950001  42.607014  10207072\n",
              "2017-12-27  46.180000  46.889999  46.180000  46.810001  43.404449   7449128\n",
              "2017-12-28  46.810001  47.290001  46.169998  47.189999  43.756798   5411119\n",
              "2017-12-29  47.290001  48.500000  47.110001  48.189999  44.684044  11568658"
            ]
          },
          "execution_count": 27,
          "metadata": {},
          "output_type": "execute_result"
        }
      ],
      "source": [
        "walmex.tail()"
      ]
    },
    {
      "cell_type": "code",
      "execution_count": 12,
      "id": "2ceb0e63-68aa-4fa4-9471-e2c3533e94b7",
      "metadata": {
        "id": "2ceb0e63-68aa-4fa4-9471-e2c3533e94b7"
      },
      "outputs": [],
      "source": [
        "##renombar columna\n",
        "walmex.rename(columns = {'Adj Close':'adj_close'}, inplace=True)"
      ]
    },
    {
      "cell_type": "code",
      "execution_count": 13,
      "id": "6041df77-569c-4a07-8b8d-5431e4b732e2",
      "metadata": {
        "id": "6041df77-569c-4a07-8b8d-5431e4b732e2"
      },
      "outputs": [],
      "source": [
        "## calcular los retornos\n",
        "walmex['retorno_simple'] = walmex.adj_close.pct_change()"
      ]
    },
    {
      "cell_type": "code",
      "execution_count": 14,
      "id": "b2a15600-7d3c-4811-8bc5-e4f4c3d30117",
      "metadata": {
        "id": "b2a15600-7d3c-4811-8bc5-e4f4c3d30117",
        "outputId": "1dea0317-1e3e-445a-b2f6-23fb85ee6372",
        "colab": {
          "base_uri": "https://localhost:8080/",
          "height": 388
        }
      },
      "outputs": [
        {
          "output_type": "execute_result",
          "data": {
            "text/html": [
              "\n",
              "  <div id=\"df-ab124d7d-f6ec-476f-871b-cb13982eabf6\">\n",
              "    <div class=\"colab-df-container\">\n",
              "      <div>\n",
              "<style scoped>\n",
              "    .dataframe tbody tr th:only-of-type {\n",
              "        vertical-align: middle;\n",
              "    }\n",
              "\n",
              "    .dataframe tbody tr th {\n",
              "        vertical-align: top;\n",
              "    }\n",
              "\n",
              "    .dataframe thead th {\n",
              "        text-align: right;\n",
              "    }\n",
              "</style>\n",
              "<table border=\"1\" class=\"dataframe\">\n",
              "  <thead>\n",
              "    <tr style=\"text-align: right;\">\n",
              "      <th></th>\n",
              "      <th>Open</th>\n",
              "      <th>High</th>\n",
              "      <th>Low</th>\n",
              "      <th>Close</th>\n",
              "      <th>adj_close</th>\n",
              "      <th>Volume</th>\n",
              "      <th>retorno_simple</th>\n",
              "    </tr>\n",
              "    <tr>\n",
              "      <th>Date</th>\n",
              "      <th></th>\n",
              "      <th></th>\n",
              "      <th></th>\n",
              "      <th></th>\n",
              "      <th></th>\n",
              "      <th></th>\n",
              "      <th></th>\n",
              "    </tr>\n",
              "  </thead>\n",
              "  <tbody>\n",
              "    <tr>\n",
              "      <th>2017-12-22</th>\n",
              "      <td>46.400002</td>\n",
              "      <td>46.500000</td>\n",
              "      <td>45.869999</td>\n",
              "      <td>46.009998</td>\n",
              "      <td>42.662643</td>\n",
              "      <td>5321344</td>\n",
              "      <td>-0.010963</td>\n",
              "    </tr>\n",
              "    <tr>\n",
              "      <th>2017-12-26</th>\n",
              "      <td>45.900002</td>\n",
              "      <td>46.389999</td>\n",
              "      <td>45.770000</td>\n",
              "      <td>45.950001</td>\n",
              "      <td>42.607021</td>\n",
              "      <td>10207072</td>\n",
              "      <td>-0.001304</td>\n",
              "    </tr>\n",
              "    <tr>\n",
              "      <th>2017-12-27</th>\n",
              "      <td>46.180000</td>\n",
              "      <td>46.889999</td>\n",
              "      <td>46.180000</td>\n",
              "      <td>46.810001</td>\n",
              "      <td>43.404446</td>\n",
              "      <td>7449128</td>\n",
              "      <td>0.018716</td>\n",
              "    </tr>\n",
              "    <tr>\n",
              "      <th>2017-12-28</th>\n",
              "      <td>46.810001</td>\n",
              "      <td>47.290001</td>\n",
              "      <td>46.169998</td>\n",
              "      <td>47.189999</td>\n",
              "      <td>43.756798</td>\n",
              "      <td>5411119</td>\n",
              "      <td>0.008118</td>\n",
              "    </tr>\n",
              "    <tr>\n",
              "      <th>2017-12-29</th>\n",
              "      <td>47.290001</td>\n",
              "      <td>48.500000</td>\n",
              "      <td>47.110001</td>\n",
              "      <td>48.189999</td>\n",
              "      <td>44.684044</td>\n",
              "      <td>11568658</td>\n",
              "      <td>0.021191</td>\n",
              "    </tr>\n",
              "  </tbody>\n",
              "</table>\n",
              "</div>\n",
              "      <button class=\"colab-df-convert\" onclick=\"convertToInteractive('df-ab124d7d-f6ec-476f-871b-cb13982eabf6')\"\n",
              "              title=\"Convert this dataframe to an interactive table.\"\n",
              "              style=\"display:none;\">\n",
              "        \n",
              "  <svg xmlns=\"http://www.w3.org/2000/svg\" height=\"24px\"viewBox=\"0 0 24 24\"\n",
              "       width=\"24px\">\n",
              "    <path d=\"M0 0h24v24H0V0z\" fill=\"none\"/>\n",
              "    <path d=\"M18.56 5.44l.94 2.06.94-2.06 2.06-.94-2.06-.94-.94-2.06-.94 2.06-2.06.94zm-11 1L8.5 8.5l.94-2.06 2.06-.94-2.06-.94L8.5 2.5l-.94 2.06-2.06.94zm10 10l.94 2.06.94-2.06 2.06-.94-2.06-.94-.94-2.06-.94 2.06-2.06.94z\"/><path d=\"M17.41 7.96l-1.37-1.37c-.4-.4-.92-.59-1.43-.59-.52 0-1.04.2-1.43.59L10.3 9.45l-7.72 7.72c-.78.78-.78 2.05 0 2.83L4 21.41c.39.39.9.59 1.41.59.51 0 1.02-.2 1.41-.59l7.78-7.78 2.81-2.81c.8-.78.8-2.07 0-2.86zM5.41 20L4 18.59l7.72-7.72 1.47 1.35L5.41 20z\"/>\n",
              "  </svg>\n",
              "      </button>\n",
              "      \n",
              "  <style>\n",
              "    .colab-df-container {\n",
              "      display:flex;\n",
              "      flex-wrap:wrap;\n",
              "      gap: 12px;\n",
              "    }\n",
              "\n",
              "    .colab-df-convert {\n",
              "      background-color: #E8F0FE;\n",
              "      border: none;\n",
              "      border-radius: 50%;\n",
              "      cursor: pointer;\n",
              "      display: none;\n",
              "      fill: #1967D2;\n",
              "      height: 32px;\n",
              "      padding: 0 0 0 0;\n",
              "      width: 32px;\n",
              "    }\n",
              "\n",
              "    .colab-df-convert:hover {\n",
              "      background-color: #E2EBFA;\n",
              "      box-shadow: 0px 1px 2px rgba(60, 64, 67, 0.3), 0px 1px 3px 1px rgba(60, 64, 67, 0.15);\n",
              "      fill: #174EA6;\n",
              "    }\n",
              "\n",
              "    [theme=dark] .colab-df-convert {\n",
              "      background-color: #3B4455;\n",
              "      fill: #D2E3FC;\n",
              "    }\n",
              "\n",
              "    [theme=dark] .colab-df-convert:hover {\n",
              "      background-color: #434B5C;\n",
              "      box-shadow: 0px 1px 3px 1px rgba(0, 0, 0, 0.15);\n",
              "      filter: drop-shadow(0px 1px 2px rgba(0, 0, 0, 0.3));\n",
              "      fill: #FFFFFF;\n",
              "    }\n",
              "  </style>\n",
              "\n",
              "      <script>\n",
              "        const buttonEl =\n",
              "          document.querySelector('#df-ab124d7d-f6ec-476f-871b-cb13982eabf6 button.colab-df-convert');\n",
              "        buttonEl.style.display =\n",
              "          google.colab.kernel.accessAllowed ? 'block' : 'none';\n",
              "\n",
              "        async function convertToInteractive(key) {\n",
              "          const element = document.querySelector('#df-ab124d7d-f6ec-476f-871b-cb13982eabf6');\n",
              "          const dataTable =\n",
              "            await google.colab.kernel.invokeFunction('convertToInteractive',\n",
              "                                                     [key], {});\n",
              "          if (!dataTable) return;\n",
              "\n",
              "          const docLinkHtml = 'Like what you see? Visit the ' +\n",
              "            '<a target=\"_blank\" href=https://colab.research.google.com/notebooks/data_table.ipynb>data table notebook</a>'\n",
              "            + ' to learn more about interactive tables.';\n",
              "          element.innerHTML = '';\n",
              "          dataTable['output_type'] = 'display_data';\n",
              "          await google.colab.output.renderOutput(dataTable, element);\n",
              "          const docLink = document.createElement('div');\n",
              "          docLink.innerHTML = docLinkHtml;\n",
              "          element.appendChild(docLink);\n",
              "        }\n",
              "      </script>\n",
              "    </div>\n",
              "  </div>\n",
              "  "
            ],
            "text/plain": [
              "                 Open       High  ...    Volume  retorno_simple\n",
              "Date                              ...                          \n",
              "2017-12-22  46.400002  46.500000  ...   5321344       -0.010963\n",
              "2017-12-26  45.900002  46.389999  ...  10207072       -0.001304\n",
              "2017-12-27  46.180000  46.889999  ...   7449128        0.018716\n",
              "2017-12-28  46.810001  47.290001  ...   5411119        0.008118\n",
              "2017-12-29  47.290001  48.500000  ...  11568658        0.021191\n",
              "\n",
              "[5 rows x 7 columns]"
            ]
          },
          "metadata": {},
          "execution_count": 14
        }
      ],
      "source": [
        "walmex.tail()"
      ]
    },
    {
      "cell_type": "code",
      "execution_count": 16,
      "id": "45cc1b83-e7f5-462a-8acc-b011a131ada6",
      "metadata": {
        "id": "45cc1b83-e7f5-462a-8acc-b011a131ada6",
        "outputId": "53eb32ec-df41-486b-d01f-21d06bf50626",
        "tags": [],
        "colab": {
          "base_uri": "https://localhost:8080/"
        }
      },
      "outputs": [
        {
          "output_type": "stream",
          "name": "stdout",
          "text": [
            "Rango de fechas: 2014-01-02 - 2017-12-29\n",
            "Numero de observaciones: 1005\n",
            "Media: 0.0006\n",
            "Mediana: 0.0006\n",
            "Mínimo: -0.0762\n",
            "Máximo: 0.0875\n",
            "Desviación Estándar: 0.0142\n",
            "Skewness (símetría): 0.2433\n",
            "Kurtosis: 3.6359\n"
          ]
        }
      ],
      "source": [
        "\n",
        "print('Rango de fechas:', min(walmex.index.date), '-', max(walmex.index.date))\n",
        "print('Numero de observaciones:', walmex.shape[0])\n",
        "print(f'Media: {walmex.retorno_simple.mean():.4f}')\n",
        "print(f'Mediana: {walmex.retorno_simple.median():.4f}')\n",
        "print(f'Mínimo: {walmex.retorno_simple.min():.4f}')\n",
        "print(f'Máximo: {walmex.retorno_simple.max():.4f}')\n",
        "print(f'Desviación Estándar: {walmex.retorno_simple.std():.4f}')\n",
        "print(f'Skewness (símetría): {walmex.retorno_simple.skew():.4f}') ## que tan centrada esta la dist\n",
        "print(f'Kurtosis: {walmex.retorno_simple.kurtosis():.4f}')     ## que tan alta esta la dist\n"
      ]
    },
    {
      "cell_type": "markdown",
      "id": "1b461600-a23d-430f-ae9c-5f994ea3192c",
      "metadata": {
        "id": "1b461600-a23d-430f-ae9c-5f994ea3192c"
      },
      "source": [
        "Graficar"
      ]
    },
    {
      "cell_type": "code",
      "execution_count": null,
      "id": "904ae231-3078-4643-a7e4-441ff86ea98b",
      "metadata": {
        "id": "904ae231-3078-4643-a7e4-441ff86ea98b",
        "outputId": "60cf66b7-5726-46e7-c045-40fa38302a62"
      },
      "outputs": [
        {
          "data": {
            "image/png": "[encoded data removed]",
            "text/plain": [
              "<Figure size 1080x576 with 1 Axes>"
            ]
          },
          "metadata": {
            "needs_background": "light"
          },
          "output_type": "display_data"
        }
      ],
      "source": [
        "## graficamos\n",
        "walmex['retorno_simple'].hist(bins=50)  ## histograma\n",
        "plt.show()\n"
      ]
    },
    {
      "cell_type": "markdown",
      "id": "fb3eb6a6-b894-44be-9e25-2e86601c0650",
      "metadata": {
        "id": "fb3eb6a6-b894-44be-9e25-2e86601c0650"
      },
      "source": [
        "### Con base en sus conocimientos de probabilidad y estadística, que puede comentar acerca de:\n",
        "* normalidad de los log-retornos de las acciones de Walmart Mex\n",
        "* ¿Qué mensaje dan la asimetría, la curtosis, la media, y la mediana respecto al retorno que ofrece una acción de Walmart de México?"
      ]
    },
    {
      "cell_type": "markdown",
      "id": "216b826f-45f3-4032-8f1a-adab49fd9d8f",
      "metadata": {
        "id": "216b826f-45f3-4032-8f1a-adab49fd9d8f"
      },
      "source": [
        "La media es el dato promedio que tienen los datos\n",
        "la mediana es el dato que queda en la parte central de todos \n",
        "La asimetria nos representa que tanto pueden alejarse los valores de la media ya sea de manera negativa(lado izquierdo) o positiva(lado derecho)\n",
        "La curtosis, nos indica el lado hacia donde estan concentrados los datos tomando en cuenta la asimetria "
      ]
    },
    {
      "cell_type": "markdown",
      "id": "51251248-45bf-4ea5-80f4-3b71010dfc74",
      "metadata": {
        "id": "51251248-45bf-4ea5-80f4-3b71010dfc74"
      },
      "source": [
        "### Construye un intervalo de confianza de 90% para la media del rendimiento de  las acciones de walmex"
      ]
    },
    {
      "cell_type": "markdown",
      "id": "e3084a2c-4bca-487a-bf1d-df3c6e2179a3",
      "metadata": {
        "id": "e3084a2c-4bca-487a-bf1d-df3c6e2179a3"
      },
      "source": [
        "Nota que la varianza poblacional es desconocida "
      ]
    },
    {
      "cell_type": "code",
      "execution_count": 55,
      "id": "7d94fa83-b711-499a-80c6-1bafe8996fe8",
      "metadata": {
        "id": "7d94fa83-b711-499a-80c6-1bafe8996fe8",
        "colab": {
          "base_uri": "https://localhost:8080/"
        },
        "outputId": "c17a4df4-603a-4acc-b06b-fbcebd9d5df5"
      },
      "outputs": [
        {
          "output_type": "stream",
          "name": "stdout",
          "text": [
            "El intervalo de confianza es =  -0.000137  < Miu <  0.001337\n"
          ]
        }
      ],
      "source": [
        "## aqui va tu código\n",
        "import scipy.stats as stats\n",
        "z = round(stats.norm.ppf(1-.1/2), 4) #sacar el valor de la Z y redondear a solo 4 decimales\n",
        "media = round(walmex.retorno_simple.mean(), 4)\n",
        "s = round(walmex.retorno_simple.std(), 4)\n",
        "n = walmex.shape[0]\n",
        "E = round(z*s/np.sqrt(n), 6) #Error\n",
        "print('El error es = ', E)\n",
        "\n",
        "## usa print para mostrar el intervalo de confianza construido\n",
        "print('El intervalo de confianza es = ', round(media-E, 6), ' < Miu < ', round(media+E, 6))\n"
      ]
    },
    {
      "cell_type": "markdown",
      "id": "a50588ff-ccf0-4c25-8c9e-6ba03f9698e4",
      "metadata": {
        "id": "a50588ff-ccf0-4c25-8c9e-6ba03f9698e4"
      },
      "source": [
        "### Prueba la hipotesis de que el rendimiento promedio de las acciones de walmart de méxico es cero"
      ]
    },
    {
      "cell_type": "markdown",
      "id": "5f990245-b2f7-4bca-b37a-689d167b023c",
      "metadata": {
        "id": "5f990245-b2f7-4bca-b37a-689d167b023c"
      },
      "source": [
        ""
      ]
    },
    {
      "cell_type": "code",
      "execution_count": null,
      "id": "03661495-4135-4f08-8777-dad1218b17f4",
      "metadata": {
        "id": "03661495-4135-4f08-8777-dad1218b17f4"
      },
      "outputs": [],
      "source": [
        ""
      ]
    },
    {
      "cell_type": "code",
      "execution_count": null,
      "id": "b0ea713a-f796-4819-ab39-918ff60bd2cc",
      "metadata": {
        "id": "b0ea713a-f796-4819-ab39-918ff60bd2cc"
      },
      "outputs": [],
      "source": [
        ""
      ]
    },
    {
      "cell_type": "code",
      "execution_count": null,
      "id": "31fbb3f3-6a24-479a-8640-8bc2b53ebbb2",
      "metadata": {
        "id": "31fbb3f3-6a24-479a-8640-8bc2b53ebbb2"
      },
      "outputs": [],
      "source": [
        ""
      ]
    }
  ],
  "metadata": {
    "colab": {
      "name": "LAHM_1616940_EstadisticaAplicadaG51_Tarea3.ipynb",
      "provenance": [],
      "include_colab_link": true
    },
    "kernelspec": {
      "display_name": "Python 3 (ipykernel)",
      "language": "python",
      "name": "python3"
    },
    "language_info": {
      "codemirror_mode": {
        "name": "ipython",
        "version": 3
      },
      "file_extension": ".py",
      "mimetype": "text/x-python",
      "name": "python",
      "nbconvert_exporter": "python",
      "pygments_lexer": "ipython3",
      "version": "3.8.11"
    }
  },
  "nbformat": 4,
  "nbformat_minor": 5
}